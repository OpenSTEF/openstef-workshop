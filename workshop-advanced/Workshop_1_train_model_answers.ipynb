{
 "cells": [
  {
   "cell_type": "markdown",
   "id": "d655a5c0",
   "metadata": {},
   "source": [
    "# Workshop part 1 | Learn how to train a model\n",
    "In this first part of the workshop, all preparation for training a model and the actual training are performed. \n",
    "\n",
    "The learning points are:\n",
    "- How a prediction job works, and what the most important parameters mean; \n",
    "- What data is required;\n",
    "- Experience with the train model pipeline;\n",
    "- How the model gets automatically stored and loaded;\n",
    "- How to get info on the trained model."
   ]
  },
  {
   "cell_type": "code",
   "execution_count": null,
   "id": "92d49806",
   "metadata": {},
   "outputs": [],
   "source": [
    "# Import all required packages\n",
    "import openstef\n",
    "from openstef.data_classes.prediction_job import PredictionJobDataClass\n",
    "from openstef.pipeline.train_model import train_model_pipeline\n",
    "\n",
    "from IPython.display import IFrame\n",
    "import pandas as pd \n",
    "\n",
    "# Set plotly as the default pandas plotting backend\n",
    "pd.options.plotting.backend = 'plotly'"
   ]
  },
  {
   "cell_type": "markdown",
   "id": "ec8c85a9",
   "metadata": {},
   "source": [
    "## Define the prediction job\n",
    "\n",
    "OpenSTEF uses prediction jobs to define the properties of training and prediction. \n",
    "\n",
    "Exercise: define your own prediction job using the following parameters: \n",
    "- latitude = 53.0, longitude = 5.7\n",
    "    - This is used to calculate the derived solar features (direct normal irradiance and the global tilted irradiance).*\n",
    "    - Also used to retrieve weather data in openstef-dbc (database connector)\n",
    "- horizon minutes = 2880\n",
    "    - The horizon of the desired forecast in minutes. It entails how far into the future we want to predict. The value of 15 entails that at the moment of prediction, you predict 15 minutes into the future. So let's say you make a prediction at one o'clock, than the prediction is for 13.15 o'clock. \n",
    "- quantile: 10, 30, 50, 70 and 90 percent\n",
    "    - This provides a confidence interval within OpenSTEF, based on the standard deviation.\n",
    "\n",
    "Hint: look at the documentation [here](https://openstef.github.io/openstef/openstef.data_classes.html#module-openstef.data_classes.prediction_job)\n",
    "\n",
    "*The code which calculated the direct normal irradiance and global tilted irradiance can be found in ``weather_features.py``, [here](https://github.com/OpenSTEF/openstef/blob/main/openstef/feature_engineering/weather_features.py)."
   ]
  },
  {
   "cell_type": "code",
   "execution_count": null,
   "id": "de442369",
   "metadata": {},
   "outputs": [],
   "source": [
    "# Define properties of training/prediction. We call this a 'prediction_job'\n",
    "pj = dict(id=287,\n",
    "        model='xgb', \n",
    "        quantiles=[0.10,0.30,0.50,0.70,0.90],\n",
    "        forecast_type=\"demand\", \n",
    "        lat=53.0,\n",
    "        lon=5.7,\n",
    "        horizon_minutes=2880,\n",
    "        resolution_minutes=15,\n",
    "        name=\"workshop_exercise_1\",\n",
    "        save_train_forecasts=True,\n",
    "       )\n",
    "\n",
    "pj=PredictionJobDataClass(**pj)"
   ]
  },
  {
   "cell_type": "markdown",
   "id": "af20a4ee",
   "metadata": {},
   "source": [
    "## Prepare and analyse the input data\n",
    "OpenSTEF requires a certain input format: a dataframe. \n",
    "\n",
    "Exercise: look at the table and plots below and answer try to answer the following questions: \n",
    "- What type of features do you see in the input data? \n",
    "- How much time is there between two data points? \n",
    "- Look at the plots for radiation and windspeed, do you see any paterns? \n",
    "    - Hint: do you see something happening to the load when there is a peak in either radiation or wind speed? Can you explain why? \n",
    "    - Note: in these plots we zoomed in on a random week, for visibility purposes. \n",
    "\n",
    "Hint: you can zoom in on the plots to see more details."
   ]
  },
  {
   "cell_type": "code",
   "execution_count": null,
   "id": "a4c5990f",
   "metadata": {},
   "outputs": [],
   "source": [
    "input_data=pd.read_csv(\"../data/input_data_sun_heavy.csv\", index_col=0, parse_dates=True)"
   ]
  },
  {
   "cell_type": "code",
   "execution_count": null,
   "id": "3b245244",
   "metadata": {},
   "outputs": [],
   "source": [
    "# Inspect all column names of the input data \n",
    "print(input_data.columns)"
   ]
  },
  {
   "cell_type": "code",
   "execution_count": null,
   "id": "4630ace9",
   "metadata": {},
   "outputs": [],
   "source": [
    "pd.options.display.max_columns = None\n",
    "display(input_data.head())"
   ]
  },
  {
   "cell_type": "code",
   "execution_count": null,
   "id": "913e7aee",
   "metadata": {},
   "outputs": [],
   "source": [
    "# In the next section, the data will be split into training and testing data. The model should be only trained on the training part of the input data. Therefore, the input data should be split.\n",
    "train_data=input_data.iloc[:-192,:] # Everything except the final 192 rows for training.\n",
    "test_data=input_data.iloc[-192:,:] # Final 192 rows for testing."
   ]
  },
  {
   "cell_type": "code",
   "execution_count": null,
   "id": "5c8dd12e",
   "metadata": {},
   "outputs": [],
   "source": [
    "fig_load=input_data[\"load\"].iloc[57:729].plot()\n",
    "fig_load.update_layout(\n",
    "    xaxis_title='Timestamp',\n",
    "    yaxis_title=\"Load [MW]\"\n",
    ")\n",
    "fig_load.show()"
   ]
  },
  {
   "cell_type": "code",
   "execution_count": null,
   "id": "91247648",
   "metadata": {},
   "outputs": [],
   "source": [
    "fig_radiation=input_data[\"radiation\"].iloc[57:729].plot()\n",
    "fig_radiation.update_layout(\n",
    "    xaxis_title='Timestamp',\n",
    "    yaxis_title=\"rad\"\n",
    ")\n",
    "fig_radiation.show()"
   ]
  },
  {
   "cell_type": "code",
   "execution_count": null,
   "id": "6ea6e678",
   "metadata": {},
   "outputs": [],
   "source": [
    "fig_windspeed=input_data[\"windspeed\"].iloc[57:729].plot()\n",
    "fig_windspeed.update_layout(\n",
    "    xaxis_title='Timestamp',\n",
    "    yaxis_title=\"Windspeed\"\n",
    ")\n",
    "fig_windspeed.show()"
   ]
  },
  {
   "cell_type": "markdown",
   "id": "4b6c23b5",
   "metadata": {},
   "source": [
    "## Training the model\n",
    "After defining the prediction job and preparing the input data, the model can be trained. \n",
    "\n",
    "Exercise: \n",
    "- Using the prediction job and input data prepared above, train a model using the OpenSTEF pipelines. \n",
    "- How much time did it take to train the model?\n",
    "\n",
    "Hint: find the correct pipeline in the list provided on the OpenSTEF [website](https://openstef.github.io/openstef/user_guides.html)."
   ]
  },
  {
   "cell_type": "code",
   "execution_count": null,
   "id": "51264dde",
   "metadata": {},
   "outputs": [],
   "source": [
    "train_data, validation_data, test_data=openstef.pipeline.train_model.train_model_pipeline(\n",
    "    pj,\n",
    "    train_data,\n",
    "    check_old_model_age=False, \n",
    "    mlflow_tracking_uri=\"./mlflow_trained_models\",\n",
    "    artifact_folder=\"./mlflow_artifacts\",\n",
    ")"
   ]
  },
  {
   "cell_type": "markdown",
   "id": "1eb92520",
   "metadata": {},
   "source": [
    "## Analyse the trained model\n",
    "Now that the model has been trained, you can inspect the results. "
   ]
  },
  {
   "cell_type": "markdown",
   "id": "2f753162",
   "metadata": {},
   "source": [
    "Exercise: answer the following questions: \n",
    "- Are all of the features in the feature importance plot in the input data? Why?\n",
    "    - What are the most important features? \n",
    "- Which time horizon is more accurate? \n",
    "    - Hint: zoom in on the same day for both the Predictor0.25 and Predictor47.0 and examine them next to each other.\n",
    "- Where is my trained model? "
   ]
  },
  {
   "cell_type": "markdown",
   "id": "63b8552d",
   "metadata": {},
   "source": [
    "The first two plots are the 'predictor in action' plots for the two time horizons (0.25 means fifteen minutes ahead, 47.0 means 47 hours ahead). In these plots you can see three different data outputs: train, validation and test. For each of these, you can see an '_actual' and '_predict'. This entails that for everyone of these data outputs, the measured value and the predicted value by OpenSTEF is plotted. Thus 'train_predict' is the prediction by OpenSTEF based on the train data.  \n",
    "\n",
    "The last plot is the feature importance, this plot shows all of your input features (radiation, windspeed, lagged load, etc, etc,) and how much they influence the forecast. If a block is relatively large, this means the feature is relatively important for the forecast. Thus, large changes in the value of this feature results in a large difference in forecast. "
   ]
  },
  {
   "cell_type": "code",
   "execution_count": null,
   "id": "e5ab1c2c",
   "metadata": {},
   "outputs": [],
   "source": [
    "# Inspect local files.\n",
    "display(IFrame('./mlflow_artifacts/{}/Predictor0.25.html'.format(pj['id']), width=900, height=400))\n",
    "display(IFrame('./mlflow_artifacts/{}/Predictor47.0.html'.format(pj['id']), width=800, height=400))\n",
    "display(IFrame('./mlflow_artifacts/{}/weight_plot.html'.format(pj['id']), width=800, height=400))\n",
    "\n",
    "\n",
    "## Visual Studio Code has difficulties with displaying htmls. If you are working with VSC and are not able to inspect the plots, uncomment the code below\n",
    "## To open the plots in your browser.\n",
    "#import webbrowser\n",
    "#webbrowser.open('./mlflow_artifacts/{}/Predictor0.25.html'.format(pj['id']))\n",
    "#webbrowser.open('./mlflow_artifacts/{}/Predictor47.0.html'.format(pj['id']))\n",
    "#webbrowser.open('./mlflow_artifacts/{}/weight_plot.html'.format(pj['id']))"
   ]
  },
  {
   "cell_type": "code",
   "execution_count": null,
   "id": "35fe9b42",
   "metadata": {},
   "outputs": [],
   "source": []
  }
 ],
 "metadata": {
  "kernelspec": {
   "display_name": "Python 3 (ipykernel)",
   "language": "python",
   "name": "python3"
  },
  "language_info": {
   "codemirror_mode": {
    "name": "ipython",
    "version": 3
   },
   "file_extension": ".py",
   "mimetype": "text/x-python",
   "name": "python",
   "nbconvert_exporter": "python",
   "pygments_lexer": "ipython3",
   "version": "3.11.9"
  }
 },
 "nbformat": 4,
 "nbformat_minor": 5
}
