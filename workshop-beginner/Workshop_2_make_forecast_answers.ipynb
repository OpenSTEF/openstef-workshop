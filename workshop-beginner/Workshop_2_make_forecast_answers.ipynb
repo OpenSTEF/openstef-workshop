{
 "cells": [
  {
   "cell_type": "code",
   "execution_count": 1,
   "id": "1c0cb3de",
   "metadata": {},
   "outputs": [
    {
     "name": "stdout",
     "output_type": "stream",
     "text": [
      "Requirement already satisfied: openstef==3.4.7 in c:\\users\\al28793\\appdata\\local\\anaconda3\\envs\\openstef-workshop\\lib\\site-packages (3.4.7)\n",
      "Requirement already satisfied: holidays==0.21 in c:\\users\\al28793\\appdata\\local\\anaconda3\\envs\\openstef-workshop\\lib\\site-packages (from openstef==3.4.7) (0.21)\n",
      "Requirement already satisfied: joblib==1.3.2 in c:\\users\\al28793\\appdata\\local\\anaconda3\\envs\\openstef-workshop\\lib\\site-packages (from openstef==3.4.7) (1.3.2)\n",
      "Requirement already satisfied: lightgbm~=3.3 in c:\\users\\al28793\\appdata\\local\\anaconda3\\envs\\openstef-workshop\\lib\\site-packages (from openstef==3.4.7) (3.3.5)\n",
      "Requirement already satisfied: matplotlib~=3.7 in c:\\users\\al28793\\appdata\\local\\anaconda3\\envs\\openstef-workshop\\lib\\site-packages (from openstef==3.4.7) (3.8.2)\n",
      "Requirement already satisfied: mlflow~=2.3 in c:\\users\\al28793\\appdata\\local\\anaconda3\\envs\\openstef-workshop\\lib\\site-packages (from openstef==3.4.7) (2.10.1)\n",
      "Requirement already satisfied: networkx~=3.1 in c:\\users\\al28793\\appdata\\local\\anaconda3\\envs\\openstef-workshop\\lib\\site-packages (from openstef==3.4.7) (3.2.1)\n",
      "Requirement already satisfied: optuna~=3.1 in c:\\users\\al28793\\appdata\\local\\anaconda3\\envs\\openstef-workshop\\lib\\site-packages (from openstef==3.4.7) (3.5.0)\n",
      "Requirement already satisfied: pandas==2.1.3 in c:\\users\\al28793\\appdata\\local\\anaconda3\\envs\\openstef-workshop\\lib\\site-packages (from openstef==3.4.7) (2.1.3)\n",
      "Requirement already satisfied: plotly~=5.18 in c:\\users\\al28793\\appdata\\local\\anaconda3\\envs\\openstef-workshop\\lib\\site-packages (from openstef==3.4.7) (5.18.0)\n",
      "Requirement already satisfied: pvlib==0.9.4 in c:\\users\\al28793\\appdata\\local\\anaconda3\\envs\\openstef-workshop\\lib\\site-packages (from openstef==3.4.7) (0.9.4)\n",
      "Requirement already satisfied: pydantic~=2.4 in c:\\users\\al28793\\appdata\\local\\anaconda3\\envs\\openstef-workshop\\lib\\site-packages (from openstef==3.4.7) (2.6.1)\n",
      "Requirement already satisfied: pymsteams~=0.2.2 in c:\\users\\al28793\\appdata\\local\\anaconda3\\envs\\openstef-workshop\\lib\\site-packages (from openstef==3.4.7) (0.2.2)\n",
      "Requirement already satisfied: scikit-learn~=1.3 in c:\\users\\al28793\\appdata\\local\\anaconda3\\envs\\openstef-workshop\\lib\\site-packages (from openstef==3.4.7) (1.4.0)\n",
      "Requirement already satisfied: scipy~=1.10 in c:\\users\\al28793\\appdata\\local\\anaconda3\\envs\\openstef-workshop\\lib\\site-packages (from openstef==3.4.7) (1.12.0)\n",
      "Requirement already satisfied: statsmodels~=0.13.5 in c:\\users\\al28793\\appdata\\local\\anaconda3\\envs\\openstef-workshop\\lib\\site-packages (from openstef==3.4.7) (0.13.5)\n",
      "Requirement already satisfied: structlog~=23.1 in c:\\users\\al28793\\appdata\\local\\anaconda3\\envs\\openstef-workshop\\lib\\site-packages (from openstef==3.4.7) (23.3.0)\n",
      "Requirement already satisfied: xgboost~=2.0 in c:\\users\\al28793\\appdata\\local\\anaconda3\\envs\\openstef-workshop\\lib\\site-packages (from openstef==3.4.7) (2.0.3)\n",
      "Requirement already satisfied: PyMeeus in c:\\users\\al28793\\appdata\\local\\anaconda3\\envs\\openstef-workshop\\lib\\site-packages (from holidays==0.21->openstef==3.4.7) (0.5.12)\n",
      "Requirement already satisfied: convertdate>=2.3.0 in c:\\users\\al28793\\appdata\\local\\anaconda3\\envs\\openstef-workshop\\lib\\site-packages (from holidays==0.21->openstef==3.4.7) (2.4.0)\n",
      "Requirement already satisfied: hijri-converter in c:\\users\\al28793\\appdata\\local\\anaconda3\\envs\\openstef-workshop\\lib\\site-packages (from holidays==0.21->openstef==3.4.7) (2.3.1)\n",
      "Requirement already satisfied: korean-lunar-calendar in c:\\users\\al28793\\appdata\\local\\anaconda3\\envs\\openstef-workshop\\lib\\site-packages (from holidays==0.21->openstef==3.4.7) (0.3.1)\n",
      "Requirement already satisfied: python-dateutil in c:\\users\\al28793\\appdata\\local\\anaconda3\\envs\\openstef-workshop\\lib\\site-packages (from holidays==0.21->openstef==3.4.7) (2.8.2)\n",
      "Requirement already satisfied: tzdata in c:\\users\\al28793\\appdata\\local\\anaconda3\\envs\\openstef-workshop\\lib\\site-packages (from holidays==0.21->openstef==3.4.7) (2023.4)\n",
      "Requirement already satisfied: numpy<2,>=1.22.4 in c:\\users\\al28793\\appdata\\local\\anaconda3\\envs\\openstef-workshop\\lib\\site-packages (from pandas==2.1.3->openstef==3.4.7) (1.26.4)\n",
      "Requirement already satisfied: pytz>=2020.1 in c:\\users\\al28793\\appdata\\local\\anaconda3\\envs\\openstef-workshop\\lib\\site-packages (from pandas==2.1.3->openstef==3.4.7) (2023.4)\n",
      "Requirement already satisfied: requests in c:\\users\\al28793\\appdata\\local\\anaconda3\\envs\\openstef-workshop\\lib\\site-packages (from pvlib==0.9.4->openstef==3.4.7) (2.31.0)\n",
      "Requirement already satisfied: h5py in c:\\users\\al28793\\appdata\\local\\anaconda3\\envs\\openstef-workshop\\lib\\site-packages (from pvlib==0.9.4->openstef==3.4.7) (3.10.0)\n",
      "Requirement already satisfied: wheel in c:\\users\\al28793\\appdata\\local\\anaconda3\\envs\\openstef-workshop\\lib\\site-packages (from lightgbm~=3.3->openstef==3.4.7) (0.42.0)\n",
      "Requirement already satisfied: contourpy>=1.0.1 in c:\\users\\al28793\\appdata\\local\\anaconda3\\envs\\openstef-workshop\\lib\\site-packages (from matplotlib~=3.7->openstef==3.4.7) (1.2.0)\n",
      "Requirement already satisfied: cycler>=0.10 in c:\\users\\al28793\\appdata\\local\\anaconda3\\envs\\openstef-workshop\\lib\\site-packages (from matplotlib~=3.7->openstef==3.4.7) (0.12.1)\n",
      "Requirement already satisfied: fonttools>=4.22.0 in c:\\users\\al28793\\appdata\\local\\anaconda3\\envs\\openstef-workshop\\lib\\site-packages (from matplotlib~=3.7->openstef==3.4.7) (4.47.2)\n",
      "Requirement already satisfied: kiwisolver>=1.3.1 in c:\\users\\al28793\\appdata\\local\\anaconda3\\envs\\openstef-workshop\\lib\\site-packages (from matplotlib~=3.7->openstef==3.4.7) (1.4.5)\n",
      "Requirement already satisfied: packaging>=20.0 in c:\\users\\al28793\\appdata\\local\\anaconda3\\envs\\openstef-workshop\\lib\\site-packages (from matplotlib~=3.7->openstef==3.4.7) (23.2)\n",
      "Requirement already satisfied: pillow>=8 in c:\\users\\al28793\\appdata\\local\\anaconda3\\envs\\openstef-workshop\\lib\\site-packages (from matplotlib~=3.7->openstef==3.4.7) (10.2.0)\n",
      "Requirement already satisfied: pyparsing>=2.3.1 in c:\\users\\al28793\\appdata\\local\\anaconda3\\envs\\openstef-workshop\\lib\\site-packages (from matplotlib~=3.7->openstef==3.4.7) (3.1.1)\n",
      "Requirement already satisfied: click<9,>=7.0 in c:\\users\\al28793\\appdata\\local\\anaconda3\\envs\\openstef-workshop\\lib\\site-packages (from mlflow~=2.3->openstef==3.4.7) (8.1.7)\n",
      "Requirement already satisfied: cloudpickle<4 in c:\\users\\al28793\\appdata\\local\\anaconda3\\envs\\openstef-workshop\\lib\\site-packages (from mlflow~=2.3->openstef==3.4.7) (3.0.0)\n",
      "Requirement already satisfied: databricks-cli<1,>=0.8.7 in c:\\users\\al28793\\appdata\\local\\anaconda3\\envs\\openstef-workshop\\lib\\site-packages (from mlflow~=2.3->openstef==3.4.7) (0.18.0)\n",
      "Requirement already satisfied: entrypoints<1 in c:\\users\\al28793\\appdata\\local\\anaconda3\\envs\\openstef-workshop\\lib\\site-packages (from mlflow~=2.3->openstef==3.4.7) (0.4)\n",
      "Requirement already satisfied: gitpython<4,>=2.1.0 in c:\\users\\al28793\\appdata\\local\\anaconda3\\envs\\openstef-workshop\\lib\\site-packages (from mlflow~=2.3->openstef==3.4.7) (3.1.41)\n",
      "Requirement already satisfied: pyyaml<7,>=5.1 in c:\\users\\al28793\\appdata\\local\\anaconda3\\envs\\openstef-workshop\\lib\\site-packages (from mlflow~=2.3->openstef==3.4.7) (6.0.1)\n",
      "Requirement already satisfied: protobuf<5,>=3.12.0 in c:\\users\\al28793\\appdata\\local\\anaconda3\\envs\\openstef-workshop\\lib\\site-packages (from mlflow~=2.3->openstef==3.4.7) (4.25.2)\n",
      "Requirement already satisfied: importlib-metadata!=4.7.0,<8,>=3.7.0 in c:\\users\\al28793\\appdata\\local\\anaconda3\\envs\\openstef-workshop\\lib\\site-packages (from mlflow~=2.3->openstef==3.4.7) (7.0.1)\n",
      "Requirement already satisfied: sqlparse<1,>=0.4.0 in c:\\users\\al28793\\appdata\\local\\anaconda3\\envs\\openstef-workshop\\lib\\site-packages (from mlflow~=2.3->openstef==3.4.7) (0.4.4)\n",
      "Requirement already satisfied: alembic!=1.10.0,<2 in c:\\users\\al28793\\appdata\\local\\anaconda3\\envs\\openstef-workshop\\lib\\site-packages (from mlflow~=2.3->openstef==3.4.7) (1.13.1)\n",
      "Requirement already satisfied: docker<8,>=4.0.0 in c:\\users\\al28793\\appdata\\local\\anaconda3\\envs\\openstef-workshop\\lib\\site-packages (from mlflow~=2.3->openstef==3.4.7) (7.0.0)\n",
      "Requirement already satisfied: Flask<4 in c:\\users\\al28793\\appdata\\local\\anaconda3\\envs\\openstef-workshop\\lib\\site-packages (from mlflow~=2.3->openstef==3.4.7) (3.0.2)\n",
      "Requirement already satisfied: querystring-parser<2 in c:\\users\\al28793\\appdata\\local\\anaconda3\\envs\\openstef-workshop\\lib\\site-packages (from mlflow~=2.3->openstef==3.4.7) (1.2.4)\n",
      "Requirement already satisfied: sqlalchemy<3,>=1.4.0 in c:\\users\\al28793\\appdata\\local\\anaconda3\\envs\\openstef-workshop\\lib\\site-packages (from mlflow~=2.3->openstef==3.4.7) (2.0.25)\n",
      "Requirement already satisfied: pyarrow<16,>=4.0.0 in c:\\users\\al28793\\appdata\\local\\anaconda3\\envs\\openstef-workshop\\lib\\site-packages (from mlflow~=2.3->openstef==3.4.7) (15.0.0)\n",
      "Requirement already satisfied: markdown<4,>=3.3 in c:\\users\\al28793\\appdata\\local\\anaconda3\\envs\\openstef-workshop\\lib\\site-packages (from mlflow~=2.3->openstef==3.4.7) (3.5.2)\n",
      "Requirement already satisfied: waitress<3 in c:\\users\\al28793\\appdata\\local\\anaconda3\\envs\\openstef-workshop\\lib\\site-packages (from mlflow~=2.3->openstef==3.4.7) (2.1.2)\n",
      "Requirement already satisfied: Jinja2<4,>=3.0 in c:\\users\\al28793\\appdata\\local\\anaconda3\\envs\\openstef-workshop\\lib\\site-packages (from mlflow~=2.3->openstef==3.4.7) (3.1.3)\n",
      "Requirement already satisfied: colorlog in c:\\users\\al28793\\appdata\\local\\anaconda3\\envs\\openstef-workshop\\lib\\site-packages (from optuna~=3.1->openstef==3.4.7) (6.8.2)\n",
      "Requirement already satisfied: tqdm in c:\\users\\al28793\\appdata\\local\\anaconda3\\envs\\openstef-workshop\\lib\\site-packages (from optuna~=3.1->openstef==3.4.7) (4.66.1)\n",
      "Requirement already satisfied: tenacity>=6.2.0 in c:\\users\\al28793\\appdata\\local\\anaconda3\\envs\\openstef-workshop\\lib\\site-packages (from plotly~=5.18->openstef==3.4.7) (8.2.3)\n",
      "Requirement already satisfied: annotated-types>=0.4.0 in c:\\users\\al28793\\appdata\\local\\anaconda3\\envs\\openstef-workshop\\lib\\site-packages (from pydantic~=2.4->openstef==3.4.7) (0.6.0)\n",
      "Requirement already satisfied: pydantic-core==2.16.2 in c:\\users\\al28793\\appdata\\local\\anaconda3\\envs\\openstef-workshop\\lib\\site-packages (from pydantic~=2.4->openstef==3.4.7) (2.16.2)\n",
      "Requirement already satisfied: typing-extensions>=4.6.1 in c:\\users\\al28793\\appdata\\local\\anaconda3\\envs\\openstef-workshop\\lib\\site-packages (from pydantic~=2.4->openstef==3.4.7) (4.9.0)\n",
      "Requirement already satisfied: threadpoolctl>=2.0.0 in c:\\users\\al28793\\appdata\\local\\anaconda3\\envs\\openstef-workshop\\lib\\site-packages (from scikit-learn~=1.3->openstef==3.4.7) (3.2.0)\n",
      "Requirement already satisfied: patsy>=0.5.2 in c:\\users\\al28793\\appdata\\local\\anaconda3\\envs\\openstef-workshop\\lib\\site-packages (from statsmodels~=0.13.5->openstef==3.4.7) (0.5.6)\n",
      "Requirement already satisfied: Mako in c:\\users\\al28793\\appdata\\local\\anaconda3\\envs\\openstef-workshop\\lib\\site-packages (from alembic!=1.10.0,<2->mlflow~=2.3->openstef==3.4.7) (1.3.2)\n",
      "Requirement already satisfied: colorama in c:\\users\\al28793\\appdata\\local\\anaconda3\\envs\\openstef-workshop\\lib\\site-packages (from click<9,>=7.0->mlflow~=2.3->openstef==3.4.7) (0.4.6)\n",
      "Requirement already satisfied: pyjwt>=1.7.0 in c:\\users\\al28793\\appdata\\local\\anaconda3\\envs\\openstef-workshop\\lib\\site-packages (from databricks-cli<1,>=0.8.7->mlflow~=2.3->openstef==3.4.7) (2.8.0)\n",
      "Requirement already satisfied: oauthlib>=3.1.0 in c:\\users\\al28793\\appdata\\local\\anaconda3\\envs\\openstef-workshop\\lib\\site-packages (from databricks-cli<1,>=0.8.7->mlflow~=2.3->openstef==3.4.7) (3.2.2)\n",
      "Requirement already satisfied: tabulate>=0.7.7 in c:\\users\\al28793\\appdata\\local\\anaconda3\\envs\\openstef-workshop\\lib\\site-packages (from databricks-cli<1,>=0.8.7->mlflow~=2.3->openstef==3.4.7) (0.9.0)\n",
      "Requirement already satisfied: six>=1.10.0 in c:\\users\\al28793\\appdata\\local\\anaconda3\\envs\\openstef-workshop\\lib\\site-packages (from databricks-cli<1,>=0.8.7->mlflow~=2.3->openstef==3.4.7) (1.16.0)\n",
      "Requirement already satisfied: urllib3<3,>=1.26.7 in c:\\users\\al28793\\appdata\\local\\anaconda3\\envs\\openstef-workshop\\lib\\site-packages (from databricks-cli<1,>=0.8.7->mlflow~=2.3->openstef==3.4.7) (2.2.0)\n",
      "Requirement already satisfied: pywin32>=304 in c:\\users\\al28793\\appdata\\local\\anaconda3\\envs\\openstef-workshop\\lib\\site-packages (from docker<8,>=4.0.0->mlflow~=2.3->openstef==3.4.7) (306)\n",
      "Requirement already satisfied: Werkzeug>=3.0.0 in c:\\users\\al28793\\appdata\\local\\anaconda3\\envs\\openstef-workshop\\lib\\site-packages (from Flask<4->mlflow~=2.3->openstef==3.4.7) (3.0.1)\n",
      "Requirement already satisfied: itsdangerous>=2.1.2 in c:\\users\\al28793\\appdata\\local\\anaconda3\\envs\\openstef-workshop\\lib\\site-packages (from Flask<4->mlflow~=2.3->openstef==3.4.7) (2.1.2)\n",
      "Requirement already satisfied: blinker>=1.6.2 in c:\\users\\al28793\\appdata\\local\\anaconda3\\envs\\openstef-workshop\\lib\\site-packages (from Flask<4->mlflow~=2.3->openstef==3.4.7) (1.7.0)\n",
      "Requirement already satisfied: gitdb<5,>=4.0.1 in c:\\users\\al28793\\appdata\\local\\anaconda3\\envs\\openstef-workshop\\lib\\site-packages (from gitpython<4,>=2.1.0->mlflow~=2.3->openstef==3.4.7) (4.0.11)\n",
      "Requirement already satisfied: zipp>=0.5 in c:\\users\\al28793\\appdata\\local\\anaconda3\\envs\\openstef-workshop\\lib\\site-packages (from importlib-metadata!=4.7.0,<8,>=3.7.0->mlflow~=2.3->openstef==3.4.7) (3.17.0)\n",
      "Requirement already satisfied: MarkupSafe>=2.0 in c:\\users\\al28793\\appdata\\local\\anaconda3\\envs\\openstef-workshop\\lib\\site-packages (from Jinja2<4,>=3.0->mlflow~=2.3->openstef==3.4.7) (2.1.5)\n",
      "Requirement already satisfied: charset-normalizer<4,>=2 in c:\\users\\al28793\\appdata\\local\\anaconda3\\envs\\openstef-workshop\\lib\\site-packages (from requests->pvlib==0.9.4->openstef==3.4.7) (3.3.2)\n",
      "Requirement already satisfied: idna<4,>=2.5 in c:\\users\\al28793\\appdata\\local\\anaconda3\\envs\\openstef-workshop\\lib\\site-packages (from requests->pvlib==0.9.4->openstef==3.4.7) (3.6)\n",
      "Requirement already satisfied: certifi>=2017.4.17 in c:\\users\\al28793\\appdata\\local\\anaconda3\\envs\\openstef-workshop\\lib\\site-packages (from requests->pvlib==0.9.4->openstef==3.4.7) (2024.2.2)\n",
      "Requirement already satisfied: greenlet!=0.4.17 in c:\\users\\al28793\\appdata\\local\\anaconda3\\envs\\openstef-workshop\\lib\\site-packages (from sqlalchemy<3,>=1.4.0->mlflow~=2.3->openstef==3.4.7) (3.0.3)\n",
      "Requirement already satisfied: smmap<6,>=3.0.1 in c:\\users\\al28793\\appdata\\local\\anaconda3\\envs\\openstef-workshop\\lib\\site-packages (from gitdb<5,>=4.0.1->gitpython<4,>=2.1.0->mlflow~=2.3->openstef==3.4.7) (5.0.1)\n"
     ]
    }
   ],
   "source": [
    "! pip install openstef==3.4.7"
   ]
  },
  {
   "cell_type": "markdown",
   "id": "b674e3ac",
   "metadata": {},
   "source": [
    "In Google Collab, the pandas version has to be set to 1.5.3 due to compatability reasons. "
   ]
  },
  {
   "cell_type": "code",
   "execution_count": 2,
   "id": "29d9a050",
   "metadata": {},
   "outputs": [
    {
     "name": "stdout",
     "output_type": "stream",
     "text": [
      "Collecting pandas==1.5.3"
     ]
    },
    {
     "name": "stderr",
     "output_type": "stream",
     "text": [
      "  WARNING: Failed to remove contents in a temporary directory 'C:\\Users\\AL28793\\AppData\\Local\\anaconda3\\envs\\openstef-workshop\\Lib\\site-packages\\~andas.libs'.\n",
      "  You can safely remove it manually.\n",
      "  WARNING: Failed to remove contents in a temporary directory 'C:\\Users\\AL28793\\AppData\\Local\\anaconda3\\envs\\openstef-workshop\\Lib\\site-packages\\~andas'.\n",
      "  You can safely remove it manually.\n",
      "ERROR: pip's dependency resolver does not currently take into account all the packages that are installed. This behaviour is the source of the following dependency conflicts.\n",
      "openstef 3.4.7 requires pandas==2.1.3, but you have pandas 1.5.3 which is incompatible.\n"
     ]
    },
    {
     "name": "stdout",
     "output_type": "stream",
     "text": [
      "\n",
      "  Downloading pandas-1.5.3-cp310-cp310-win_amd64.whl.metadata (12 kB)\n",
      "Requirement already satisfied: python-dateutil>=2.8.1 in c:\\users\\al28793\\appdata\\local\\anaconda3\\envs\\openstef-workshop\\lib\\site-packages (from pandas==1.5.3) (2.8.2)\n",
      "Requirement already satisfied: pytz>=2020.1 in c:\\users\\al28793\\appdata\\local\\anaconda3\\envs\\openstef-workshop\\lib\\site-packages (from pandas==1.5.3) (2023.4)\n",
      "Requirement already satisfied: numpy>=1.21.0 in c:\\users\\al28793\\appdata\\local\\anaconda3\\envs\\openstef-workshop\\lib\\site-packages (from pandas==1.5.3) (1.26.4)\n",
      "Requirement already satisfied: six>=1.5 in c:\\users\\al28793\\appdata\\local\\anaconda3\\envs\\openstef-workshop\\lib\\site-packages (from python-dateutil>=2.8.1->pandas==1.5.3) (1.16.0)\n",
      "Using cached pandas-1.5.3-cp310-cp310-win_amd64.whl (10.4 MB)\n",
      "Installing collected packages: pandas\n",
      "  Attempting uninstall: pandas\n",
      "    Found existing installation: pandas 2.1.3\n",
      "    Uninstalling pandas-2.1.3:\n",
      "      Successfully uninstalled pandas-2.1.3\n",
      "Successfully installed pandas-1.5.3\n"
     ]
    }
   ],
   "source": [
    "! pip install pandas==1.5.3"
   ]
  },
  {
   "cell_type": "markdown",
   "id": "d655a5c0",
   "metadata": {},
   "source": [
    "# Workshop part 2 | Learn how to make a forecast\n",
    "In this second part of the workshop, we will use the model trained in the first part and make a forecast with it. \n",
    "\n",
    "Note: if you were not able to train the model in the first part, we have trained one for you. It is in this folder: ``mlflow_trained_models``. It should automatically work in this tutorial.  \n",
    "\n",
    "The learning points are:\n",
    "- Hands on experience with using a trained model; \n",
    "- What data is required to make a forecast;\n",
    "- Hands on experience using forecast pipeline;\n",
    "- How the model gets automatically loaded;\n",
    "- How the predictions compare to the measurements."
   ]
  },
  {
   "cell_type": "code",
   "execution_count": 3,
   "id": "cd9ebc5b",
   "metadata": {},
   "outputs": [
    {
     "name": "stderr",
     "output_type": "stream",
     "text": [
      "c:\\Users\\AL28793\\AppData\\Local\\anaconda3\\envs\\openstef-workshop\\lib\\site-packages\\tqdm\\auto.py:21: TqdmWarning: IProgress not found. Please update jupyter and ipywidgets. See https://ipywidgets.readthedocs.io/en/stable/user_install.html\n",
      "  from .autonotebook import tqdm as notebook_tqdm\n"
     ]
    },
    {
     "name": "stdout",
     "output_type": "stream",
     "text": [
      "2024-02-19 09:18:44 [info     ] Proloaf not available, setting constructor to None\n"
     ]
    }
   ],
   "source": [
    "# Import required packages.\n",
    "import pandas as pd \n",
    "import numpy as np \n",
    "\n",
    "from openstef.data_classes.prediction_job import PredictionJobDataClass\n",
    "from openstef.pipeline.train_model import train_model_pipeline\n",
    "from openstef.pipeline.create_forecast import create_forecast_pipeline\n",
    "import openstef\n",
    "# Set plotly as the default pandas plotting backend\n",
    "pd.options.plotting.backend = 'plotly'"
   ]
  },
  {
   "cell_type": "markdown",
   "id": "7b59cfa0",
   "metadata": {},
   "source": [
    "## Define the prediction job\n",
    "The same as in workshop part 1, a prediction job has to be defined. As we are making a forecast for the model we trained in part 1, we can use the exact same prediction job. "
   ]
  },
  {
   "cell_type": "code",
   "execution_count": 4,
   "id": "1317999c",
   "metadata": {},
   "outputs": [],
   "source": [
    "# Define properties of training/prediction. We call this a 'prediction_job'. The same is used as in the first exercise.\n",
    "pj = dict(id=287,\n",
    "        model='xgb', \n",
    "        quantiles=[0.10,0.30,0.50,0.70,0.90],\n",
    "        forecast_type=\"demand\", \n",
    "        lat=52.0,\n",
    "        lon=5.0,\n",
    "        horizon_minutes=2880,\n",
    "        resolution_minutes=15,\n",
    "        name=\"workshop_exercise_2\",\n",
    "        save_train_forecasts=True,\n",
    "       )\n",
    "\n",
    "pj=PredictionJobDataClass(**pj)"
   ]
  },
  {
   "cell_type": "markdown",
   "id": "af20a4ee",
   "metadata": {},
   "source": [
    "## Prepare the input data\n",
    "Some other preparation of the input data is required for making a forecast. Namely, split into a test and train data set. \n",
    "\n",
    "Exercise: \n",
    "- Why do we split the dataset into train and test? \n",
    "- Why do we set the 'load' (the realised values) to nan (unknown) for the 'to_forecast_data'? "
   ]
  },
  {
   "cell_type": "markdown",
   "id": "387902fe",
   "metadata": {},
   "source": [
    "If you are working with Google Collab, just upload the data in the 'Files' section on Google Collab. You can find this at the left toolbar, the fifth item from the top. \n",
    "\n",
    "If you are working with another program, please alter the path below to upload the correct data."
   ]
  },
  {
   "cell_type": "code",
   "execution_count": 6,
   "id": "a4c5990f",
   "metadata": {},
   "outputs": [],
   "source": [
    "input_data=pd.read_csv(\"/content/input_data_sun_heavy.csv\", index_col=0, parse_dates=True)\n",
    "# Uncomment this line if you are not working with Google Colab but on your own device\n",
    "# input_data=pd.read_csv(\"../data/input_data_sun_heavy.csv\", index_col=0, parse_dates=True)\n",
    "\n",
    "\n",
    "train_data=input_data.iloc[:-192,:] # Everything except the final 192 rows for training.\n",
    "test_data=input_data.iloc[-192:,:] # Final 192 rows for testing."
   ]
  },
  {
   "cell_type": "code",
   "execution_count": 7,
   "id": "098adf9e",
   "metadata": {},
   "outputs": [],
   "source": [
    "# Prepare data to make the forecast. \n",
    "realised=input_data.loc[test_data.index, 'load'].copy(deep=True)\n",
    "to_forecast_data=input_data.copy(deep=True)\n",
    "to_forecast_data.loc[test_data.index, 'load']=np.nan #clear the load data for the part you want to forecast"
   ]
  },
  {
   "cell_type": "code",
   "execution_count": 8,
   "id": "a20235ce",
   "metadata": {},
   "outputs": [
    {
     "name": "stdout",
     "output_type": "stream",
     "text": [
      "2024-02-19 09:19:01 [debug    ] MLflow tracking uri at init= ./mlflow_trained_models\n",
      "2024-02-19 09:19:01 [warning  ] feature_modules not an attribute of the old model, using None  experiment_name=287\n",
      "2024-02-19 09:19:01 [info     ] Model successfully loaded with MLflow\n",
      "2024-02-19 09:19:01 [info     ] Found 22 values of constant load (repeated values), converted to NaN value. cleansing_step=repeated_values frac_values=0.0006312950156388993 num_values=22 pj_id=287\n",
      "2024-02-19 09:19:01 [info     ] Removed 22 NaN values          num_removed_values=22\n",
      "2024-02-19 09:19:13 [info     ] New model is better than old model, continuing with training procces\n",
      "2024-02-19 09:19:17 [info     ] Model saved with MLflow        experiment_name=287\n",
      "2024-02-19 09:19:20 [info     ] Logged figures to MLflow.     \n",
      "2024-02-19 09:19:20 [info     ] Writing reports to ./mlflow_artifacts\\287\n"
     ]
    }
   ],
   "source": [
    "# If you are working with Google Collab, storing and retrieving the model from the previous workshop is more difficult. \n",
    "# If you are working on your own device, this is not needed. As OpenSTEF is able to store and automatically retrieve your trained model. \n",
    "train_data_model, validation_data_model, test_data_model = openstef.pipeline.train_model.train_model_pipeline(\n",
    "    pj,\n",
    "    train_data,\n",
    "    check_old_model_age=False, \n",
    "    mlflow_tracking_uri=\"./mlflow_trained_models\",\n",
    "    artifact_folder=\"./mlflow_artifacts\",\n",
    ")"
   ]
  },
  {
   "cell_type": "markdown",
   "id": "4b6c23b5",
   "metadata": {},
   "source": [
    "## Make the prediction\n",
    "Now that the prediction job has been defined, a model has been trained and the input data is prepared, a forecast can be made. \n",
    "\n",
    "Exercise: \n",
    "- What input do you need to make a forecast?\n",
    "- How long did it take to make a forecast?\n",
    "\n",
    "Bonus: look-up the correct pipeline on the OpenSTEF [website](https://openstef.github.io/openstef/user_guides.html).\n",
    "\n",
    "\n"
   ]
  },
  {
   "cell_type": "code",
   "execution_count": 9,
   "id": "51264dde",
   "metadata": {},
   "outputs": [
    {
     "name": "stdout",
     "output_type": "stream",
     "text": [
      "2024-02-19 09:19:25 [debug    ] MLflow tracking uri at init= ./mlflow_trained_models\n",
      "2024-02-19 09:19:25 [warning  ] feature_modules not an attribute of the old model, using None  experiment_name=287\n",
      "2024-02-19 09:19:25 [info     ] Model successfully loaded with MLflow\n",
      "2024-02-19 09:19:25 [info     ] Found 214 values of constant load (repeated values), converted to NaN value. cleansing_step=repeated_values frac_values=0.0061071316457863645 num_values=214 pj_id=287\n",
      "2024-02-19 09:19:28 [info     ] Postproces in preparation of storing\n"
     ]
    }
   ],
   "source": [
    "# Location where the model was stored in the last exercise.\n",
    "mlflow_tracking_uri=\"./mlflow_trained_models\" \n",
    "\n",
    "forecast=openstef.pipeline.create_forecast.create_forecast_pipeline(\n",
    "    pj,\n",
    "    to_forecast_data, \n",
    "    mlflow_tracking_uri,\n",
    ")"
   ]
  },
  {
   "cell_type": "markdown",
   "id": "7ba5c1ad",
   "metadata": {},
   "source": [
    "# Inspect the results\n",
    "Now that the forecast has been made, the results can be analysed. \n",
    "\n",
    "Exercise: answer the following questions \n",
    "- Look at the results, when is the model accurate and when is it less accurate? Why?\n",
    "- Look at the two weather features plotted, do you see correlation? "
   ]
  },
  {
   "cell_type": "code",
   "execution_count": 10,
   "id": "6d70209f",
   "metadata": {},
   "outputs": [
    {
     "data": {
      "text/html": [
       "<div>\n",
       "<style scoped>\n",
       "    .dataframe tbody tr th:only-of-type {\n",
       "        vertical-align: middle;\n",
       "    }\n",
       "\n",
       "    .dataframe tbody tr th {\n",
       "        vertical-align: top;\n",
       "    }\n",
       "\n",
       "    .dataframe thead th {\n",
       "        text-align: right;\n",
       "    }\n",
       "</style>\n",
       "<table border=\"1\" class=\"dataframe\">\n",
       "  <thead>\n",
       "    <tr style=\"text-align: right;\">\n",
       "      <th></th>\n",
       "      <th>forecast</th>\n",
       "      <th>tAhead</th>\n",
       "      <th>stdev</th>\n",
       "      <th>quantile_P10</th>\n",
       "      <th>quantile_P30</th>\n",
       "      <th>quantile_P50</th>\n",
       "      <th>quantile_P70</th>\n",
       "      <th>quantile_P90</th>\n",
       "      <th>pid</th>\n",
       "      <th>customer</th>\n",
       "      <th>description</th>\n",
       "      <th>type</th>\n",
       "      <th>algtype</th>\n",
       "    </tr>\n",
       "  </thead>\n",
       "  <tbody>\n",
       "    <tr>\n",
       "      <th>2023-12-30 00:15:00+00:00</th>\n",
       "      <td>2.543440</td>\n",
       "      <td>-1232.00</td>\n",
       "      <td>0.080301</td>\n",
       "      <td>2.440529</td>\n",
       "      <td>2.501330</td>\n",
       "      <td>2.543440</td>\n",
       "      <td>2.585550</td>\n",
       "      <td>2.646350</td>\n",
       "      <td>287</td>\n",
       "      <td>workshop_exercise_2</td>\n",
       "      <td>None</td>\n",
       "      <td>demand</td>\n",
       "      <td>/c:/repos/openstef-workshop/workshop-beginner/...</td>\n",
       "    </tr>\n",
       "    <tr>\n",
       "      <th>2023-12-30 00:30:00+00:00</th>\n",
       "      <td>2.188077</td>\n",
       "      <td>-1231.75</td>\n",
       "      <td>0.080301</td>\n",
       "      <td>2.085166</td>\n",
       "      <td>2.145967</td>\n",
       "      <td>2.188077</td>\n",
       "      <td>2.230187</td>\n",
       "      <td>2.290987</td>\n",
       "      <td>287</td>\n",
       "      <td>workshop_exercise_2</td>\n",
       "      <td>None</td>\n",
       "      <td>demand</td>\n",
       "      <td>/c:/repos/openstef-workshop/workshop-beginner/...</td>\n",
       "    </tr>\n",
       "    <tr>\n",
       "      <th>2023-12-30 00:45:00+00:00</th>\n",
       "      <td>2.188077</td>\n",
       "      <td>-1231.50</td>\n",
       "      <td>0.080301</td>\n",
       "      <td>2.085166</td>\n",
       "      <td>2.145967</td>\n",
       "      <td>2.188077</td>\n",
       "      <td>2.230187</td>\n",
       "      <td>2.290987</td>\n",
       "      <td>287</td>\n",
       "      <td>workshop_exercise_2</td>\n",
       "      <td>None</td>\n",
       "      <td>demand</td>\n",
       "      <td>/c:/repos/openstef-workshop/workshop-beginner/...</td>\n",
       "    </tr>\n",
       "    <tr>\n",
       "      <th>2023-12-30 01:00:00+00:00</th>\n",
       "      <td>2.198698</td>\n",
       "      <td>-1231.25</td>\n",
       "      <td>0.083105</td>\n",
       "      <td>2.092194</td>\n",
       "      <td>2.155117</td>\n",
       "      <td>2.198698</td>\n",
       "      <td>2.242278</td>\n",
       "      <td>2.305201</td>\n",
       "      <td>287</td>\n",
       "      <td>workshop_exercise_2</td>\n",
       "      <td>None</td>\n",
       "      <td>demand</td>\n",
       "      <td>/c:/repos/openstef-workshop/workshop-beginner/...</td>\n",
       "    </tr>\n",
       "    <tr>\n",
       "      <th>2023-12-30 01:15:00+00:00</th>\n",
       "      <td>2.156182</td>\n",
       "      <td>-1231.00</td>\n",
       "      <td>0.083105</td>\n",
       "      <td>2.049678</td>\n",
       "      <td>2.112602</td>\n",
       "      <td>2.156182</td>\n",
       "      <td>2.199763</td>\n",
       "      <td>2.262686</td>\n",
       "      <td>287</td>\n",
       "      <td>workshop_exercise_2</td>\n",
       "      <td>None</td>\n",
       "      <td>demand</td>\n",
       "      <td>/c:/repos/openstef-workshop/workshop-beginner/...</td>\n",
       "    </tr>\n",
       "  </tbody>\n",
       "</table>\n",
       "</div>"
      ],
      "text/plain": [
       "                           forecast   tAhead     stdev  quantile_P10  \\\n",
       "2023-12-30 00:15:00+00:00  2.543440 -1232.00  0.080301      2.440529   \n",
       "2023-12-30 00:30:00+00:00  2.188077 -1231.75  0.080301      2.085166   \n",
       "2023-12-30 00:45:00+00:00  2.188077 -1231.50  0.080301      2.085166   \n",
       "2023-12-30 01:00:00+00:00  2.198698 -1231.25  0.083105      2.092194   \n",
       "2023-12-30 01:15:00+00:00  2.156182 -1231.00  0.083105      2.049678   \n",
       "\n",
       "                           quantile_P30  quantile_P50  quantile_P70  \\\n",
       "2023-12-30 00:15:00+00:00      2.501330      2.543440      2.585550   \n",
       "2023-12-30 00:30:00+00:00      2.145967      2.188077      2.230187   \n",
       "2023-12-30 00:45:00+00:00      2.145967      2.188077      2.230187   \n",
       "2023-12-30 01:00:00+00:00      2.155117      2.198698      2.242278   \n",
       "2023-12-30 01:15:00+00:00      2.112602      2.156182      2.199763   \n",
       "\n",
       "                           quantile_P90  pid             customer description  \\\n",
       "2023-12-30 00:15:00+00:00      2.646350  287  workshop_exercise_2        None   \n",
       "2023-12-30 00:30:00+00:00      2.290987  287  workshop_exercise_2        None   \n",
       "2023-12-30 00:45:00+00:00      2.290987  287  workshop_exercise_2        None   \n",
       "2023-12-30 01:00:00+00:00      2.305201  287  workshop_exercise_2        None   \n",
       "2023-12-30 01:15:00+00:00      2.262686  287  workshop_exercise_2        None   \n",
       "\n",
       "                             type  \\\n",
       "2023-12-30 00:15:00+00:00  demand   \n",
       "2023-12-30 00:30:00+00:00  demand   \n",
       "2023-12-30 00:45:00+00:00  demand   \n",
       "2023-12-30 01:00:00+00:00  demand   \n",
       "2023-12-30 01:15:00+00:00  demand   \n",
       "\n",
       "                                                                     algtype  \n",
       "2023-12-30 00:15:00+00:00  /c:/repos/openstef-workshop/workshop-beginner/...  \n",
       "2023-12-30 00:30:00+00:00  /c:/repos/openstef-workshop/workshop-beginner/...  \n",
       "2023-12-30 00:45:00+00:00  /c:/repos/openstef-workshop/workshop-beginner/...  \n",
       "2023-12-30 01:00:00+00:00  /c:/repos/openstef-workshop/workshop-beginner/...  \n",
       "2023-12-30 01:15:00+00:00  /c:/repos/openstef-workshop/workshop-beginner/...  "
      ]
     },
     "metadata": {},
     "output_type": "display_data"
    }
   ],
   "source": [
    "display(forecast.head())"
   ]
  },
  {
   "cell_type": "code",
   "execution_count": 11,
   "id": "53931a81",
   "metadata": {},
   "outputs": [
    {
     "data": {
      "application/vnd.plotly.v1+json": {
       "config": {
        "plotlyServerURL": "https://plot.ly"
       },
       "data": [
        {
         "hovertemplate": "variable=forecast<br>index=%{x}<br>value=%{y}<extra></extra>",
         "legendgroup": "forecast",
         "line": {
          "color": "#636efa",
          "dash": "solid"
         },
         "marker": {
          "symbol": "circle"
         },
         "mode": "lines",
         "name": "forecast",
         "orientation": "v",
         "showlegend": true,
         "type": "scatter",
         "x": [
          "2023-12-30T00:15:00+00:00",
          "2023-12-30T00:30:00+00:00",
          "2023-12-30T00:45:00+00:00",
          "2023-12-30T01:00:00+00:00",
          "2023-12-30T01:15:00+00:00",
          "2023-12-30T01:30:00+00:00",
          "2023-12-30T01:45:00+00:00",
          "2023-12-30T02:00:00+00:00",
          "2023-12-30T02:15:00+00:00",
          "2023-12-30T02:30:00+00:00",
          "2023-12-30T02:45:00+00:00",
          "2023-12-30T03:00:00+00:00",
          "2023-12-30T03:15:00+00:00",
          "2023-12-30T03:30:00+00:00",
          "2023-12-30T03:45:00+00:00",
          "2023-12-30T04:00:00+00:00",
          "2023-12-30T04:15:00+00:00",
          "2023-12-30T04:30:00+00:00",
          "2023-12-30T04:45:00+00:00",
          "2023-12-30T05:00:00+00:00",
          "2023-12-30T05:15:00+00:00",
          "2023-12-30T05:30:00+00:00",
          "2023-12-30T05:45:00+00:00",
          "2023-12-30T06:00:00+00:00",
          "2023-12-30T06:15:00+00:00",
          "2023-12-30T06:30:00+00:00",
          "2023-12-30T06:45:00+00:00",
          "2023-12-30T07:00:00+00:00",
          "2023-12-30T07:15:00+00:00",
          "2023-12-30T07:30:00+00:00",
          "2023-12-30T07:45:00+00:00",
          "2023-12-30T08:00:00+00:00",
          "2023-12-30T08:15:00+00:00",
          "2023-12-30T08:30:00+00:00",
          "2023-12-30T08:45:00+00:00",
          "2023-12-30T09:00:00+00:00",
          "2023-12-30T09:15:00+00:00",
          "2023-12-30T09:30:00+00:00",
          "2023-12-30T09:45:00+00:00",
          "2023-12-30T10:00:00+00:00",
          "2023-12-30T10:15:00+00:00",
          "2023-12-30T10:30:00+00:00",
          "2023-12-30T10:45:00+00:00",
          "2023-12-30T11:00:00+00:00",
          "2023-12-30T11:15:00+00:00",
          "2023-12-30T11:30:00+00:00",
          "2023-12-30T11:45:00+00:00",
          "2023-12-30T12:00:00+00:00",
          "2023-12-30T12:15:00+00:00",
          "2023-12-30T12:30:00+00:00",
          "2023-12-30T12:45:00+00:00",
          "2023-12-30T13:00:00+00:00",
          "2023-12-30T13:15:00+00:00",
          "2023-12-30T13:30:00+00:00",
          "2023-12-30T13:45:00+00:00",
          "2023-12-30T14:00:00+00:00",
          "2023-12-30T14:15:00+00:00",
          "2023-12-30T14:30:00+00:00",
          "2023-12-30T14:45:00+00:00",
          "2023-12-30T15:00:00+00:00",
          "2023-12-30T15:15:00+00:00",
          "2023-12-30T15:30:00+00:00",
          "2023-12-30T15:45:00+00:00",
          "2023-12-30T16:00:00+00:00",
          "2023-12-30T16:15:00+00:00",
          "2023-12-30T16:30:00+00:00",
          "2023-12-30T16:45:00+00:00",
          "2023-12-30T17:00:00+00:00",
          "2023-12-30T17:15:00+00:00",
          "2023-12-30T17:30:00+00:00",
          "2023-12-30T17:45:00+00:00",
          "2023-12-30T18:00:00+00:00",
          "2023-12-30T18:15:00+00:00",
          "2023-12-30T18:30:00+00:00",
          "2023-12-30T18:45:00+00:00",
          "2023-12-30T19:00:00+00:00",
          "2023-12-30T19:15:00+00:00",
          "2023-12-30T19:30:00+00:00",
          "2023-12-30T19:45:00+00:00",
          "2023-12-30T20:00:00+00:00",
          "2023-12-30T20:15:00+00:00",
          "2023-12-30T20:30:00+00:00",
          "2023-12-30T20:45:00+00:00",
          "2023-12-30T21:00:00+00:00",
          "2023-12-30T21:15:00+00:00",
          "2023-12-30T21:30:00+00:00",
          "2023-12-30T21:45:00+00:00",
          "2023-12-30T22:00:00+00:00",
          "2023-12-30T22:15:00+00:00",
          "2023-12-30T22:30:00+00:00",
          "2023-12-30T22:45:00+00:00",
          "2023-12-30T23:00:00+00:00",
          "2023-12-30T23:15:00+00:00",
          "2023-12-30T23:30:00+00:00",
          "2023-12-30T23:45:00+00:00",
          "2023-12-31T00:00:00+00:00",
          "2023-12-31T00:15:00+00:00",
          "2023-12-31T00:30:00+00:00",
          "2023-12-31T00:45:00+00:00",
          "2023-12-31T01:00:00+00:00",
          "2023-12-31T01:15:00+00:00",
          "2023-12-31T01:30:00+00:00",
          "2023-12-31T01:45:00+00:00",
          "2023-12-31T02:00:00+00:00",
          "2023-12-31T02:15:00+00:00",
          "2023-12-31T02:30:00+00:00",
          "2023-12-31T02:45:00+00:00",
          "2023-12-31T03:00:00+00:00",
          "2023-12-31T03:15:00+00:00",
          "2023-12-31T03:30:00+00:00",
          "2023-12-31T03:45:00+00:00",
          "2023-12-31T04:00:00+00:00",
          "2023-12-31T04:15:00+00:00",
          "2023-12-31T04:30:00+00:00",
          "2023-12-31T04:45:00+00:00",
          "2023-12-31T05:00:00+00:00",
          "2023-12-31T05:15:00+00:00",
          "2023-12-31T05:30:00+00:00",
          "2023-12-31T05:45:00+00:00",
          "2023-12-31T06:00:00+00:00",
          "2023-12-31T06:15:00+00:00",
          "2023-12-31T06:30:00+00:00",
          "2023-12-31T06:45:00+00:00",
          "2023-12-31T07:00:00+00:00",
          "2023-12-31T07:15:00+00:00",
          "2023-12-31T07:30:00+00:00",
          "2023-12-31T07:45:00+00:00",
          "2023-12-31T08:00:00+00:00",
          "2023-12-31T08:15:00+00:00",
          "2023-12-31T08:30:00+00:00",
          "2023-12-31T08:45:00+00:00",
          "2023-12-31T09:00:00+00:00",
          "2023-12-31T09:15:00+00:00",
          "2023-12-31T09:30:00+00:00",
          "2023-12-31T09:45:00+00:00",
          "2023-12-31T10:00:00+00:00",
          "2023-12-31T10:15:00+00:00",
          "2023-12-31T10:30:00+00:00",
          "2023-12-31T10:45:00+00:00",
          "2023-12-31T11:00:00+00:00",
          "2023-12-31T11:15:00+00:00",
          "2023-12-31T11:30:00+00:00",
          "2023-12-31T11:45:00+00:00",
          "2023-12-31T12:00:00+00:00",
          "2023-12-31T12:15:00+00:00",
          "2023-12-31T12:30:00+00:00",
          "2023-12-31T12:45:00+00:00",
          "2023-12-31T13:00:00+00:00",
          "2023-12-31T13:15:00+00:00",
          "2023-12-31T13:30:00+00:00",
          "2023-12-31T13:45:00+00:00",
          "2023-12-31T14:00:00+00:00",
          "2023-12-31T14:15:00+00:00",
          "2023-12-31T14:30:00+00:00",
          "2023-12-31T14:45:00+00:00",
          "2023-12-31T15:00:00+00:00",
          "2023-12-31T15:15:00+00:00",
          "2023-12-31T15:30:00+00:00",
          "2023-12-31T15:45:00+00:00",
          "2023-12-31T16:00:00+00:00",
          "2023-12-31T16:15:00+00:00",
          "2023-12-31T16:30:00+00:00",
          "2023-12-31T16:45:00+00:00",
          "2023-12-31T17:00:00+00:00",
          "2023-12-31T17:15:00+00:00",
          "2023-12-31T17:30:00+00:00",
          "2023-12-31T17:45:00+00:00",
          "2023-12-31T18:00:00+00:00",
          "2023-12-31T18:15:00+00:00",
          "2023-12-31T18:30:00+00:00",
          "2023-12-31T18:45:00+00:00",
          "2023-12-31T19:00:00+00:00",
          "2023-12-31T19:15:00+00:00",
          "2023-12-31T19:30:00+00:00",
          "2023-12-31T19:45:00+00:00",
          "2023-12-31T20:00:00+00:00",
          "2023-12-31T20:15:00+00:00",
          "2023-12-31T20:30:00+00:00",
          "2023-12-31T20:45:00+00:00",
          "2023-12-31T21:00:00+00:00",
          "2023-12-31T21:15:00+00:00",
          "2023-12-31T21:30:00+00:00",
          "2023-12-31T21:45:00+00:00",
          "2023-12-31T22:00:00+00:00",
          "2023-12-31T22:15:00+00:00",
          "2023-12-31T22:30:00+00:00",
          "2023-12-31T22:45:00+00:00",
          "2023-12-31T23:00:00+00:00",
          "2023-12-31T23:15:00+00:00",
          "2023-12-31T23:30:00+00:00",
          "2023-12-31T23:45:00+00:00",
          "2024-01-01T00:00:00+00:00"
         ],
         "xaxis": "x",
         "y": [
          2.5434398651123047,
          2.1880767345428467,
          2.1880767345428467,
          2.198697566986084,
          2.156182050704956,
          2.1880767345428467,
          2.0891106128692627,
          2.156182050704956,
          2.068878412246704,
          2.0356903076171875,
          2.1046383380889893,
          2.062664031982422,
          2.2311737537384033,
          2.227308511734009,
          2.227308511734009,
          2.343989133834839,
          2.177365779876709,
          2.239443778991699,
          2.239443778991699,
          2.239443778991699,
          2.239443778991699,
          2.257204055786133,
          2.3196463584899902,
          2.3557450771331787,
          2.8033130168914795,
          2.8720123767852783,
          2.9819958209991455,
          3.2874128818511963,
          3.3003053665161133,
          3.3191709518432617,
          3.3983230590820312,
          3.4748239517211914,
          3.7057583332061768,
          3.717935800552368,
          3.5655901432037354,
          3.3633735179901123,
          3.325913667678833,
          3.251704216003418,
          3.312995433807373,
          2.6286940574645996,
          2.346738815307617,
          2.2199530601501465,
          2.3598546981811523,
          2.3328981399536133,
          2.1547751426696777,
          2.1547751426696777,
          2.1547751426696777,
          3.0818097591400146,
          2.411522150039673,
          2.411522150039673,
          2.2710368633270264,
          2.41572904586792,
          2.4018075466156006,
          2.6068873405456543,
          3.152317762374878,
          3.702746629714966,
          3.7454915046691895,
          3.751640796661377,
          4.17020845413208,
          4.17020845413208,
          4.203324317932129,
          4.174754619598389,
          4.200380325317383,
          4.219334125518799,
          4.241957187652588,
          4.138408660888672,
          4.1887526512146,
          4.1887526512146,
          4.1887526512146,
          4.1887526512146,
          4.1887526512146,
          4.1661295890808105,
          4.176750659942627,
          4.199373722076416,
          4.164228916168213,
          4.160363674163818,
          4.317536354064941,
          4.2550554275512695,
          3.984546422958374,
          3.984546422958374,
          3.937945604324341,
          3.8952295780181885,
          3.6936445236206055,
          3.5442445278167725,
          3.514061212539673,
          3.5055932998657227,
          3.361165761947632,
          3.1629624366760254,
          2.936005115509033,
          2.8377301692962646,
          2.768296718597412,
          2.5589981079101562,
          2.509319305419922,
          2.509319305419922,
          2.4915590286254883,
          2.2901101112365723,
          2.2901101112365723,
          2.2309374809265137,
          2.2309374809265137,
          2.2309374809265137,
          2.167935371398926,
          2.136040687561035,
          2.136040687561035,
          2.136040687561035,
          2.136040687561035,
          2.136040687561035,
          2.136040687561035,
          2.087207794189453,
          2.087207794189453,
          2.1467268466949463,
          2.1467268466949463,
          2.1890931129455566,
          2.1467268466949463,
          2.1467268466949463,
          2.1891865730285645,
          2.231552839279175,
          2.3098549842834473,
          2.3579392433166504,
          2.3579392433166504,
          2.5045924186706543,
          2.646366596221924,
          2.840557813644409,
          3.1407554149627686,
          3.2514195442199707,
          3.2514195442199707,
          3.3621015548706055,
          3.58605694770813,
          3.700885057449341,
          3.5945041179656982,
          3.8374037742614746,
          3.8735909461975098,
          3.8946468830108643,
          3.8946468830108643,
          3.9146993160247803,
          4.043896675109863,
          3.9429900646209717,
          3.3253345489501953,
          3.1209871768951416,
          3.13732647895813,
          3.13732647895813,
          3.3232860565185547,
          3.4950919151306152,
          4.0212531089782715,
          3.7229204177856445,
          3.8674368858337402,
          3.5483152866363525,
          4.07011079788208,
          4.059971332550049,
          3.9667773246765137,
          3.8402771949768066,
          3.745032787322998,
          3.9677202701568604,
          3.852487325668335,
          3.8946235179901123,
          4.202938556671143,
          4.202938556671143,
          4.212845325469971,
          4.15560245513916,
          4.158738613128662,
          4.004918575286865,
          4.02461576461792,
          4.161597728729248,
          4.001289367675781,
          4.008906364440918,
          4.035092353820801,
          4.161597728729248,
          4.141901016235352,
          4.11022424697876,
          4.11022424697876,
          4.112497806549072,
          4.112497806549072,
          4.112497806549072,
          4.112497806549072,
          4.0591816902160645,
          3.9658920764923096,
          3.7448830604553223,
          3.550466299057007,
          3.550466299057007,
          3.4206016063690186,
          3.337498903274536,
          3.331735134124756,
          3.3344051837921143,
          3.2192025184631348,
          3.217195987701416,
          3.063232898712158,
          3.024174928665161,
          2.8090896606445312,
          2.67698335647583,
          2.081451416015625,
          2.081451416015625,
          1.9556727409362793,
          -0.8645343780517578
         ],
         "yaxis": "y"
        },
        {
         "hovertemplate": "variable=load<br>index=%{x}<br>value=%{y}<extra></extra>",
         "legendgroup": "load",
         "line": {
          "color": "#EF553B",
          "dash": "solid"
         },
         "marker": {
          "symbol": "circle"
         },
         "mode": "lines",
         "name": "load",
         "orientation": "v",
         "showlegend": true,
         "type": "scatter",
         "x": [
          "2023-12-30T00:15:00+00:00",
          "2023-12-30T00:30:00+00:00",
          "2023-12-30T00:45:00+00:00",
          "2023-12-30T01:00:00+00:00",
          "2023-12-30T01:15:00+00:00",
          "2023-12-30T01:30:00+00:00",
          "2023-12-30T01:45:00+00:00",
          "2023-12-30T02:00:00+00:00",
          "2023-12-30T02:15:00+00:00",
          "2023-12-30T02:30:00+00:00",
          "2023-12-30T02:45:00+00:00",
          "2023-12-30T03:00:00+00:00",
          "2023-12-30T03:15:00+00:00",
          "2023-12-30T03:30:00+00:00",
          "2023-12-30T03:45:00+00:00",
          "2023-12-30T04:00:00+00:00",
          "2023-12-30T04:15:00+00:00",
          "2023-12-30T04:30:00+00:00",
          "2023-12-30T04:45:00+00:00",
          "2023-12-30T05:00:00+00:00",
          "2023-12-30T05:15:00+00:00",
          "2023-12-30T05:30:00+00:00",
          "2023-12-30T05:45:00+00:00",
          "2023-12-30T06:00:00+00:00",
          "2023-12-30T06:15:00+00:00",
          "2023-12-30T06:30:00+00:00",
          "2023-12-30T06:45:00+00:00",
          "2023-12-30T07:00:00+00:00",
          "2023-12-30T07:15:00+00:00",
          "2023-12-30T07:30:00+00:00",
          "2023-12-30T07:45:00+00:00",
          "2023-12-30T08:00:00+00:00",
          "2023-12-30T08:15:00+00:00",
          "2023-12-30T08:30:00+00:00",
          "2023-12-30T08:45:00+00:00",
          "2023-12-30T09:00:00+00:00",
          "2023-12-30T09:15:00+00:00",
          "2023-12-30T09:30:00+00:00",
          "2023-12-30T09:45:00+00:00",
          "2023-12-30T10:00:00+00:00",
          "2023-12-30T10:15:00+00:00",
          "2023-12-30T10:30:00+00:00",
          "2023-12-30T10:45:00+00:00",
          "2023-12-30T11:00:00+00:00",
          "2023-12-30T11:15:00+00:00",
          "2023-12-30T11:30:00+00:00",
          "2023-12-30T11:45:00+00:00",
          "2023-12-30T12:00:00+00:00",
          "2023-12-30T12:15:00+00:00",
          "2023-12-30T12:30:00+00:00",
          "2023-12-30T12:45:00+00:00",
          "2023-12-30T13:00:00+00:00",
          "2023-12-30T13:15:00+00:00",
          "2023-12-30T13:30:00+00:00",
          "2023-12-30T13:45:00+00:00",
          "2023-12-30T14:00:00+00:00",
          "2023-12-30T14:15:00+00:00",
          "2023-12-30T14:30:00+00:00",
          "2023-12-30T14:45:00+00:00",
          "2023-12-30T15:00:00+00:00",
          "2023-12-30T15:15:00+00:00",
          "2023-12-30T15:30:00+00:00",
          "2023-12-30T15:45:00+00:00",
          "2023-12-30T16:00:00+00:00",
          "2023-12-30T16:15:00+00:00",
          "2023-12-30T16:30:00+00:00",
          "2023-12-30T16:45:00+00:00",
          "2023-12-30T17:00:00+00:00",
          "2023-12-30T17:15:00+00:00",
          "2023-12-30T17:30:00+00:00",
          "2023-12-30T17:45:00+00:00",
          "2023-12-30T18:00:00+00:00",
          "2023-12-30T18:15:00+00:00",
          "2023-12-30T18:30:00+00:00",
          "2023-12-30T18:45:00+00:00",
          "2023-12-30T19:00:00+00:00",
          "2023-12-30T19:15:00+00:00",
          "2023-12-30T19:30:00+00:00",
          "2023-12-30T19:45:00+00:00",
          "2023-12-30T20:00:00+00:00",
          "2023-12-30T20:15:00+00:00",
          "2023-12-30T20:30:00+00:00",
          "2023-12-30T20:45:00+00:00",
          "2023-12-30T21:00:00+00:00",
          "2023-12-30T21:15:00+00:00",
          "2023-12-30T21:30:00+00:00",
          "2023-12-30T21:45:00+00:00",
          "2023-12-30T22:00:00+00:00",
          "2023-12-30T22:15:00+00:00",
          "2023-12-30T22:30:00+00:00",
          "2023-12-30T22:45:00+00:00",
          "2023-12-30T23:00:00+00:00",
          "2023-12-30T23:15:00+00:00",
          "2023-12-30T23:30:00+00:00",
          "2023-12-30T23:45:00+00:00",
          "2023-12-31T00:00:00+00:00",
          "2023-12-31T00:15:00+00:00",
          "2023-12-31T00:30:00+00:00",
          "2023-12-31T00:45:00+00:00",
          "2023-12-31T01:00:00+00:00",
          "2023-12-31T01:15:00+00:00",
          "2023-12-31T01:30:00+00:00",
          "2023-12-31T01:45:00+00:00",
          "2023-12-31T02:00:00+00:00",
          "2023-12-31T02:15:00+00:00",
          "2023-12-31T02:30:00+00:00",
          "2023-12-31T02:45:00+00:00",
          "2023-12-31T03:00:00+00:00",
          "2023-12-31T03:15:00+00:00",
          "2023-12-31T03:30:00+00:00",
          "2023-12-31T03:45:00+00:00",
          "2023-12-31T04:00:00+00:00",
          "2023-12-31T04:15:00+00:00",
          "2023-12-31T04:30:00+00:00",
          "2023-12-31T04:45:00+00:00",
          "2023-12-31T05:00:00+00:00",
          "2023-12-31T05:15:00+00:00",
          "2023-12-31T05:30:00+00:00",
          "2023-12-31T05:45:00+00:00",
          "2023-12-31T06:00:00+00:00",
          "2023-12-31T06:15:00+00:00",
          "2023-12-31T06:30:00+00:00",
          "2023-12-31T06:45:00+00:00",
          "2023-12-31T07:00:00+00:00",
          "2023-12-31T07:15:00+00:00",
          "2023-12-31T07:30:00+00:00",
          "2023-12-31T07:45:00+00:00",
          "2023-12-31T08:00:00+00:00",
          "2023-12-31T08:15:00+00:00",
          "2023-12-31T08:30:00+00:00",
          "2023-12-31T08:45:00+00:00",
          "2023-12-31T09:00:00+00:00",
          "2023-12-31T09:15:00+00:00",
          "2023-12-31T09:30:00+00:00",
          "2023-12-31T09:45:00+00:00",
          "2023-12-31T10:00:00+00:00",
          "2023-12-31T10:15:00+00:00",
          "2023-12-31T10:30:00+00:00",
          "2023-12-31T10:45:00+00:00",
          "2023-12-31T11:00:00+00:00",
          "2023-12-31T11:15:00+00:00",
          "2023-12-31T11:30:00+00:00",
          "2023-12-31T11:45:00+00:00",
          "2023-12-31T12:00:00+00:00",
          "2023-12-31T12:15:00+00:00",
          "2023-12-31T12:30:00+00:00",
          "2023-12-31T12:45:00+00:00",
          "2023-12-31T13:00:00+00:00",
          "2023-12-31T13:15:00+00:00",
          "2023-12-31T13:30:00+00:00",
          "2023-12-31T13:45:00+00:00",
          "2023-12-31T14:00:00+00:00",
          "2023-12-31T14:15:00+00:00",
          "2023-12-31T14:30:00+00:00",
          "2023-12-31T14:45:00+00:00",
          "2023-12-31T15:00:00+00:00",
          "2023-12-31T15:15:00+00:00",
          "2023-12-31T15:30:00+00:00",
          "2023-12-31T15:45:00+00:00",
          "2023-12-31T16:00:00+00:00",
          "2023-12-31T16:15:00+00:00",
          "2023-12-31T16:30:00+00:00",
          "2023-12-31T16:45:00+00:00",
          "2023-12-31T17:00:00+00:00",
          "2023-12-31T17:15:00+00:00",
          "2023-12-31T17:30:00+00:00",
          "2023-12-31T17:45:00+00:00",
          "2023-12-31T18:00:00+00:00",
          "2023-12-31T18:15:00+00:00",
          "2023-12-31T18:30:00+00:00",
          "2023-12-31T18:45:00+00:00",
          "2023-12-31T19:00:00+00:00",
          "2023-12-31T19:15:00+00:00",
          "2023-12-31T19:30:00+00:00",
          "2023-12-31T19:45:00+00:00",
          "2023-12-31T20:00:00+00:00",
          "2023-12-31T20:15:00+00:00",
          "2023-12-31T20:30:00+00:00",
          "2023-12-31T20:45:00+00:00",
          "2023-12-31T21:00:00+00:00",
          "2023-12-31T21:15:00+00:00",
          "2023-12-31T21:30:00+00:00",
          "2023-12-31T21:45:00+00:00",
          "2023-12-31T22:00:00+00:00",
          "2023-12-31T22:15:00+00:00",
          "2023-12-31T22:30:00+00:00",
          "2023-12-31T22:45:00+00:00",
          "2023-12-31T23:00:00+00:00",
          "2023-12-31T23:15:00+00:00",
          "2023-12-31T23:30:00+00:00",
          "2023-12-31T23:45:00+00:00",
          "2024-01-01T00:00:00+00:00"
         ],
         "xaxis": "x",
         "y": [
          2.539999961853028,
          2.509999990463257,
          2.4533333778381348,
          2.4133334159851074,
          2.393333352481325,
          2.3666667081415653,
          2.380000034968058,
          2.3966667652130127,
          2.390000104904175,
          2.343333238114913,
          2.3499999747922025,
          2.396666685740153,
          2.37333337465922,
          2.37333337465922,
          2.37666662534078,
          2.43666672706604,
          2.406666755676269,
          2.363333225250244,
          2.4033334255218506,
          2.5199999809265137,
          2.5366666316986084,
          2.526666641235352,
          2.6299999554951987,
          2.893333355585734,
          3.0433332920074463,
          3.039999961853028,
          3.2233332792917886,
          3.599999984105428,
          3.693333387374878,
          3.759999990463257,
          3.9066666762034097,
          4.100000063578288,
          4.416666666666667,
          4.566666603088379,
          4.336666584014893,
          4.130000114440918,
          3.986666679382324,
          3.7933332920074463,
          3.3533333937327066,
          3.486666679382324,
          4.066666682561238,
          3.5299999713897705,
          2.7666667302449546,
          2.6533332665761318,
          2.456666628519694,
          2.290000041325887,
          2.266666611035665,
          3.446666638056437,
          3.790000041325887,
          3.933333396911621,
          3.9666667779286704,
          3.943333387374878,
          4.013333320617676,
          4.096666653951009,
          4.076666673024495,
          4.566666762034099,
          4.543333212534587,
          4.53000005086263,
          4.690000057220459,
          4.893333435058594,
          5.120000044504802,
          5.236666679382324,
          5.1566667556762695,
          5.120000044504802,
          5.339999993642171,
          5.226666609446208,
          5.316666762034099,
          5.28000005086263,
          5.12666670481364,
          5.196666717529297,
          5.293333371480306,
          5.136666615804036,
          5.196666717529297,
          5.213333288828532,
          4.916666507720947,
          4.84333340326945,
          4.8066666920979815,
          4.666666666666667,
          4.580000082651774,
          4.439999898274739,
          4.349999904632568,
          4.2166666984558105,
          4.043333371480306,
          3.963333368301392,
          3.75,
          3.6633334097762895,
          3.560000022252401,
          3.333333333333333,
          3.243333339691162,
          3.089999993642172,
          2.990000009536743,
          2.8300000031789145,
          2.7733333110809326,
          2.690000057220459,
          2.609999895095825,
          2.509999990463257,
          2.4233334064483643,
          2.3533332347869877,
          2.3466665744781494,
          2.3366665840148926,
          2.306666612625122,
          2.276666641235352,
          2.25,
          2.263333320617676,
          2.2233333587646484,
          2.196666717529297,
          2.1700000762939453,
          2.180000066757202,
          2.2233333587646484,
          2.236666679382324,
          2.196666717529297,
          2.2233333587646484,
          2.246666669845581,
          2.236666679382324,
          2.236666679382324,
          2.356666723887125,
          2.3433332443237305,
          2.376666704813639,
          2.443333387374878,
          2.693333307902018,
          2.81333327293396,
          2.906666755676269,
          3.0166666507720947,
          3.303333361943563,
          3.4033333460489907,
          3.4733333587646484,
          3.6533334255218506,
          3.9266666571299234,
          4.429999987284343,
          4.439999898274739,
          4.410000006357829,
          4.566666603088379,
          4.75,
          4.7366665204366045,
          4.776666800181071,
          4.87666670481364,
          4.789999961853027,
          4.933333237965901,
          5.070000012715657,
          5.119999885559082,
          5.243333339691162,
          5.049999872843425,
          4.736666679382324,
          2.310000022252401,
          3.9166666666666665,
          3.060000022252401,
          4.213333368301392,
          4.426666736602783,
          4.653333187103272,
          3.076666673024496,
          3.240000009536743,
          4.189999898274739,
          3.860000054041544,
          4.3433332443237305,
          4.753333409627278,
          4.776666641235352,
          4.716666539510091,
          4.820000012715657,
          4.986666679382324,
          5.28000005086263,
          5.243333180745442,
          5.189999898274739,
          5.286666711171468,
          5.313333352406819,
          5.333333333333333,
          5.546666622161865,
          5.53000005086263,
          5.363333384195964,
          5.390000025431315,
          5.25000015894572,
          4.976666450500488,
          4.836666584014893,
          4.760000069936116,
          4.679999987284343,
          4.4666666984558105,
          4.326666673024495,
          4.213333447774251,
          4.070000012715657,
          3.9666666984558105,
          3.8433332443237305,
          3.703333377838135,
          3.630000034968058,
          3.566666603088379,
          3.509999990463257,
          3.4166667461395264,
          3.289999961853028,
          3.259999990463257,
          3.1866667239616318,
          3.1200000351915755,
          3.146666685740153,
          3.0833332538604736,
          3.0799999237060547
         ],
         "yaxis": "y"
        }
       ],
       "layout": {
        "legend": {
         "title": {
          "text": "variable"
         },
         "tracegroupgap": 0
        },
        "margin": {
         "t": 60
        },
        "template": {
         "data": {
          "bar": [
           {
            "error_x": {
             "color": "#2a3f5f"
            },
            "error_y": {
             "color": "#2a3f5f"
            },
            "marker": {
             "line": {
              "color": "#E5ECF6",
              "width": 0.5
             },
             "pattern": {
              "fillmode": "overlay",
              "size": 10,
              "solidity": 0.2
             }
            },
            "type": "bar"
           }
          ],
          "barpolar": [
           {
            "marker": {
             "line": {
              "color": "#E5ECF6",
              "width": 0.5
             },
             "pattern": {
              "fillmode": "overlay",
              "size": 10,
              "solidity": 0.2
             }
            },
            "type": "barpolar"
           }
          ],
          "carpet": [
           {
            "aaxis": {
             "endlinecolor": "#2a3f5f",
             "gridcolor": "white",
             "linecolor": "white",
             "minorgridcolor": "white",
             "startlinecolor": "#2a3f5f"
            },
            "baxis": {
             "endlinecolor": "#2a3f5f",
             "gridcolor": "white",
             "linecolor": "white",
             "minorgridcolor": "white",
             "startlinecolor": "#2a3f5f"
            },
            "type": "carpet"
           }
          ],
          "choropleth": [
           {
            "colorbar": {
             "outlinewidth": 0,
             "ticks": ""
            },
            "type": "choropleth"
           }
          ],
          "contour": [
           {
            "colorbar": {
             "outlinewidth": 0,
             "ticks": ""
            },
            "colorscale": [
             [
              0,
              "#0d0887"
             ],
             [
              0.1111111111111111,
              "#46039f"
             ],
             [
              0.2222222222222222,
              "#7201a8"
             ],
             [
              0.3333333333333333,
              "#9c179e"
             ],
             [
              0.4444444444444444,
              "#bd3786"
             ],
             [
              0.5555555555555556,
              "#d8576b"
             ],
             [
              0.6666666666666666,
              "#ed7953"
             ],
             [
              0.7777777777777778,
              "#fb9f3a"
             ],
             [
              0.8888888888888888,
              "#fdca26"
             ],
             [
              1,
              "#f0f921"
             ]
            ],
            "type": "contour"
           }
          ],
          "contourcarpet": [
           {
            "colorbar": {
             "outlinewidth": 0,
             "ticks": ""
            },
            "type": "contourcarpet"
           }
          ],
          "heatmap": [
           {
            "colorbar": {
             "outlinewidth": 0,
             "ticks": ""
            },
            "colorscale": [
             [
              0,
              "#0d0887"
             ],
             [
              0.1111111111111111,
              "#46039f"
             ],
             [
              0.2222222222222222,
              "#7201a8"
             ],
             [
              0.3333333333333333,
              "#9c179e"
             ],
             [
              0.4444444444444444,
              "#bd3786"
             ],
             [
              0.5555555555555556,
              "#d8576b"
             ],
             [
              0.6666666666666666,
              "#ed7953"
             ],
             [
              0.7777777777777778,
              "#fb9f3a"
             ],
             [
              0.8888888888888888,
              "#fdca26"
             ],
             [
              1,
              "#f0f921"
             ]
            ],
            "type": "heatmap"
           }
          ],
          "heatmapgl": [
           {
            "colorbar": {
             "outlinewidth": 0,
             "ticks": ""
            },
            "colorscale": [
             [
              0,
              "#0d0887"
             ],
             [
              0.1111111111111111,
              "#46039f"
             ],
             [
              0.2222222222222222,
              "#7201a8"
             ],
             [
              0.3333333333333333,
              "#9c179e"
             ],
             [
              0.4444444444444444,
              "#bd3786"
             ],
             [
              0.5555555555555556,
              "#d8576b"
             ],
             [
              0.6666666666666666,
              "#ed7953"
             ],
             [
              0.7777777777777778,
              "#fb9f3a"
             ],
             [
              0.8888888888888888,
              "#fdca26"
             ],
             [
              1,
              "#f0f921"
             ]
            ],
            "type": "heatmapgl"
           }
          ],
          "histogram": [
           {
            "marker": {
             "pattern": {
              "fillmode": "overlay",
              "size": 10,
              "solidity": 0.2
             }
            },
            "type": "histogram"
           }
          ],
          "histogram2d": [
           {
            "colorbar": {
             "outlinewidth": 0,
             "ticks": ""
            },
            "colorscale": [
             [
              0,
              "#0d0887"
             ],
             [
              0.1111111111111111,
              "#46039f"
             ],
             [
              0.2222222222222222,
              "#7201a8"
             ],
             [
              0.3333333333333333,
              "#9c179e"
             ],
             [
              0.4444444444444444,
              "#bd3786"
             ],
             [
              0.5555555555555556,
              "#d8576b"
             ],
             [
              0.6666666666666666,
              "#ed7953"
             ],
             [
              0.7777777777777778,
              "#fb9f3a"
             ],
             [
              0.8888888888888888,
              "#fdca26"
             ],
             [
              1,
              "#f0f921"
             ]
            ],
            "type": "histogram2d"
           }
          ],
          "histogram2dcontour": [
           {
            "colorbar": {
             "outlinewidth": 0,
             "ticks": ""
            },
            "colorscale": [
             [
              0,
              "#0d0887"
             ],
             [
              0.1111111111111111,
              "#46039f"
             ],
             [
              0.2222222222222222,
              "#7201a8"
             ],
             [
              0.3333333333333333,
              "#9c179e"
             ],
             [
              0.4444444444444444,
              "#bd3786"
             ],
             [
              0.5555555555555556,
              "#d8576b"
             ],
             [
              0.6666666666666666,
              "#ed7953"
             ],
             [
              0.7777777777777778,
              "#fb9f3a"
             ],
             [
              0.8888888888888888,
              "#fdca26"
             ],
             [
              1,
              "#f0f921"
             ]
            ],
            "type": "histogram2dcontour"
           }
          ],
          "mesh3d": [
           {
            "colorbar": {
             "outlinewidth": 0,
             "ticks": ""
            },
            "type": "mesh3d"
           }
          ],
          "parcoords": [
           {
            "line": {
             "colorbar": {
              "outlinewidth": 0,
              "ticks": ""
             }
            },
            "type": "parcoords"
           }
          ],
          "pie": [
           {
            "automargin": true,
            "type": "pie"
           }
          ],
          "scatter": [
           {
            "fillpattern": {
             "fillmode": "overlay",
             "size": 10,
             "solidity": 0.2
            },
            "type": "scatter"
           }
          ],
          "scatter3d": [
           {
            "line": {
             "colorbar": {
              "outlinewidth": 0,
              "ticks": ""
             }
            },
            "marker": {
             "colorbar": {
              "outlinewidth": 0,
              "ticks": ""
             }
            },
            "type": "scatter3d"
           }
          ],
          "scattercarpet": [
           {
            "marker": {
             "colorbar": {
              "outlinewidth": 0,
              "ticks": ""
             }
            },
            "type": "scattercarpet"
           }
          ],
          "scattergeo": [
           {
            "marker": {
             "colorbar": {
              "outlinewidth": 0,
              "ticks": ""
             }
            },
            "type": "scattergeo"
           }
          ],
          "scattergl": [
           {
            "marker": {
             "colorbar": {
              "outlinewidth": 0,
              "ticks": ""
             }
            },
            "type": "scattergl"
           }
          ],
          "scattermapbox": [
           {
            "marker": {
             "colorbar": {
              "outlinewidth": 0,
              "ticks": ""
             }
            },
            "type": "scattermapbox"
           }
          ],
          "scatterpolar": [
           {
            "marker": {
             "colorbar": {
              "outlinewidth": 0,
              "ticks": ""
             }
            },
            "type": "scatterpolar"
           }
          ],
          "scatterpolargl": [
           {
            "marker": {
             "colorbar": {
              "outlinewidth": 0,
              "ticks": ""
             }
            },
            "type": "scatterpolargl"
           }
          ],
          "scatterternary": [
           {
            "marker": {
             "colorbar": {
              "outlinewidth": 0,
              "ticks": ""
             }
            },
            "type": "scatterternary"
           }
          ],
          "surface": [
           {
            "colorbar": {
             "outlinewidth": 0,
             "ticks": ""
            },
            "colorscale": [
             [
              0,
              "#0d0887"
             ],
             [
              0.1111111111111111,
              "#46039f"
             ],
             [
              0.2222222222222222,
              "#7201a8"
             ],
             [
              0.3333333333333333,
              "#9c179e"
             ],
             [
              0.4444444444444444,
              "#bd3786"
             ],
             [
              0.5555555555555556,
              "#d8576b"
             ],
             [
              0.6666666666666666,
              "#ed7953"
             ],
             [
              0.7777777777777778,
              "#fb9f3a"
             ],
             [
              0.8888888888888888,
              "#fdca26"
             ],
             [
              1,
              "#f0f921"
             ]
            ],
            "type": "surface"
           }
          ],
          "table": [
           {
            "cells": {
             "fill": {
              "color": "#EBF0F8"
             },
             "line": {
              "color": "white"
             }
            },
            "header": {
             "fill": {
              "color": "#C8D4E3"
             },
             "line": {
              "color": "white"
             }
            },
            "type": "table"
           }
          ]
         },
         "layout": {
          "annotationdefaults": {
           "arrowcolor": "#2a3f5f",
           "arrowhead": 0,
           "arrowwidth": 1
          },
          "autotypenumbers": "strict",
          "coloraxis": {
           "colorbar": {
            "outlinewidth": 0,
            "ticks": ""
           }
          },
          "colorscale": {
           "diverging": [
            [
             0,
             "#8e0152"
            ],
            [
             0.1,
             "#c51b7d"
            ],
            [
             0.2,
             "#de77ae"
            ],
            [
             0.3,
             "#f1b6da"
            ],
            [
             0.4,
             "#fde0ef"
            ],
            [
             0.5,
             "#f7f7f7"
            ],
            [
             0.6,
             "#e6f5d0"
            ],
            [
             0.7,
             "#b8e186"
            ],
            [
             0.8,
             "#7fbc41"
            ],
            [
             0.9,
             "#4d9221"
            ],
            [
             1,
             "#276419"
            ]
           ],
           "sequential": [
            [
             0,
             "#0d0887"
            ],
            [
             0.1111111111111111,
             "#46039f"
            ],
            [
             0.2222222222222222,
             "#7201a8"
            ],
            [
             0.3333333333333333,
             "#9c179e"
            ],
            [
             0.4444444444444444,
             "#bd3786"
            ],
            [
             0.5555555555555556,
             "#d8576b"
            ],
            [
             0.6666666666666666,
             "#ed7953"
            ],
            [
             0.7777777777777778,
             "#fb9f3a"
            ],
            [
             0.8888888888888888,
             "#fdca26"
            ],
            [
             1,
             "#f0f921"
            ]
           ],
           "sequentialminus": [
            [
             0,
             "#0d0887"
            ],
            [
             0.1111111111111111,
             "#46039f"
            ],
            [
             0.2222222222222222,
             "#7201a8"
            ],
            [
             0.3333333333333333,
             "#9c179e"
            ],
            [
             0.4444444444444444,
             "#bd3786"
            ],
            [
             0.5555555555555556,
             "#d8576b"
            ],
            [
             0.6666666666666666,
             "#ed7953"
            ],
            [
             0.7777777777777778,
             "#fb9f3a"
            ],
            [
             0.8888888888888888,
             "#fdca26"
            ],
            [
             1,
             "#f0f921"
            ]
           ]
          },
          "colorway": [
           "#636efa",
           "#EF553B",
           "#00cc96",
           "#ab63fa",
           "#FFA15A",
           "#19d3f3",
           "#FF6692",
           "#B6E880",
           "#FF97FF",
           "#FECB52"
          ],
          "font": {
           "color": "#2a3f5f"
          },
          "geo": {
           "bgcolor": "white",
           "lakecolor": "white",
           "landcolor": "#E5ECF6",
           "showlakes": true,
           "showland": true,
           "subunitcolor": "white"
          },
          "hoverlabel": {
           "align": "left"
          },
          "hovermode": "closest",
          "mapbox": {
           "style": "light"
          },
          "paper_bgcolor": "white",
          "plot_bgcolor": "#E5ECF6",
          "polar": {
           "angularaxis": {
            "gridcolor": "white",
            "linecolor": "white",
            "ticks": ""
           },
           "bgcolor": "#E5ECF6",
           "radialaxis": {
            "gridcolor": "white",
            "linecolor": "white",
            "ticks": ""
           }
          },
          "scene": {
           "xaxis": {
            "backgroundcolor": "#E5ECF6",
            "gridcolor": "white",
            "gridwidth": 2,
            "linecolor": "white",
            "showbackground": true,
            "ticks": "",
            "zerolinecolor": "white"
           },
           "yaxis": {
            "backgroundcolor": "#E5ECF6",
            "gridcolor": "white",
            "gridwidth": 2,
            "linecolor": "white",
            "showbackground": true,
            "ticks": "",
            "zerolinecolor": "white"
           },
           "zaxis": {
            "backgroundcolor": "#E5ECF6",
            "gridcolor": "white",
            "gridwidth": 2,
            "linecolor": "white",
            "showbackground": true,
            "ticks": "",
            "zerolinecolor": "white"
           }
          },
          "shapedefaults": {
           "line": {
            "color": "#2a3f5f"
           }
          },
          "ternary": {
           "aaxis": {
            "gridcolor": "white",
            "linecolor": "white",
            "ticks": ""
           },
           "baxis": {
            "gridcolor": "white",
            "linecolor": "white",
            "ticks": ""
           },
           "bgcolor": "#E5ECF6",
           "caxis": {
            "gridcolor": "white",
            "linecolor": "white",
            "ticks": ""
           }
          },
          "title": {
           "x": 0.05
          },
          "xaxis": {
           "automargin": true,
           "gridcolor": "white",
           "linecolor": "white",
           "ticks": "",
           "title": {
            "standoff": 15
           },
           "zerolinecolor": "white",
           "zerolinewidth": 2
          },
          "yaxis": {
           "automargin": true,
           "gridcolor": "white",
           "linecolor": "white",
           "ticks": "",
           "title": {
            "standoff": 15
           },
           "zerolinecolor": "white",
           "zerolinewidth": 2
          }
         }
        },
        "xaxis": {
         "anchor": "y",
         "domain": [
          0,
          1
         ],
         "title": {
          "text": "Timestamp"
         }
        },
        "yaxis": {
         "anchor": "x",
         "domain": [
          0,
          1
         ],
         "title": {
          "text": "Load [MW]"
         }
        }
       }
      }
     },
     "metadata": {},
     "output_type": "display_data"
    },
    {
     "data": {
      "text/plain": [
       "None"
      ]
     },
     "metadata": {},
     "output_type": "display_data"
    }
   ],
   "source": [
    "fig_forecast_realised=pd.concat([forecast[\"forecast\"], realised], axis=1).plot()\n",
    "fig_forecast_realised.update_layout(\n",
    "    xaxis_title='Timestamp',\n",
    "    yaxis_title=\"Load [MW]\"\n",
    ")\n",
    "display(fig_forecast_realised.show())"
   ]
  },
  {
   "cell_type": "code",
   "execution_count": 12,
   "id": "480ce716",
   "metadata": {},
   "outputs": [
    {
     "data": {
      "application/vnd.plotly.v1+json": {
       "config": {
        "plotlyServerURL": "https://plot.ly"
       },
       "data": [
        {
         "hovertemplate": "variable=radiation<br>index=%{x}<br>value=%{y}<extra></extra>",
         "legendgroup": "radiation",
         "line": {
          "color": "#636efa",
          "dash": "solid"
         },
         "marker": {
          "symbol": "circle"
         },
         "mode": "lines",
         "name": "radiation",
         "orientation": "v",
         "showlegend": true,
         "type": "scatter",
         "x": [
          "2023-12-30T00:15:00+00:00",
          "2023-12-30T00:30:00+00:00",
          "2023-12-30T00:45:00+00:00",
          "2023-12-30T01:00:00+00:00",
          "2023-12-30T01:15:00+00:00",
          "2023-12-30T01:30:00+00:00",
          "2023-12-30T01:45:00+00:00",
          "2023-12-30T02:00:00+00:00",
          "2023-12-30T02:15:00+00:00",
          "2023-12-30T02:30:00+00:00",
          "2023-12-30T02:45:00+00:00",
          "2023-12-30T03:00:00+00:00",
          "2023-12-30T03:15:00+00:00",
          "2023-12-30T03:30:00+00:00",
          "2023-12-30T03:45:00+00:00",
          "2023-12-30T04:00:00+00:00",
          "2023-12-30T04:15:00+00:00",
          "2023-12-30T04:30:00+00:00",
          "2023-12-30T04:45:00+00:00",
          "2023-12-30T05:00:00+00:00",
          "2023-12-30T05:15:00+00:00",
          "2023-12-30T05:30:00+00:00",
          "2023-12-30T05:45:00+00:00",
          "2023-12-30T06:00:00+00:00",
          "2023-12-30T06:15:00+00:00",
          "2023-12-30T06:30:00+00:00",
          "2023-12-30T06:45:00+00:00",
          "2023-12-30T07:00:00+00:00",
          "2023-12-30T07:15:00+00:00",
          "2023-12-30T07:30:00+00:00",
          "2023-12-30T07:45:00+00:00",
          "2023-12-30T08:00:00+00:00",
          "2023-12-30T08:15:00+00:00",
          "2023-12-30T08:30:00+00:00",
          "2023-12-30T08:45:00+00:00",
          "2023-12-30T09:00:00+00:00",
          "2023-12-30T09:15:00+00:00",
          "2023-12-30T09:30:00+00:00",
          "2023-12-30T09:45:00+00:00",
          "2023-12-30T10:00:00+00:00",
          "2023-12-30T10:15:00+00:00",
          "2023-12-30T10:30:00+00:00",
          "2023-12-30T10:45:00+00:00",
          "2023-12-30T11:00:00+00:00",
          "2023-12-30T11:15:00+00:00",
          "2023-12-30T11:30:00+00:00",
          "2023-12-30T11:45:00+00:00",
          "2023-12-30T12:00:00+00:00",
          "2023-12-30T12:15:00+00:00",
          "2023-12-30T12:30:00+00:00",
          "2023-12-30T12:45:00+00:00",
          "2023-12-30T13:00:00+00:00",
          "2023-12-30T13:15:00+00:00",
          "2023-12-30T13:30:00+00:00",
          "2023-12-30T13:45:00+00:00",
          "2023-12-30T14:00:00+00:00",
          "2023-12-30T14:15:00+00:00",
          "2023-12-30T14:30:00+00:00",
          "2023-12-30T14:45:00+00:00",
          "2023-12-30T15:00:00+00:00",
          "2023-12-30T15:15:00+00:00",
          "2023-12-30T15:30:00+00:00",
          "2023-12-30T15:45:00+00:00",
          "2023-12-30T16:00:00+00:00",
          "2023-12-30T16:15:00+00:00",
          "2023-12-30T16:30:00+00:00",
          "2023-12-30T16:45:00+00:00",
          "2023-12-30T17:00:00+00:00",
          "2023-12-30T17:15:00+00:00",
          "2023-12-30T17:30:00+00:00",
          "2023-12-30T17:45:00+00:00",
          "2023-12-30T18:00:00+00:00",
          "2023-12-30T18:15:00+00:00",
          "2023-12-30T18:30:00+00:00",
          "2023-12-30T18:45:00+00:00",
          "2023-12-30T19:00:00+00:00",
          "2023-12-30T19:15:00+00:00",
          "2023-12-30T19:30:00+00:00",
          "2023-12-30T19:45:00+00:00",
          "2023-12-30T20:00:00+00:00",
          "2023-12-30T20:15:00+00:00",
          "2023-12-30T20:30:00+00:00",
          "2023-12-30T20:45:00+00:00",
          "2023-12-30T21:00:00+00:00",
          "2023-12-30T21:15:00+00:00",
          "2023-12-30T21:30:00+00:00",
          "2023-12-30T21:45:00+00:00",
          "2023-12-30T22:00:00+00:00",
          "2023-12-30T22:15:00+00:00",
          "2023-12-30T22:30:00+00:00",
          "2023-12-30T22:45:00+00:00",
          "2023-12-30T23:00:00+00:00",
          "2023-12-30T23:15:00+00:00",
          "2023-12-30T23:30:00+00:00",
          "2023-12-30T23:45:00+00:00",
          "2023-12-31T00:00:00+00:00",
          "2023-12-31T00:15:00+00:00",
          "2023-12-31T00:30:00+00:00",
          "2023-12-31T00:45:00+00:00",
          "2023-12-31T01:00:00+00:00",
          "2023-12-31T01:15:00+00:00",
          "2023-12-31T01:30:00+00:00",
          "2023-12-31T01:45:00+00:00",
          "2023-12-31T02:00:00+00:00",
          "2023-12-31T02:15:00+00:00",
          "2023-12-31T02:30:00+00:00",
          "2023-12-31T02:45:00+00:00",
          "2023-12-31T03:00:00+00:00",
          "2023-12-31T03:15:00+00:00",
          "2023-12-31T03:30:00+00:00",
          "2023-12-31T03:45:00+00:00",
          "2023-12-31T04:00:00+00:00",
          "2023-12-31T04:15:00+00:00",
          "2023-12-31T04:30:00+00:00",
          "2023-12-31T04:45:00+00:00",
          "2023-12-31T05:00:00+00:00",
          "2023-12-31T05:15:00+00:00",
          "2023-12-31T05:30:00+00:00",
          "2023-12-31T05:45:00+00:00",
          "2023-12-31T06:00:00+00:00",
          "2023-12-31T06:15:00+00:00",
          "2023-12-31T06:30:00+00:00",
          "2023-12-31T06:45:00+00:00",
          "2023-12-31T07:00:00+00:00",
          "2023-12-31T07:15:00+00:00",
          "2023-12-31T07:30:00+00:00",
          "2023-12-31T07:45:00+00:00",
          "2023-12-31T08:00:00+00:00",
          "2023-12-31T08:15:00+00:00",
          "2023-12-31T08:30:00+00:00",
          "2023-12-31T08:45:00+00:00",
          "2023-12-31T09:00:00+00:00",
          "2023-12-31T09:15:00+00:00",
          "2023-12-31T09:30:00+00:00",
          "2023-12-31T09:45:00+00:00",
          "2023-12-31T10:00:00+00:00",
          "2023-12-31T10:15:00+00:00",
          "2023-12-31T10:30:00+00:00",
          "2023-12-31T10:45:00+00:00",
          "2023-12-31T11:00:00+00:00",
          "2023-12-31T11:15:00+00:00",
          "2023-12-31T11:30:00+00:00",
          "2023-12-31T11:45:00+00:00",
          "2023-12-31T12:00:00+00:00",
          "2023-12-31T12:15:00+00:00",
          "2023-12-31T12:30:00+00:00",
          "2023-12-31T12:45:00+00:00",
          "2023-12-31T13:00:00+00:00",
          "2023-12-31T13:15:00+00:00",
          "2023-12-31T13:30:00+00:00",
          "2023-12-31T13:45:00+00:00",
          "2023-12-31T14:00:00+00:00",
          "2023-12-31T14:15:00+00:00",
          "2023-12-31T14:30:00+00:00",
          "2023-12-31T14:45:00+00:00",
          "2023-12-31T15:00:00+00:00",
          "2023-12-31T15:15:00+00:00",
          "2023-12-31T15:30:00+00:00",
          "2023-12-31T15:45:00+00:00",
          "2023-12-31T16:00:00+00:00",
          "2023-12-31T16:15:00+00:00",
          "2023-12-31T16:30:00+00:00",
          "2023-12-31T16:45:00+00:00",
          "2023-12-31T17:00:00+00:00",
          "2023-12-31T17:15:00+00:00",
          "2023-12-31T17:30:00+00:00",
          "2023-12-31T17:45:00+00:00",
          "2023-12-31T18:00:00+00:00",
          "2023-12-31T18:15:00+00:00",
          "2023-12-31T18:30:00+00:00",
          "2023-12-31T18:45:00+00:00",
          "2023-12-31T19:00:00+00:00",
          "2023-12-31T19:15:00+00:00",
          "2023-12-31T19:30:00+00:00",
          "2023-12-31T19:45:00+00:00",
          "2023-12-31T20:00:00+00:00",
          "2023-12-31T20:15:00+00:00",
          "2023-12-31T20:30:00+00:00",
          "2023-12-31T20:45:00+00:00",
          "2023-12-31T21:00:00+00:00",
          "2023-12-31T21:15:00+00:00",
          "2023-12-31T21:30:00+00:00",
          "2023-12-31T21:45:00+00:00",
          "2023-12-31T22:00:00+00:00",
          "2023-12-31T22:15:00+00:00",
          "2023-12-31T22:30:00+00:00",
          "2023-12-31T22:45:00+00:00",
          "2023-12-31T23:00:00+00:00",
          "2023-12-31T23:15:00+00:00",
          "2023-12-31T23:30:00+00:00",
          "2023-12-31T23:45:00+00:00",
          "2024-01-01T00:00:00+00:00"
         ],
         "xaxis": "x",
         "y": [
          0,
          0,
          1.8230884555342422e-17,
          3.6461769110684845e-17,
          5.469265366602727e-17,
          7.29235382213697e-17,
          7.292397556491973e-17,
          7.292441290846978e-17,
          7.292485025201983e-17,
          7.292528759556988e-17,
          7.292441290846978e-17,
          7.29235382213697e-17,
          7.292266353426961e-17,
          7.292178884716953e-17,
          7.292230363697322e-17,
          7.292281842677692e-17,
          7.292333321658061e-17,
          7.292384800638432e-17,
          7.292449946604739e-17,
          7.292515092571048e-17,
          7.292580238537357e-17,
          7.292645384503666e-17,
          -5.469126874478546e-17,
          -1.8230899133460758e-16,
          -3.099267139244297e-16,
          -4.375444365142518e-16,
          0.0012467696176225206,
          0.002493539235245479,
          0.0037403088528684372,
          0.004987078470491396,
          0.06646928233603527,
          0.12795148620157915,
          0.18943369006712302,
          0.2509158939326669,
          0.34718092459719213,
          0.4434459552617174,
          0.5397109859262427,
          0.6359760165907679,
          0.7041455377022247,
          0.7723150588136813,
          0.840484579925138,
          0.9086541010365947,
          0.9314905757774461,
          0.9543270505182974,
          0.9771635252591487,
          1,
          0.9757966088063362,
          0.9515932176126726,
          0.9273898264190088,
          0.903186435225345,
          0.8299145718250748,
          0.7566427084248044,
          0.683370845024534,
          0.6100989816242638,
          0.5509658320127303,
          0.4918326824011969,
          0.43269953278966344,
          0.37356638317813,
          0.28988665656142054,
          0.20620692994471113,
          0.12252720332800168,
          0.038847476711292246,
          0.029124569453323694,
          0.019401662195355142,
          0.009678754937386593,
          -0.00004415232058195713,
          -0.00003311424043646785,
          -0.000022076160290978566,
          -0.000011038080145489283,
          0,
          0,
          0,
          0,
          0,
          0,
          0,
          0,
          0,
          0,
          0,
          0,
          0,
          0,
          0,
          0,
          0,
          0,
          0,
          0,
          0,
          0,
          0,
          0,
          0,
          0,
          0,
          0,
          0,
          1.8230884555342422e-17,
          3.6461769110684845e-17,
          5.469265366602727e-17,
          7.29235382213697e-17,
          7.292397556491973e-17,
          7.292441290846978e-17,
          7.292485025201983e-17,
          7.292528759556988e-17,
          7.292441290846978e-17,
          7.29235382213697e-17,
          7.292266353426961e-17,
          7.292178884716953e-17,
          7.292230363697322e-17,
          7.292281842677692e-17,
          7.292333321658061e-17,
          7.292384800638432e-17,
          7.292449946604739e-17,
          7.292515092571048e-17,
          7.292580238537357e-17,
          7.292645384503666e-17,
          -5.469126874478546e-17,
          -1.8230899133460758e-16,
          -3.099267139244297e-16,
          -4.375444365142518e-16,
          0.00016085232033542644,
          0.0003217046406712904,
          0.0004825569610071544,
          0.0006434092813430184,
          0.003534713389991375,
          0.006426017498639731,
          0.009317321607288088,
          0.012208625715936443,
          0.04172626873037047,
          0.07124391174480452,
          0.10076155475923855,
          0.13027919777367258,
          0.1587255767089123,
          0.18717195564415198,
          0.2156183345793917,
          0.2440647135146314,
          0.2804614902310939,
          0.3168582669475564,
          0.3532550436640189,
          0.3896518203804814,
          0.35080037365337474,
          0.3119489269262681,
          0.2730974801991614,
          0.23424603347205478,
          0.35335122678617886,
          0.4724564201003029,
          0.5915616134144269,
          0.7106668067285511,
          0.6015209161360319,
          0.4923750255435126,
          0.38322913495099337,
          0.27408324435847414,
          0.2108873426458073,
          0.14769144093314043,
          0.08449553922047355,
          0.02129963750780667,
          0.015953657297566124,
          0.010607677087325575,
          0.005261696877085028,
          -0.00008428333315552039,
          -0.0000632124998666403,
          -0.000042141666577760195,
          -0.000021070833288880097,
          0,
          0,
          0,
          0,
          0,
          0,
          0,
          0,
          0,
          0,
          0,
          0,
          0,
          0,
          0,
          0,
          0,
          0,
          0,
          0,
          0,
          0,
          0,
          null,
          null,
          null,
          null
         ],
         "yaxis": "y"
        },
        {
         "hovertemplate": "variable=forecast<br>index=%{x}<br>value=%{y}<extra></extra>",
         "legendgroup": "forecast",
         "line": {
          "color": "#EF553B",
          "dash": "solid"
         },
         "marker": {
          "symbol": "circle"
         },
         "mode": "lines",
         "name": "forecast",
         "orientation": "v",
         "showlegend": true,
         "type": "scatter",
         "x": [
          "2023-12-30T00:15:00+00:00",
          "2023-12-30T00:30:00+00:00",
          "2023-12-30T00:45:00+00:00",
          "2023-12-30T01:00:00+00:00",
          "2023-12-30T01:15:00+00:00",
          "2023-12-30T01:30:00+00:00",
          "2023-12-30T01:45:00+00:00",
          "2023-12-30T02:00:00+00:00",
          "2023-12-30T02:15:00+00:00",
          "2023-12-30T02:30:00+00:00",
          "2023-12-30T02:45:00+00:00",
          "2023-12-30T03:00:00+00:00",
          "2023-12-30T03:15:00+00:00",
          "2023-12-30T03:30:00+00:00",
          "2023-12-30T03:45:00+00:00",
          "2023-12-30T04:00:00+00:00",
          "2023-12-30T04:15:00+00:00",
          "2023-12-30T04:30:00+00:00",
          "2023-12-30T04:45:00+00:00",
          "2023-12-30T05:00:00+00:00",
          "2023-12-30T05:15:00+00:00",
          "2023-12-30T05:30:00+00:00",
          "2023-12-30T05:45:00+00:00",
          "2023-12-30T06:00:00+00:00",
          "2023-12-30T06:15:00+00:00",
          "2023-12-30T06:30:00+00:00",
          "2023-12-30T06:45:00+00:00",
          "2023-12-30T07:00:00+00:00",
          "2023-12-30T07:15:00+00:00",
          "2023-12-30T07:30:00+00:00",
          "2023-12-30T07:45:00+00:00",
          "2023-12-30T08:00:00+00:00",
          "2023-12-30T08:15:00+00:00",
          "2023-12-30T08:30:00+00:00",
          "2023-12-30T08:45:00+00:00",
          "2023-12-30T09:00:00+00:00",
          "2023-12-30T09:15:00+00:00",
          "2023-12-30T09:30:00+00:00",
          "2023-12-30T09:45:00+00:00",
          "2023-12-30T10:00:00+00:00",
          "2023-12-30T10:15:00+00:00",
          "2023-12-30T10:30:00+00:00",
          "2023-12-30T10:45:00+00:00",
          "2023-12-30T11:00:00+00:00",
          "2023-12-30T11:15:00+00:00",
          "2023-12-30T11:30:00+00:00",
          "2023-12-30T11:45:00+00:00",
          "2023-12-30T12:00:00+00:00",
          "2023-12-30T12:15:00+00:00",
          "2023-12-30T12:30:00+00:00",
          "2023-12-30T12:45:00+00:00",
          "2023-12-30T13:00:00+00:00",
          "2023-12-30T13:15:00+00:00",
          "2023-12-30T13:30:00+00:00",
          "2023-12-30T13:45:00+00:00",
          "2023-12-30T14:00:00+00:00",
          "2023-12-30T14:15:00+00:00",
          "2023-12-30T14:30:00+00:00",
          "2023-12-30T14:45:00+00:00",
          "2023-12-30T15:00:00+00:00",
          "2023-12-30T15:15:00+00:00",
          "2023-12-30T15:30:00+00:00",
          "2023-12-30T15:45:00+00:00",
          "2023-12-30T16:00:00+00:00",
          "2023-12-30T16:15:00+00:00",
          "2023-12-30T16:30:00+00:00",
          "2023-12-30T16:45:00+00:00",
          "2023-12-30T17:00:00+00:00",
          "2023-12-30T17:15:00+00:00",
          "2023-12-30T17:30:00+00:00",
          "2023-12-30T17:45:00+00:00",
          "2023-12-30T18:00:00+00:00",
          "2023-12-30T18:15:00+00:00",
          "2023-12-30T18:30:00+00:00",
          "2023-12-30T18:45:00+00:00",
          "2023-12-30T19:00:00+00:00",
          "2023-12-30T19:15:00+00:00",
          "2023-12-30T19:30:00+00:00",
          "2023-12-30T19:45:00+00:00",
          "2023-12-30T20:00:00+00:00",
          "2023-12-30T20:15:00+00:00",
          "2023-12-30T20:30:00+00:00",
          "2023-12-30T20:45:00+00:00",
          "2023-12-30T21:00:00+00:00",
          "2023-12-30T21:15:00+00:00",
          "2023-12-30T21:30:00+00:00",
          "2023-12-30T21:45:00+00:00",
          "2023-12-30T22:00:00+00:00",
          "2023-12-30T22:15:00+00:00",
          "2023-12-30T22:30:00+00:00",
          "2023-12-30T22:45:00+00:00",
          "2023-12-30T23:00:00+00:00",
          "2023-12-30T23:15:00+00:00",
          "2023-12-30T23:30:00+00:00",
          "2023-12-30T23:45:00+00:00",
          "2023-12-31T00:00:00+00:00",
          "2023-12-31T00:15:00+00:00",
          "2023-12-31T00:30:00+00:00",
          "2023-12-31T00:45:00+00:00",
          "2023-12-31T01:00:00+00:00",
          "2023-12-31T01:15:00+00:00",
          "2023-12-31T01:30:00+00:00",
          "2023-12-31T01:45:00+00:00",
          "2023-12-31T02:00:00+00:00",
          "2023-12-31T02:15:00+00:00",
          "2023-12-31T02:30:00+00:00",
          "2023-12-31T02:45:00+00:00",
          "2023-12-31T03:00:00+00:00",
          "2023-12-31T03:15:00+00:00",
          "2023-12-31T03:30:00+00:00",
          "2023-12-31T03:45:00+00:00",
          "2023-12-31T04:00:00+00:00",
          "2023-12-31T04:15:00+00:00",
          "2023-12-31T04:30:00+00:00",
          "2023-12-31T04:45:00+00:00",
          "2023-12-31T05:00:00+00:00",
          "2023-12-31T05:15:00+00:00",
          "2023-12-31T05:30:00+00:00",
          "2023-12-31T05:45:00+00:00",
          "2023-12-31T06:00:00+00:00",
          "2023-12-31T06:15:00+00:00",
          "2023-12-31T06:30:00+00:00",
          "2023-12-31T06:45:00+00:00",
          "2023-12-31T07:00:00+00:00",
          "2023-12-31T07:15:00+00:00",
          "2023-12-31T07:30:00+00:00",
          "2023-12-31T07:45:00+00:00",
          "2023-12-31T08:00:00+00:00",
          "2023-12-31T08:15:00+00:00",
          "2023-12-31T08:30:00+00:00",
          "2023-12-31T08:45:00+00:00",
          "2023-12-31T09:00:00+00:00",
          "2023-12-31T09:15:00+00:00",
          "2023-12-31T09:30:00+00:00",
          "2023-12-31T09:45:00+00:00",
          "2023-12-31T10:00:00+00:00",
          "2023-12-31T10:15:00+00:00",
          "2023-12-31T10:30:00+00:00",
          "2023-12-31T10:45:00+00:00",
          "2023-12-31T11:00:00+00:00",
          "2023-12-31T11:15:00+00:00",
          "2023-12-31T11:30:00+00:00",
          "2023-12-31T11:45:00+00:00",
          "2023-12-31T12:00:00+00:00",
          "2023-12-31T12:15:00+00:00",
          "2023-12-31T12:30:00+00:00",
          "2023-12-31T12:45:00+00:00",
          "2023-12-31T13:00:00+00:00",
          "2023-12-31T13:15:00+00:00",
          "2023-12-31T13:30:00+00:00",
          "2023-12-31T13:45:00+00:00",
          "2023-12-31T14:00:00+00:00",
          "2023-12-31T14:15:00+00:00",
          "2023-12-31T14:30:00+00:00",
          "2023-12-31T14:45:00+00:00",
          "2023-12-31T15:00:00+00:00",
          "2023-12-31T15:15:00+00:00",
          "2023-12-31T15:30:00+00:00",
          "2023-12-31T15:45:00+00:00",
          "2023-12-31T16:00:00+00:00",
          "2023-12-31T16:15:00+00:00",
          "2023-12-31T16:30:00+00:00",
          "2023-12-31T16:45:00+00:00",
          "2023-12-31T17:00:00+00:00",
          "2023-12-31T17:15:00+00:00",
          "2023-12-31T17:30:00+00:00",
          "2023-12-31T17:45:00+00:00",
          "2023-12-31T18:00:00+00:00",
          "2023-12-31T18:15:00+00:00",
          "2023-12-31T18:30:00+00:00",
          "2023-12-31T18:45:00+00:00",
          "2023-12-31T19:00:00+00:00",
          "2023-12-31T19:15:00+00:00",
          "2023-12-31T19:30:00+00:00",
          "2023-12-31T19:45:00+00:00",
          "2023-12-31T20:00:00+00:00",
          "2023-12-31T20:15:00+00:00",
          "2023-12-31T20:30:00+00:00",
          "2023-12-31T20:45:00+00:00",
          "2023-12-31T21:00:00+00:00",
          "2023-12-31T21:15:00+00:00",
          "2023-12-31T21:30:00+00:00",
          "2023-12-31T21:45:00+00:00",
          "2023-12-31T22:00:00+00:00",
          "2023-12-31T22:15:00+00:00",
          "2023-12-31T22:30:00+00:00",
          "2023-12-31T22:45:00+00:00",
          "2023-12-31T23:00:00+00:00",
          "2023-12-31T23:15:00+00:00",
          "2023-12-31T23:30:00+00:00",
          "2023-12-31T23:45:00+00:00",
          "2024-01-01T00:00:00+00:00"
         ],
         "xaxis": "x",
         "y": [
          0.5890951752662659,
          0.5067882537841797,
          0.5067882537841797,
          0.5092481970787048,
          0.4994010329246521,
          0.5067882537841797,
          0.4838663637638092,
          0.4994010329246521,
          0.47918030619621277,
          0.4714934825897217,
          0.4874627888202667,
          0.47774097323417664,
          0.5167701244354248,
          0.5158748626708984,
          0.5158748626708984,
          0.5428996682167053,
          0.5043074488639832,
          0.5186855792999268,
          0.5186855792999268,
          0.5186855792999268,
          0.5186855792999268,
          0.5227990746498108,
          0.5372615456581116,
          0.5456225275993347,
          0.6492853164672852,
          0.6651970148086548,
          0.6906706690788269,
          0.7614094018936157,
          0.7643954753875732,
          0.7687650322914124,
          0.7870977520942688,
          0.8048163652420044,
          0.8583039045333862,
          0.8611243963241577,
          0.8258390426635742,
          0.7790029644966125,
          0.7703267335891724,
          0.7531388401985168,
          0.7673346996307373,
          0.6088411808013916,
          0.5435365438461304,
          0.5141712427139282,
          0.5465743541717529,
          0.5403308868408203,
          0.49907514452934265,
          0.49907514452934265,
          0.49907514452934265,
          0.7137889266014099,
          0.5585412383079529,
          0.5585412383079529,
          0.5260029435157776,
          0.5595155954360962,
          0.5562912225723267,
          0.6037904620170593,
          0.7301195859909058,
          0.8576063513755798,
          0.8675066232681274,
          0.8689309358596802,
          0.9658768773078918,
          0.9658768773078918,
          0.9735469222068787,
          0.9669297933578491,
          0.9728650450706482,
          0.9772550463676453,
          0.9824948310852051,
          0.9585115909576416,
          0.9701719284057617,
          0.9701719284057617,
          0.9701719284057617,
          0.9701719284057617,
          0.9701719284057617,
          0.9649321436882019,
          0.9673921465873718,
          0.9726319313049316,
          0.9644919037818909,
          0.9635967016220093,
          1,
          0.9855285882949829,
          0.9228749871253967,
          0.9228749871253967,
          0.9120816588401794,
          0.9021880030632019,
          0.855498194694519,
          0.8208951354026794,
          0.8139042854309082,
          0.811942994594574,
          0.7784916162490845,
          0.7325850129127502,
          0.6800186038017273,
          0.6572567820549011,
          0.6411750912666321,
          0.5926986932754517,
          0.5811923742294312,
          0.5811923742294312,
          0.5770788788795471,
          0.5304206013679504,
          0.5304206013679504,
          0.516715407371521,
          0.516715407371521,
          0.516715407371521,
          0.502123236656189,
          0.4947360157966614,
          0.4947360157966614,
          0.4947360157966614,
          0.4947360157966614,
          0.4947360157966614,
          0.4947360157966614,
          0.48342564702033997,
          0.48342564702033997,
          0.4972110688686371,
          0.4972110688686371,
          0.5070236921310425,
          0.4972110688686371,
          0.4972110688686371,
          0.507045328617096,
          0.516857922077179,
          0.5349937677383423,
          0.5461307168006897,
          0.5461307168006897,
          0.5800976157188416,
          0.612934410572052,
          0.6579117178916931,
          0.7274415493011475,
          0.7530728578567505,
          0.7530728578567505,
          0.7787083387374878,
          0.8305794596672058,
          0.8571751713752747,
          0.8325359225273132,
          0.8887947797775269,
          0.897176206111908,
          0.9020530581474304,
          0.9020530581474304,
          0.9066974520683289,
          0.9366213083267212,
          0.9132499694824219,
          0.7701926231384277,
          0.722862958908081,
          0.7266473770141602,
          0.7266473770141602,
          0.7697181701660156,
          0.8095107078552246,
          0.9313767552375793,
          0.8622788786888123,
          0.895750880241394,
          0.8218379616737366,
          0.9426928758621216,
          0.9403444528579712,
          0.9187594652175903,
          0.8894603252410889,
          0.8674004077911377,
          0.9189778566360474,
          0.892288327217102,
          0.9020476341247559,
          0.9734575748443604,
          0.9734575748443604,
          0.9757521152496338,
          0.962493896484375,
          0.9632202982902527,
          0.927593469619751,
          0.9321556091308594,
          0.9638825058937073,
          0.9267529249191284,
          0.9285171031951904,
          0.9345821142196655,
          0.9638825058937073,
          0.9593204855918884,
          0.9519836902618408,
          0.9519836902618408,
          0.9525102972984314,
          0.9525102972984314,
          0.9525102972984314,
          0.9525102972984314,
          0.9401615262031555,
          0.918554425239563,
          0.8673657178878784,
          0.8223361968994141,
          0.8223361968994141,
          0.7922577261924744,
          0.7730100154876709,
          0.7716750502586365,
          0.7722935080528259,
          0.7456109523773193,
          0.7451462149620056,
          0.7094863057136536,
          0.7004399299621582,
          0.6506232619285583,
          0.6200256943702698,
          0.48209238052368164,
          0.48209238052368164,
          0.452960342168808,
          -0.20023788511753082
         ],
         "yaxis": "y"
        }
       ],
       "layout": {
        "legend": {
         "title": {
          "text": "variable"
         },
         "tracegroupgap": 0
        },
        "margin": {
         "t": 60
        },
        "template": {
         "data": {
          "bar": [
           {
            "error_x": {
             "color": "#2a3f5f"
            },
            "error_y": {
             "color": "#2a3f5f"
            },
            "marker": {
             "line": {
              "color": "#E5ECF6",
              "width": 0.5
             },
             "pattern": {
              "fillmode": "overlay",
              "size": 10,
              "solidity": 0.2
             }
            },
            "type": "bar"
           }
          ],
          "barpolar": [
           {
            "marker": {
             "line": {
              "color": "#E5ECF6",
              "width": 0.5
             },
             "pattern": {
              "fillmode": "overlay",
              "size": 10,
              "solidity": 0.2
             }
            },
            "type": "barpolar"
           }
          ],
          "carpet": [
           {
            "aaxis": {
             "endlinecolor": "#2a3f5f",
             "gridcolor": "white",
             "linecolor": "white",
             "minorgridcolor": "white",
             "startlinecolor": "#2a3f5f"
            },
            "baxis": {
             "endlinecolor": "#2a3f5f",
             "gridcolor": "white",
             "linecolor": "white",
             "minorgridcolor": "white",
             "startlinecolor": "#2a3f5f"
            },
            "type": "carpet"
           }
          ],
          "choropleth": [
           {
            "colorbar": {
             "outlinewidth": 0,
             "ticks": ""
            },
            "type": "choropleth"
           }
          ],
          "contour": [
           {
            "colorbar": {
             "outlinewidth": 0,
             "ticks": ""
            },
            "colorscale": [
             [
              0,
              "#0d0887"
             ],
             [
              0.1111111111111111,
              "#46039f"
             ],
             [
              0.2222222222222222,
              "#7201a8"
             ],
             [
              0.3333333333333333,
              "#9c179e"
             ],
             [
              0.4444444444444444,
              "#bd3786"
             ],
             [
              0.5555555555555556,
              "#d8576b"
             ],
             [
              0.6666666666666666,
              "#ed7953"
             ],
             [
              0.7777777777777778,
              "#fb9f3a"
             ],
             [
              0.8888888888888888,
              "#fdca26"
             ],
             [
              1,
              "#f0f921"
             ]
            ],
            "type": "contour"
           }
          ],
          "contourcarpet": [
           {
            "colorbar": {
             "outlinewidth": 0,
             "ticks": ""
            },
            "type": "contourcarpet"
           }
          ],
          "heatmap": [
           {
            "colorbar": {
             "outlinewidth": 0,
             "ticks": ""
            },
            "colorscale": [
             [
              0,
              "#0d0887"
             ],
             [
              0.1111111111111111,
              "#46039f"
             ],
             [
              0.2222222222222222,
              "#7201a8"
             ],
             [
              0.3333333333333333,
              "#9c179e"
             ],
             [
              0.4444444444444444,
              "#bd3786"
             ],
             [
              0.5555555555555556,
              "#d8576b"
             ],
             [
              0.6666666666666666,
              "#ed7953"
             ],
             [
              0.7777777777777778,
              "#fb9f3a"
             ],
             [
              0.8888888888888888,
              "#fdca26"
             ],
             [
              1,
              "#f0f921"
             ]
            ],
            "type": "heatmap"
           }
          ],
          "heatmapgl": [
           {
            "colorbar": {
             "outlinewidth": 0,
             "ticks": ""
            },
            "colorscale": [
             [
              0,
              "#0d0887"
             ],
             [
              0.1111111111111111,
              "#46039f"
             ],
             [
              0.2222222222222222,
              "#7201a8"
             ],
             [
              0.3333333333333333,
              "#9c179e"
             ],
             [
              0.4444444444444444,
              "#bd3786"
             ],
             [
              0.5555555555555556,
              "#d8576b"
             ],
             [
              0.6666666666666666,
              "#ed7953"
             ],
             [
              0.7777777777777778,
              "#fb9f3a"
             ],
             [
              0.8888888888888888,
              "#fdca26"
             ],
             [
              1,
              "#f0f921"
             ]
            ],
            "type": "heatmapgl"
           }
          ],
          "histogram": [
           {
            "marker": {
             "pattern": {
              "fillmode": "overlay",
              "size": 10,
              "solidity": 0.2
             }
            },
            "type": "histogram"
           }
          ],
          "histogram2d": [
           {
            "colorbar": {
             "outlinewidth": 0,
             "ticks": ""
            },
            "colorscale": [
             [
              0,
              "#0d0887"
             ],
             [
              0.1111111111111111,
              "#46039f"
             ],
             [
              0.2222222222222222,
              "#7201a8"
             ],
             [
              0.3333333333333333,
              "#9c179e"
             ],
             [
              0.4444444444444444,
              "#bd3786"
             ],
             [
              0.5555555555555556,
              "#d8576b"
             ],
             [
              0.6666666666666666,
              "#ed7953"
             ],
             [
              0.7777777777777778,
              "#fb9f3a"
             ],
             [
              0.8888888888888888,
              "#fdca26"
             ],
             [
              1,
              "#f0f921"
             ]
            ],
            "type": "histogram2d"
           }
          ],
          "histogram2dcontour": [
           {
            "colorbar": {
             "outlinewidth": 0,
             "ticks": ""
            },
            "colorscale": [
             [
              0,
              "#0d0887"
             ],
             [
              0.1111111111111111,
              "#46039f"
             ],
             [
              0.2222222222222222,
              "#7201a8"
             ],
             [
              0.3333333333333333,
              "#9c179e"
             ],
             [
              0.4444444444444444,
              "#bd3786"
             ],
             [
              0.5555555555555556,
              "#d8576b"
             ],
             [
              0.6666666666666666,
              "#ed7953"
             ],
             [
              0.7777777777777778,
              "#fb9f3a"
             ],
             [
              0.8888888888888888,
              "#fdca26"
             ],
             [
              1,
              "#f0f921"
             ]
            ],
            "type": "histogram2dcontour"
           }
          ],
          "mesh3d": [
           {
            "colorbar": {
             "outlinewidth": 0,
             "ticks": ""
            },
            "type": "mesh3d"
           }
          ],
          "parcoords": [
           {
            "line": {
             "colorbar": {
              "outlinewidth": 0,
              "ticks": ""
             }
            },
            "type": "parcoords"
           }
          ],
          "pie": [
           {
            "automargin": true,
            "type": "pie"
           }
          ],
          "scatter": [
           {
            "fillpattern": {
             "fillmode": "overlay",
             "size": 10,
             "solidity": 0.2
            },
            "type": "scatter"
           }
          ],
          "scatter3d": [
           {
            "line": {
             "colorbar": {
              "outlinewidth": 0,
              "ticks": ""
             }
            },
            "marker": {
             "colorbar": {
              "outlinewidth": 0,
              "ticks": ""
             }
            },
            "type": "scatter3d"
           }
          ],
          "scattercarpet": [
           {
            "marker": {
             "colorbar": {
              "outlinewidth": 0,
              "ticks": ""
             }
            },
            "type": "scattercarpet"
           }
          ],
          "scattergeo": [
           {
            "marker": {
             "colorbar": {
              "outlinewidth": 0,
              "ticks": ""
             }
            },
            "type": "scattergeo"
           }
          ],
          "scattergl": [
           {
            "marker": {
             "colorbar": {
              "outlinewidth": 0,
              "ticks": ""
             }
            },
            "type": "scattergl"
           }
          ],
          "scattermapbox": [
           {
            "marker": {
             "colorbar": {
              "outlinewidth": 0,
              "ticks": ""
             }
            },
            "type": "scattermapbox"
           }
          ],
          "scatterpolar": [
           {
            "marker": {
             "colorbar": {
              "outlinewidth": 0,
              "ticks": ""
             }
            },
            "type": "scatterpolar"
           }
          ],
          "scatterpolargl": [
           {
            "marker": {
             "colorbar": {
              "outlinewidth": 0,
              "ticks": ""
             }
            },
            "type": "scatterpolargl"
           }
          ],
          "scatterternary": [
           {
            "marker": {
             "colorbar": {
              "outlinewidth": 0,
              "ticks": ""
             }
            },
            "type": "scatterternary"
           }
          ],
          "surface": [
           {
            "colorbar": {
             "outlinewidth": 0,
             "ticks": ""
            },
            "colorscale": [
             [
              0,
              "#0d0887"
             ],
             [
              0.1111111111111111,
              "#46039f"
             ],
             [
              0.2222222222222222,
              "#7201a8"
             ],
             [
              0.3333333333333333,
              "#9c179e"
             ],
             [
              0.4444444444444444,
              "#bd3786"
             ],
             [
              0.5555555555555556,
              "#d8576b"
             ],
             [
              0.6666666666666666,
              "#ed7953"
             ],
             [
              0.7777777777777778,
              "#fb9f3a"
             ],
             [
              0.8888888888888888,
              "#fdca26"
             ],
             [
              1,
              "#f0f921"
             ]
            ],
            "type": "surface"
           }
          ],
          "table": [
           {
            "cells": {
             "fill": {
              "color": "#EBF0F8"
             },
             "line": {
              "color": "white"
             }
            },
            "header": {
             "fill": {
              "color": "#C8D4E3"
             },
             "line": {
              "color": "white"
             }
            },
            "type": "table"
           }
          ]
         },
         "layout": {
          "annotationdefaults": {
           "arrowcolor": "#2a3f5f",
           "arrowhead": 0,
           "arrowwidth": 1
          },
          "autotypenumbers": "strict",
          "coloraxis": {
           "colorbar": {
            "outlinewidth": 0,
            "ticks": ""
           }
          },
          "colorscale": {
           "diverging": [
            [
             0,
             "#8e0152"
            ],
            [
             0.1,
             "#c51b7d"
            ],
            [
             0.2,
             "#de77ae"
            ],
            [
             0.3,
             "#f1b6da"
            ],
            [
             0.4,
             "#fde0ef"
            ],
            [
             0.5,
             "#f7f7f7"
            ],
            [
             0.6,
             "#e6f5d0"
            ],
            [
             0.7,
             "#b8e186"
            ],
            [
             0.8,
             "#7fbc41"
            ],
            [
             0.9,
             "#4d9221"
            ],
            [
             1,
             "#276419"
            ]
           ],
           "sequential": [
            [
             0,
             "#0d0887"
            ],
            [
             0.1111111111111111,
             "#46039f"
            ],
            [
             0.2222222222222222,
             "#7201a8"
            ],
            [
             0.3333333333333333,
             "#9c179e"
            ],
            [
             0.4444444444444444,
             "#bd3786"
            ],
            [
             0.5555555555555556,
             "#d8576b"
            ],
            [
             0.6666666666666666,
             "#ed7953"
            ],
            [
             0.7777777777777778,
             "#fb9f3a"
            ],
            [
             0.8888888888888888,
             "#fdca26"
            ],
            [
             1,
             "#f0f921"
            ]
           ],
           "sequentialminus": [
            [
             0,
             "#0d0887"
            ],
            [
             0.1111111111111111,
             "#46039f"
            ],
            [
             0.2222222222222222,
             "#7201a8"
            ],
            [
             0.3333333333333333,
             "#9c179e"
            ],
            [
             0.4444444444444444,
             "#bd3786"
            ],
            [
             0.5555555555555556,
             "#d8576b"
            ],
            [
             0.6666666666666666,
             "#ed7953"
            ],
            [
             0.7777777777777778,
             "#fb9f3a"
            ],
            [
             0.8888888888888888,
             "#fdca26"
            ],
            [
             1,
             "#f0f921"
            ]
           ]
          },
          "colorway": [
           "#636efa",
           "#EF553B",
           "#00cc96",
           "#ab63fa",
           "#FFA15A",
           "#19d3f3",
           "#FF6692",
           "#B6E880",
           "#FF97FF",
           "#FECB52"
          ],
          "font": {
           "color": "#2a3f5f"
          },
          "geo": {
           "bgcolor": "white",
           "lakecolor": "white",
           "landcolor": "#E5ECF6",
           "showlakes": true,
           "showland": true,
           "subunitcolor": "white"
          },
          "hoverlabel": {
           "align": "left"
          },
          "hovermode": "closest",
          "mapbox": {
           "style": "light"
          },
          "paper_bgcolor": "white",
          "plot_bgcolor": "#E5ECF6",
          "polar": {
           "angularaxis": {
            "gridcolor": "white",
            "linecolor": "white",
            "ticks": ""
           },
           "bgcolor": "#E5ECF6",
           "radialaxis": {
            "gridcolor": "white",
            "linecolor": "white",
            "ticks": ""
           }
          },
          "scene": {
           "xaxis": {
            "backgroundcolor": "#E5ECF6",
            "gridcolor": "white",
            "gridwidth": 2,
            "linecolor": "white",
            "showbackground": true,
            "ticks": "",
            "zerolinecolor": "white"
           },
           "yaxis": {
            "backgroundcolor": "#E5ECF6",
            "gridcolor": "white",
            "gridwidth": 2,
            "linecolor": "white",
            "showbackground": true,
            "ticks": "",
            "zerolinecolor": "white"
           },
           "zaxis": {
            "backgroundcolor": "#E5ECF6",
            "gridcolor": "white",
            "gridwidth": 2,
            "linecolor": "white",
            "showbackground": true,
            "ticks": "",
            "zerolinecolor": "white"
           }
          },
          "shapedefaults": {
           "line": {
            "color": "#2a3f5f"
           }
          },
          "ternary": {
           "aaxis": {
            "gridcolor": "white",
            "linecolor": "white",
            "ticks": ""
           },
           "baxis": {
            "gridcolor": "white",
            "linecolor": "white",
            "ticks": ""
           },
           "bgcolor": "#E5ECF6",
           "caxis": {
            "gridcolor": "white",
            "linecolor": "white",
            "ticks": ""
           }
          },
          "title": {
           "x": 0.05
          },
          "xaxis": {
           "automargin": true,
           "gridcolor": "white",
           "linecolor": "white",
           "ticks": "",
           "title": {
            "standoff": 15
           },
           "zerolinecolor": "white",
           "zerolinewidth": 2
          },
          "yaxis": {
           "automargin": true,
           "gridcolor": "white",
           "linecolor": "white",
           "ticks": "",
           "title": {
            "standoff": 15
           },
           "zerolinecolor": "white",
           "zerolinewidth": 2
          }
         }
        },
        "xaxis": {
         "anchor": "y",
         "domain": [
          0,
          1
         ],
         "title": {
          "text": "Timestamp"
         }
        },
        "yaxis": {
         "anchor": "x",
         "domain": [
          0,
          1
         ],
         "title": {
          "text": "Normalized values"
         }
        }
       }
      }
     },
     "metadata": {},
     "output_type": "display_data"
    },
    {
     "data": {
      "text/plain": [
       "None"
      ]
     },
     "metadata": {},
     "output_type": "display_data"
    }
   ],
   "source": [
    "# Look at the normalized plots of both the radiation and forecast, do you recognize any paterns?\n",
    "\n",
    "fig_forecast_radiation=pd.concat(\n",
    "    [\n",
    "        test_data[\"radiation\"]/max(test_data[\"radiation\"]),\n",
    "        forecast[\"forecast\"]/max(forecast[\"forecast\"])\n",
    "    ], axis=1).plot()\n",
    "fig_forecast_radiation.update_layout(\n",
    "    xaxis_title='Timestamp',\n",
    "    yaxis_title=\"Normalized values\"\n",
    ")\n",
    "display(fig_forecast_radiation.show())"
   ]
  },
  {
   "cell_type": "code",
   "execution_count": 13,
   "id": "d59f2717",
   "metadata": {},
   "outputs": [
    {
     "data": {
      "application/vnd.plotly.v1+json": {
       "config": {
        "plotlyServerURL": "https://plot.ly"
       },
       "data": [
        {
         "hovertemplate": "variable=windspeed<br>index=%{x}<br>value=%{y}<extra></extra>",
         "legendgroup": "windspeed",
         "line": {
          "color": "#636efa",
          "dash": "solid"
         },
         "marker": {
          "symbol": "circle"
         },
         "mode": "lines",
         "name": "windspeed",
         "orientation": "v",
         "showlegend": true,
         "type": "scatter",
         "x": [
          "2023-12-30T00:15:00+00:00",
          "2023-12-30T00:30:00+00:00",
          "2023-12-30T00:45:00+00:00",
          "2023-12-30T01:00:00+00:00",
          "2023-12-30T01:15:00+00:00",
          "2023-12-30T01:30:00+00:00",
          "2023-12-30T01:45:00+00:00",
          "2023-12-30T02:00:00+00:00",
          "2023-12-30T02:15:00+00:00",
          "2023-12-30T02:30:00+00:00",
          "2023-12-30T02:45:00+00:00",
          "2023-12-30T03:00:00+00:00",
          "2023-12-30T03:15:00+00:00",
          "2023-12-30T03:30:00+00:00",
          "2023-12-30T03:45:00+00:00",
          "2023-12-30T04:00:00+00:00",
          "2023-12-30T04:15:00+00:00",
          "2023-12-30T04:30:00+00:00",
          "2023-12-30T04:45:00+00:00",
          "2023-12-30T05:00:00+00:00",
          "2023-12-30T05:15:00+00:00",
          "2023-12-30T05:30:00+00:00",
          "2023-12-30T05:45:00+00:00",
          "2023-12-30T06:00:00+00:00",
          "2023-12-30T06:15:00+00:00",
          "2023-12-30T06:30:00+00:00",
          "2023-12-30T06:45:00+00:00",
          "2023-12-30T07:00:00+00:00",
          "2023-12-30T07:15:00+00:00",
          "2023-12-30T07:30:00+00:00",
          "2023-12-30T07:45:00+00:00",
          "2023-12-30T08:00:00+00:00",
          "2023-12-30T08:15:00+00:00",
          "2023-12-30T08:30:00+00:00",
          "2023-12-30T08:45:00+00:00",
          "2023-12-30T09:00:00+00:00",
          "2023-12-30T09:15:00+00:00",
          "2023-12-30T09:30:00+00:00",
          "2023-12-30T09:45:00+00:00",
          "2023-12-30T10:00:00+00:00",
          "2023-12-30T10:15:00+00:00",
          "2023-12-30T10:30:00+00:00",
          "2023-12-30T10:45:00+00:00",
          "2023-12-30T11:00:00+00:00",
          "2023-12-30T11:15:00+00:00",
          "2023-12-30T11:30:00+00:00",
          "2023-12-30T11:45:00+00:00",
          "2023-12-30T12:00:00+00:00",
          "2023-12-30T12:15:00+00:00",
          "2023-12-30T12:30:00+00:00",
          "2023-12-30T12:45:00+00:00",
          "2023-12-30T13:00:00+00:00",
          "2023-12-30T13:15:00+00:00",
          "2023-12-30T13:30:00+00:00",
          "2023-12-30T13:45:00+00:00",
          "2023-12-30T14:00:00+00:00",
          "2023-12-30T14:15:00+00:00",
          "2023-12-30T14:30:00+00:00",
          "2023-12-30T14:45:00+00:00",
          "2023-12-30T15:00:00+00:00",
          "2023-12-30T15:15:00+00:00",
          "2023-12-30T15:30:00+00:00",
          "2023-12-30T15:45:00+00:00",
          "2023-12-30T16:00:00+00:00",
          "2023-12-30T16:15:00+00:00",
          "2023-12-30T16:30:00+00:00",
          "2023-12-30T16:45:00+00:00",
          "2023-12-30T17:00:00+00:00",
          "2023-12-30T17:15:00+00:00",
          "2023-12-30T17:30:00+00:00",
          "2023-12-30T17:45:00+00:00",
          "2023-12-30T18:00:00+00:00",
          "2023-12-30T18:15:00+00:00",
          "2023-12-30T18:30:00+00:00",
          "2023-12-30T18:45:00+00:00",
          "2023-12-30T19:00:00+00:00",
          "2023-12-30T19:15:00+00:00",
          "2023-12-30T19:30:00+00:00",
          "2023-12-30T19:45:00+00:00",
          "2023-12-30T20:00:00+00:00",
          "2023-12-30T20:15:00+00:00",
          "2023-12-30T20:30:00+00:00",
          "2023-12-30T20:45:00+00:00",
          "2023-12-30T21:00:00+00:00",
          "2023-12-30T21:15:00+00:00",
          "2023-12-30T21:30:00+00:00",
          "2023-12-30T21:45:00+00:00",
          "2023-12-30T22:00:00+00:00",
          "2023-12-30T22:15:00+00:00",
          "2023-12-30T22:30:00+00:00",
          "2023-12-30T22:45:00+00:00",
          "2023-12-30T23:00:00+00:00",
          "2023-12-30T23:15:00+00:00",
          "2023-12-30T23:30:00+00:00",
          "2023-12-30T23:45:00+00:00",
          "2023-12-31T00:00:00+00:00",
          "2023-12-31T00:15:00+00:00",
          "2023-12-31T00:30:00+00:00",
          "2023-12-31T00:45:00+00:00",
          "2023-12-31T01:00:00+00:00",
          "2023-12-31T01:15:00+00:00",
          "2023-12-31T01:30:00+00:00",
          "2023-12-31T01:45:00+00:00",
          "2023-12-31T02:00:00+00:00",
          "2023-12-31T02:15:00+00:00",
          "2023-12-31T02:30:00+00:00",
          "2023-12-31T02:45:00+00:00",
          "2023-12-31T03:00:00+00:00",
          "2023-12-31T03:15:00+00:00",
          "2023-12-31T03:30:00+00:00",
          "2023-12-31T03:45:00+00:00",
          "2023-12-31T04:00:00+00:00",
          "2023-12-31T04:15:00+00:00",
          "2023-12-31T04:30:00+00:00",
          "2023-12-31T04:45:00+00:00",
          "2023-12-31T05:00:00+00:00",
          "2023-12-31T05:15:00+00:00",
          "2023-12-31T05:30:00+00:00",
          "2023-12-31T05:45:00+00:00",
          "2023-12-31T06:00:00+00:00",
          "2023-12-31T06:15:00+00:00",
          "2023-12-31T06:30:00+00:00",
          "2023-12-31T06:45:00+00:00",
          "2023-12-31T07:00:00+00:00",
          "2023-12-31T07:15:00+00:00",
          "2023-12-31T07:30:00+00:00",
          "2023-12-31T07:45:00+00:00",
          "2023-12-31T08:00:00+00:00",
          "2023-12-31T08:15:00+00:00",
          "2023-12-31T08:30:00+00:00",
          "2023-12-31T08:45:00+00:00",
          "2023-12-31T09:00:00+00:00",
          "2023-12-31T09:15:00+00:00",
          "2023-12-31T09:30:00+00:00",
          "2023-12-31T09:45:00+00:00",
          "2023-12-31T10:00:00+00:00",
          "2023-12-31T10:15:00+00:00",
          "2023-12-31T10:30:00+00:00",
          "2023-12-31T10:45:00+00:00",
          "2023-12-31T11:00:00+00:00",
          "2023-12-31T11:15:00+00:00",
          "2023-12-31T11:30:00+00:00",
          "2023-12-31T11:45:00+00:00",
          "2023-12-31T12:00:00+00:00",
          "2023-12-31T12:15:00+00:00",
          "2023-12-31T12:30:00+00:00",
          "2023-12-31T12:45:00+00:00",
          "2023-12-31T13:00:00+00:00",
          "2023-12-31T13:15:00+00:00",
          "2023-12-31T13:30:00+00:00",
          "2023-12-31T13:45:00+00:00",
          "2023-12-31T14:00:00+00:00",
          "2023-12-31T14:15:00+00:00",
          "2023-12-31T14:30:00+00:00",
          "2023-12-31T14:45:00+00:00",
          "2023-12-31T15:00:00+00:00",
          "2023-12-31T15:15:00+00:00",
          "2023-12-31T15:30:00+00:00",
          "2023-12-31T15:45:00+00:00",
          "2023-12-31T16:00:00+00:00",
          "2023-12-31T16:15:00+00:00",
          "2023-12-31T16:30:00+00:00",
          "2023-12-31T16:45:00+00:00",
          "2023-12-31T17:00:00+00:00",
          "2023-12-31T17:15:00+00:00",
          "2023-12-31T17:30:00+00:00",
          "2023-12-31T17:45:00+00:00",
          "2023-12-31T18:00:00+00:00",
          "2023-12-31T18:15:00+00:00",
          "2023-12-31T18:30:00+00:00",
          "2023-12-31T18:45:00+00:00",
          "2023-12-31T19:00:00+00:00",
          "2023-12-31T19:15:00+00:00",
          "2023-12-31T19:30:00+00:00",
          "2023-12-31T19:45:00+00:00",
          "2023-12-31T20:00:00+00:00",
          "2023-12-31T20:15:00+00:00",
          "2023-12-31T20:30:00+00:00",
          "2023-12-31T20:45:00+00:00",
          "2023-12-31T21:00:00+00:00",
          "2023-12-31T21:15:00+00:00",
          "2023-12-31T21:30:00+00:00",
          "2023-12-31T21:45:00+00:00",
          "2023-12-31T22:00:00+00:00",
          "2023-12-31T22:15:00+00:00",
          "2023-12-31T22:30:00+00:00",
          "2023-12-31T22:45:00+00:00",
          "2023-12-31T23:00:00+00:00",
          "2023-12-31T23:15:00+00:00",
          "2023-12-31T23:30:00+00:00",
          "2023-12-31T23:45:00+00:00",
          "2024-01-01T00:00:00+00:00"
         ],
         "xaxis": "x",
         "y": [
          1,
          0.9940581389495395,
          0.988116277899079,
          0.9821744168486185,
          0.9770443689507202,
          0.9719143210528223,
          0.9667842731549241,
          0.961654225257026,
          0.9583028684635553,
          0.9549515116700844,
          0.9516001548766139,
          0.9482487980831431,
          0.9444880438735526,
          0.940727289663962,
          0.9369665354543715,
          0.9332057812447807,
          0.9249166644319645,
          0.9166275476191483,
          0.9083384308063323,
          0.9000493139935161,
          0.8968565598855456,
          0.8936638057775752,
          0.8904710516696047,
          0.8872782975616341,
          0.8815526239401043,
          0.8758269503185744,
          0.8701012766970444,
          0.8643756030755144,
          0.8420612327181081,
          0.8197468623607016,
          0.7974324920032951,
          0.7751181216458887,
          0.7632903470751043,
          0.75146257250432,
          0.7396347979335357,
          0.7278070233627514,
          0.7183812665162126,
          0.7089555096696734,
          0.6995297528231343,
          0.6901039959765953,
          0.6774343738576556,
          0.6647647517387159,
          0.652095129619776,
          0.6394255075008363,
          0.660162996815432,
          0.6809004861300276,
          0.7016379754446234,
          0.7223754647592192,
          0.7051588120417979,
          0.6879421593243766,
          0.6707255066069554,
          0.6535088538895342,
          0.6137529304000869,
          0.5739970069106397,
          0.5342410834211924,
          0.49448515993174513,
          0.47886804578363473,
          0.46325093163552433,
          0.44763381748741393,
          0.43201670333930353,
          0.4650797553401146,
          0.4981428073409257,
          0.5312058593417368,
          0.5642689113425479,
          0.5945105931934269,
          0.6247522750443059,
          0.6549939568951849,
          0.685235638746064,
          0.6976398253074597,
          0.7100440118688555,
          0.7224481984302513,
          0.734852384991647,
          0.7406987795704009,
          0.7465451741491549,
          0.7523915687279088,
          0.7582379633066629,
          0.7600230903530028,
          0.7618082173993431,
          0.7635933444456832,
          0.7653784714920235,
          0.7639790493154051,
          0.7625796271387862,
          0.7611802049621677,
          0.759780782785549,
          0.7543017826335893,
          0.7488227824816296,
          0.74334378232967,
          0.7378647821777101,
          0.7460330086664098,
          0.7542012351551095,
          0.7623694616438091,
          0.7705376881325089,
          0.7852281395564376,
          0.7999185909803661,
          0.8146090424042949,
          0.8292994938282234,
          0.828149078620582,
          0.8269986634129405,
          0.825848248205299,
          0.8246978329976575,
          0.8286202008597252,
          0.8325425687217928,
          0.8364649365838603,
          0.840387304445928,
          0.8409577133211293,
          0.841528122196331,
          0.8420985310715325,
          0.8426689399467341,
          0.8443755372106121,
          0.8460821344744898,
          0.8477887317383677,
          0.8494953290022453,
          0.8476854932081523,
          0.8458756574140592,
          0.8440658216199659,
          0.8422559858258731,
          0.844458790447519,
          0.8466615950691652,
          0.8488643996908115,
          0.8510672043124574,
          0.8597445853169254,
          0.8684219663213936,
          0.8770993473258615,
          0.8857767283303293,
          0.8951033114520718,
          0.9044298945738141,
          0.9137564776955565,
          0.9230830608172986,
          0.9260697706913416,
          0.9290564805653844,
          0.9320431904394271,
          0.9350299003134699,
          0.9315219732372082,
          0.9280140461609465,
          0.9245061190846848,
          0.9209981920084231,
          0.931041140629565,
          0.9410840892507067,
          0.9511270378718485,
          0.9611699864929903,
          0.9569369997501839,
          0.9527040130073774,
          0.9484710262645708,
          0.9442380395217643,
          0.9381091597849605,
          0.9319802800481567,
          0.9258514003113529,
          0.919722520574549,
          0.8902424628204386,
          0.8607624050663284,
          0.831282347312218,
          0.8018022895581076,
          0.8161432806272974,
          0.830484271696487,
          0.8448252627656767,
          0.8591662538348663,
          0.8712085598027439,
          0.8832508657706217,
          0.8952931717384994,
          0.9073354777063771,
          0.8977236619192185,
          0.8881118461320601,
          0.8785000303449015,
          0.868888214557743,
          0.8849496721574474,
          0.9010111297571516,
          0.9170725873568556,
          0.9331340449565597,
          0.9391167987022733,
          0.9450995524479868,
          0.9510823061937002,
          0.9570650599394137,
          0.949593797031657,
          0.9421225341239003,
          0.9346512712161437,
          0.927180008308387,
          0.912086181402292,
          0.896992354496197,
          0.8818985275901021,
          0.8668047006840071,
          0.8788883509921842,
          0.8909720013003614,
          0.9030556516085385,
          0.9151393019167156,
          0.8871380429561484,
          0.8591367839955812,
          0.8311355250350141,
          0.8031342660744469,
          null,
          null,
          null,
          null
         ],
         "yaxis": "y"
        },
        {
         "hovertemplate": "variable=forecast<br>index=%{x}<br>value=%{y}<extra></extra>",
         "legendgroup": "forecast",
         "line": {
          "color": "#EF553B",
          "dash": "solid"
         },
         "marker": {
          "symbol": "circle"
         },
         "mode": "lines",
         "name": "forecast",
         "orientation": "v",
         "showlegend": true,
         "type": "scatter",
         "x": [
          "2023-12-30T00:15:00+00:00",
          "2023-12-30T00:30:00+00:00",
          "2023-12-30T00:45:00+00:00",
          "2023-12-30T01:00:00+00:00",
          "2023-12-30T01:15:00+00:00",
          "2023-12-30T01:30:00+00:00",
          "2023-12-30T01:45:00+00:00",
          "2023-12-30T02:00:00+00:00",
          "2023-12-30T02:15:00+00:00",
          "2023-12-30T02:30:00+00:00",
          "2023-12-30T02:45:00+00:00",
          "2023-12-30T03:00:00+00:00",
          "2023-12-30T03:15:00+00:00",
          "2023-12-30T03:30:00+00:00",
          "2023-12-30T03:45:00+00:00",
          "2023-12-30T04:00:00+00:00",
          "2023-12-30T04:15:00+00:00",
          "2023-12-30T04:30:00+00:00",
          "2023-12-30T04:45:00+00:00",
          "2023-12-30T05:00:00+00:00",
          "2023-12-30T05:15:00+00:00",
          "2023-12-30T05:30:00+00:00",
          "2023-12-30T05:45:00+00:00",
          "2023-12-30T06:00:00+00:00",
          "2023-12-30T06:15:00+00:00",
          "2023-12-30T06:30:00+00:00",
          "2023-12-30T06:45:00+00:00",
          "2023-12-30T07:00:00+00:00",
          "2023-12-30T07:15:00+00:00",
          "2023-12-30T07:30:00+00:00",
          "2023-12-30T07:45:00+00:00",
          "2023-12-30T08:00:00+00:00",
          "2023-12-30T08:15:00+00:00",
          "2023-12-30T08:30:00+00:00",
          "2023-12-30T08:45:00+00:00",
          "2023-12-30T09:00:00+00:00",
          "2023-12-30T09:15:00+00:00",
          "2023-12-30T09:30:00+00:00",
          "2023-12-30T09:45:00+00:00",
          "2023-12-30T10:00:00+00:00",
          "2023-12-30T10:15:00+00:00",
          "2023-12-30T10:30:00+00:00",
          "2023-12-30T10:45:00+00:00",
          "2023-12-30T11:00:00+00:00",
          "2023-12-30T11:15:00+00:00",
          "2023-12-30T11:30:00+00:00",
          "2023-12-30T11:45:00+00:00",
          "2023-12-30T12:00:00+00:00",
          "2023-12-30T12:15:00+00:00",
          "2023-12-30T12:30:00+00:00",
          "2023-12-30T12:45:00+00:00",
          "2023-12-30T13:00:00+00:00",
          "2023-12-30T13:15:00+00:00",
          "2023-12-30T13:30:00+00:00",
          "2023-12-30T13:45:00+00:00",
          "2023-12-30T14:00:00+00:00",
          "2023-12-30T14:15:00+00:00",
          "2023-12-30T14:30:00+00:00",
          "2023-12-30T14:45:00+00:00",
          "2023-12-30T15:00:00+00:00",
          "2023-12-30T15:15:00+00:00",
          "2023-12-30T15:30:00+00:00",
          "2023-12-30T15:45:00+00:00",
          "2023-12-30T16:00:00+00:00",
          "2023-12-30T16:15:00+00:00",
          "2023-12-30T16:30:00+00:00",
          "2023-12-30T16:45:00+00:00",
          "2023-12-30T17:00:00+00:00",
          "2023-12-30T17:15:00+00:00",
          "2023-12-30T17:30:00+00:00",
          "2023-12-30T17:45:00+00:00",
          "2023-12-30T18:00:00+00:00",
          "2023-12-30T18:15:00+00:00",
          "2023-12-30T18:30:00+00:00",
          "2023-12-30T18:45:00+00:00",
          "2023-12-30T19:00:00+00:00",
          "2023-12-30T19:15:00+00:00",
          "2023-12-30T19:30:00+00:00",
          "2023-12-30T19:45:00+00:00",
          "2023-12-30T20:00:00+00:00",
          "2023-12-30T20:15:00+00:00",
          "2023-12-30T20:30:00+00:00",
          "2023-12-30T20:45:00+00:00",
          "2023-12-30T21:00:00+00:00",
          "2023-12-30T21:15:00+00:00",
          "2023-12-30T21:30:00+00:00",
          "2023-12-30T21:45:00+00:00",
          "2023-12-30T22:00:00+00:00",
          "2023-12-30T22:15:00+00:00",
          "2023-12-30T22:30:00+00:00",
          "2023-12-30T22:45:00+00:00",
          "2023-12-30T23:00:00+00:00",
          "2023-12-30T23:15:00+00:00",
          "2023-12-30T23:30:00+00:00",
          "2023-12-30T23:45:00+00:00",
          "2023-12-31T00:00:00+00:00",
          "2023-12-31T00:15:00+00:00",
          "2023-12-31T00:30:00+00:00",
          "2023-12-31T00:45:00+00:00",
          "2023-12-31T01:00:00+00:00",
          "2023-12-31T01:15:00+00:00",
          "2023-12-31T01:30:00+00:00",
          "2023-12-31T01:45:00+00:00",
          "2023-12-31T02:00:00+00:00",
          "2023-12-31T02:15:00+00:00",
          "2023-12-31T02:30:00+00:00",
          "2023-12-31T02:45:00+00:00",
          "2023-12-31T03:00:00+00:00",
          "2023-12-31T03:15:00+00:00",
          "2023-12-31T03:30:00+00:00",
          "2023-12-31T03:45:00+00:00",
          "2023-12-31T04:00:00+00:00",
          "2023-12-31T04:15:00+00:00",
          "2023-12-31T04:30:00+00:00",
          "2023-12-31T04:45:00+00:00",
          "2023-12-31T05:00:00+00:00",
          "2023-12-31T05:15:00+00:00",
          "2023-12-31T05:30:00+00:00",
          "2023-12-31T05:45:00+00:00",
          "2023-12-31T06:00:00+00:00",
          "2023-12-31T06:15:00+00:00",
          "2023-12-31T06:30:00+00:00",
          "2023-12-31T06:45:00+00:00",
          "2023-12-31T07:00:00+00:00",
          "2023-12-31T07:15:00+00:00",
          "2023-12-31T07:30:00+00:00",
          "2023-12-31T07:45:00+00:00",
          "2023-12-31T08:00:00+00:00",
          "2023-12-31T08:15:00+00:00",
          "2023-12-31T08:30:00+00:00",
          "2023-12-31T08:45:00+00:00",
          "2023-12-31T09:00:00+00:00",
          "2023-12-31T09:15:00+00:00",
          "2023-12-31T09:30:00+00:00",
          "2023-12-31T09:45:00+00:00",
          "2023-12-31T10:00:00+00:00",
          "2023-12-31T10:15:00+00:00",
          "2023-12-31T10:30:00+00:00",
          "2023-12-31T10:45:00+00:00",
          "2023-12-31T11:00:00+00:00",
          "2023-12-31T11:15:00+00:00",
          "2023-12-31T11:30:00+00:00",
          "2023-12-31T11:45:00+00:00",
          "2023-12-31T12:00:00+00:00",
          "2023-12-31T12:15:00+00:00",
          "2023-12-31T12:30:00+00:00",
          "2023-12-31T12:45:00+00:00",
          "2023-12-31T13:00:00+00:00",
          "2023-12-31T13:15:00+00:00",
          "2023-12-31T13:30:00+00:00",
          "2023-12-31T13:45:00+00:00",
          "2023-12-31T14:00:00+00:00",
          "2023-12-31T14:15:00+00:00",
          "2023-12-31T14:30:00+00:00",
          "2023-12-31T14:45:00+00:00",
          "2023-12-31T15:00:00+00:00",
          "2023-12-31T15:15:00+00:00",
          "2023-12-31T15:30:00+00:00",
          "2023-12-31T15:45:00+00:00",
          "2023-12-31T16:00:00+00:00",
          "2023-12-31T16:15:00+00:00",
          "2023-12-31T16:30:00+00:00",
          "2023-12-31T16:45:00+00:00",
          "2023-12-31T17:00:00+00:00",
          "2023-12-31T17:15:00+00:00",
          "2023-12-31T17:30:00+00:00",
          "2023-12-31T17:45:00+00:00",
          "2023-12-31T18:00:00+00:00",
          "2023-12-31T18:15:00+00:00",
          "2023-12-31T18:30:00+00:00",
          "2023-12-31T18:45:00+00:00",
          "2023-12-31T19:00:00+00:00",
          "2023-12-31T19:15:00+00:00",
          "2023-12-31T19:30:00+00:00",
          "2023-12-31T19:45:00+00:00",
          "2023-12-31T20:00:00+00:00",
          "2023-12-31T20:15:00+00:00",
          "2023-12-31T20:30:00+00:00",
          "2023-12-31T20:45:00+00:00",
          "2023-12-31T21:00:00+00:00",
          "2023-12-31T21:15:00+00:00",
          "2023-12-31T21:30:00+00:00",
          "2023-12-31T21:45:00+00:00",
          "2023-12-31T22:00:00+00:00",
          "2023-12-31T22:15:00+00:00",
          "2023-12-31T22:30:00+00:00",
          "2023-12-31T22:45:00+00:00",
          "2023-12-31T23:00:00+00:00",
          "2023-12-31T23:15:00+00:00",
          "2023-12-31T23:30:00+00:00",
          "2023-12-31T23:45:00+00:00",
          "2024-01-01T00:00:00+00:00"
         ],
         "xaxis": "x",
         "y": [
          0.5890951752662659,
          0.5067882537841797,
          0.5067882537841797,
          0.5092481970787048,
          0.4994010329246521,
          0.5067882537841797,
          0.4838663637638092,
          0.4994010329246521,
          0.47918030619621277,
          0.4714934825897217,
          0.4874627888202667,
          0.47774097323417664,
          0.5167701244354248,
          0.5158748626708984,
          0.5158748626708984,
          0.5428996682167053,
          0.5043074488639832,
          0.5186855792999268,
          0.5186855792999268,
          0.5186855792999268,
          0.5186855792999268,
          0.5227990746498108,
          0.5372615456581116,
          0.5456225275993347,
          0.6492853164672852,
          0.6651970148086548,
          0.6906706690788269,
          0.7614094018936157,
          0.7643954753875732,
          0.7687650322914124,
          0.7870977520942688,
          0.8048163652420044,
          0.8583039045333862,
          0.8611243963241577,
          0.8258390426635742,
          0.7790029644966125,
          0.7703267335891724,
          0.7531388401985168,
          0.7673346996307373,
          0.6088411808013916,
          0.5435365438461304,
          0.5141712427139282,
          0.5465743541717529,
          0.5403308868408203,
          0.49907514452934265,
          0.49907514452934265,
          0.49907514452934265,
          0.7137889266014099,
          0.5585412383079529,
          0.5585412383079529,
          0.5260029435157776,
          0.5595155954360962,
          0.5562912225723267,
          0.6037904620170593,
          0.7301195859909058,
          0.8576063513755798,
          0.8675066232681274,
          0.8689309358596802,
          0.9658768773078918,
          0.9658768773078918,
          0.9735469222068787,
          0.9669297933578491,
          0.9728650450706482,
          0.9772550463676453,
          0.9824948310852051,
          0.9585115909576416,
          0.9701719284057617,
          0.9701719284057617,
          0.9701719284057617,
          0.9701719284057617,
          0.9701719284057617,
          0.9649321436882019,
          0.9673921465873718,
          0.9726319313049316,
          0.9644919037818909,
          0.9635967016220093,
          1,
          0.9855285882949829,
          0.9228749871253967,
          0.9228749871253967,
          0.9120816588401794,
          0.9021880030632019,
          0.855498194694519,
          0.8208951354026794,
          0.8139042854309082,
          0.811942994594574,
          0.7784916162490845,
          0.7325850129127502,
          0.6800186038017273,
          0.6572567820549011,
          0.6411750912666321,
          0.5926986932754517,
          0.5811923742294312,
          0.5811923742294312,
          0.5770788788795471,
          0.5304206013679504,
          0.5304206013679504,
          0.516715407371521,
          0.516715407371521,
          0.516715407371521,
          0.502123236656189,
          0.4947360157966614,
          0.4947360157966614,
          0.4947360157966614,
          0.4947360157966614,
          0.4947360157966614,
          0.4947360157966614,
          0.48342564702033997,
          0.48342564702033997,
          0.4972110688686371,
          0.4972110688686371,
          0.5070236921310425,
          0.4972110688686371,
          0.4972110688686371,
          0.507045328617096,
          0.516857922077179,
          0.5349937677383423,
          0.5461307168006897,
          0.5461307168006897,
          0.5800976157188416,
          0.612934410572052,
          0.6579117178916931,
          0.7274415493011475,
          0.7530728578567505,
          0.7530728578567505,
          0.7787083387374878,
          0.8305794596672058,
          0.8571751713752747,
          0.8325359225273132,
          0.8887947797775269,
          0.897176206111908,
          0.9020530581474304,
          0.9020530581474304,
          0.9066974520683289,
          0.9366213083267212,
          0.9132499694824219,
          0.7701926231384277,
          0.722862958908081,
          0.7266473770141602,
          0.7266473770141602,
          0.7697181701660156,
          0.8095107078552246,
          0.9313767552375793,
          0.8622788786888123,
          0.895750880241394,
          0.8218379616737366,
          0.9426928758621216,
          0.9403444528579712,
          0.9187594652175903,
          0.8894603252410889,
          0.8674004077911377,
          0.9189778566360474,
          0.892288327217102,
          0.9020476341247559,
          0.9734575748443604,
          0.9734575748443604,
          0.9757521152496338,
          0.962493896484375,
          0.9632202982902527,
          0.927593469619751,
          0.9321556091308594,
          0.9638825058937073,
          0.9267529249191284,
          0.9285171031951904,
          0.9345821142196655,
          0.9638825058937073,
          0.9593204855918884,
          0.9519836902618408,
          0.9519836902618408,
          0.9525102972984314,
          0.9525102972984314,
          0.9525102972984314,
          0.9525102972984314,
          0.9401615262031555,
          0.918554425239563,
          0.8673657178878784,
          0.8223361968994141,
          0.8223361968994141,
          0.7922577261924744,
          0.7730100154876709,
          0.7716750502586365,
          0.7722935080528259,
          0.7456109523773193,
          0.7451462149620056,
          0.7094863057136536,
          0.7004399299621582,
          0.6506232619285583,
          0.6200256943702698,
          0.48209238052368164,
          0.48209238052368164,
          0.452960342168808,
          -0.20023788511753082
         ],
         "yaxis": "y"
        }
       ],
       "layout": {
        "legend": {
         "title": {
          "text": "variable"
         },
         "tracegroupgap": 0
        },
        "margin": {
         "t": 60
        },
        "template": {
         "data": {
          "bar": [
           {
            "error_x": {
             "color": "#2a3f5f"
            },
            "error_y": {
             "color": "#2a3f5f"
            },
            "marker": {
             "line": {
              "color": "#E5ECF6",
              "width": 0.5
             },
             "pattern": {
              "fillmode": "overlay",
              "size": 10,
              "solidity": 0.2
             }
            },
            "type": "bar"
           }
          ],
          "barpolar": [
           {
            "marker": {
             "line": {
              "color": "#E5ECF6",
              "width": 0.5
             },
             "pattern": {
              "fillmode": "overlay",
              "size": 10,
              "solidity": 0.2
             }
            },
            "type": "barpolar"
           }
          ],
          "carpet": [
           {
            "aaxis": {
             "endlinecolor": "#2a3f5f",
             "gridcolor": "white",
             "linecolor": "white",
             "minorgridcolor": "white",
             "startlinecolor": "#2a3f5f"
            },
            "baxis": {
             "endlinecolor": "#2a3f5f",
             "gridcolor": "white",
             "linecolor": "white",
             "minorgridcolor": "white",
             "startlinecolor": "#2a3f5f"
            },
            "type": "carpet"
           }
          ],
          "choropleth": [
           {
            "colorbar": {
             "outlinewidth": 0,
             "ticks": ""
            },
            "type": "choropleth"
           }
          ],
          "contour": [
           {
            "colorbar": {
             "outlinewidth": 0,
             "ticks": ""
            },
            "colorscale": [
             [
              0,
              "#0d0887"
             ],
             [
              0.1111111111111111,
              "#46039f"
             ],
             [
              0.2222222222222222,
              "#7201a8"
             ],
             [
              0.3333333333333333,
              "#9c179e"
             ],
             [
              0.4444444444444444,
              "#bd3786"
             ],
             [
              0.5555555555555556,
              "#d8576b"
             ],
             [
              0.6666666666666666,
              "#ed7953"
             ],
             [
              0.7777777777777778,
              "#fb9f3a"
             ],
             [
              0.8888888888888888,
              "#fdca26"
             ],
             [
              1,
              "#f0f921"
             ]
            ],
            "type": "contour"
           }
          ],
          "contourcarpet": [
           {
            "colorbar": {
             "outlinewidth": 0,
             "ticks": ""
            },
            "type": "contourcarpet"
           }
          ],
          "heatmap": [
           {
            "colorbar": {
             "outlinewidth": 0,
             "ticks": ""
            },
            "colorscale": [
             [
              0,
              "#0d0887"
             ],
             [
              0.1111111111111111,
              "#46039f"
             ],
             [
              0.2222222222222222,
              "#7201a8"
             ],
             [
              0.3333333333333333,
              "#9c179e"
             ],
             [
              0.4444444444444444,
              "#bd3786"
             ],
             [
              0.5555555555555556,
              "#d8576b"
             ],
             [
              0.6666666666666666,
              "#ed7953"
             ],
             [
              0.7777777777777778,
              "#fb9f3a"
             ],
             [
              0.8888888888888888,
              "#fdca26"
             ],
             [
              1,
              "#f0f921"
             ]
            ],
            "type": "heatmap"
           }
          ],
          "heatmapgl": [
           {
            "colorbar": {
             "outlinewidth": 0,
             "ticks": ""
            },
            "colorscale": [
             [
              0,
              "#0d0887"
             ],
             [
              0.1111111111111111,
              "#46039f"
             ],
             [
              0.2222222222222222,
              "#7201a8"
             ],
             [
              0.3333333333333333,
              "#9c179e"
             ],
             [
              0.4444444444444444,
              "#bd3786"
             ],
             [
              0.5555555555555556,
              "#d8576b"
             ],
             [
              0.6666666666666666,
              "#ed7953"
             ],
             [
              0.7777777777777778,
              "#fb9f3a"
             ],
             [
              0.8888888888888888,
              "#fdca26"
             ],
             [
              1,
              "#f0f921"
             ]
            ],
            "type": "heatmapgl"
           }
          ],
          "histogram": [
           {
            "marker": {
             "pattern": {
              "fillmode": "overlay",
              "size": 10,
              "solidity": 0.2
             }
            },
            "type": "histogram"
           }
          ],
          "histogram2d": [
           {
            "colorbar": {
             "outlinewidth": 0,
             "ticks": ""
            },
            "colorscale": [
             [
              0,
              "#0d0887"
             ],
             [
              0.1111111111111111,
              "#46039f"
             ],
             [
              0.2222222222222222,
              "#7201a8"
             ],
             [
              0.3333333333333333,
              "#9c179e"
             ],
             [
              0.4444444444444444,
              "#bd3786"
             ],
             [
              0.5555555555555556,
              "#d8576b"
             ],
             [
              0.6666666666666666,
              "#ed7953"
             ],
             [
              0.7777777777777778,
              "#fb9f3a"
             ],
             [
              0.8888888888888888,
              "#fdca26"
             ],
             [
              1,
              "#f0f921"
             ]
            ],
            "type": "histogram2d"
           }
          ],
          "histogram2dcontour": [
           {
            "colorbar": {
             "outlinewidth": 0,
             "ticks": ""
            },
            "colorscale": [
             [
              0,
              "#0d0887"
             ],
             [
              0.1111111111111111,
              "#46039f"
             ],
             [
              0.2222222222222222,
              "#7201a8"
             ],
             [
              0.3333333333333333,
              "#9c179e"
             ],
             [
              0.4444444444444444,
              "#bd3786"
             ],
             [
              0.5555555555555556,
              "#d8576b"
             ],
             [
              0.6666666666666666,
              "#ed7953"
             ],
             [
              0.7777777777777778,
              "#fb9f3a"
             ],
             [
              0.8888888888888888,
              "#fdca26"
             ],
             [
              1,
              "#f0f921"
             ]
            ],
            "type": "histogram2dcontour"
           }
          ],
          "mesh3d": [
           {
            "colorbar": {
             "outlinewidth": 0,
             "ticks": ""
            },
            "type": "mesh3d"
           }
          ],
          "parcoords": [
           {
            "line": {
             "colorbar": {
              "outlinewidth": 0,
              "ticks": ""
             }
            },
            "type": "parcoords"
           }
          ],
          "pie": [
           {
            "automargin": true,
            "type": "pie"
           }
          ],
          "scatter": [
           {
            "fillpattern": {
             "fillmode": "overlay",
             "size": 10,
             "solidity": 0.2
            },
            "type": "scatter"
           }
          ],
          "scatter3d": [
           {
            "line": {
             "colorbar": {
              "outlinewidth": 0,
              "ticks": ""
             }
            },
            "marker": {
             "colorbar": {
              "outlinewidth": 0,
              "ticks": ""
             }
            },
            "type": "scatter3d"
           }
          ],
          "scattercarpet": [
           {
            "marker": {
             "colorbar": {
              "outlinewidth": 0,
              "ticks": ""
             }
            },
            "type": "scattercarpet"
           }
          ],
          "scattergeo": [
           {
            "marker": {
             "colorbar": {
              "outlinewidth": 0,
              "ticks": ""
             }
            },
            "type": "scattergeo"
           }
          ],
          "scattergl": [
           {
            "marker": {
             "colorbar": {
              "outlinewidth": 0,
              "ticks": ""
             }
            },
            "type": "scattergl"
           }
          ],
          "scattermapbox": [
           {
            "marker": {
             "colorbar": {
              "outlinewidth": 0,
              "ticks": ""
             }
            },
            "type": "scattermapbox"
           }
          ],
          "scatterpolar": [
           {
            "marker": {
             "colorbar": {
              "outlinewidth": 0,
              "ticks": ""
             }
            },
            "type": "scatterpolar"
           }
          ],
          "scatterpolargl": [
           {
            "marker": {
             "colorbar": {
              "outlinewidth": 0,
              "ticks": ""
             }
            },
            "type": "scatterpolargl"
           }
          ],
          "scatterternary": [
           {
            "marker": {
             "colorbar": {
              "outlinewidth": 0,
              "ticks": ""
             }
            },
            "type": "scatterternary"
           }
          ],
          "surface": [
           {
            "colorbar": {
             "outlinewidth": 0,
             "ticks": ""
            },
            "colorscale": [
             [
              0,
              "#0d0887"
             ],
             [
              0.1111111111111111,
              "#46039f"
             ],
             [
              0.2222222222222222,
              "#7201a8"
             ],
             [
              0.3333333333333333,
              "#9c179e"
             ],
             [
              0.4444444444444444,
              "#bd3786"
             ],
             [
              0.5555555555555556,
              "#d8576b"
             ],
             [
              0.6666666666666666,
              "#ed7953"
             ],
             [
              0.7777777777777778,
              "#fb9f3a"
             ],
             [
              0.8888888888888888,
              "#fdca26"
             ],
             [
              1,
              "#f0f921"
             ]
            ],
            "type": "surface"
           }
          ],
          "table": [
           {
            "cells": {
             "fill": {
              "color": "#EBF0F8"
             },
             "line": {
              "color": "white"
             }
            },
            "header": {
             "fill": {
              "color": "#C8D4E3"
             },
             "line": {
              "color": "white"
             }
            },
            "type": "table"
           }
          ]
         },
         "layout": {
          "annotationdefaults": {
           "arrowcolor": "#2a3f5f",
           "arrowhead": 0,
           "arrowwidth": 1
          },
          "autotypenumbers": "strict",
          "coloraxis": {
           "colorbar": {
            "outlinewidth": 0,
            "ticks": ""
           }
          },
          "colorscale": {
           "diverging": [
            [
             0,
             "#8e0152"
            ],
            [
             0.1,
             "#c51b7d"
            ],
            [
             0.2,
             "#de77ae"
            ],
            [
             0.3,
             "#f1b6da"
            ],
            [
             0.4,
             "#fde0ef"
            ],
            [
             0.5,
             "#f7f7f7"
            ],
            [
             0.6,
             "#e6f5d0"
            ],
            [
             0.7,
             "#b8e186"
            ],
            [
             0.8,
             "#7fbc41"
            ],
            [
             0.9,
             "#4d9221"
            ],
            [
             1,
             "#276419"
            ]
           ],
           "sequential": [
            [
             0,
             "#0d0887"
            ],
            [
             0.1111111111111111,
             "#46039f"
            ],
            [
             0.2222222222222222,
             "#7201a8"
            ],
            [
             0.3333333333333333,
             "#9c179e"
            ],
            [
             0.4444444444444444,
             "#bd3786"
            ],
            [
             0.5555555555555556,
             "#d8576b"
            ],
            [
             0.6666666666666666,
             "#ed7953"
            ],
            [
             0.7777777777777778,
             "#fb9f3a"
            ],
            [
             0.8888888888888888,
             "#fdca26"
            ],
            [
             1,
             "#f0f921"
            ]
           ],
           "sequentialminus": [
            [
             0,
             "#0d0887"
            ],
            [
             0.1111111111111111,
             "#46039f"
            ],
            [
             0.2222222222222222,
             "#7201a8"
            ],
            [
             0.3333333333333333,
             "#9c179e"
            ],
            [
             0.4444444444444444,
             "#bd3786"
            ],
            [
             0.5555555555555556,
             "#d8576b"
            ],
            [
             0.6666666666666666,
             "#ed7953"
            ],
            [
             0.7777777777777778,
             "#fb9f3a"
            ],
            [
             0.8888888888888888,
             "#fdca26"
            ],
            [
             1,
             "#f0f921"
            ]
           ]
          },
          "colorway": [
           "#636efa",
           "#EF553B",
           "#00cc96",
           "#ab63fa",
           "#FFA15A",
           "#19d3f3",
           "#FF6692",
           "#B6E880",
           "#FF97FF",
           "#FECB52"
          ],
          "font": {
           "color": "#2a3f5f"
          },
          "geo": {
           "bgcolor": "white",
           "lakecolor": "white",
           "landcolor": "#E5ECF6",
           "showlakes": true,
           "showland": true,
           "subunitcolor": "white"
          },
          "hoverlabel": {
           "align": "left"
          },
          "hovermode": "closest",
          "mapbox": {
           "style": "light"
          },
          "paper_bgcolor": "white",
          "plot_bgcolor": "#E5ECF6",
          "polar": {
           "angularaxis": {
            "gridcolor": "white",
            "linecolor": "white",
            "ticks": ""
           },
           "bgcolor": "#E5ECF6",
           "radialaxis": {
            "gridcolor": "white",
            "linecolor": "white",
            "ticks": ""
           }
          },
          "scene": {
           "xaxis": {
            "backgroundcolor": "#E5ECF6",
            "gridcolor": "white",
            "gridwidth": 2,
            "linecolor": "white",
            "showbackground": true,
            "ticks": "",
            "zerolinecolor": "white"
           },
           "yaxis": {
            "backgroundcolor": "#E5ECF6",
            "gridcolor": "white",
            "gridwidth": 2,
            "linecolor": "white",
            "showbackground": true,
            "ticks": "",
            "zerolinecolor": "white"
           },
           "zaxis": {
            "backgroundcolor": "#E5ECF6",
            "gridcolor": "white",
            "gridwidth": 2,
            "linecolor": "white",
            "showbackground": true,
            "ticks": "",
            "zerolinecolor": "white"
           }
          },
          "shapedefaults": {
           "line": {
            "color": "#2a3f5f"
           }
          },
          "ternary": {
           "aaxis": {
            "gridcolor": "white",
            "linecolor": "white",
            "ticks": ""
           },
           "baxis": {
            "gridcolor": "white",
            "linecolor": "white",
            "ticks": ""
           },
           "bgcolor": "#E5ECF6",
           "caxis": {
            "gridcolor": "white",
            "linecolor": "white",
            "ticks": ""
           }
          },
          "title": {
           "x": 0.05
          },
          "xaxis": {
           "automargin": true,
           "gridcolor": "white",
           "linecolor": "white",
           "ticks": "",
           "title": {
            "standoff": 15
           },
           "zerolinecolor": "white",
           "zerolinewidth": 2
          },
          "yaxis": {
           "automargin": true,
           "gridcolor": "white",
           "linecolor": "white",
           "ticks": "",
           "title": {
            "standoff": 15
           },
           "zerolinecolor": "white",
           "zerolinewidth": 2
          }
         }
        },
        "xaxis": {
         "anchor": "y",
         "domain": [
          0,
          1
         ],
         "title": {
          "text": "Timestamp"
         }
        },
        "yaxis": {
         "anchor": "x",
         "domain": [
          0,
          1
         ],
         "title": {
          "text": "Normalized values"
         }
        }
       }
      }
     },
     "metadata": {},
     "output_type": "display_data"
    }
   ],
   "source": [
    "fig_forecast_windspeed=pd.concat(\n",
    "    [\n",
    "        test_data[\"windspeed\"]/max(test_data[\"windspeed\"]),\n",
    "        forecast[\"forecast\"]/max(forecast[\"forecast\"])\n",
    "    ], axis=1).plot()\n",
    "fig_forecast_windspeed.update_layout(\n",
    "    xaxis_title='Timestamp',\n",
    "    yaxis_title=\"Normalized values\"\n",
    ")\n",
    "fig_forecast_windspeed.show()"
   ]
  },
  {
   "cell_type": "markdown",
   "id": "725334f1",
   "metadata": {},
   "source": [
    "## Alter the input data \n",
    "In the code below, the radiation input data is divided by ten and thereafter a forecast is made with this new input data. The prediction job and trained model stay the same. Thus, the same model is used with half the sunshine as input.\n",
    "\n",
    "Exercise: answer the following question: \n",
    "- What happens to the forecast when the radiation is divided by ten? Why? \n"
   ]
  },
  {
   "cell_type": "code",
   "execution_count": 14,
   "id": "3ee359bb",
   "metadata": {},
   "outputs": [
    {
     "name": "stdout",
     "output_type": "stream",
     "text": [
      "2024-02-19 09:19:41 [debug    ] MLflow tracking uri at init= ./mlflow_trained_models\n",
      "2024-02-19 09:19:41 [warning  ] feature_modules not an attribute of the old model, using None  experiment_name=287\n",
      "2024-02-19 09:19:41 [info     ] Model successfully loaded with MLflow\n",
      "2024-02-19 09:19:41 [info     ] Found 214 values of constant load (repeated values), converted to NaN value. cleansing_step=repeated_values frac_values=0.0061071316457863645 num_values=214 pj_id=287\n",
      "2024-02-19 09:19:44 [info     ] Postproces in preparation of storing\n"
     ]
    }
   ],
   "source": [
    "# Divide the radiation data by two.\n",
    "to_forecast_data_rad=to_forecast_data.copy()\n",
    "to_forecast_data_rad['radiation']=0.1*(to_forecast_data['radiation'])\n",
    "\n",
    "# Make a forecast with this new input data.\n",
    "mlflow_tracking_uri=r\"./mlflow_trained_models\" \n",
    "\n",
    "forecast_rad=create_forecast_pipeline(\n",
    "    pj,\n",
    "    to_forecast_data_rad, \n",
    "    mlflow_tracking_uri,\n",
    ")"
   ]
  },
  {
   "cell_type": "code",
   "execution_count": 15,
   "id": "0dd14545",
   "metadata": {},
   "outputs": [
    {
     "data": {
      "application/vnd.plotly.v1+json": {
       "config": {
        "plotlyServerURL": "https://plot.ly"
       },
       "data": [
        {
         "hovertemplate": "variable=radiation<br>index=%{x}<br>value=%{y}<extra></extra>",
         "legendgroup": "radiation",
         "line": {
          "color": "#636efa",
          "dash": "solid"
         },
         "marker": {
          "symbol": "circle"
         },
         "mode": "lines",
         "name": "radiation",
         "orientation": "v",
         "showlegend": true,
         "type": "scatter",
         "x": [
          "2023-12-30T00:15:00+00:00",
          "2023-12-30T00:30:00+00:00",
          "2023-12-30T00:45:00+00:00",
          "2023-12-30T01:00:00+00:00",
          "2023-12-30T01:15:00+00:00",
          "2023-12-30T01:30:00+00:00",
          "2023-12-30T01:45:00+00:00",
          "2023-12-30T02:00:00+00:00",
          "2023-12-30T02:15:00+00:00",
          "2023-12-30T02:30:00+00:00",
          "2023-12-30T02:45:00+00:00",
          "2023-12-30T03:00:00+00:00",
          "2023-12-30T03:15:00+00:00",
          "2023-12-30T03:30:00+00:00",
          "2023-12-30T03:45:00+00:00",
          "2023-12-30T04:00:00+00:00",
          "2023-12-30T04:15:00+00:00",
          "2023-12-30T04:30:00+00:00",
          "2023-12-30T04:45:00+00:00",
          "2023-12-30T05:00:00+00:00",
          "2023-12-30T05:15:00+00:00",
          "2023-12-30T05:30:00+00:00",
          "2023-12-30T05:45:00+00:00",
          "2023-12-30T06:00:00+00:00",
          "2023-12-30T06:15:00+00:00",
          "2023-12-30T06:30:00+00:00",
          "2023-12-30T06:45:00+00:00",
          "2023-12-30T07:00:00+00:00",
          "2023-12-30T07:15:00+00:00",
          "2023-12-30T07:30:00+00:00",
          "2023-12-30T07:45:00+00:00",
          "2023-12-30T08:00:00+00:00",
          "2023-12-30T08:15:00+00:00",
          "2023-12-30T08:30:00+00:00",
          "2023-12-30T08:45:00+00:00",
          "2023-12-30T09:00:00+00:00",
          "2023-12-30T09:15:00+00:00",
          "2023-12-30T09:30:00+00:00",
          "2023-12-30T09:45:00+00:00",
          "2023-12-30T10:00:00+00:00",
          "2023-12-30T10:15:00+00:00",
          "2023-12-30T10:30:00+00:00",
          "2023-12-30T10:45:00+00:00",
          "2023-12-30T11:00:00+00:00",
          "2023-12-30T11:15:00+00:00",
          "2023-12-30T11:30:00+00:00",
          "2023-12-30T11:45:00+00:00",
          "2023-12-30T12:00:00+00:00",
          "2023-12-30T12:15:00+00:00",
          "2023-12-30T12:30:00+00:00",
          "2023-12-30T12:45:00+00:00",
          "2023-12-30T13:00:00+00:00",
          "2023-12-30T13:15:00+00:00",
          "2023-12-30T13:30:00+00:00",
          "2023-12-30T13:45:00+00:00",
          "2023-12-30T14:00:00+00:00",
          "2023-12-30T14:15:00+00:00",
          "2023-12-30T14:30:00+00:00",
          "2023-12-30T14:45:00+00:00",
          "2023-12-30T15:00:00+00:00",
          "2023-12-30T15:15:00+00:00",
          "2023-12-30T15:30:00+00:00",
          "2023-12-30T15:45:00+00:00",
          "2023-12-30T16:00:00+00:00",
          "2023-12-30T16:15:00+00:00",
          "2023-12-30T16:30:00+00:00",
          "2023-12-30T16:45:00+00:00",
          "2023-12-30T17:00:00+00:00",
          "2023-12-30T17:15:00+00:00",
          "2023-12-30T17:30:00+00:00",
          "2023-12-30T17:45:00+00:00",
          "2023-12-30T18:00:00+00:00",
          "2023-12-30T18:15:00+00:00",
          "2023-12-30T18:30:00+00:00",
          "2023-12-30T18:45:00+00:00",
          "2023-12-30T19:00:00+00:00",
          "2023-12-30T19:15:00+00:00",
          "2023-12-30T19:30:00+00:00",
          "2023-12-30T19:45:00+00:00",
          "2023-12-30T20:00:00+00:00",
          "2023-12-30T20:15:00+00:00",
          "2023-12-30T20:30:00+00:00",
          "2023-12-30T20:45:00+00:00",
          "2023-12-30T21:00:00+00:00",
          "2023-12-30T21:15:00+00:00",
          "2023-12-30T21:30:00+00:00",
          "2023-12-30T21:45:00+00:00",
          "2023-12-30T22:00:00+00:00",
          "2023-12-30T22:15:00+00:00",
          "2023-12-30T22:30:00+00:00",
          "2023-12-30T22:45:00+00:00",
          "2023-12-30T23:00:00+00:00",
          "2023-12-30T23:15:00+00:00",
          "2023-12-30T23:30:00+00:00",
          "2023-12-30T23:45:00+00:00",
          "2023-12-31T00:00:00+00:00",
          "2023-12-31T00:15:00+00:00",
          "2023-12-31T00:30:00+00:00",
          "2023-12-31T00:45:00+00:00",
          "2023-12-31T01:00:00+00:00",
          "2023-12-31T01:15:00+00:00",
          "2023-12-31T01:30:00+00:00",
          "2023-12-31T01:45:00+00:00",
          "2023-12-31T02:00:00+00:00",
          "2023-12-31T02:15:00+00:00",
          "2023-12-31T02:30:00+00:00",
          "2023-12-31T02:45:00+00:00",
          "2023-12-31T03:00:00+00:00",
          "2023-12-31T03:15:00+00:00",
          "2023-12-31T03:30:00+00:00",
          "2023-12-31T03:45:00+00:00",
          "2023-12-31T04:00:00+00:00",
          "2023-12-31T04:15:00+00:00",
          "2023-12-31T04:30:00+00:00",
          "2023-12-31T04:45:00+00:00",
          "2023-12-31T05:00:00+00:00",
          "2023-12-31T05:15:00+00:00",
          "2023-12-31T05:30:00+00:00",
          "2023-12-31T05:45:00+00:00",
          "2023-12-31T06:00:00+00:00",
          "2023-12-31T06:15:00+00:00",
          "2023-12-31T06:30:00+00:00",
          "2023-12-31T06:45:00+00:00",
          "2023-12-31T07:00:00+00:00",
          "2023-12-31T07:15:00+00:00",
          "2023-12-31T07:30:00+00:00",
          "2023-12-31T07:45:00+00:00",
          "2023-12-31T08:00:00+00:00",
          "2023-12-31T08:15:00+00:00",
          "2023-12-31T08:30:00+00:00",
          "2023-12-31T08:45:00+00:00",
          "2023-12-31T09:00:00+00:00",
          "2023-12-31T09:15:00+00:00",
          "2023-12-31T09:30:00+00:00",
          "2023-12-31T09:45:00+00:00",
          "2023-12-31T10:00:00+00:00",
          "2023-12-31T10:15:00+00:00",
          "2023-12-31T10:30:00+00:00",
          "2023-12-31T10:45:00+00:00",
          "2023-12-31T11:00:00+00:00",
          "2023-12-31T11:15:00+00:00",
          "2023-12-31T11:30:00+00:00",
          "2023-12-31T11:45:00+00:00",
          "2023-12-31T12:00:00+00:00",
          "2023-12-31T12:15:00+00:00",
          "2023-12-31T12:30:00+00:00",
          "2023-12-31T12:45:00+00:00",
          "2023-12-31T13:00:00+00:00",
          "2023-12-31T13:15:00+00:00",
          "2023-12-31T13:30:00+00:00",
          "2023-12-31T13:45:00+00:00",
          "2023-12-31T14:00:00+00:00",
          "2023-12-31T14:15:00+00:00",
          "2023-12-31T14:30:00+00:00",
          "2023-12-31T14:45:00+00:00",
          "2023-12-31T15:00:00+00:00",
          "2023-12-31T15:15:00+00:00",
          "2023-12-31T15:30:00+00:00",
          "2023-12-31T15:45:00+00:00",
          "2023-12-31T16:00:00+00:00",
          "2023-12-31T16:15:00+00:00",
          "2023-12-31T16:30:00+00:00",
          "2023-12-31T16:45:00+00:00",
          "2023-12-31T17:00:00+00:00",
          "2023-12-31T17:15:00+00:00",
          "2023-12-31T17:30:00+00:00",
          "2023-12-31T17:45:00+00:00",
          "2023-12-31T18:00:00+00:00",
          "2023-12-31T18:15:00+00:00",
          "2023-12-31T18:30:00+00:00",
          "2023-12-31T18:45:00+00:00",
          "2023-12-31T19:00:00+00:00",
          "2023-12-31T19:15:00+00:00",
          "2023-12-31T19:30:00+00:00",
          "2023-12-31T19:45:00+00:00",
          "2023-12-31T20:00:00+00:00",
          "2023-12-31T20:15:00+00:00",
          "2023-12-31T20:30:00+00:00",
          "2023-12-31T20:45:00+00:00",
          "2023-12-31T21:00:00+00:00",
          "2023-12-31T21:15:00+00:00",
          "2023-12-31T21:30:00+00:00",
          "2023-12-31T21:45:00+00:00",
          "2023-12-31T22:00:00+00:00",
          "2023-12-31T22:15:00+00:00",
          "2023-12-31T22:30:00+00:00",
          "2023-12-31T22:45:00+00:00",
          "2023-12-31T23:00:00+00:00",
          "2023-12-31T23:15:00+00:00",
          "2023-12-31T23:30:00+00:00",
          "2023-12-31T23:45:00+00:00",
          "2024-01-01T00:00:00+00:00"
         ],
         "xaxis": "x",
         "y": [
          0,
          0,
          1.8230884555342422e-17,
          3.6461769110684845e-17,
          5.469265366602727e-17,
          7.29235382213697e-17,
          7.292397556491973e-17,
          7.292441290846978e-17,
          7.292485025201983e-17,
          7.292528759556988e-17,
          7.292441290846978e-17,
          7.29235382213697e-17,
          7.292266353426961e-17,
          7.292178884716953e-17,
          7.292230363697322e-17,
          7.292281842677692e-17,
          7.292333321658061e-17,
          7.292384800638432e-17,
          7.292449946604739e-17,
          7.292515092571048e-17,
          7.292580238537357e-17,
          7.292645384503666e-17,
          -5.469126874478546e-17,
          -1.8230899133460758e-16,
          -3.099267139244297e-16,
          -4.375444365142518e-16,
          0.0012467696176225206,
          0.002493539235245479,
          0.0037403088528684372,
          0.004987078470491396,
          0.06646928233603527,
          0.12795148620157915,
          0.18943369006712302,
          0.2509158939326669,
          0.34718092459719213,
          0.4434459552617174,
          0.5397109859262427,
          0.6359760165907679,
          0.7041455377022247,
          0.7723150588136813,
          0.840484579925138,
          0.9086541010365947,
          0.9314905757774461,
          0.9543270505182974,
          0.9771635252591487,
          1,
          0.9757966088063362,
          0.9515932176126726,
          0.9273898264190088,
          0.903186435225345,
          0.8299145718250748,
          0.7566427084248044,
          0.683370845024534,
          0.6100989816242638,
          0.5509658320127303,
          0.4918326824011969,
          0.43269953278966344,
          0.37356638317813,
          0.28988665656142054,
          0.20620692994471113,
          0.12252720332800168,
          0.038847476711292246,
          0.029124569453323694,
          0.019401662195355142,
          0.009678754937386593,
          -0.00004415232058195713,
          -0.00003311424043646785,
          -0.000022076160290978566,
          -0.000011038080145489283,
          0,
          0,
          0,
          0,
          0,
          0,
          0,
          0,
          0,
          0,
          0,
          0,
          0,
          0,
          0,
          0,
          0,
          0,
          0,
          0,
          0,
          0,
          0,
          0,
          0,
          0,
          0,
          0,
          0,
          1.8230884555342422e-17,
          3.6461769110684845e-17,
          5.469265366602727e-17,
          7.29235382213697e-17,
          7.292397556491973e-17,
          7.292441290846978e-17,
          7.292485025201983e-17,
          7.292528759556988e-17,
          7.292441290846978e-17,
          7.29235382213697e-17,
          7.292266353426961e-17,
          7.292178884716953e-17,
          7.292230363697322e-17,
          7.292281842677692e-17,
          7.292333321658061e-17,
          7.292384800638432e-17,
          7.292449946604739e-17,
          7.292515092571048e-17,
          7.292580238537357e-17,
          7.292645384503666e-17,
          -5.469126874478546e-17,
          -1.8230899133460758e-16,
          -3.099267139244297e-16,
          -4.375444365142518e-16,
          0.00016085232033542644,
          0.0003217046406712904,
          0.0004825569610071544,
          0.0006434092813430184,
          0.003534713389991375,
          0.006426017498639731,
          0.009317321607288088,
          0.012208625715936443,
          0.04172626873037047,
          0.07124391174480452,
          0.10076155475923855,
          0.13027919777367258,
          0.1587255767089123,
          0.18717195564415198,
          0.2156183345793917,
          0.2440647135146314,
          0.2804614902310939,
          0.3168582669475564,
          0.3532550436640189,
          0.3896518203804814,
          0.35080037365337474,
          0.3119489269262681,
          0.2730974801991614,
          0.23424603347205478,
          0.35335122678617886,
          0.4724564201003029,
          0.5915616134144269,
          0.7106668067285511,
          0.6015209161360319,
          0.4923750255435126,
          0.38322913495099337,
          0.27408324435847414,
          0.2108873426458073,
          0.14769144093314043,
          0.08449553922047355,
          0.02129963750780667,
          0.015953657297566124,
          0.010607677087325575,
          0.005261696877085028,
          -0.00008428333315552039,
          -0.0000632124998666403,
          -0.000042141666577760195,
          -0.000021070833288880097,
          0,
          0,
          0,
          0,
          0,
          0,
          0,
          0,
          0,
          0,
          0,
          0,
          0,
          0,
          0,
          0,
          0,
          0,
          0,
          0,
          0,
          0,
          0,
          null,
          null,
          null,
          null
         ],
         "yaxis": "y"
        },
        {
         "hovertemplate": "variable=forecast_with_full_radiation<br>index=%{x}<br>value=%{y}<extra></extra>",
         "legendgroup": "forecast_with_full_radiation",
         "line": {
          "color": "#EF553B",
          "dash": "solid"
         },
         "marker": {
          "symbol": "circle"
         },
         "mode": "lines",
         "name": "forecast_with_full_radiation",
         "orientation": "v",
         "showlegend": true,
         "type": "scatter",
         "x": [
          "2023-12-30T00:15:00+00:00",
          "2023-12-30T00:30:00+00:00",
          "2023-12-30T00:45:00+00:00",
          "2023-12-30T01:00:00+00:00",
          "2023-12-30T01:15:00+00:00",
          "2023-12-30T01:30:00+00:00",
          "2023-12-30T01:45:00+00:00",
          "2023-12-30T02:00:00+00:00",
          "2023-12-30T02:15:00+00:00",
          "2023-12-30T02:30:00+00:00",
          "2023-12-30T02:45:00+00:00",
          "2023-12-30T03:00:00+00:00",
          "2023-12-30T03:15:00+00:00",
          "2023-12-30T03:30:00+00:00",
          "2023-12-30T03:45:00+00:00",
          "2023-12-30T04:00:00+00:00",
          "2023-12-30T04:15:00+00:00",
          "2023-12-30T04:30:00+00:00",
          "2023-12-30T04:45:00+00:00",
          "2023-12-30T05:00:00+00:00",
          "2023-12-30T05:15:00+00:00",
          "2023-12-30T05:30:00+00:00",
          "2023-12-30T05:45:00+00:00",
          "2023-12-30T06:00:00+00:00",
          "2023-12-30T06:15:00+00:00",
          "2023-12-30T06:30:00+00:00",
          "2023-12-30T06:45:00+00:00",
          "2023-12-30T07:00:00+00:00",
          "2023-12-30T07:15:00+00:00",
          "2023-12-30T07:30:00+00:00",
          "2023-12-30T07:45:00+00:00",
          "2023-12-30T08:00:00+00:00",
          "2023-12-30T08:15:00+00:00",
          "2023-12-30T08:30:00+00:00",
          "2023-12-30T08:45:00+00:00",
          "2023-12-30T09:00:00+00:00",
          "2023-12-30T09:15:00+00:00",
          "2023-12-30T09:30:00+00:00",
          "2023-12-30T09:45:00+00:00",
          "2023-12-30T10:00:00+00:00",
          "2023-12-30T10:15:00+00:00",
          "2023-12-30T10:30:00+00:00",
          "2023-12-30T10:45:00+00:00",
          "2023-12-30T11:00:00+00:00",
          "2023-12-30T11:15:00+00:00",
          "2023-12-30T11:30:00+00:00",
          "2023-12-30T11:45:00+00:00",
          "2023-12-30T12:00:00+00:00",
          "2023-12-30T12:15:00+00:00",
          "2023-12-30T12:30:00+00:00",
          "2023-12-30T12:45:00+00:00",
          "2023-12-30T13:00:00+00:00",
          "2023-12-30T13:15:00+00:00",
          "2023-12-30T13:30:00+00:00",
          "2023-12-30T13:45:00+00:00",
          "2023-12-30T14:00:00+00:00",
          "2023-12-30T14:15:00+00:00",
          "2023-12-30T14:30:00+00:00",
          "2023-12-30T14:45:00+00:00",
          "2023-12-30T15:00:00+00:00",
          "2023-12-30T15:15:00+00:00",
          "2023-12-30T15:30:00+00:00",
          "2023-12-30T15:45:00+00:00",
          "2023-12-30T16:00:00+00:00",
          "2023-12-30T16:15:00+00:00",
          "2023-12-30T16:30:00+00:00",
          "2023-12-30T16:45:00+00:00",
          "2023-12-30T17:00:00+00:00",
          "2023-12-30T17:15:00+00:00",
          "2023-12-30T17:30:00+00:00",
          "2023-12-30T17:45:00+00:00",
          "2023-12-30T18:00:00+00:00",
          "2023-12-30T18:15:00+00:00",
          "2023-12-30T18:30:00+00:00",
          "2023-12-30T18:45:00+00:00",
          "2023-12-30T19:00:00+00:00",
          "2023-12-30T19:15:00+00:00",
          "2023-12-30T19:30:00+00:00",
          "2023-12-30T19:45:00+00:00",
          "2023-12-30T20:00:00+00:00",
          "2023-12-30T20:15:00+00:00",
          "2023-12-30T20:30:00+00:00",
          "2023-12-30T20:45:00+00:00",
          "2023-12-30T21:00:00+00:00",
          "2023-12-30T21:15:00+00:00",
          "2023-12-30T21:30:00+00:00",
          "2023-12-30T21:45:00+00:00",
          "2023-12-30T22:00:00+00:00",
          "2023-12-30T22:15:00+00:00",
          "2023-12-30T22:30:00+00:00",
          "2023-12-30T22:45:00+00:00",
          "2023-12-30T23:00:00+00:00",
          "2023-12-30T23:15:00+00:00",
          "2023-12-30T23:30:00+00:00",
          "2023-12-30T23:45:00+00:00",
          "2023-12-31T00:00:00+00:00",
          "2023-12-31T00:15:00+00:00",
          "2023-12-31T00:30:00+00:00",
          "2023-12-31T00:45:00+00:00",
          "2023-12-31T01:00:00+00:00",
          "2023-12-31T01:15:00+00:00",
          "2023-12-31T01:30:00+00:00",
          "2023-12-31T01:45:00+00:00",
          "2023-12-31T02:00:00+00:00",
          "2023-12-31T02:15:00+00:00",
          "2023-12-31T02:30:00+00:00",
          "2023-12-31T02:45:00+00:00",
          "2023-12-31T03:00:00+00:00",
          "2023-12-31T03:15:00+00:00",
          "2023-12-31T03:30:00+00:00",
          "2023-12-31T03:45:00+00:00",
          "2023-12-31T04:00:00+00:00",
          "2023-12-31T04:15:00+00:00",
          "2023-12-31T04:30:00+00:00",
          "2023-12-31T04:45:00+00:00",
          "2023-12-31T05:00:00+00:00",
          "2023-12-31T05:15:00+00:00",
          "2023-12-31T05:30:00+00:00",
          "2023-12-31T05:45:00+00:00",
          "2023-12-31T06:00:00+00:00",
          "2023-12-31T06:15:00+00:00",
          "2023-12-31T06:30:00+00:00",
          "2023-12-31T06:45:00+00:00",
          "2023-12-31T07:00:00+00:00",
          "2023-12-31T07:15:00+00:00",
          "2023-12-31T07:30:00+00:00",
          "2023-12-31T07:45:00+00:00",
          "2023-12-31T08:00:00+00:00",
          "2023-12-31T08:15:00+00:00",
          "2023-12-31T08:30:00+00:00",
          "2023-12-31T08:45:00+00:00",
          "2023-12-31T09:00:00+00:00",
          "2023-12-31T09:15:00+00:00",
          "2023-12-31T09:30:00+00:00",
          "2023-12-31T09:45:00+00:00",
          "2023-12-31T10:00:00+00:00",
          "2023-12-31T10:15:00+00:00",
          "2023-12-31T10:30:00+00:00",
          "2023-12-31T10:45:00+00:00",
          "2023-12-31T11:00:00+00:00",
          "2023-12-31T11:15:00+00:00",
          "2023-12-31T11:30:00+00:00",
          "2023-12-31T11:45:00+00:00",
          "2023-12-31T12:00:00+00:00",
          "2023-12-31T12:15:00+00:00",
          "2023-12-31T12:30:00+00:00",
          "2023-12-31T12:45:00+00:00",
          "2023-12-31T13:00:00+00:00",
          "2023-12-31T13:15:00+00:00",
          "2023-12-31T13:30:00+00:00",
          "2023-12-31T13:45:00+00:00",
          "2023-12-31T14:00:00+00:00",
          "2023-12-31T14:15:00+00:00",
          "2023-12-31T14:30:00+00:00",
          "2023-12-31T14:45:00+00:00",
          "2023-12-31T15:00:00+00:00",
          "2023-12-31T15:15:00+00:00",
          "2023-12-31T15:30:00+00:00",
          "2023-12-31T15:45:00+00:00",
          "2023-12-31T16:00:00+00:00",
          "2023-12-31T16:15:00+00:00",
          "2023-12-31T16:30:00+00:00",
          "2023-12-31T16:45:00+00:00",
          "2023-12-31T17:00:00+00:00",
          "2023-12-31T17:15:00+00:00",
          "2023-12-31T17:30:00+00:00",
          "2023-12-31T17:45:00+00:00",
          "2023-12-31T18:00:00+00:00",
          "2023-12-31T18:15:00+00:00",
          "2023-12-31T18:30:00+00:00",
          "2023-12-31T18:45:00+00:00",
          "2023-12-31T19:00:00+00:00",
          "2023-12-31T19:15:00+00:00",
          "2023-12-31T19:30:00+00:00",
          "2023-12-31T19:45:00+00:00",
          "2023-12-31T20:00:00+00:00",
          "2023-12-31T20:15:00+00:00",
          "2023-12-31T20:30:00+00:00",
          "2023-12-31T20:45:00+00:00",
          "2023-12-31T21:00:00+00:00",
          "2023-12-31T21:15:00+00:00",
          "2023-12-31T21:30:00+00:00",
          "2023-12-31T21:45:00+00:00",
          "2023-12-31T22:00:00+00:00",
          "2023-12-31T22:15:00+00:00",
          "2023-12-31T22:30:00+00:00",
          "2023-12-31T22:45:00+00:00",
          "2023-12-31T23:00:00+00:00",
          "2023-12-31T23:15:00+00:00",
          "2023-12-31T23:30:00+00:00",
          "2023-12-31T23:45:00+00:00",
          "2024-01-01T00:00:00+00:00"
         ],
         "xaxis": "x",
         "y": [
          0.5890951752662659,
          0.5067882537841797,
          0.5067882537841797,
          0.5092481970787048,
          0.4994010329246521,
          0.5067882537841797,
          0.4838663637638092,
          0.4994010329246521,
          0.47918030619621277,
          0.4714934825897217,
          0.4874627888202667,
          0.47774097323417664,
          0.5167701244354248,
          0.5158748626708984,
          0.5158748626708984,
          0.5428996682167053,
          0.5043074488639832,
          0.5186855792999268,
          0.5186855792999268,
          0.5186855792999268,
          0.5186855792999268,
          0.5227990746498108,
          0.5372615456581116,
          0.5456225275993347,
          0.6492853164672852,
          0.6651970148086548,
          0.6906706690788269,
          0.7614094018936157,
          0.7643954753875732,
          0.7687650322914124,
          0.7870977520942688,
          0.8048163652420044,
          0.8583039045333862,
          0.8611243963241577,
          0.8258390426635742,
          0.7790029644966125,
          0.7703267335891724,
          0.7531388401985168,
          0.7673346996307373,
          0.6088411808013916,
          0.5435365438461304,
          0.5141712427139282,
          0.5465743541717529,
          0.5403308868408203,
          0.49907514452934265,
          0.49907514452934265,
          0.49907514452934265,
          0.7137889266014099,
          0.5585412383079529,
          0.5585412383079529,
          0.5260029435157776,
          0.5595155954360962,
          0.5562912225723267,
          0.6037904620170593,
          0.7301195859909058,
          0.8576063513755798,
          0.8675066232681274,
          0.8689309358596802,
          0.9658768773078918,
          0.9658768773078918,
          0.9735469222068787,
          0.9669297933578491,
          0.9728650450706482,
          0.9772550463676453,
          0.9824948310852051,
          0.9585115909576416,
          0.9701719284057617,
          0.9701719284057617,
          0.9701719284057617,
          0.9701719284057617,
          0.9701719284057617,
          0.9649321436882019,
          0.9673921465873718,
          0.9726319313049316,
          0.9644919037818909,
          0.9635967016220093,
          1,
          0.9855285882949829,
          0.9228749871253967,
          0.9228749871253967,
          0.9120816588401794,
          0.9021880030632019,
          0.855498194694519,
          0.8208951354026794,
          0.8139042854309082,
          0.811942994594574,
          0.7784916162490845,
          0.7325850129127502,
          0.6800186038017273,
          0.6572567820549011,
          0.6411750912666321,
          0.5926986932754517,
          0.5811923742294312,
          0.5811923742294312,
          0.5770788788795471,
          0.5304206013679504,
          0.5304206013679504,
          0.516715407371521,
          0.516715407371521,
          0.516715407371521,
          0.502123236656189,
          0.4947360157966614,
          0.4947360157966614,
          0.4947360157966614,
          0.4947360157966614,
          0.4947360157966614,
          0.4947360157966614,
          0.48342564702033997,
          0.48342564702033997,
          0.4972110688686371,
          0.4972110688686371,
          0.5070236921310425,
          0.4972110688686371,
          0.4972110688686371,
          0.507045328617096,
          0.516857922077179,
          0.5349937677383423,
          0.5461307168006897,
          0.5461307168006897,
          0.5800976157188416,
          0.612934410572052,
          0.6579117178916931,
          0.7274415493011475,
          0.7530728578567505,
          0.7530728578567505,
          0.7787083387374878,
          0.8305794596672058,
          0.8571751713752747,
          0.8325359225273132,
          0.8887947797775269,
          0.897176206111908,
          0.9020530581474304,
          0.9020530581474304,
          0.9066974520683289,
          0.9366213083267212,
          0.9132499694824219,
          0.7701926231384277,
          0.722862958908081,
          0.7266473770141602,
          0.7266473770141602,
          0.7697181701660156,
          0.8095107078552246,
          0.9313767552375793,
          0.8622788786888123,
          0.895750880241394,
          0.8218379616737366,
          0.9426928758621216,
          0.9403444528579712,
          0.9187594652175903,
          0.8894603252410889,
          0.8674004077911377,
          0.9189778566360474,
          0.892288327217102,
          0.9020476341247559,
          0.9734575748443604,
          0.9734575748443604,
          0.9757521152496338,
          0.962493896484375,
          0.9632202982902527,
          0.927593469619751,
          0.9321556091308594,
          0.9638825058937073,
          0.9267529249191284,
          0.9285171031951904,
          0.9345821142196655,
          0.9638825058937073,
          0.9593204855918884,
          0.9519836902618408,
          0.9519836902618408,
          0.9525102972984314,
          0.9525102972984314,
          0.9525102972984314,
          0.9525102972984314,
          0.9401615262031555,
          0.918554425239563,
          0.8673657178878784,
          0.8223361968994141,
          0.8223361968994141,
          0.7922577261924744,
          0.7730100154876709,
          0.7716750502586365,
          0.7722935080528259,
          0.7456109523773193,
          0.7451462149620056,
          0.7094863057136536,
          0.7004399299621582,
          0.6506232619285583,
          0.6200256943702698,
          0.48209238052368164,
          0.48209238052368164,
          0.452960342168808,
          -0.20023788511753082
         ],
         "yaxis": "y"
        },
        {
         "hovertemplate": "variable=forecast_with_half_radiation<br>index=%{x}<br>value=%{y}<extra></extra>",
         "legendgroup": "forecast_with_half_radiation",
         "line": {
          "color": "#00cc96",
          "dash": "solid"
         },
         "marker": {
          "symbol": "circle"
         },
         "mode": "lines",
         "name": "forecast_with_half_radiation",
         "orientation": "v",
         "showlegend": true,
         "type": "scatter",
         "x": [
          "2023-12-30T00:15:00+00:00",
          "2023-12-30T00:30:00+00:00",
          "2023-12-30T00:45:00+00:00",
          "2023-12-30T01:00:00+00:00",
          "2023-12-30T01:15:00+00:00",
          "2023-12-30T01:30:00+00:00",
          "2023-12-30T01:45:00+00:00",
          "2023-12-30T02:00:00+00:00",
          "2023-12-30T02:15:00+00:00",
          "2023-12-30T02:30:00+00:00",
          "2023-12-30T02:45:00+00:00",
          "2023-12-30T03:00:00+00:00",
          "2023-12-30T03:15:00+00:00",
          "2023-12-30T03:30:00+00:00",
          "2023-12-30T03:45:00+00:00",
          "2023-12-30T04:00:00+00:00",
          "2023-12-30T04:15:00+00:00",
          "2023-12-30T04:30:00+00:00",
          "2023-12-30T04:45:00+00:00",
          "2023-12-30T05:00:00+00:00",
          "2023-12-30T05:15:00+00:00",
          "2023-12-30T05:30:00+00:00",
          "2023-12-30T05:45:00+00:00",
          "2023-12-30T06:00:00+00:00",
          "2023-12-30T06:15:00+00:00",
          "2023-12-30T06:30:00+00:00",
          "2023-12-30T06:45:00+00:00",
          "2023-12-30T07:00:00+00:00",
          "2023-12-30T07:15:00+00:00",
          "2023-12-30T07:30:00+00:00",
          "2023-12-30T07:45:00+00:00",
          "2023-12-30T08:00:00+00:00",
          "2023-12-30T08:15:00+00:00",
          "2023-12-30T08:30:00+00:00",
          "2023-12-30T08:45:00+00:00",
          "2023-12-30T09:00:00+00:00",
          "2023-12-30T09:15:00+00:00",
          "2023-12-30T09:30:00+00:00",
          "2023-12-30T09:45:00+00:00",
          "2023-12-30T10:00:00+00:00",
          "2023-12-30T10:15:00+00:00",
          "2023-12-30T10:30:00+00:00",
          "2023-12-30T10:45:00+00:00",
          "2023-12-30T11:00:00+00:00",
          "2023-12-30T11:15:00+00:00",
          "2023-12-30T11:30:00+00:00",
          "2023-12-30T11:45:00+00:00",
          "2023-12-30T12:00:00+00:00",
          "2023-12-30T12:15:00+00:00",
          "2023-12-30T12:30:00+00:00",
          "2023-12-30T12:45:00+00:00",
          "2023-12-30T13:00:00+00:00",
          "2023-12-30T13:15:00+00:00",
          "2023-12-30T13:30:00+00:00",
          "2023-12-30T13:45:00+00:00",
          "2023-12-30T14:00:00+00:00",
          "2023-12-30T14:15:00+00:00",
          "2023-12-30T14:30:00+00:00",
          "2023-12-30T14:45:00+00:00",
          "2023-12-30T15:00:00+00:00",
          "2023-12-30T15:15:00+00:00",
          "2023-12-30T15:30:00+00:00",
          "2023-12-30T15:45:00+00:00",
          "2023-12-30T16:00:00+00:00",
          "2023-12-30T16:15:00+00:00",
          "2023-12-30T16:30:00+00:00",
          "2023-12-30T16:45:00+00:00",
          "2023-12-30T17:00:00+00:00",
          "2023-12-30T17:15:00+00:00",
          "2023-12-30T17:30:00+00:00",
          "2023-12-30T17:45:00+00:00",
          "2023-12-30T18:00:00+00:00",
          "2023-12-30T18:15:00+00:00",
          "2023-12-30T18:30:00+00:00",
          "2023-12-30T18:45:00+00:00",
          "2023-12-30T19:00:00+00:00",
          "2023-12-30T19:15:00+00:00",
          "2023-12-30T19:30:00+00:00",
          "2023-12-30T19:45:00+00:00",
          "2023-12-30T20:00:00+00:00",
          "2023-12-30T20:15:00+00:00",
          "2023-12-30T20:30:00+00:00",
          "2023-12-30T20:45:00+00:00",
          "2023-12-30T21:00:00+00:00",
          "2023-12-30T21:15:00+00:00",
          "2023-12-30T21:30:00+00:00",
          "2023-12-30T21:45:00+00:00",
          "2023-12-30T22:00:00+00:00",
          "2023-12-30T22:15:00+00:00",
          "2023-12-30T22:30:00+00:00",
          "2023-12-30T22:45:00+00:00",
          "2023-12-30T23:00:00+00:00",
          "2023-12-30T23:15:00+00:00",
          "2023-12-30T23:30:00+00:00",
          "2023-12-30T23:45:00+00:00",
          "2023-12-31T00:00:00+00:00",
          "2023-12-31T00:15:00+00:00",
          "2023-12-31T00:30:00+00:00",
          "2023-12-31T00:45:00+00:00",
          "2023-12-31T01:00:00+00:00",
          "2023-12-31T01:15:00+00:00",
          "2023-12-31T01:30:00+00:00",
          "2023-12-31T01:45:00+00:00",
          "2023-12-31T02:00:00+00:00",
          "2023-12-31T02:15:00+00:00",
          "2023-12-31T02:30:00+00:00",
          "2023-12-31T02:45:00+00:00",
          "2023-12-31T03:00:00+00:00",
          "2023-12-31T03:15:00+00:00",
          "2023-12-31T03:30:00+00:00",
          "2023-12-31T03:45:00+00:00",
          "2023-12-31T04:00:00+00:00",
          "2023-12-31T04:15:00+00:00",
          "2023-12-31T04:30:00+00:00",
          "2023-12-31T04:45:00+00:00",
          "2023-12-31T05:00:00+00:00",
          "2023-12-31T05:15:00+00:00",
          "2023-12-31T05:30:00+00:00",
          "2023-12-31T05:45:00+00:00",
          "2023-12-31T06:00:00+00:00",
          "2023-12-31T06:15:00+00:00",
          "2023-12-31T06:30:00+00:00",
          "2023-12-31T06:45:00+00:00",
          "2023-12-31T07:00:00+00:00",
          "2023-12-31T07:15:00+00:00",
          "2023-12-31T07:30:00+00:00",
          "2023-12-31T07:45:00+00:00",
          "2023-12-31T08:00:00+00:00",
          "2023-12-31T08:15:00+00:00",
          "2023-12-31T08:30:00+00:00",
          "2023-12-31T08:45:00+00:00",
          "2023-12-31T09:00:00+00:00",
          "2023-12-31T09:15:00+00:00",
          "2023-12-31T09:30:00+00:00",
          "2023-12-31T09:45:00+00:00",
          "2023-12-31T10:00:00+00:00",
          "2023-12-31T10:15:00+00:00",
          "2023-12-31T10:30:00+00:00",
          "2023-12-31T10:45:00+00:00",
          "2023-12-31T11:00:00+00:00",
          "2023-12-31T11:15:00+00:00",
          "2023-12-31T11:30:00+00:00",
          "2023-12-31T11:45:00+00:00",
          "2023-12-31T12:00:00+00:00",
          "2023-12-31T12:15:00+00:00",
          "2023-12-31T12:30:00+00:00",
          "2023-12-31T12:45:00+00:00",
          "2023-12-31T13:00:00+00:00",
          "2023-12-31T13:15:00+00:00",
          "2023-12-31T13:30:00+00:00",
          "2023-12-31T13:45:00+00:00",
          "2023-12-31T14:00:00+00:00",
          "2023-12-31T14:15:00+00:00",
          "2023-12-31T14:30:00+00:00",
          "2023-12-31T14:45:00+00:00",
          "2023-12-31T15:00:00+00:00",
          "2023-12-31T15:15:00+00:00",
          "2023-12-31T15:30:00+00:00",
          "2023-12-31T15:45:00+00:00",
          "2023-12-31T16:00:00+00:00",
          "2023-12-31T16:15:00+00:00",
          "2023-12-31T16:30:00+00:00",
          "2023-12-31T16:45:00+00:00",
          "2023-12-31T17:00:00+00:00",
          "2023-12-31T17:15:00+00:00",
          "2023-12-31T17:30:00+00:00",
          "2023-12-31T17:45:00+00:00",
          "2023-12-31T18:00:00+00:00",
          "2023-12-31T18:15:00+00:00",
          "2023-12-31T18:30:00+00:00",
          "2023-12-31T18:45:00+00:00",
          "2023-12-31T19:00:00+00:00",
          "2023-12-31T19:15:00+00:00",
          "2023-12-31T19:30:00+00:00",
          "2023-12-31T19:45:00+00:00",
          "2023-12-31T20:00:00+00:00",
          "2023-12-31T20:15:00+00:00",
          "2023-12-31T20:30:00+00:00",
          "2023-12-31T20:45:00+00:00",
          "2023-12-31T21:00:00+00:00",
          "2023-12-31T21:15:00+00:00",
          "2023-12-31T21:30:00+00:00",
          "2023-12-31T21:45:00+00:00",
          "2023-12-31T22:00:00+00:00",
          "2023-12-31T22:15:00+00:00",
          "2023-12-31T22:30:00+00:00",
          "2023-12-31T22:45:00+00:00",
          "2023-12-31T23:00:00+00:00",
          "2023-12-31T23:15:00+00:00",
          "2023-12-31T23:30:00+00:00",
          "2023-12-31T23:45:00+00:00",
          "2024-01-01T00:00:00+00:00"
         ],
         "xaxis": "x",
         "y": [
          0.5890951752662659,
          0.5067882537841797,
          0.5067882537841797,
          0.5092481970787048,
          0.4994010329246521,
          0.5067882537841797,
          0.4838663637638092,
          0.4994010329246521,
          0.47918030619621277,
          0.4714934825897217,
          0.4874627888202667,
          0.47774097323417664,
          0.5167701244354248,
          0.5158748626708984,
          0.5158748626708984,
          0.5428996682167053,
          0.5043074488639832,
          0.5186855792999268,
          0.5186855792999268,
          0.5186855792999268,
          0.5186855792999268,
          0.5227990746498108,
          0.5372615456581116,
          0.5456225275993347,
          0.6492853164672852,
          0.6651970148086548,
          0.6906706690788269,
          0.7614094018936157,
          0.7643954753875732,
          0.7687650322914124,
          0.7870977520942688,
          0.8048163652420044,
          0.8605984449386597,
          0.8634189367294312,
          0.8733293414115906,
          0.8795728087425232,
          0.8795728087425232,
          0.8580843210220337,
          0.8416638970375061,
          0.6300907135009766,
          0.5584952235221863,
          0.5508198142051697,
          0.5832229256629944,
          0.5806178450584412,
          0.5630716681480408,
          0.5594332814216614,
          0.5594332814216614,
          0.774147093296051,
          0.6035004258155823,
          0.6035004258155823,
          0.6012503504753113,
          0.6044747829437256,
          0.6318666934967041,
          0.6556562781333923,
          0.8224917054176331,
          0.9499785304069519,
          0.9512025713920593,
          0.9526268243789673,
          0.9658768773078918,
          0.9681714177131653,
          0.9735469222068787,
          0.9669297933578491,
          0.9728650450706482,
          0.9772550463676453,
          0.9824948310852051,
          0.9585115909576416,
          0.9701719284057617,
          0.9701719284057617,
          0.9701719284057617,
          0.9701719284057617,
          0.9701719284057617,
          0.9649321436882019,
          0.9673921465873718,
          0.9726319313049316,
          0.9644919037818909,
          0.9635967016220093,
          1,
          0.9855285882949829,
          0.9228749871253967,
          0.9228749871253967,
          0.9120816588401794,
          0.9021880030632019,
          0.855498194694519,
          0.8208951354026794,
          0.8139042854309082,
          0.811942994594574,
          0.7784916162490845,
          0.7325850129127502,
          0.6800186038017273,
          0.6572567820549011,
          0.6411750912666321,
          0.5926986932754517,
          0.5811923742294312,
          0.5811923742294312,
          0.5770788788795471,
          0.5304206013679504,
          0.5304206013679504,
          0.516715407371521,
          0.516715407371521,
          0.516715407371521,
          0.502123236656189,
          0.4947360157966614,
          0.4947360157966614,
          0.4947360157966614,
          0.4947360157966614,
          0.4947360157966614,
          0.4947360157966614,
          0.48342564702033997,
          0.48342564702033997,
          0.4972110688686371,
          0.4972110688686371,
          0.5070236921310425,
          0.4972110688686371,
          0.4972110688686371,
          0.507045328617096,
          0.516857922077179,
          0.5349937677383423,
          0.5461307168006897,
          0.5461307168006897,
          0.5800976157188416,
          0.612934410572052,
          0.6579117178916931,
          0.7274415493011475,
          0.7530728578567505,
          0.7530728578567505,
          0.7787083387374878,
          0.8305794596672058,
          0.8571751713752747,
          0.8325359225273132,
          0.8887947797775269,
          0.897176206111908,
          0.9020530581474304,
          0.9020530581474304,
          0.9066974520683289,
          0.9389159083366394,
          0.9155445098876953,
          0.7724871635437012,
          0.7251574993133545,
          0.7289419174194336,
          0.7266473770141602,
          0.7697181701660156,
          0.8095107078552246,
          0.9313767552375793,
          0.8622788786888123,
          0.8980454206466675,
          0.82413250207901,
          0.9426928758621216,
          0.9680011868476868,
          0.942188024520874,
          0.9275321960449219,
          0.9199450016021729,
          0.9589492678642273,
          0.9199450016021729,
          0.9319990277290344,
          0.9757521152496338,
          0.9757521152496338,
          0.9757521152496338,
          0.962493896484375,
          0.9632202982902527,
          0.927593469619751,
          0.9321556091308594,
          0.9638825058937073,
          0.9267529249191284,
          0.9285171031951904,
          0.9345821142196655,
          0.9638825058937073,
          0.9593204855918884,
          0.9519836902618408,
          0.9519836902618408,
          0.9525102972984314,
          0.9525102972984314,
          0.9525102972984314,
          0.9525102972984314,
          0.9401615262031555,
          0.918554425239563,
          0.8673657178878784,
          0.8223361968994141,
          0.8223361968994141,
          0.7922577261924744,
          0.7730100154876709,
          0.7716750502586365,
          0.7722935080528259,
          0.7456109523773193,
          0.7451462149620056,
          0.7094863057136536,
          0.7004399299621582,
          0.6506232619285583,
          0.6200256943702698,
          0.48209238052368164,
          0.48209238052368164,
          0.452960342168808,
          -0.20023788511753082
         ],
         "yaxis": "y"
        }
       ],
       "layout": {
        "legend": {
         "title": {
          "text": "variable"
         },
         "tracegroupgap": 0
        },
        "margin": {
         "t": 60
        },
        "template": {
         "data": {
          "bar": [
           {
            "error_x": {
             "color": "#2a3f5f"
            },
            "error_y": {
             "color": "#2a3f5f"
            },
            "marker": {
             "line": {
              "color": "#E5ECF6",
              "width": 0.5
             },
             "pattern": {
              "fillmode": "overlay",
              "size": 10,
              "solidity": 0.2
             }
            },
            "type": "bar"
           }
          ],
          "barpolar": [
           {
            "marker": {
             "line": {
              "color": "#E5ECF6",
              "width": 0.5
             },
             "pattern": {
              "fillmode": "overlay",
              "size": 10,
              "solidity": 0.2
             }
            },
            "type": "barpolar"
           }
          ],
          "carpet": [
           {
            "aaxis": {
             "endlinecolor": "#2a3f5f",
             "gridcolor": "white",
             "linecolor": "white",
             "minorgridcolor": "white",
             "startlinecolor": "#2a3f5f"
            },
            "baxis": {
             "endlinecolor": "#2a3f5f",
             "gridcolor": "white",
             "linecolor": "white",
             "minorgridcolor": "white",
             "startlinecolor": "#2a3f5f"
            },
            "type": "carpet"
           }
          ],
          "choropleth": [
           {
            "colorbar": {
             "outlinewidth": 0,
             "ticks": ""
            },
            "type": "choropleth"
           }
          ],
          "contour": [
           {
            "colorbar": {
             "outlinewidth": 0,
             "ticks": ""
            },
            "colorscale": [
             [
              0,
              "#0d0887"
             ],
             [
              0.1111111111111111,
              "#46039f"
             ],
             [
              0.2222222222222222,
              "#7201a8"
             ],
             [
              0.3333333333333333,
              "#9c179e"
             ],
             [
              0.4444444444444444,
              "#bd3786"
             ],
             [
              0.5555555555555556,
              "#d8576b"
             ],
             [
              0.6666666666666666,
              "#ed7953"
             ],
             [
              0.7777777777777778,
              "#fb9f3a"
             ],
             [
              0.8888888888888888,
              "#fdca26"
             ],
             [
              1,
              "#f0f921"
             ]
            ],
            "type": "contour"
           }
          ],
          "contourcarpet": [
           {
            "colorbar": {
             "outlinewidth": 0,
             "ticks": ""
            },
            "type": "contourcarpet"
           }
          ],
          "heatmap": [
           {
            "colorbar": {
             "outlinewidth": 0,
             "ticks": ""
            },
            "colorscale": [
             [
              0,
              "#0d0887"
             ],
             [
              0.1111111111111111,
              "#46039f"
             ],
             [
              0.2222222222222222,
              "#7201a8"
             ],
             [
              0.3333333333333333,
              "#9c179e"
             ],
             [
              0.4444444444444444,
              "#bd3786"
             ],
             [
              0.5555555555555556,
              "#d8576b"
             ],
             [
              0.6666666666666666,
              "#ed7953"
             ],
             [
              0.7777777777777778,
              "#fb9f3a"
             ],
             [
              0.8888888888888888,
              "#fdca26"
             ],
             [
              1,
              "#f0f921"
             ]
            ],
            "type": "heatmap"
           }
          ],
          "heatmapgl": [
           {
            "colorbar": {
             "outlinewidth": 0,
             "ticks": ""
            },
            "colorscale": [
             [
              0,
              "#0d0887"
             ],
             [
              0.1111111111111111,
              "#46039f"
             ],
             [
              0.2222222222222222,
              "#7201a8"
             ],
             [
              0.3333333333333333,
              "#9c179e"
             ],
             [
              0.4444444444444444,
              "#bd3786"
             ],
             [
              0.5555555555555556,
              "#d8576b"
             ],
             [
              0.6666666666666666,
              "#ed7953"
             ],
             [
              0.7777777777777778,
              "#fb9f3a"
             ],
             [
              0.8888888888888888,
              "#fdca26"
             ],
             [
              1,
              "#f0f921"
             ]
            ],
            "type": "heatmapgl"
           }
          ],
          "histogram": [
           {
            "marker": {
             "pattern": {
              "fillmode": "overlay",
              "size": 10,
              "solidity": 0.2
             }
            },
            "type": "histogram"
           }
          ],
          "histogram2d": [
           {
            "colorbar": {
             "outlinewidth": 0,
             "ticks": ""
            },
            "colorscale": [
             [
              0,
              "#0d0887"
             ],
             [
              0.1111111111111111,
              "#46039f"
             ],
             [
              0.2222222222222222,
              "#7201a8"
             ],
             [
              0.3333333333333333,
              "#9c179e"
             ],
             [
              0.4444444444444444,
              "#bd3786"
             ],
             [
              0.5555555555555556,
              "#d8576b"
             ],
             [
              0.6666666666666666,
              "#ed7953"
             ],
             [
              0.7777777777777778,
              "#fb9f3a"
             ],
             [
              0.8888888888888888,
              "#fdca26"
             ],
             [
              1,
              "#f0f921"
             ]
            ],
            "type": "histogram2d"
           }
          ],
          "histogram2dcontour": [
           {
            "colorbar": {
             "outlinewidth": 0,
             "ticks": ""
            },
            "colorscale": [
             [
              0,
              "#0d0887"
             ],
             [
              0.1111111111111111,
              "#46039f"
             ],
             [
              0.2222222222222222,
              "#7201a8"
             ],
             [
              0.3333333333333333,
              "#9c179e"
             ],
             [
              0.4444444444444444,
              "#bd3786"
             ],
             [
              0.5555555555555556,
              "#d8576b"
             ],
             [
              0.6666666666666666,
              "#ed7953"
             ],
             [
              0.7777777777777778,
              "#fb9f3a"
             ],
             [
              0.8888888888888888,
              "#fdca26"
             ],
             [
              1,
              "#f0f921"
             ]
            ],
            "type": "histogram2dcontour"
           }
          ],
          "mesh3d": [
           {
            "colorbar": {
             "outlinewidth": 0,
             "ticks": ""
            },
            "type": "mesh3d"
           }
          ],
          "parcoords": [
           {
            "line": {
             "colorbar": {
              "outlinewidth": 0,
              "ticks": ""
             }
            },
            "type": "parcoords"
           }
          ],
          "pie": [
           {
            "automargin": true,
            "type": "pie"
           }
          ],
          "scatter": [
           {
            "fillpattern": {
             "fillmode": "overlay",
             "size": 10,
             "solidity": 0.2
            },
            "type": "scatter"
           }
          ],
          "scatter3d": [
           {
            "line": {
             "colorbar": {
              "outlinewidth": 0,
              "ticks": ""
             }
            },
            "marker": {
             "colorbar": {
              "outlinewidth": 0,
              "ticks": ""
             }
            },
            "type": "scatter3d"
           }
          ],
          "scattercarpet": [
           {
            "marker": {
             "colorbar": {
              "outlinewidth": 0,
              "ticks": ""
             }
            },
            "type": "scattercarpet"
           }
          ],
          "scattergeo": [
           {
            "marker": {
             "colorbar": {
              "outlinewidth": 0,
              "ticks": ""
             }
            },
            "type": "scattergeo"
           }
          ],
          "scattergl": [
           {
            "marker": {
             "colorbar": {
              "outlinewidth": 0,
              "ticks": ""
             }
            },
            "type": "scattergl"
           }
          ],
          "scattermapbox": [
           {
            "marker": {
             "colorbar": {
              "outlinewidth": 0,
              "ticks": ""
             }
            },
            "type": "scattermapbox"
           }
          ],
          "scatterpolar": [
           {
            "marker": {
             "colorbar": {
              "outlinewidth": 0,
              "ticks": ""
             }
            },
            "type": "scatterpolar"
           }
          ],
          "scatterpolargl": [
           {
            "marker": {
             "colorbar": {
              "outlinewidth": 0,
              "ticks": ""
             }
            },
            "type": "scatterpolargl"
           }
          ],
          "scatterternary": [
           {
            "marker": {
             "colorbar": {
              "outlinewidth": 0,
              "ticks": ""
             }
            },
            "type": "scatterternary"
           }
          ],
          "surface": [
           {
            "colorbar": {
             "outlinewidth": 0,
             "ticks": ""
            },
            "colorscale": [
             [
              0,
              "#0d0887"
             ],
             [
              0.1111111111111111,
              "#46039f"
             ],
             [
              0.2222222222222222,
              "#7201a8"
             ],
             [
              0.3333333333333333,
              "#9c179e"
             ],
             [
              0.4444444444444444,
              "#bd3786"
             ],
             [
              0.5555555555555556,
              "#d8576b"
             ],
             [
              0.6666666666666666,
              "#ed7953"
             ],
             [
              0.7777777777777778,
              "#fb9f3a"
             ],
             [
              0.8888888888888888,
              "#fdca26"
             ],
             [
              1,
              "#f0f921"
             ]
            ],
            "type": "surface"
           }
          ],
          "table": [
           {
            "cells": {
             "fill": {
              "color": "#EBF0F8"
             },
             "line": {
              "color": "white"
             }
            },
            "header": {
             "fill": {
              "color": "#C8D4E3"
             },
             "line": {
              "color": "white"
             }
            },
            "type": "table"
           }
          ]
         },
         "layout": {
          "annotationdefaults": {
           "arrowcolor": "#2a3f5f",
           "arrowhead": 0,
           "arrowwidth": 1
          },
          "autotypenumbers": "strict",
          "coloraxis": {
           "colorbar": {
            "outlinewidth": 0,
            "ticks": ""
           }
          },
          "colorscale": {
           "diverging": [
            [
             0,
             "#8e0152"
            ],
            [
             0.1,
             "#c51b7d"
            ],
            [
             0.2,
             "#de77ae"
            ],
            [
             0.3,
             "#f1b6da"
            ],
            [
             0.4,
             "#fde0ef"
            ],
            [
             0.5,
             "#f7f7f7"
            ],
            [
             0.6,
             "#e6f5d0"
            ],
            [
             0.7,
             "#b8e186"
            ],
            [
             0.8,
             "#7fbc41"
            ],
            [
             0.9,
             "#4d9221"
            ],
            [
             1,
             "#276419"
            ]
           ],
           "sequential": [
            [
             0,
             "#0d0887"
            ],
            [
             0.1111111111111111,
             "#46039f"
            ],
            [
             0.2222222222222222,
             "#7201a8"
            ],
            [
             0.3333333333333333,
             "#9c179e"
            ],
            [
             0.4444444444444444,
             "#bd3786"
            ],
            [
             0.5555555555555556,
             "#d8576b"
            ],
            [
             0.6666666666666666,
             "#ed7953"
            ],
            [
             0.7777777777777778,
             "#fb9f3a"
            ],
            [
             0.8888888888888888,
             "#fdca26"
            ],
            [
             1,
             "#f0f921"
            ]
           ],
           "sequentialminus": [
            [
             0,
             "#0d0887"
            ],
            [
             0.1111111111111111,
             "#46039f"
            ],
            [
             0.2222222222222222,
             "#7201a8"
            ],
            [
             0.3333333333333333,
             "#9c179e"
            ],
            [
             0.4444444444444444,
             "#bd3786"
            ],
            [
             0.5555555555555556,
             "#d8576b"
            ],
            [
             0.6666666666666666,
             "#ed7953"
            ],
            [
             0.7777777777777778,
             "#fb9f3a"
            ],
            [
             0.8888888888888888,
             "#fdca26"
            ],
            [
             1,
             "#f0f921"
            ]
           ]
          },
          "colorway": [
           "#636efa",
           "#EF553B",
           "#00cc96",
           "#ab63fa",
           "#FFA15A",
           "#19d3f3",
           "#FF6692",
           "#B6E880",
           "#FF97FF",
           "#FECB52"
          ],
          "font": {
           "color": "#2a3f5f"
          },
          "geo": {
           "bgcolor": "white",
           "lakecolor": "white",
           "landcolor": "#E5ECF6",
           "showlakes": true,
           "showland": true,
           "subunitcolor": "white"
          },
          "hoverlabel": {
           "align": "left"
          },
          "hovermode": "closest",
          "mapbox": {
           "style": "light"
          },
          "paper_bgcolor": "white",
          "plot_bgcolor": "#E5ECF6",
          "polar": {
           "angularaxis": {
            "gridcolor": "white",
            "linecolor": "white",
            "ticks": ""
           },
           "bgcolor": "#E5ECF6",
           "radialaxis": {
            "gridcolor": "white",
            "linecolor": "white",
            "ticks": ""
           }
          },
          "scene": {
           "xaxis": {
            "backgroundcolor": "#E5ECF6",
            "gridcolor": "white",
            "gridwidth": 2,
            "linecolor": "white",
            "showbackground": true,
            "ticks": "",
            "zerolinecolor": "white"
           },
           "yaxis": {
            "backgroundcolor": "#E5ECF6",
            "gridcolor": "white",
            "gridwidth": 2,
            "linecolor": "white",
            "showbackground": true,
            "ticks": "",
            "zerolinecolor": "white"
           },
           "zaxis": {
            "backgroundcolor": "#E5ECF6",
            "gridcolor": "white",
            "gridwidth": 2,
            "linecolor": "white",
            "showbackground": true,
            "ticks": "",
            "zerolinecolor": "white"
           }
          },
          "shapedefaults": {
           "line": {
            "color": "#2a3f5f"
           }
          },
          "ternary": {
           "aaxis": {
            "gridcolor": "white",
            "linecolor": "white",
            "ticks": ""
           },
           "baxis": {
            "gridcolor": "white",
            "linecolor": "white",
            "ticks": ""
           },
           "bgcolor": "#E5ECF6",
           "caxis": {
            "gridcolor": "white",
            "linecolor": "white",
            "ticks": ""
           }
          },
          "title": {
           "x": 0.05
          },
          "xaxis": {
           "automargin": true,
           "gridcolor": "white",
           "linecolor": "white",
           "ticks": "",
           "title": {
            "standoff": 15
           },
           "zerolinecolor": "white",
           "zerolinewidth": 2
          },
          "yaxis": {
           "automargin": true,
           "gridcolor": "white",
           "linecolor": "white",
           "ticks": "",
           "title": {
            "standoff": 15
           },
           "zerolinecolor": "white",
           "zerolinewidth": 2
          }
         }
        },
        "xaxis": {
         "anchor": "y",
         "domain": [
          0,
          1
         ],
         "title": {
          "text": "Timestamp"
         }
        },
        "yaxis": {
         "anchor": "x",
         "domain": [
          0,
          1
         ],
         "title": {
          "text": "Normalized values"
         }
        }
       }
      }
     },
     "metadata": {},
     "output_type": "display_data"
    },
    {
     "data": {
      "text/plain": [
       "None"
      ]
     },
     "metadata": {},
     "output_type": "display_data"
    }
   ],
   "source": [
    "# Inspect the results.\n",
    "radiation_forecast_comparison = pd.DataFrame(\n",
    "    test_data[\"radiation\"]/max(test_data[\"radiation\"])\n",
    ")\n",
    "\n",
    "radiation_forecast_comparison[\"forecast_with_full_radiation\"] = forecast[\"forecast\"]/max(forecast[\"forecast\"])\n",
    "radiation_forecast_comparison[\"forecast_with_half_radiation\"] = forecast_rad[\"forecast\"]/max(forecast_rad[\"forecast\"])\n",
    "\n",
    "fig_radiation_forecast_comparison=radiation_forecast_comparison.plot()\n",
    "\n",
    "fig_radiation_forecast_comparison.update_layout(\n",
    "    xaxis_title='Timestamp',\n",
    "    yaxis_title=\"Normalized values\"\n",
    ")\n",
    "display(fig_radiation_forecast_comparison.show())"
   ]
  },
  {
   "cell_type": "markdown",
   "id": "2fcab1fa",
   "metadata": {},
   "source": [
    "## Bonus: Dashboard\n",
    "Did you know that OpenSTEF has an eloborate dashboard which shows you everything you want to know about your forecast? Check it the dashboard documentation [here](https://raw.githack.com/OpenSTEF/.github/main/profile/html/openstef_dashboard_doc.html) . \n",
    "\n",
    "Which different in- and output components do you see in this dashboard? \n"
   ]
  }
 ],
 "metadata": {
  "kernelspec": {
   "display_name": "Python 3 (ipykernel)",
   "language": "python",
   "name": "python3"
  },
  "language_info": {
   "codemirror_mode": {
    "name": "ipython",
    "version": 3
   },
   "file_extension": ".py",
   "mimetype": "text/x-python",
   "name": "python",
   "nbconvert_exporter": "python",
   "pygments_lexer": "ipython3",
   "version": "3.10.13"
  }
 },
 "nbformat": 4,
 "nbformat_minor": 5
}
