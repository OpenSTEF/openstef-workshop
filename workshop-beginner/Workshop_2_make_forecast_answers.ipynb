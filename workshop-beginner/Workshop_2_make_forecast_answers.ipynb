{
 "cells": [
  {
   "cell_type": "code",
   "execution_count": null,
   "id": "1c0cb3de",
   "metadata": {},
   "outputs": [
    {
     "name": "stdout",
     "output_type": "stream",
     "text": [
      "Requirement already satisfied: openstef==3.4.72 in /Users/marnix.van.lieshout/Code/STEF/OpenSTEF/openstef-workshop/.venv/lib/python3.11/site-packages (from -r ../requirements.txt (line 1)) (3.4.72)\n",
      "Requirement already satisfied: jupyter==1.0 in /Users/marnix.van.lieshout/Code/STEF/OpenSTEF/openstef-workshop/.venv/lib/python3.11/site-packages (from -r ../requirements.txt (line 2)) (1.0.0)\n",
      "Requirement already satisfied: holidays==0.21 in /Users/marnix.van.lieshout/Code/STEF/OpenSTEF/openstef-workshop/.venv/lib/python3.11/site-packages (from openstef==3.4.72->-r ../requirements.txt (line 1)) (0.21)\n",
      "Requirement already satisfied: joblib==1.3.2 in /Users/marnix.van.lieshout/Code/STEF/OpenSTEF/openstef-workshop/.venv/lib/python3.11/site-packages (from openstef==3.4.72->-r ../requirements.txt (line 1)) (1.3.2)\n",
      "Requirement already satisfied: lightgbm>=4.0 in /Users/marnix.van.lieshout/Code/STEF/OpenSTEF/openstef-workshop/.venv/lib/python3.11/site-packages (from openstef==3.4.72->-r ../requirements.txt (line 1)) (4.6.0)\n",
      "Requirement already satisfied: matplotlib~=3.7 in /Users/marnix.van.lieshout/Code/STEF/OpenSTEF/openstef-workshop/.venv/lib/python3.11/site-packages (from openstef==3.4.72->-r ../requirements.txt (line 1)) (3.10.1)\n",
      "Requirement already satisfied: mlflow~=2.3 in /Users/marnix.van.lieshout/Code/STEF/OpenSTEF/openstef-workshop/.venv/lib/python3.11/site-packages (from openstef==3.4.72->-r ../requirements.txt (line 1)) (2.21.3)\n",
      "Requirement already satisfied: networkx~=3.1 in /Users/marnix.van.lieshout/Code/STEF/OpenSTEF/openstef-workshop/.venv/lib/python3.11/site-packages (from openstef==3.4.72->-r ../requirements.txt (line 1)) (3.4.2)\n",
      "Requirement already satisfied: numpy<3,>=2 in /Users/marnix.van.lieshout/Code/STEF/OpenSTEF/openstef-workshop/.venv/lib/python3.11/site-packages (from openstef==3.4.72->-r ../requirements.txt (line 1)) (2.2.4)\n",
      "Requirement already satisfied: optuna~=3.1 in /Users/marnix.van.lieshout/Code/STEF/OpenSTEF/openstef-workshop/.venv/lib/python3.11/site-packages (from openstef==3.4.72->-r ../requirements.txt (line 1)) (3.6.2)\n",
      "Requirement already satisfied: optuna-integration~=3.6 in /Users/marnix.van.lieshout/Code/STEF/OpenSTEF/openstef-workshop/.venv/lib/python3.11/site-packages (from openstef==3.4.72->-r ../requirements.txt (line 1)) (3.6.0)\n",
      "Requirement already satisfied: pandas~=2.2.0 in /Users/marnix.van.lieshout/Code/STEF/OpenSTEF/openstef-workshop/.venv/lib/python3.11/site-packages (from openstef==3.4.72->-r ../requirements.txt (line 1)) (2.2.3)\n",
      "Requirement already satisfied: plotly~=5.18 in /Users/marnix.van.lieshout/Code/STEF/OpenSTEF/openstef-workshop/.venv/lib/python3.11/site-packages (from openstef==3.4.72->-r ../requirements.txt (line 1)) (5.24.1)\n",
      "Requirement already satisfied: pvlib==0.10.5 in /Users/marnix.van.lieshout/Code/STEF/OpenSTEF/openstef-workshop/.venv/lib/python3.11/site-packages (from openstef==3.4.72->-r ../requirements.txt (line 1)) (0.10.5)\n",
      "Requirement already satisfied: pydantic~=2.4 in /Users/marnix.van.lieshout/Code/STEF/OpenSTEF/openstef-workshop/.venv/lib/python3.11/site-packages (from openstef==3.4.72->-r ../requirements.txt (line 1)) (2.11.3)\n",
      "Requirement already satisfied: pydantic-settings~=2.3 in /Users/marnix.van.lieshout/Code/STEF/OpenSTEF/openstef-workshop/.venv/lib/python3.11/site-packages (from openstef==3.4.72->-r ../requirements.txt (line 1)) (2.8.1)\n",
      "Requirement already satisfied: pymsteams~=0.2.2 in /Users/marnix.van.lieshout/Code/STEF/OpenSTEF/openstef-workshop/.venv/lib/python3.11/site-packages (from openstef==3.4.72->-r ../requirements.txt (line 1)) (0.2.5)\n",
      "Requirement already satisfied: scikit-learn<1.6,>=1.3 in /Users/marnix.van.lieshout/Code/STEF/OpenSTEF/openstef-workshop/.venv/lib/python3.11/site-packages (from openstef==3.4.72->-r ../requirements.txt (line 1)) (1.5.2)\n",
      "Requirement already satisfied: scipy~=1.10 in /Users/marnix.van.lieshout/Code/STEF/OpenSTEF/openstef-workshop/.venv/lib/python3.11/site-packages (from openstef==3.4.72->-r ../requirements.txt (line 1)) (1.15.2)\n",
      "Requirement already satisfied: statsmodels<1.0.0,>=0.13.5 in /Users/marnix.van.lieshout/Code/STEF/OpenSTEF/openstef-workshop/.venv/lib/python3.11/site-packages (from openstef==3.4.72->-r ../requirements.txt (line 1)) (0.14.4)\n",
      "Requirement already satisfied: structlog>=23.1 in /Users/marnix.van.lieshout/Code/STEF/OpenSTEF/openstef-workshop/.venv/lib/python3.11/site-packages (from openstef==3.4.72->-r ../requirements.txt (line 1)) (25.2.0)\n",
      "Requirement already satisfied: notebook in /Users/marnix.van.lieshout/Code/STEF/OpenSTEF/openstef-workshop/.venv/lib/python3.11/site-packages (from jupyter==1.0->-r ../requirements.txt (line 2)) (7.4.0)\n",
      "Requirement already satisfied: qtconsole in /Users/marnix.van.lieshout/Code/STEF/OpenSTEF/openstef-workshop/.venv/lib/python3.11/site-packages (from jupyter==1.0->-r ../requirements.txt (line 2)) (5.6.1)\n",
      "Requirement already satisfied: jupyter-console in /Users/marnix.van.lieshout/Code/STEF/OpenSTEF/openstef-workshop/.venv/lib/python3.11/site-packages (from jupyter==1.0->-r ../requirements.txt (line 2)) (6.6.3)\n",
      "Requirement already satisfied: nbconvert in /Users/marnix.van.lieshout/Code/STEF/OpenSTEF/openstef-workshop/.venv/lib/python3.11/site-packages (from jupyter==1.0->-r ../requirements.txt (line 2)) (7.16.6)\n",
      "Requirement already satisfied: ipykernel in /Users/marnix.van.lieshout/Code/STEF/OpenSTEF/openstef-workshop/.venv/lib/python3.11/site-packages (from jupyter==1.0->-r ../requirements.txt (line 2)) (6.29.5)\n",
      "Requirement already satisfied: ipywidgets in /Users/marnix.van.lieshout/Code/STEF/OpenSTEF/openstef-workshop/.venv/lib/python3.11/site-packages (from jupyter==1.0->-r ../requirements.txt (line 2)) (8.1.6)\n",
      "Requirement already satisfied: PyMeeus in /Users/marnix.van.lieshout/Code/STEF/OpenSTEF/openstef-workshop/.venv/lib/python3.11/site-packages (from holidays==0.21->openstef==3.4.72->-r ../requirements.txt (line 1)) (0.5.12)\n",
      "Requirement already satisfied: convertdate>=2.3.0 in /Users/marnix.van.lieshout/Code/STEF/OpenSTEF/openstef-workshop/.venv/lib/python3.11/site-packages (from holidays==0.21->openstef==3.4.72->-r ../requirements.txt (line 1)) (2.4.0)\n",
      "Requirement already satisfied: hijri-converter in /Users/marnix.van.lieshout/Code/STEF/OpenSTEF/openstef-workshop/.venv/lib/python3.11/site-packages (from holidays==0.21->openstef==3.4.72->-r ../requirements.txt (line 1)) (2.3.1)\n",
      "Requirement already satisfied: korean-lunar-calendar in /Users/marnix.van.lieshout/Code/STEF/OpenSTEF/openstef-workshop/.venv/lib/python3.11/site-packages (from holidays==0.21->openstef==3.4.72->-r ../requirements.txt (line 1)) (0.3.1)\n",
      "Requirement already satisfied: python-dateutil in /Users/marnix.van.lieshout/Code/STEF/OpenSTEF/openstef-workshop/.venv/lib/python3.11/site-packages (from holidays==0.21->openstef==3.4.72->-r ../requirements.txt (line 1)) (2.9.0.post0)\n",
      "Requirement already satisfied: pytz in /Users/marnix.van.lieshout/Code/STEF/OpenSTEF/openstef-workshop/.venv/lib/python3.11/site-packages (from pvlib==0.10.5->openstef==3.4.72->-r ../requirements.txt (line 1)) (2025.2)\n",
      "Requirement already satisfied: requests in /Users/marnix.van.lieshout/Code/STEF/OpenSTEF/openstef-workshop/.venv/lib/python3.11/site-packages (from pvlib==0.10.5->openstef==3.4.72->-r ../requirements.txt (line 1)) (2.32.3)\n",
      "Requirement already satisfied: h5py in /Users/marnix.van.lieshout/Code/STEF/OpenSTEF/openstef-workshop/.venv/lib/python3.11/site-packages (from pvlib==0.10.5->openstef==3.4.72->-r ../requirements.txt (line 1)) (3.13.0)\n",
      "Requirement already satisfied: contourpy>=1.0.1 in /Users/marnix.van.lieshout/Code/STEF/OpenSTEF/openstef-workshop/.venv/lib/python3.11/site-packages (from matplotlib~=3.7->openstef==3.4.72->-r ../requirements.txt (line 1)) (1.3.2)\n",
      "Requirement already satisfied: cycler>=0.10 in /Users/marnix.van.lieshout/Code/STEF/OpenSTEF/openstef-workshop/.venv/lib/python3.11/site-packages (from matplotlib~=3.7->openstef==3.4.72->-r ../requirements.txt (line 1)) (0.12.1)\n",
      "Requirement already satisfied: fonttools>=4.22.0 in /Users/marnix.van.lieshout/Code/STEF/OpenSTEF/openstef-workshop/.venv/lib/python3.11/site-packages (from matplotlib~=3.7->openstef==3.4.72->-r ../requirements.txt (line 1)) (4.57.0)\n",
      "Requirement already satisfied: kiwisolver>=1.3.1 in /Users/marnix.van.lieshout/Code/STEF/OpenSTEF/openstef-workshop/.venv/lib/python3.11/site-packages (from matplotlib~=3.7->openstef==3.4.72->-r ../requirements.txt (line 1)) (1.4.8)\n",
      "Requirement already satisfied: packaging>=20.0 in /Users/marnix.van.lieshout/Code/STEF/OpenSTEF/openstef-workshop/.venv/lib/python3.11/site-packages (from matplotlib~=3.7->openstef==3.4.72->-r ../requirements.txt (line 1)) (24.2)\n",
      "Requirement already satisfied: pillow>=8 in /Users/marnix.van.lieshout/Code/STEF/OpenSTEF/openstef-workshop/.venv/lib/python3.11/site-packages (from matplotlib~=3.7->openstef==3.4.72->-r ../requirements.txt (line 1)) (11.2.1)\n",
      "Requirement already satisfied: pyparsing>=2.3.1 in /Users/marnix.van.lieshout/Code/STEF/OpenSTEF/openstef-workshop/.venv/lib/python3.11/site-packages (from matplotlib~=3.7->openstef==3.4.72->-r ../requirements.txt (line 1)) (3.2.3)\n",
      "Requirement already satisfied: mlflow-skinny==2.21.3 in /Users/marnix.van.lieshout/Code/STEF/OpenSTEF/openstef-workshop/.venv/lib/python3.11/site-packages (from mlflow~=2.3->openstef==3.4.72->-r ../requirements.txt (line 1)) (2.21.3)\n",
      "Requirement already satisfied: Flask<4 in /Users/marnix.van.lieshout/Code/STEF/OpenSTEF/openstef-workshop/.venv/lib/python3.11/site-packages (from mlflow~=2.3->openstef==3.4.72->-r ../requirements.txt (line 1)) (3.1.0)\n",
      "Requirement already satisfied: Jinja2<4,>=2.11 in /Users/marnix.van.lieshout/Code/STEF/OpenSTEF/openstef-workshop/.venv/lib/python3.11/site-packages (from mlflow~=2.3->openstef==3.4.72->-r ../requirements.txt (line 1)) (3.1.6)\n",
      "Requirement already satisfied: alembic!=1.10.0,<2 in /Users/marnix.van.lieshout/Code/STEF/OpenSTEF/openstef-workshop/.venv/lib/python3.11/site-packages (from mlflow~=2.3->openstef==3.4.72->-r ../requirements.txt (line 1)) (1.15.2)\n",
      "Requirement already satisfied: docker<8,>=4.0.0 in /Users/marnix.van.lieshout/Code/STEF/OpenSTEF/openstef-workshop/.venv/lib/python3.11/site-packages (from mlflow~=2.3->openstef==3.4.72->-r ../requirements.txt (line 1)) (7.1.0)\n",
      "Requirement already satisfied: graphene<4 in /Users/marnix.van.lieshout/Code/STEF/OpenSTEF/openstef-workshop/.venv/lib/python3.11/site-packages (from mlflow~=2.3->openstef==3.4.72->-r ../requirements.txt (line 1)) (3.4.3)\n",
      "Requirement already satisfied: gunicorn<24 in /Users/marnix.van.lieshout/Code/STEF/OpenSTEF/openstef-workshop/.venv/lib/python3.11/site-packages (from mlflow~=2.3->openstef==3.4.72->-r ../requirements.txt (line 1)) (23.0.0)\n",
      "Requirement already satisfied: markdown<4,>=3.3 in /Users/marnix.van.lieshout/Code/STEF/OpenSTEF/openstef-workshop/.venv/lib/python3.11/site-packages (from mlflow~=2.3->openstef==3.4.72->-r ../requirements.txt (line 1)) (3.8)\n",
      "Requirement already satisfied: pyarrow<20,>=4.0.0 in /Users/marnix.van.lieshout/Code/STEF/OpenSTEF/openstef-workshop/.venv/lib/python3.11/site-packages (from mlflow~=2.3->openstef==3.4.72->-r ../requirements.txt (line 1)) (19.0.1)\n",
      "Requirement already satisfied: sqlalchemy<3,>=1.4.0 in /Users/marnix.van.lieshout/Code/STEF/OpenSTEF/openstef-workshop/.venv/lib/python3.11/site-packages (from mlflow~=2.3->openstef==3.4.72->-r ../requirements.txt (line 1)) (2.0.40)\n",
      "Requirement already satisfied: cachetools<6,>=5.0.0 in /Users/marnix.van.lieshout/Code/STEF/OpenSTEF/openstef-workshop/.venv/lib/python3.11/site-packages (from mlflow-skinny==2.21.3->mlflow~=2.3->openstef==3.4.72->-r ../requirements.txt (line 1)) (5.5.2)\n",
      "Requirement already satisfied: click<9,>=7.0 in /Users/marnix.van.lieshout/Code/STEF/OpenSTEF/openstef-workshop/.venv/lib/python3.11/site-packages (from mlflow-skinny==2.21.3->mlflow~=2.3->openstef==3.4.72->-r ../requirements.txt (line 1)) (8.1.8)\n",
      "Requirement already satisfied: cloudpickle<4 in /Users/marnix.van.lieshout/Code/STEF/OpenSTEF/openstef-workshop/.venv/lib/python3.11/site-packages (from mlflow-skinny==2.21.3->mlflow~=2.3->openstef==3.4.72->-r ../requirements.txt (line 1)) (3.1.1)\n",
      "Requirement already satisfied: databricks-sdk<1,>=0.20.0 in /Users/marnix.van.lieshout/Code/STEF/OpenSTEF/openstef-workshop/.venv/lib/python3.11/site-packages (from mlflow-skinny==2.21.3->mlflow~=2.3->openstef==3.4.72->-r ../requirements.txt (line 1)) (0.50.0)\n",
      "Requirement already satisfied: fastapi<1 in /Users/marnix.van.lieshout/Code/STEF/OpenSTEF/openstef-workshop/.venv/lib/python3.11/site-packages (from mlflow-skinny==2.21.3->mlflow~=2.3->openstef==3.4.72->-r ../requirements.txt (line 1)) (0.115.12)\n",
      "Requirement already satisfied: gitpython<4,>=3.1.9 in /Users/marnix.van.lieshout/Code/STEF/OpenSTEF/openstef-workshop/.venv/lib/python3.11/site-packages (from mlflow-skinny==2.21.3->mlflow~=2.3->openstef==3.4.72->-r ../requirements.txt (line 1)) (3.1.44)\n",
      "Requirement already satisfied: importlib_metadata!=4.7.0,<9,>=3.7.0 in /Users/marnix.van.lieshout/Code/STEF/OpenSTEF/openstef-workshop/.venv/lib/python3.11/site-packages (from mlflow-skinny==2.21.3->mlflow~=2.3->openstef==3.4.72->-r ../requirements.txt (line 1)) (8.6.1)\n",
      "Requirement already satisfied: opentelemetry-api<3,>=1.9.0 in /Users/marnix.van.lieshout/Code/STEF/OpenSTEF/openstef-workshop/.venv/lib/python3.11/site-packages (from mlflow-skinny==2.21.3->mlflow~=2.3->openstef==3.4.72->-r ../requirements.txt (line 1)) (1.32.1)\n",
      "Requirement already satisfied: opentelemetry-sdk<3,>=1.9.0 in /Users/marnix.van.lieshout/Code/STEF/OpenSTEF/openstef-workshop/.venv/lib/python3.11/site-packages (from mlflow-skinny==2.21.3->mlflow~=2.3->openstef==3.4.72->-r ../requirements.txt (line 1)) (1.32.1)\n",
      "Requirement already satisfied: protobuf<6,>=3.12.0 in /Users/marnix.van.lieshout/Code/STEF/OpenSTEF/openstef-workshop/.venv/lib/python3.11/site-packages (from mlflow-skinny==2.21.3->mlflow~=2.3->openstef==3.4.72->-r ../requirements.txt (line 1)) (5.29.4)\n",
      "Requirement already satisfied: pyyaml<7,>=5.1 in /Users/marnix.van.lieshout/Code/STEF/OpenSTEF/openstef-workshop/.venv/lib/python3.11/site-packages (from mlflow-skinny==2.21.3->mlflow~=2.3->openstef==3.4.72->-r ../requirements.txt (line 1)) (6.0.2)\n",
      "Requirement already satisfied: sqlparse<1,>=0.4.0 in /Users/marnix.van.lieshout/Code/STEF/OpenSTEF/openstef-workshop/.venv/lib/python3.11/site-packages (from mlflow-skinny==2.21.3->mlflow~=2.3->openstef==3.4.72->-r ../requirements.txt (line 1)) (0.5.3)\n",
      "Requirement already satisfied: typing-extensions<5,>=4.0.0 in /Users/marnix.van.lieshout/Code/STEF/OpenSTEF/openstef-workshop/.venv/lib/python3.11/site-packages (from mlflow-skinny==2.21.3->mlflow~=2.3->openstef==3.4.72->-r ../requirements.txt (line 1)) (4.13.2)\n",
      "Requirement already satisfied: uvicorn<1 in /Users/marnix.van.lieshout/Code/STEF/OpenSTEF/openstef-workshop/.venv/lib/python3.11/site-packages (from mlflow-skinny==2.21.3->mlflow~=2.3->openstef==3.4.72->-r ../requirements.txt (line 1)) (0.34.1)\n",
      "Requirement already satisfied: colorlog in /Users/marnix.van.lieshout/Code/STEF/OpenSTEF/openstef-workshop/.venv/lib/python3.11/site-packages (from optuna~=3.1->openstef==3.4.72->-r ../requirements.txt (line 1)) (6.9.0)\n",
      "Requirement already satisfied: tqdm in /Users/marnix.van.lieshout/Code/STEF/OpenSTEF/openstef-workshop/.venv/lib/python3.11/site-packages (from optuna~=3.1->openstef==3.4.72->-r ../requirements.txt (line 1)) (4.67.1)\n",
      "Requirement already satisfied: tzdata>=2022.7 in /Users/marnix.van.lieshout/Code/STEF/OpenSTEF/openstef-workshop/.venv/lib/python3.11/site-packages (from pandas~=2.2.0->openstef==3.4.72->-r ../requirements.txt (line 1)) (2025.2)\n",
      "Requirement already satisfied: tenacity>=6.2.0 in /Users/marnix.van.lieshout/Code/STEF/OpenSTEF/openstef-workshop/.venv/lib/python3.11/site-packages (from plotly~=5.18->openstef==3.4.72->-r ../requirements.txt (line 1)) (9.1.2)\n",
      "Requirement already satisfied: annotated-types>=0.6.0 in /Users/marnix.van.lieshout/Code/STEF/OpenSTEF/openstef-workshop/.venv/lib/python3.11/site-packages (from pydantic~=2.4->openstef==3.4.72->-r ../requirements.txt (line 1)) (0.7.0)\n",
      "Requirement already satisfied: pydantic-core==2.33.1 in /Users/marnix.van.lieshout/Code/STEF/OpenSTEF/openstef-workshop/.venv/lib/python3.11/site-packages (from pydantic~=2.4->openstef==3.4.72->-r ../requirements.txt (line 1)) (2.33.1)\n",
      "Requirement already satisfied: typing-inspection>=0.4.0 in /Users/marnix.van.lieshout/Code/STEF/OpenSTEF/openstef-workshop/.venv/lib/python3.11/site-packages (from pydantic~=2.4->openstef==3.4.72->-r ../requirements.txt (line 1)) (0.4.0)\n",
      "Requirement already satisfied: python-dotenv>=0.21.0 in /Users/marnix.van.lieshout/Code/STEF/OpenSTEF/openstef-workshop/.venv/lib/python3.11/site-packages (from pydantic-settings~=2.3->openstef==3.4.72->-r ../requirements.txt (line 1)) (1.1.0)\n",
      "Requirement already satisfied: threadpoolctl>=3.1.0 in /Users/marnix.van.lieshout/Code/STEF/OpenSTEF/openstef-workshop/.venv/lib/python3.11/site-packages (from scikit-learn<1.6,>=1.3->openstef==3.4.72->-r ../requirements.txt (line 1)) (3.6.0)\n",
      "Requirement already satisfied: patsy>=0.5.6 in /Users/marnix.van.lieshout/Code/STEF/OpenSTEF/openstef-workshop/.venv/lib/python3.11/site-packages (from statsmodels<1.0.0,>=0.13.5->openstef==3.4.72->-r ../requirements.txt (line 1)) (1.0.1)\n",
      "Requirement already satisfied: appnope in /Users/marnix.van.lieshout/Code/STEF/OpenSTEF/openstef-workshop/.venv/lib/python3.11/site-packages (from ipykernel->jupyter==1.0->-r ../requirements.txt (line 2)) (0.1.4)\n",
      "Requirement already satisfied: comm>=0.1.1 in /Users/marnix.van.lieshout/Code/STEF/OpenSTEF/openstef-workshop/.venv/lib/python3.11/site-packages (from ipykernel->jupyter==1.0->-r ../requirements.txt (line 2)) (0.2.2)\n",
      "Requirement already satisfied: debugpy>=1.6.5 in /Users/marnix.van.lieshout/Code/STEF/OpenSTEF/openstef-workshop/.venv/lib/python3.11/site-packages (from ipykernel->jupyter==1.0->-r ../requirements.txt (line 2)) (1.8.14)\n",
      "Requirement already satisfied: ipython>=7.23.1 in /Users/marnix.van.lieshout/Code/STEF/OpenSTEF/openstef-workshop/.venv/lib/python3.11/site-packages (from ipykernel->jupyter==1.0->-r ../requirements.txt (line 2)) (9.1.0)\n",
      "Requirement already satisfied: jupyter-client>=6.1.12 in /Users/marnix.van.lieshout/Code/STEF/OpenSTEF/openstef-workshop/.venv/lib/python3.11/site-packages (from ipykernel->jupyter==1.0->-r ../requirements.txt (line 2)) (8.6.3)\n",
      "Requirement already satisfied: jupyter-core!=5.0.*,>=4.12 in /Users/marnix.van.lieshout/Code/STEF/OpenSTEF/openstef-workshop/.venv/lib/python3.11/site-packages (from ipykernel->jupyter==1.0->-r ../requirements.txt (line 2)) (5.7.2)\n",
      "Requirement already satisfied: matplotlib-inline>=0.1 in /Users/marnix.van.lieshout/Code/STEF/OpenSTEF/openstef-workshop/.venv/lib/python3.11/site-packages (from ipykernel->jupyter==1.0->-r ../requirements.txt (line 2)) (0.1.7)\n",
      "Requirement already satisfied: nest-asyncio in /Users/marnix.van.lieshout/Code/STEF/OpenSTEF/openstef-workshop/.venv/lib/python3.11/site-packages (from ipykernel->jupyter==1.0->-r ../requirements.txt (line 2)) (1.6.0)\n",
      "Requirement already satisfied: psutil in /Users/marnix.van.lieshout/Code/STEF/OpenSTEF/openstef-workshop/.venv/lib/python3.11/site-packages (from ipykernel->jupyter==1.0->-r ../requirements.txt (line 2)) (7.0.0)\n",
      "Requirement already satisfied: pyzmq>=24 in /Users/marnix.van.lieshout/Code/STEF/OpenSTEF/openstef-workshop/.venv/lib/python3.11/site-packages (from ipykernel->jupyter==1.0->-r ../requirements.txt (line 2)) (26.4.0)\n",
      "Requirement already satisfied: tornado>=6.1 in /Users/marnix.van.lieshout/Code/STEF/OpenSTEF/openstef-workshop/.venv/lib/python3.11/site-packages (from ipykernel->jupyter==1.0->-r ../requirements.txt (line 2)) (6.4.2)\n",
      "Requirement already satisfied: traitlets>=5.4.0 in /Users/marnix.van.lieshout/Code/STEF/OpenSTEF/openstef-workshop/.venv/lib/python3.11/site-packages (from ipykernel->jupyter==1.0->-r ../requirements.txt (line 2)) (5.14.3)\n",
      "Requirement already satisfied: widgetsnbextension~=4.0.14 in /Users/marnix.van.lieshout/Code/STEF/OpenSTEF/openstef-workshop/.venv/lib/python3.11/site-packages (from ipywidgets->jupyter==1.0->-r ../requirements.txt (line 2)) (4.0.14)\n",
      "Requirement already satisfied: jupyterlab_widgets~=3.0.14 in /Users/marnix.van.lieshout/Code/STEF/OpenSTEF/openstef-workshop/.venv/lib/python3.11/site-packages (from ipywidgets->jupyter==1.0->-r ../requirements.txt (line 2)) (3.0.14)\n",
      "Requirement already satisfied: prompt-toolkit>=3.0.30 in /Users/marnix.van.lieshout/Code/STEF/OpenSTEF/openstef-workshop/.venv/lib/python3.11/site-packages (from jupyter-console->jupyter==1.0->-r ../requirements.txt (line 2)) (3.0.51)\n",
      "Requirement already satisfied: pygments in /Users/marnix.van.lieshout/Code/STEF/OpenSTEF/openstef-workshop/.venv/lib/python3.11/site-packages (from jupyter-console->jupyter==1.0->-r ../requirements.txt (line 2)) (2.19.1)\n",
      "Requirement already satisfied: beautifulsoup4 in /Users/marnix.van.lieshout/Code/STEF/OpenSTEF/openstef-workshop/.venv/lib/python3.11/site-packages (from nbconvert->jupyter==1.0->-r ../requirements.txt (line 2)) (4.13.4)\n",
      "Requirement already satisfied: bleach!=5.0.0 in /Users/marnix.van.lieshout/Code/STEF/OpenSTEF/openstef-workshop/.venv/lib/python3.11/site-packages (from bleach[css]!=5.0.0->nbconvert->jupyter==1.0->-r ../requirements.txt (line 2)) (6.2.0)\n",
      "Requirement already satisfied: defusedxml in /Users/marnix.van.lieshout/Code/STEF/OpenSTEF/openstef-workshop/.venv/lib/python3.11/site-packages (from nbconvert->jupyter==1.0->-r ../requirements.txt (line 2)) (0.7.1)\n",
      "Requirement already satisfied: jupyterlab-pygments in /Users/marnix.van.lieshout/Code/STEF/OpenSTEF/openstef-workshop/.venv/lib/python3.11/site-packages (from nbconvert->jupyter==1.0->-r ../requirements.txt (line 2)) (0.3.0)\n",
      "Requirement already satisfied: markupsafe>=2.0 in /Users/marnix.van.lieshout/Code/STEF/OpenSTEF/openstef-workshop/.venv/lib/python3.11/site-packages (from nbconvert->jupyter==1.0->-r ../requirements.txt (line 2)) (3.0.2)\n",
      "Requirement already satisfied: mistune<4,>=2.0.3 in /Users/marnix.van.lieshout/Code/STEF/OpenSTEF/openstef-workshop/.venv/lib/python3.11/site-packages (from nbconvert->jupyter==1.0->-r ../requirements.txt (line 2)) (3.1.3)\n",
      "Requirement already satisfied: nbclient>=0.5.0 in /Users/marnix.van.lieshout/Code/STEF/OpenSTEF/openstef-workshop/.venv/lib/python3.11/site-packages (from nbconvert->jupyter==1.0->-r ../requirements.txt (line 2)) (0.10.2)\n",
      "Requirement already satisfied: nbformat>=5.7 in /Users/marnix.van.lieshout/Code/STEF/OpenSTEF/openstef-workshop/.venv/lib/python3.11/site-packages (from nbconvert->jupyter==1.0->-r ../requirements.txt (line 2)) (5.10.4)\n",
      "Requirement already satisfied: pandocfilters>=1.4.1 in /Users/marnix.van.lieshout/Code/STEF/OpenSTEF/openstef-workshop/.venv/lib/python3.11/site-packages (from nbconvert->jupyter==1.0->-r ../requirements.txt (line 2)) (1.5.1)\n",
      "Requirement already satisfied: jupyter-server<3,>=2.4.0 in /Users/marnix.van.lieshout/Code/STEF/OpenSTEF/openstef-workshop/.venv/lib/python3.11/site-packages (from notebook->jupyter==1.0->-r ../requirements.txt (line 2)) (2.15.0)\n",
      "Requirement already satisfied: jupyterlab-server<3,>=2.27.1 in /Users/marnix.van.lieshout/Code/STEF/OpenSTEF/openstef-workshop/.venv/lib/python3.11/site-packages (from notebook->jupyter==1.0->-r ../requirements.txt (line 2)) (2.27.3)\n",
      "Requirement already satisfied: jupyterlab<4.5,>=4.4.0rc0 in /Users/marnix.van.lieshout/Code/STEF/OpenSTEF/openstef-workshop/.venv/lib/python3.11/site-packages (from notebook->jupyter==1.0->-r ../requirements.txt (line 2)) (4.4.0)\n",
      "Requirement already satisfied: notebook-shim<0.3,>=0.2 in /Users/marnix.van.lieshout/Code/STEF/OpenSTEF/openstef-workshop/.venv/lib/python3.11/site-packages (from notebook->jupyter==1.0->-r ../requirements.txt (line 2)) (0.2.4)\n",
      "Requirement already satisfied: qtpy>=2.4.0 in /Users/marnix.van.lieshout/Code/STEF/OpenSTEF/openstef-workshop/.venv/lib/python3.11/site-packages (from qtconsole->jupyter==1.0->-r ../requirements.txt (line 2)) (2.4.3)\n",
      "Requirement already satisfied: Mako in /Users/marnix.van.lieshout/Code/STEF/OpenSTEF/openstef-workshop/.venv/lib/python3.11/site-packages (from alembic!=1.10.0,<2->mlflow~=2.3->openstef==3.4.72->-r ../requirements.txt (line 1)) (1.3.10)\n",
      "Requirement already satisfied: webencodings in /Users/marnix.van.lieshout/Code/STEF/OpenSTEF/openstef-workshop/.venv/lib/python3.11/site-packages (from bleach!=5.0.0->bleach[css]!=5.0.0->nbconvert->jupyter==1.0->-r ../requirements.txt (line 2)) (0.5.1)\n",
      "Requirement already satisfied: tinycss2<1.5,>=1.1.0 in /Users/marnix.van.lieshout/Code/STEF/OpenSTEF/openstef-workshop/.venv/lib/python3.11/site-packages (from bleach[css]!=5.0.0->nbconvert->jupyter==1.0->-r ../requirements.txt (line 2)) (1.4.0)\n",
      "Requirement already satisfied: urllib3>=1.26.0 in /Users/marnix.van.lieshout/Code/STEF/OpenSTEF/openstef-workshop/.venv/lib/python3.11/site-packages (from docker<8,>=4.0.0->mlflow~=2.3->openstef==3.4.72->-r ../requirements.txt (line 1)) (2.4.0)\n",
      "Requirement already satisfied: Werkzeug>=3.1 in /Users/marnix.van.lieshout/Code/STEF/OpenSTEF/openstef-workshop/.venv/lib/python3.11/site-packages (from Flask<4->mlflow~=2.3->openstef==3.4.72->-r ../requirements.txt (line 1)) (3.1.3)\n",
      "Requirement already satisfied: itsdangerous>=2.2 in /Users/marnix.van.lieshout/Code/STEF/OpenSTEF/openstef-workshop/.venv/lib/python3.11/site-packages (from Flask<4->mlflow~=2.3->openstef==3.4.72->-r ../requirements.txt (line 1)) (2.2.0)\n",
      "Requirement already satisfied: blinker>=1.9 in /Users/marnix.van.lieshout/Code/STEF/OpenSTEF/openstef-workshop/.venv/lib/python3.11/site-packages (from Flask<4->mlflow~=2.3->openstef==3.4.72->-r ../requirements.txt (line 1)) (1.9.0)\n",
      "Requirement already satisfied: graphql-core<3.3,>=3.1 in /Users/marnix.van.lieshout/Code/STEF/OpenSTEF/openstef-workshop/.venv/lib/python3.11/site-packages (from graphene<4->mlflow~=2.3->openstef==3.4.72->-r ../requirements.txt (line 1)) (3.2.6)\n",
      "Requirement already satisfied: graphql-relay<3.3,>=3.1 in /Users/marnix.van.lieshout/Code/STEF/OpenSTEF/openstef-workshop/.venv/lib/python3.11/site-packages (from graphene<4->mlflow~=2.3->openstef==3.4.72->-r ../requirements.txt (line 1)) (3.2.0)\n",
      "Requirement already satisfied: decorator in /Users/marnix.van.lieshout/Code/STEF/OpenSTEF/openstef-workshop/.venv/lib/python3.11/site-packages (from ipython>=7.23.1->ipykernel->jupyter==1.0->-r ../requirements.txt (line 2)) (5.2.1)\n",
      "Requirement already satisfied: ipython-pygments-lexers in /Users/marnix.van.lieshout/Code/STEF/OpenSTEF/openstef-workshop/.venv/lib/python3.11/site-packages (from ipython>=7.23.1->ipykernel->jupyter==1.0->-r ../requirements.txt (line 2)) (1.1.1)\n",
      "Requirement already satisfied: jedi>=0.16 in /Users/marnix.van.lieshout/Code/STEF/OpenSTEF/openstef-workshop/.venv/lib/python3.11/site-packages (from ipython>=7.23.1->ipykernel->jupyter==1.0->-r ../requirements.txt (line 2)) (0.19.2)\n",
      "Requirement already satisfied: pexpect>4.3 in /Users/marnix.van.lieshout/Code/STEF/OpenSTEF/openstef-workshop/.venv/lib/python3.11/site-packages (from ipython>=7.23.1->ipykernel->jupyter==1.0->-r ../requirements.txt (line 2)) (4.9.0)\n",
      "Requirement already satisfied: stack_data in /Users/marnix.van.lieshout/Code/STEF/OpenSTEF/openstef-workshop/.venv/lib/python3.11/site-packages (from ipython>=7.23.1->ipykernel->jupyter==1.0->-r ../requirements.txt (line 2)) (0.6.3)\n",
      "Requirement already satisfied: platformdirs>=2.5 in /Users/marnix.van.lieshout/Code/STEF/OpenSTEF/openstef-workshop/.venv/lib/python3.11/site-packages (from jupyter-core!=5.0.*,>=4.12->ipykernel->jupyter==1.0->-r ../requirements.txt (line 2)) (4.3.7)\n",
      "Requirement already satisfied: anyio>=3.1.0 in /Users/marnix.van.lieshout/Code/STEF/OpenSTEF/openstef-workshop/.venv/lib/python3.11/site-packages (from jupyter-server<3,>=2.4.0->notebook->jupyter==1.0->-r ../requirements.txt (line 2)) (4.9.0)\n",
      "Requirement already satisfied: argon2-cffi>=21.1 in /Users/marnix.van.lieshout/Code/STEF/OpenSTEF/openstef-workshop/.venv/lib/python3.11/site-packages (from jupyter-server<3,>=2.4.0->notebook->jupyter==1.0->-r ../requirements.txt (line 2)) (23.1.0)\n",
      "Requirement already satisfied: jupyter-events>=0.11.0 in /Users/marnix.van.lieshout/Code/STEF/OpenSTEF/openstef-workshop/.venv/lib/python3.11/site-packages (from jupyter-server<3,>=2.4.0->notebook->jupyter==1.0->-r ../requirements.txt (line 2)) (0.12.0)\n",
      "Requirement already satisfied: jupyter-server-terminals>=0.4.4 in /Users/marnix.van.lieshout/Code/STEF/OpenSTEF/openstef-workshop/.venv/lib/python3.11/site-packages (from jupyter-server<3,>=2.4.0->notebook->jupyter==1.0->-r ../requirements.txt (line 2)) (0.5.3)\n",
      "Requirement already satisfied: overrides>=5.0 in /Users/marnix.van.lieshout/Code/STEF/OpenSTEF/openstef-workshop/.venv/lib/python3.11/site-packages (from jupyter-server<3,>=2.4.0->notebook->jupyter==1.0->-r ../requirements.txt (line 2)) (7.7.0)\n",
      "Requirement already satisfied: prometheus-client>=0.9 in /Users/marnix.van.lieshout/Code/STEF/OpenSTEF/openstef-workshop/.venv/lib/python3.11/site-packages (from jupyter-server<3,>=2.4.0->notebook->jupyter==1.0->-r ../requirements.txt (line 2)) (0.21.1)\n",
      "Requirement already satisfied: send2trash>=1.8.2 in /Users/marnix.van.lieshout/Code/STEF/OpenSTEF/openstef-workshop/.venv/lib/python3.11/site-packages (from jupyter-server<3,>=2.4.0->notebook->jupyter==1.0->-r ../requirements.txt (line 2)) (1.8.3)\n",
      "Requirement already satisfied: terminado>=0.8.3 in /Users/marnix.van.lieshout/Code/STEF/OpenSTEF/openstef-workshop/.venv/lib/python3.11/site-packages (from jupyter-server<3,>=2.4.0->notebook->jupyter==1.0->-r ../requirements.txt (line 2)) (0.18.1)\n",
      "Requirement already satisfied: websocket-client>=1.7 in /Users/marnix.van.lieshout/Code/STEF/OpenSTEF/openstef-workshop/.venv/lib/python3.11/site-packages (from jupyter-server<3,>=2.4.0->notebook->jupyter==1.0->-r ../requirements.txt (line 2)) (1.8.0)\n",
      "Requirement already satisfied: async-lru>=1.0.0 in /Users/marnix.van.lieshout/Code/STEF/OpenSTEF/openstef-workshop/.venv/lib/python3.11/site-packages (from jupyterlab<4.5,>=4.4.0rc0->notebook->jupyter==1.0->-r ../requirements.txt (line 2)) (2.0.5)\n",
      "Requirement already satisfied: httpx>=0.25.0 in /Users/marnix.van.lieshout/Code/STEF/OpenSTEF/openstef-workshop/.venv/lib/python3.11/site-packages (from jupyterlab<4.5,>=4.4.0rc0->notebook->jupyter==1.0->-r ../requirements.txt (line 2)) (0.28.1)\n",
      "Requirement already satisfied: jupyter-lsp>=2.0.0 in /Users/marnix.van.lieshout/Code/STEF/OpenSTEF/openstef-workshop/.venv/lib/python3.11/site-packages (from jupyterlab<4.5,>=4.4.0rc0->notebook->jupyter==1.0->-r ../requirements.txt (line 2)) (2.2.5)\n",
      "Requirement already satisfied: setuptools>=41.1.0 in /Users/marnix.van.lieshout/Code/STEF/OpenSTEF/openstef-workshop/.venv/lib/python3.11/site-packages (from jupyterlab<4.5,>=4.4.0rc0->notebook->jupyter==1.0->-r ../requirements.txt (line 2)) (78.1.0)\n",
      "Requirement already satisfied: babel>=2.10 in /Users/marnix.van.lieshout/Code/STEF/OpenSTEF/openstef-workshop/.venv/lib/python3.11/site-packages (from jupyterlab-server<3,>=2.27.1->notebook->jupyter==1.0->-r ../requirements.txt (line 2)) (2.17.0)\n",
      "Requirement already satisfied: json5>=0.9.0 in /Users/marnix.van.lieshout/Code/STEF/OpenSTEF/openstef-workshop/.venv/lib/python3.11/site-packages (from jupyterlab-server<3,>=2.27.1->notebook->jupyter==1.0->-r ../requirements.txt (line 2)) (0.12.0)\n",
      "Requirement already satisfied: jsonschema>=4.18.0 in /Users/marnix.van.lieshout/Code/STEF/OpenSTEF/openstef-workshop/.venv/lib/python3.11/site-packages (from jupyterlab-server<3,>=2.27.1->notebook->jupyter==1.0->-r ../requirements.txt (line 2)) (4.23.0)\n",
      "Requirement already satisfied: fastjsonschema>=2.15 in /Users/marnix.van.lieshout/Code/STEF/OpenSTEF/openstef-workshop/.venv/lib/python3.11/site-packages (from nbformat>=5.7->nbconvert->jupyter==1.0->-r ../requirements.txt (line 2)) (2.21.1)\n",
      "Requirement already satisfied: wcwidth in /Users/marnix.van.lieshout/Code/STEF/OpenSTEF/openstef-workshop/.venv/lib/python3.11/site-packages (from prompt-toolkit>=3.0.30->jupyter-console->jupyter==1.0->-r ../requirements.txt (line 2)) (0.2.13)\n",
      "Requirement already satisfied: six>=1.5 in /Users/marnix.van.lieshout/Code/STEF/OpenSTEF/openstef-workshop/.venv/lib/python3.11/site-packages (from python-dateutil->holidays==0.21->openstef==3.4.72->-r ../requirements.txt (line 1)) (1.17.0)\n",
      "Requirement already satisfied: charset-normalizer<4,>=2 in /Users/marnix.van.lieshout/Code/STEF/OpenSTEF/openstef-workshop/.venv/lib/python3.11/site-packages (from requests->pvlib==0.10.5->openstef==3.4.72->-r ../requirements.txt (line 1)) (3.4.1)\n",
      "Requirement already satisfied: idna<4,>=2.5 in /Users/marnix.van.lieshout/Code/STEF/OpenSTEF/openstef-workshop/.venv/lib/python3.11/site-packages (from requests->pvlib==0.10.5->openstef==3.4.72->-r ../requirements.txt (line 1)) (3.10)\n",
      "Requirement already satisfied: certifi>=2017.4.17 in /Users/marnix.van.lieshout/Code/STEF/OpenSTEF/openstef-workshop/.venv/lib/python3.11/site-packages (from requests->pvlib==0.10.5->openstef==3.4.72->-r ../requirements.txt (line 1)) (2025.1.31)\n",
      "Requirement already satisfied: soupsieve>1.2 in /Users/marnix.van.lieshout/Code/STEF/OpenSTEF/openstef-workshop/.venv/lib/python3.11/site-packages (from beautifulsoup4->nbconvert->jupyter==1.0->-r ../requirements.txt (line 2)) (2.6)\n",
      "Requirement already satisfied: sniffio>=1.1 in /Users/marnix.van.lieshout/Code/STEF/OpenSTEF/openstef-workshop/.venv/lib/python3.11/site-packages (from anyio>=3.1.0->jupyter-server<3,>=2.4.0->notebook->jupyter==1.0->-r ../requirements.txt (line 2)) (1.3.1)\n",
      "Requirement already satisfied: argon2-cffi-bindings in /Users/marnix.van.lieshout/Code/STEF/OpenSTEF/openstef-workshop/.venv/lib/python3.11/site-packages (from argon2-cffi>=21.1->jupyter-server<3,>=2.4.0->notebook->jupyter==1.0->-r ../requirements.txt (line 2)) (21.2.0)\n",
      "Requirement already satisfied: google-auth~=2.0 in /Users/marnix.van.lieshout/Code/STEF/OpenSTEF/openstef-workshop/.venv/lib/python3.11/site-packages (from databricks-sdk<1,>=0.20.0->mlflow-skinny==2.21.3->mlflow~=2.3->openstef==3.4.72->-r ../requirements.txt (line 1)) (2.39.0)\n",
      "Requirement already satisfied: starlette<0.47.0,>=0.40.0 in /Users/marnix.van.lieshout/Code/STEF/OpenSTEF/openstef-workshop/.venv/lib/python3.11/site-packages (from fastapi<1->mlflow-skinny==2.21.3->mlflow~=2.3->openstef==3.4.72->-r ../requirements.txt (line 1)) (0.46.2)\n",
      "Requirement already satisfied: gitdb<5,>=4.0.1 in /Users/marnix.van.lieshout/Code/STEF/OpenSTEF/openstef-workshop/.venv/lib/python3.11/site-packages (from gitpython<4,>=3.1.9->mlflow-skinny==2.21.3->mlflow~=2.3->openstef==3.4.72->-r ../requirements.txt (line 1)) (4.0.12)\n",
      "Requirement already satisfied: httpcore==1.* in /Users/marnix.van.lieshout/Code/STEF/OpenSTEF/openstef-workshop/.venv/lib/python3.11/site-packages (from httpx>=0.25.0->jupyterlab<4.5,>=4.4.0rc0->notebook->jupyter==1.0->-r ../requirements.txt (line 2)) (1.0.8)\n",
      "Requirement already satisfied: h11<0.15,>=0.13 in /Users/marnix.van.lieshout/Code/STEF/OpenSTEF/openstef-workshop/.venv/lib/python3.11/site-packages (from httpcore==1.*->httpx>=0.25.0->jupyterlab<4.5,>=4.4.0rc0->notebook->jupyter==1.0->-r ../requirements.txt (line 2)) (0.14.0)\n",
      "Requirement already satisfied: zipp>=3.20 in /Users/marnix.van.lieshout/Code/STEF/OpenSTEF/openstef-workshop/.venv/lib/python3.11/site-packages (from importlib_metadata!=4.7.0,<9,>=3.7.0->mlflow-skinny==2.21.3->mlflow~=2.3->openstef==3.4.72->-r ../requirements.txt (line 1)) (3.21.0)\n",
      "Requirement already satisfied: parso<0.9.0,>=0.8.4 in /Users/marnix.van.lieshout/Code/STEF/OpenSTEF/openstef-workshop/.venv/lib/python3.11/site-packages (from jedi>=0.16->ipython>=7.23.1->ipykernel->jupyter==1.0->-r ../requirements.txt (line 2)) (0.8.4)\n",
      "Requirement already satisfied: attrs>=22.2.0 in /Users/marnix.van.lieshout/Code/STEF/OpenSTEF/openstef-workshop/.venv/lib/python3.11/site-packages (from jsonschema>=4.18.0->jupyterlab-server<3,>=2.27.1->notebook->jupyter==1.0->-r ../requirements.txt (line 2)) (25.3.0)\n",
      "Requirement already satisfied: jsonschema-specifications>=2023.03.6 in /Users/marnix.van.lieshout/Code/STEF/OpenSTEF/openstef-workshop/.venv/lib/python3.11/site-packages (from jsonschema>=4.18.0->jupyterlab-server<3,>=2.27.1->notebook->jupyter==1.0->-r ../requirements.txt (line 2)) (2024.10.1)\n",
      "Requirement already satisfied: referencing>=0.28.4 in /Users/marnix.van.lieshout/Code/STEF/OpenSTEF/openstef-workshop/.venv/lib/python3.11/site-packages (from jsonschema>=4.18.0->jupyterlab-server<3,>=2.27.1->notebook->jupyter==1.0->-r ../requirements.txt (line 2)) (0.36.2)\n",
      "Requirement already satisfied: rpds-py>=0.7.1 in /Users/marnix.van.lieshout/Code/STEF/OpenSTEF/openstef-workshop/.venv/lib/python3.11/site-packages (from jsonschema>=4.18.0->jupyterlab-server<3,>=2.27.1->notebook->jupyter==1.0->-r ../requirements.txt (line 2)) (0.24.0)\n",
      "Requirement already satisfied: python-json-logger>=2.0.4 in /Users/marnix.van.lieshout/Code/STEF/OpenSTEF/openstef-workshop/.venv/lib/python3.11/site-packages (from jupyter-events>=0.11.0->jupyter-server<3,>=2.4.0->notebook->jupyter==1.0->-r ../requirements.txt (line 2)) (3.3.0)\n",
      "Requirement already satisfied: rfc3339-validator in /Users/marnix.van.lieshout/Code/STEF/OpenSTEF/openstef-workshop/.venv/lib/python3.11/site-packages (from jupyter-events>=0.11.0->jupyter-server<3,>=2.4.0->notebook->jupyter==1.0->-r ../requirements.txt (line 2)) (0.1.4)\n",
      "Requirement already satisfied: rfc3986-validator>=0.1.1 in /Users/marnix.van.lieshout/Code/STEF/OpenSTEF/openstef-workshop/.venv/lib/python3.11/site-packages (from jupyter-events>=0.11.0->jupyter-server<3,>=2.4.0->notebook->jupyter==1.0->-r ../requirements.txt (line 2)) (0.1.1)\n",
      "Requirement already satisfied: deprecated>=1.2.6 in /Users/marnix.van.lieshout/Code/STEF/OpenSTEF/openstef-workshop/.venv/lib/python3.11/site-packages (from opentelemetry-api<3,>=1.9.0->mlflow-skinny==2.21.3->mlflow~=2.3->openstef==3.4.72->-r ../requirements.txt (line 1)) (1.2.18)\n",
      "Requirement already satisfied: opentelemetry-semantic-conventions==0.53b1 in /Users/marnix.van.lieshout/Code/STEF/OpenSTEF/openstef-workshop/.venv/lib/python3.11/site-packages (from opentelemetry-sdk<3,>=1.9.0->mlflow-skinny==2.21.3->mlflow~=2.3->openstef==3.4.72->-r ../requirements.txt (line 1)) (0.53b1)\n",
      "Requirement already satisfied: ptyprocess>=0.5 in /Users/marnix.van.lieshout/Code/STEF/OpenSTEF/openstef-workshop/.venv/lib/python3.11/site-packages (from pexpect>4.3->ipython>=7.23.1->ipykernel->jupyter==1.0->-r ../requirements.txt (line 2)) (0.7.0)\n",
      "Requirement already satisfied: executing>=1.2.0 in /Users/marnix.van.lieshout/Code/STEF/OpenSTEF/openstef-workshop/.venv/lib/python3.11/site-packages (from stack_data->ipython>=7.23.1->ipykernel->jupyter==1.0->-r ../requirements.txt (line 2)) (2.2.0)\n",
      "Requirement already satisfied: asttokens>=2.1.0 in /Users/marnix.van.lieshout/Code/STEF/OpenSTEF/openstef-workshop/.venv/lib/python3.11/site-packages (from stack_data->ipython>=7.23.1->ipykernel->jupyter==1.0->-r ../requirements.txt (line 2)) (3.0.0)\n",
      "Requirement already satisfied: pure-eval in /Users/marnix.van.lieshout/Code/STEF/OpenSTEF/openstef-workshop/.venv/lib/python3.11/site-packages (from stack_data->ipython>=7.23.1->ipykernel->jupyter==1.0->-r ../requirements.txt (line 2)) (0.2.3)\n",
      "Requirement already satisfied: wrapt<2,>=1.10 in /Users/marnix.van.lieshout/Code/STEF/OpenSTEF/openstef-workshop/.venv/lib/python3.11/site-packages (from deprecated>=1.2.6->opentelemetry-api<3,>=1.9.0->mlflow-skinny==2.21.3->mlflow~=2.3->openstef==3.4.72->-r ../requirements.txt (line 1)) (1.17.2)\n",
      "Requirement already satisfied: smmap<6,>=3.0.1 in /Users/marnix.van.lieshout/Code/STEF/OpenSTEF/openstef-workshop/.venv/lib/python3.11/site-packages (from gitdb<5,>=4.0.1->gitpython<4,>=3.1.9->mlflow-skinny==2.21.3->mlflow~=2.3->openstef==3.4.72->-r ../requirements.txt (line 1)) (5.0.2)\n",
      "Requirement already satisfied: pyasn1-modules>=0.2.1 in /Users/marnix.van.lieshout/Code/STEF/OpenSTEF/openstef-workshop/.venv/lib/python3.11/site-packages (from google-auth~=2.0->databricks-sdk<1,>=0.20.0->mlflow-skinny==2.21.3->mlflow~=2.3->openstef==3.4.72->-r ../requirements.txt (line 1)) (0.4.2)\n",
      "Requirement already satisfied: rsa<5,>=3.1.4 in /Users/marnix.van.lieshout/Code/STEF/OpenSTEF/openstef-workshop/.venv/lib/python3.11/site-packages (from google-auth~=2.0->databricks-sdk<1,>=0.20.0->mlflow-skinny==2.21.3->mlflow~=2.3->openstef==3.4.72->-r ../requirements.txt (line 1)) (4.9)\n",
      "Requirement already satisfied: fqdn in /Users/marnix.van.lieshout/Code/STEF/OpenSTEF/openstef-workshop/.venv/lib/python3.11/site-packages (from jsonschema[format-nongpl]>=4.18.0->jupyter-events>=0.11.0->jupyter-server<3,>=2.4.0->notebook->jupyter==1.0->-r ../requirements.txt (line 2)) (1.5.1)\n",
      "Requirement already satisfied: isoduration in /Users/marnix.van.lieshout/Code/STEF/OpenSTEF/openstef-workshop/.venv/lib/python3.11/site-packages (from jsonschema[format-nongpl]>=4.18.0->jupyter-events>=0.11.0->jupyter-server<3,>=2.4.0->notebook->jupyter==1.0->-r ../requirements.txt (line 2)) (20.11.0)\n",
      "Requirement already satisfied: jsonpointer>1.13 in /Users/marnix.van.lieshout/Code/STEF/OpenSTEF/openstef-workshop/.venv/lib/python3.11/site-packages (from jsonschema[format-nongpl]>=4.18.0->jupyter-events>=0.11.0->jupyter-server<3,>=2.4.0->notebook->jupyter==1.0->-r ../requirements.txt (line 2)) (3.0.0)\n",
      "Requirement already satisfied: uri-template in /Users/marnix.van.lieshout/Code/STEF/OpenSTEF/openstef-workshop/.venv/lib/python3.11/site-packages (from jsonschema[format-nongpl]>=4.18.0->jupyter-events>=0.11.0->jupyter-server<3,>=2.4.0->notebook->jupyter==1.0->-r ../requirements.txt (line 2)) (1.3.0)\n",
      "Requirement already satisfied: webcolors>=24.6.0 in /Users/marnix.van.lieshout/Code/STEF/OpenSTEF/openstef-workshop/.venv/lib/python3.11/site-packages (from jsonschema[format-nongpl]>=4.18.0->jupyter-events>=0.11.0->jupyter-server<3,>=2.4.0->notebook->jupyter==1.0->-r ../requirements.txt (line 2)) (24.11.1)\n",
      "Requirement already satisfied: cffi>=1.0.1 in /Users/marnix.van.lieshout/Code/STEF/OpenSTEF/openstef-workshop/.venv/lib/python3.11/site-packages (from argon2-cffi-bindings->argon2-cffi>=21.1->jupyter-server<3,>=2.4.0->notebook->jupyter==1.0->-r ../requirements.txt (line 2)) (1.17.1)\n",
      "Requirement already satisfied: pycparser in /Users/marnix.van.lieshout/Code/STEF/OpenSTEF/openstef-workshop/.venv/lib/python3.11/site-packages (from cffi>=1.0.1->argon2-cffi-bindings->argon2-cffi>=21.1->jupyter-server<3,>=2.4.0->notebook->jupyter==1.0->-r ../requirements.txt (line 2)) (2.22)\n",
      "Requirement already satisfied: pyasn1<0.7.0,>=0.6.1 in /Users/marnix.van.lieshout/Code/STEF/OpenSTEF/openstef-workshop/.venv/lib/python3.11/site-packages (from pyasn1-modules>=0.2.1->google-auth~=2.0->databricks-sdk<1,>=0.20.0->mlflow-skinny==2.21.3->mlflow~=2.3->openstef==3.4.72->-r ../requirements.txt (line 1)) (0.6.1)\n",
      "Requirement already satisfied: arrow>=0.15.0 in /Users/marnix.van.lieshout/Code/STEF/OpenSTEF/openstef-workshop/.venv/lib/python3.11/site-packages (from isoduration->jsonschema[format-nongpl]>=4.18.0->jupyter-events>=0.11.0->jupyter-server<3,>=2.4.0->notebook->jupyter==1.0->-r ../requirements.txt (line 2)) (1.3.0)\n",
      "Requirement already satisfied: types-python-dateutil>=2.8.10 in /Users/marnix.van.lieshout/Code/STEF/OpenSTEF/openstef-workshop/.venv/lib/python3.11/site-packages (from arrow>=0.15.0->isoduration->jsonschema[format-nongpl]>=4.18.0->jupyter-events>=0.11.0->jupyter-server<3,>=2.4.0->notebook->jupyter==1.0->-r ../requirements.txt (line 2)) (2.9.0.20241206)\n"
     ]
    }
   ],
   "source": [
    "! pip install openstef==3.4.72 jupyter==1.0"
   ]
  },
  {
   "cell_type": "markdown",
   "id": "b674e3ac",
   "metadata": {},
   "source": [
    "In Google Colab, the numpy version has to be set to 1.26.4 and the pandas version has to be set to 1.5.3 due to compatability reasons. If you get a warning in Google Colab stating that you should restart the session, you can just cancel it and resume."
   ]
  },
  {
   "cell_type": "code",
   "execution_count": null,
   "id": "29d9a050",
   "metadata": {},
   "outputs": [],
   "source": [
    "from IPython import get_ipython\n",
    "\n",
    "# Check if running in Google Colab.\n",
    "try:\n",
    "  import google.colab\n",
    "  IN_COLAB = True\n",
    "except:\n",
    "  IN_COLAB = False\n",
    "\n",
    "if IN_COLAB:\n",
    "    shell = get_ipython()\n",
    "    if shell is not None:\n",
    "        shell.system('pip install numpy==1.26.4 pandas==1.5.3 --force-reinstall')"
   ]
  },
  {
   "cell_type": "markdown",
   "id": "d655a5c0",
   "metadata": {},
   "source": [
    "# Workshop part 2 | Learn how to make a forecast\n",
    "In this second part of the workshop, we will use the model trained in the first part and make a forecast with it. \n",
    "\n",
    "Note: if you were not able to train the model in the first part, we have trained one for you. It is in this folder: ``mlflow_trained_models``. It should automatically work in this tutorial.  \n",
    "\n",
    "The learning points are:\n",
    "- Hands on experience with using a trained model; \n",
    "- What data is required to make a forecast;\n",
    "- Hands on experience using forecast pipeline;\n",
    "- How the model gets automatically loaded;\n",
    "- How the predictions compare to the measurements."
   ]
  },
  {
   "cell_type": "code",
   "execution_count": 38,
   "id": "cd9ebc5b",
   "metadata": {},
   "outputs": [],
   "source": [
    "# Import required packages.\n",
    "import pandas as pd \n",
    "import numpy as np \n",
    "\n",
    "from openstef.data_classes.prediction_job import PredictionJobDataClass\n",
    "from openstef.pipeline.train_model import train_model_pipeline\n",
    "from openstef.pipeline.create_forecast import create_forecast_pipeline\n",
    "import openstef\n",
    "# Set plotly as the default pandas plotting backend\n",
    "pd.options.plotting.backend = 'plotly'"
   ]
  },
  {
   "cell_type": "markdown",
   "id": "7b59cfa0",
   "metadata": {},
   "source": [
    "## Define the prediction job\n",
    "The same as in workshop part 1, a prediction job has to be defined. As we are making a forecast for the model we trained in part 1, we can use the exact same prediction job. "
   ]
  },
  {
   "cell_type": "code",
   "execution_count": 39,
   "id": "1317999c",
   "metadata": {},
   "outputs": [],
   "source": [
    "# Define properties of training/prediction. We call this a 'prediction_job'. The same is used as in the first exercise.\n",
    "pj = dict(id=288,\n",
    "        model='xgb', \n",
    "        quantiles=[0.10,0.30,0.50,0.70,0.90],\n",
    "        forecast_type=\"demand\", \n",
    "        lat=52.0,\n",
    "        lon=5.0,\n",
    "        horizon_minutes=2880,\n",
    "        resolution_minutes=15,\n",
    "        name=\"workshop_exercise_2\",\n",
    "        save_train_forecasts=True,\n",
    "       )\n",
    "\n",
    "pj=PredictionJobDataClass(**pj)"
   ]
  },
  {
   "cell_type": "markdown",
   "id": "af20a4ee",
   "metadata": {},
   "source": [
    "## Prepare the input data\n",
    "Some other preparation of the input data is required for making a forecast. Namely, split into a test and train data set. \n",
    "\n",
    "Exercise: \n",
    "- Why do we split the dataset into train and test? \n",
    "- Why do we set the 'load' (the realised values) to nan (unknown) for the 'to_forecast_data'? "
   ]
  },
  {
   "cell_type": "markdown",
   "id": "387902fe",
   "metadata": {},
   "source": [
    "If you are working with Google Colab, just upload the data in the 'Files' section on Google Colab. You can find this at the left toolbar, the fifth item from the top. "
   ]
  },
  {
   "cell_type": "code",
   "execution_count": 40,
   "id": "a4c5990f",
   "metadata": {},
   "outputs": [],
   "source": [
    "if IN_COLAB:\n",
    "    input_data=pd.read_csv(\"/content/input_data_sun_heavy.csv\", index_col=0, parse_dates=True)\n",
    "else:\n",
    "    input_data=pd.read_csv(\"../data/input_data_sun_heavy.csv\", index_col=0, parse_dates=True)\n",
    "\n",
    "train_data=input_data.iloc[:-192,:] # Everything except the final 192 rows for training.\n",
    "test_data=input_data.iloc[-192:,:] # Final 192 rows for testing."
   ]
  },
  {
   "cell_type": "code",
   "execution_count": 41,
   "id": "098adf9e",
   "metadata": {},
   "outputs": [],
   "source": [
    "# Prepare data to make the forecast. \n",
    "realised=input_data.loc[test_data.index, 'load'].copy(deep=True)\n",
    "to_forecast_data=input_data.copy(deep=True)\n",
    "to_forecast_data.loc[test_data.index, 'load']=np.nan #clear the load data for the part you want to forecast"
   ]
  },
  {
   "cell_type": "code",
   "execution_count": null,
   "id": "a20235ce",
   "metadata": {},
   "outputs": [
    {
     "name": "stdout",
     "output_type": "stream",
     "text": [
      "\u001b[2m2025-04-16 15:16:59\u001b[0m [\u001b[33m\u001b[1mwarning  \u001b[0m] \u001b[1mfeature_modules not an attribute of the old model, using None \u001b[0m \u001b[36mexperiment_name\u001b[0m=\u001b[35m288\u001b[0m\n",
      "\u001b[2m2025-04-16 15:16:59\u001b[0m [\u001b[32m\u001b[1minfo     \u001b[0m] \u001b[1mModel successfully loaded with MLflow\u001b[0m\n",
      "\u001b[2m2025-04-16 15:16:59\u001b[0m [\u001b[32m\u001b[1minfo     \u001b[0m] \u001b[1mFound 22 values of constant load (repeated values), converted to NaN value.\u001b[0m \u001b[36mcleansing_step\u001b[0m=\u001b[35mrepeated_values\u001b[0m \u001b[36mfrac_values\u001b[0m=\u001b[35m0.0006312950156388993\u001b[0m \u001b[36mnum_values\u001b[0m=\u001b[35m22\u001b[0m \u001b[36mpj_id\u001b[0m=\u001b[35m288\u001b[0m\n",
      "\u001b[2m2025-04-16 15:16:59\u001b[0m [\u001b[32m\u001b[1minfo     \u001b[0m] \u001b[1mRemoved 22 NaN values         \u001b[0m \u001b[36mnum_removed_values\u001b[0m=\u001b[35m22\u001b[0m\n",
      "[0]\tvalidation_0-rmse:1.45413\tvalidation_1-rmse:1.39974\n",
      "[1]\tvalidation_0-rmse:1.13780\tvalidation_1-rmse:1.11427\n",
      "[2]\tvalidation_0-rmse:0.93262\tvalidation_1-rmse:0.93406\n",
      "[3]\tvalidation_0-rmse:0.79670\tvalidation_1-rmse:0.82264\n",
      "[4]\tvalidation_0-rmse:0.71373\tvalidation_1-rmse:0.75898\n",
      "[5]\tvalidation_0-rmse:0.65689\tvalidation_1-rmse:0.71956\n",
      "[6]\tvalidation_0-rmse:0.61923\tvalidation_1-rmse:0.69671\n",
      "[7]\tvalidation_0-rmse:0.59182\tvalidation_1-rmse:0.68115\n",
      "[8]\tvalidation_0-rmse:0.56951\tvalidation_1-rmse:0.67368\n",
      "[9]\tvalidation_0-rmse:0.55344\tvalidation_1-rmse:0.67075\n",
      "[10]\tvalidation_0-rmse:0.53821\tvalidation_1-rmse:0.66978\n",
      "[11]\tvalidation_0-rmse:0.52607\tvalidation_1-rmse:0.66885\n",
      "[12]\tvalidation_0-rmse:0.51776\tvalidation_1-rmse:0.66684\n",
      "[13]\tvalidation_0-rmse:0.50904\tvalidation_1-rmse:0.66480\n",
      "[14]\tvalidation_0-rmse:0.49953\tvalidation_1-rmse:0.66446\n",
      "[15]\tvalidation_0-rmse:0.49234\tvalidation_1-rmse:0.66138\n",
      "[16]\tvalidation_0-rmse:0.48549\tvalidation_1-rmse:0.66287\n",
      "[17]\tvalidation_0-rmse:0.48144\tvalidation_1-rmse:0.66498\n",
      "[18]\tvalidation_0-rmse:0.47376\tvalidation_1-rmse:0.66409\n",
      "[19]\tvalidation_0-rmse:0.46901\tvalidation_1-rmse:0.66526\n",
      "[20]\tvalidation_0-rmse:0.46327\tvalidation_1-rmse:0.66536\n",
      "[21]\tvalidation_0-rmse:0.45697\tvalidation_1-rmse:0.66459\n",
      "[22]\tvalidation_0-rmse:0.45142\tvalidation_1-rmse:0.66303\n",
      "[23]\tvalidation_0-rmse:0.44825\tvalidation_1-rmse:0.66339\n",
      "[24]\tvalidation_0-rmse:0.44210\tvalidation_1-rmse:0.66279\n",
      "[25]\tvalidation_0-rmse:0.43762\tvalidation_1-rmse:0.66187\n",
      "\u001b[2m2025-04-16 15:17:02\u001b[0m [\u001b[32m\u001b[1minfo     \u001b[0m] \u001b[1mFitted a new model, not yet stored\u001b[0m\n",
      "\u001b[2m2025-04-16 15:17:05\u001b[0m [\u001b[32m\u001b[1minfo     \u001b[0m] \u001b[1mNew model is better than old model, continuing with training procces\u001b[0m\n",
      "\u001b[2m2025-04-16 15:17:16\u001b[0m [\u001b[32m\u001b[1minfo     \u001b[0m] \u001b[1mModel saved with MLflow       \u001b[0m \u001b[36mexperiment_name\u001b[0m=\u001b[35m288\u001b[0m\n",
      "\u001b[2m2025-04-16 15:17:18\u001b[0m [\u001b[32m\u001b[1minfo     \u001b[0m] \u001b[1mLogged figures to MLflow.     \u001b[0m\n",
      "\u001b[2m2025-04-16 15:17:18\u001b[0m [\u001b[32m\u001b[1minfo     \u001b[0m] \u001b[1mWriting reports to ./mlflow_artifacts/288\u001b[0m\n"
     ]
    }
   ],
   "source": [
    "# If you are working with Google Colab, storing and retrieving the model from the previous workshop is more difficult. \n",
    "# If you are working on your own device, this is not needed. As OpenSTEF is able to store and automatically retrieve your trained model. \n",
    "train_data_model, validation_data_model, test_data_model = train_model_pipeline(\n",
    "    pj,\n",
    "    train_data,\n",
    "    check_old_model_age=False, \n",
    "    mlflow_tracking_uri=\"./mlflow_trained_models\",\n",
    "    artifact_folder=\"./mlflow_artifacts\",\n",
    ")"
   ]
  },
  {
   "cell_type": "markdown",
   "id": "4b6c23b5",
   "metadata": {},
   "source": [
    "## Make the prediction\n",
    "Now that the prediction job has been defined, a model has been trained and the input data is prepared, a forecast can be made. \n",
    "\n",
    "Exercise: \n",
    "- What input do you need to make a forecast?\n",
    "- How long did it take to make a forecast?\n",
    "\n",
    "Bonus: look-up the correct pipeline on the OpenSTEF [website](https://openstef.github.io/openstef/user_guides.html).\n",
    "\n",
    "\n"
   ]
  },
  {
   "cell_type": "code",
   "execution_count": 43,
   "id": "51264dde",
   "metadata": {},
   "outputs": [
    {
     "name": "stdout",
     "output_type": "stream",
     "text": [
      "\u001b[2m2025-04-16 15:17:22\u001b[0m [\u001b[33m\u001b[1mwarning  \u001b[0m] \u001b[1mfeature_modules not an attribute of the old model, using None \u001b[0m \u001b[36mexperiment_name\u001b[0m=\u001b[35m288\u001b[0m\n",
      "\u001b[2m2025-04-16 15:17:22\u001b[0m [\u001b[32m\u001b[1minfo     \u001b[0m] \u001b[1mModel successfully loaded with MLflow\u001b[0m\n",
      "\u001b[2m2025-04-16 15:17:22\u001b[0m [\u001b[32m\u001b[1minfo     \u001b[0m] \u001b[1mFound 214 values of constant load (repeated values), converted to NaN value.\u001b[0m \u001b[36mcleansing_step\u001b[0m=\u001b[35mrepeated_values\u001b[0m \u001b[36mfrac_values\u001b[0m=\u001b[35m0.0061071316457863645\u001b[0m \u001b[36mnum_values\u001b[0m=\u001b[35m214\u001b[0m \u001b[36mpj_id\u001b[0m=\u001b[35m288\u001b[0m\n",
      "\u001b[2m2025-04-16 15:17:23\u001b[0m [\u001b[33m\u001b[1mwarning  \u001b[0m] \u001b[1mAdding NaN column for missing feature: day_ahead_electricity_price\u001b[0m \u001b[36mmissing_feature\u001b[0m=\u001b[35mday_ahead_electricity_price\u001b[0m\n",
      "\u001b[2m2025-04-16 15:17:23\u001b[0m [\u001b[32m\u001b[1minfo     \u001b[0m] \u001b[1mPostproces in preparation of storing\u001b[0m\n"
     ]
    },
    {
     "name": "stderr",
     "output_type": "stream",
     "text": [
      "/Users/marnix.van.lieshout/Code/STEF/OpenSTEF/openstef-workshop/.venv/lib/python3.11/site-packages/openstef/model/confidence_interval_applicator.py:160: RuntimeWarning:\n",
      "\n",
      "overflow encountered in exp\n",
      "\n"
     ]
    }
   ],
   "source": [
    "# Location where the model was stored in the last exercise.\n",
    "mlflow_tracking_uri=\"./mlflow_trained_models\" \n",
    "\n",
    "forecast=create_forecast_pipeline(\n",
    "    pj,\n",
    "    to_forecast_data, \n",
    "    mlflow_tracking_uri,\n",
    ")"
   ]
  },
  {
   "cell_type": "markdown",
   "id": "7ba5c1ad",
   "metadata": {},
   "source": [
    "# Inspect the results\n",
    "Now that the forecast has been made, the results can be analysed. \n",
    "\n",
    "Exercise: answer the following questions \n",
    "- Look at the results, when is the model accurate and when is it less accurate? Why?\n",
    "- Look at the two weather features plotted, do you see correlation? "
   ]
  },
  {
   "cell_type": "code",
   "execution_count": 44,
   "id": "6d70209f",
   "metadata": {},
   "outputs": [
    {
     "data": {
      "text/html": [
       "<div>\n",
       "<style scoped>\n",
       "    .dataframe tbody tr th:only-of-type {\n",
       "        vertical-align: middle;\n",
       "    }\n",
       "\n",
       "    .dataframe tbody tr th {\n",
       "        vertical-align: top;\n",
       "    }\n",
       "\n",
       "    .dataframe thead th {\n",
       "        text-align: right;\n",
       "    }\n",
       "</style>\n",
       "<table border=\"1\" class=\"dataframe\">\n",
       "  <thead>\n",
       "    <tr style=\"text-align: right;\">\n",
       "      <th></th>\n",
       "      <th>forecast</th>\n",
       "      <th>tAhead</th>\n",
       "      <th>stdev</th>\n",
       "      <th>quantile_P10</th>\n",
       "      <th>quantile_P30</th>\n",
       "      <th>quantile_P50</th>\n",
       "      <th>quantile_P70</th>\n",
       "      <th>quantile_P90</th>\n",
       "      <th>pid</th>\n",
       "      <th>customer</th>\n",
       "      <th>description</th>\n",
       "      <th>type</th>\n",
       "      <th>algtype</th>\n",
       "    </tr>\n",
       "  </thead>\n",
       "  <tbody>\n",
       "    <tr>\n",
       "      <th>2023-12-30 00:15:00+00:00</th>\n",
       "      <td>2.489165</td>\n",
       "      <td>-11365.00</td>\n",
       "      <td>0.070266</td>\n",
       "      <td>2.399115</td>\n",
       "      <td>2.452318</td>\n",
       "      <td>2.489165</td>\n",
       "      <td>2.526013</td>\n",
       "      <td>2.579215</td>\n",
       "      <td>288</td>\n",
       "      <td>workshop_exercise_2</td>\n",
       "      <td>None</td>\n",
       "      <td>demand</td>\n",
       "      <td>/Users/marnix.van.lieshout/Code/STEF/OpenSTEF/...</td>\n",
       "    </tr>\n",
       "    <tr>\n",
       "      <th>2023-12-30 00:30:00+00:00</th>\n",
       "      <td>2.122453</td>\n",
       "      <td>-11364.75</td>\n",
       "      <td>0.070266</td>\n",
       "      <td>2.032403</td>\n",
       "      <td>2.085605</td>\n",
       "      <td>2.122453</td>\n",
       "      <td>2.159301</td>\n",
       "      <td>2.212503</td>\n",
       "      <td>288</td>\n",
       "      <td>workshop_exercise_2</td>\n",
       "      <td>None</td>\n",
       "      <td>demand</td>\n",
       "      <td>/Users/marnix.van.lieshout/Code/STEF/OpenSTEF/...</td>\n",
       "    </tr>\n",
       "    <tr>\n",
       "      <th>2023-12-30 00:45:00+00:00</th>\n",
       "      <td>2.126130</td>\n",
       "      <td>-11364.50</td>\n",
       "      <td>0.070266</td>\n",
       "      <td>2.036080</td>\n",
       "      <td>2.089282</td>\n",
       "      <td>2.126130</td>\n",
       "      <td>2.162977</td>\n",
       "      <td>2.216180</td>\n",
       "      <td>288</td>\n",
       "      <td>workshop_exercise_2</td>\n",
       "      <td>None</td>\n",
       "      <td>demand</td>\n",
       "      <td>/Users/marnix.van.lieshout/Code/STEF/OpenSTEF/...</td>\n",
       "    </tr>\n",
       "    <tr>\n",
       "      <th>2023-12-30 01:00:00+00:00</th>\n",
       "      <td>2.037521</td>\n",
       "      <td>-11364.25</td>\n",
       "      <td>0.067613</td>\n",
       "      <td>1.950871</td>\n",
       "      <td>2.002064</td>\n",
       "      <td>2.037521</td>\n",
       "      <td>2.072977</td>\n",
       "      <td>2.124170</td>\n",
       "      <td>288</td>\n",
       "      <td>workshop_exercise_2</td>\n",
       "      <td>None</td>\n",
       "      <td>demand</td>\n",
       "      <td>/Users/marnix.van.lieshout/Code/STEF/OpenSTEF/...</td>\n",
       "    </tr>\n",
       "    <tr>\n",
       "      <th>2023-12-30 01:15:00+00:00</th>\n",
       "      <td>2.037521</td>\n",
       "      <td>-11364.00</td>\n",
       "      <td>0.067613</td>\n",
       "      <td>1.950871</td>\n",
       "      <td>2.002064</td>\n",
       "      <td>2.037521</td>\n",
       "      <td>2.072977</td>\n",
       "      <td>2.124170</td>\n",
       "      <td>288</td>\n",
       "      <td>workshop_exercise_2</td>\n",
       "      <td>None</td>\n",
       "      <td>demand</td>\n",
       "      <td>/Users/marnix.van.lieshout/Code/STEF/OpenSTEF/...</td>\n",
       "    </tr>\n",
       "  </tbody>\n",
       "</table>\n",
       "</div>"
      ],
      "text/plain": [
       "                           forecast    tAhead     stdev  quantile_P10  \\\n",
       "2023-12-30 00:15:00+00:00  2.489165 -11365.00  0.070266      2.399115   \n",
       "2023-12-30 00:30:00+00:00  2.122453 -11364.75  0.070266      2.032403   \n",
       "2023-12-30 00:45:00+00:00  2.126130 -11364.50  0.070266      2.036080   \n",
       "2023-12-30 01:00:00+00:00  2.037521 -11364.25  0.067613      1.950871   \n",
       "2023-12-30 01:15:00+00:00  2.037521 -11364.00  0.067613      1.950871   \n",
       "\n",
       "                           quantile_P30  quantile_P50  quantile_P70  \\\n",
       "2023-12-30 00:15:00+00:00      2.452318      2.489165      2.526013   \n",
       "2023-12-30 00:30:00+00:00      2.085605      2.122453      2.159301   \n",
       "2023-12-30 00:45:00+00:00      2.089282      2.126130      2.162977   \n",
       "2023-12-30 01:00:00+00:00      2.002064      2.037521      2.072977   \n",
       "2023-12-30 01:15:00+00:00      2.002064      2.037521      2.072977   \n",
       "\n",
       "                           quantile_P90  pid             customer description  \\\n",
       "2023-12-30 00:15:00+00:00      2.579215  288  workshop_exercise_2        None   \n",
       "2023-12-30 00:30:00+00:00      2.212503  288  workshop_exercise_2        None   \n",
       "2023-12-30 00:45:00+00:00      2.216180  288  workshop_exercise_2        None   \n",
       "2023-12-30 01:00:00+00:00      2.124170  288  workshop_exercise_2        None   \n",
       "2023-12-30 01:15:00+00:00      2.124170  288  workshop_exercise_2        None   \n",
       "\n",
       "                             type  \\\n",
       "2023-12-30 00:15:00+00:00  demand   \n",
       "2023-12-30 00:30:00+00:00  demand   \n",
       "2023-12-30 00:45:00+00:00  demand   \n",
       "2023-12-30 01:00:00+00:00  demand   \n",
       "2023-12-30 01:15:00+00:00  demand   \n",
       "\n",
       "                                                                     algtype  \n",
       "2023-12-30 00:15:00+00:00  /Users/marnix.van.lieshout/Code/STEF/OpenSTEF/...  \n",
       "2023-12-30 00:30:00+00:00  /Users/marnix.van.lieshout/Code/STEF/OpenSTEF/...  \n",
       "2023-12-30 00:45:00+00:00  /Users/marnix.van.lieshout/Code/STEF/OpenSTEF/...  \n",
       "2023-12-30 01:00:00+00:00  /Users/marnix.van.lieshout/Code/STEF/OpenSTEF/...  \n",
       "2023-12-30 01:15:00+00:00  /Users/marnix.van.lieshout/Code/STEF/OpenSTEF/...  "
      ]
     },
     "metadata": {},
     "output_type": "display_data"
    }
   ],
   "source": [
    "display(forecast.head())"
   ]
  },
  {
   "cell_type": "code",
   "execution_count": 45,
   "id": "53931a81",
   "metadata": {},
   "outputs": [
    {
     "data": {
      "application/vnd.plotly.v1+json": {
       "config": {
        "plotlyServerURL": "https://plot.ly"
       },
       "data": [
        {
         "hovertemplate": "variable=forecast<br>index=%{x}<br>value=%{y}<extra></extra>",
         "legendgroup": "forecast",
         "line": {
          "color": "#636efa",
          "dash": "solid"
         },
         "marker": {
          "symbol": "circle"
         },
         "mode": "lines",
         "name": "forecast",
         "orientation": "v",
         "showlegend": true,
         "type": "scatter",
         "x": [
          "2023-12-30T00:15:00+00:00",
          "2023-12-30T00:30:00+00:00",
          "2023-12-30T00:45:00+00:00",
          "2023-12-30T01:00:00+00:00",
          "2023-12-30T01:15:00+00:00",
          "2023-12-30T01:30:00+00:00",
          "2023-12-30T01:45:00+00:00",
          "2023-12-30T02:00:00+00:00",
          "2023-12-30T02:15:00+00:00",
          "2023-12-30T02:30:00+00:00",
          "2023-12-30T02:45:00+00:00",
          "2023-12-30T03:00:00+00:00",
          "2023-12-30T03:15:00+00:00",
          "2023-12-30T03:30:00+00:00",
          "2023-12-30T03:45:00+00:00",
          "2023-12-30T04:00:00+00:00",
          "2023-12-30T04:15:00+00:00",
          "2023-12-30T04:30:00+00:00",
          "2023-12-30T04:45:00+00:00",
          "2023-12-30T05:00:00+00:00",
          "2023-12-30T05:15:00+00:00",
          "2023-12-30T05:30:00+00:00",
          "2023-12-30T05:45:00+00:00",
          "2023-12-30T06:00:00+00:00",
          "2023-12-30T06:15:00+00:00",
          "2023-12-30T06:30:00+00:00",
          "2023-12-30T06:45:00+00:00",
          "2023-12-30T07:00:00+00:00",
          "2023-12-30T07:15:00+00:00",
          "2023-12-30T07:30:00+00:00",
          "2023-12-30T07:45:00+00:00",
          "2023-12-30T08:00:00+00:00",
          "2023-12-30T08:15:00+00:00",
          "2023-12-30T08:30:00+00:00",
          "2023-12-30T08:45:00+00:00",
          "2023-12-30T09:00:00+00:00",
          "2023-12-30T09:15:00+00:00",
          "2023-12-30T09:30:00+00:00",
          "2023-12-30T09:45:00+00:00",
          "2023-12-30T10:00:00+00:00",
          "2023-12-30T10:15:00+00:00",
          "2023-12-30T10:30:00+00:00",
          "2023-12-30T10:45:00+00:00",
          "2023-12-30T11:00:00+00:00",
          "2023-12-30T11:15:00+00:00",
          "2023-12-30T11:30:00+00:00",
          "2023-12-30T11:45:00+00:00",
          "2023-12-30T12:00:00+00:00",
          "2023-12-30T12:15:00+00:00",
          "2023-12-30T12:30:00+00:00",
          "2023-12-30T12:45:00+00:00",
          "2023-12-30T13:00:00+00:00",
          "2023-12-30T13:15:00+00:00",
          "2023-12-30T13:30:00+00:00",
          "2023-12-30T13:45:00+00:00",
          "2023-12-30T14:00:00+00:00",
          "2023-12-30T14:15:00+00:00",
          "2023-12-30T14:30:00+00:00",
          "2023-12-30T14:45:00+00:00",
          "2023-12-30T15:00:00+00:00",
          "2023-12-30T15:15:00+00:00",
          "2023-12-30T15:30:00+00:00",
          "2023-12-30T15:45:00+00:00",
          "2023-12-30T16:00:00+00:00",
          "2023-12-30T16:15:00+00:00",
          "2023-12-30T16:30:00+00:00",
          "2023-12-30T16:45:00+00:00",
          "2023-12-30T17:00:00+00:00",
          "2023-12-30T17:15:00+00:00",
          "2023-12-30T17:30:00+00:00",
          "2023-12-30T17:45:00+00:00",
          "2023-12-30T18:00:00+00:00",
          "2023-12-30T18:15:00+00:00",
          "2023-12-30T18:30:00+00:00",
          "2023-12-30T18:45:00+00:00",
          "2023-12-30T19:00:00+00:00",
          "2023-12-30T19:15:00+00:00",
          "2023-12-30T19:30:00+00:00",
          "2023-12-30T19:45:00+00:00",
          "2023-12-30T20:00:00+00:00",
          "2023-12-30T20:15:00+00:00",
          "2023-12-30T20:30:00+00:00",
          "2023-12-30T20:45:00+00:00",
          "2023-12-30T21:00:00+00:00",
          "2023-12-30T21:15:00+00:00",
          "2023-12-30T21:30:00+00:00",
          "2023-12-30T21:45:00+00:00",
          "2023-12-30T22:00:00+00:00",
          "2023-12-30T22:15:00+00:00",
          "2023-12-30T22:30:00+00:00",
          "2023-12-30T22:45:00+00:00",
          "2023-12-30T23:00:00+00:00",
          "2023-12-30T23:15:00+00:00",
          "2023-12-30T23:30:00+00:00",
          "2023-12-30T23:45:00+00:00",
          "2023-12-31T00:00:00+00:00",
          "2023-12-31T00:15:00+00:00",
          "2023-12-31T00:30:00+00:00",
          "2023-12-31T00:45:00+00:00",
          "2023-12-31T01:00:00+00:00",
          "2023-12-31T01:15:00+00:00",
          "2023-12-31T01:30:00+00:00",
          "2023-12-31T01:45:00+00:00",
          "2023-12-31T02:00:00+00:00",
          "2023-12-31T02:15:00+00:00",
          "2023-12-31T02:30:00+00:00",
          "2023-12-31T02:45:00+00:00",
          "2023-12-31T03:00:00+00:00",
          "2023-12-31T03:15:00+00:00",
          "2023-12-31T03:30:00+00:00",
          "2023-12-31T03:45:00+00:00",
          "2023-12-31T04:00:00+00:00",
          "2023-12-31T04:15:00+00:00",
          "2023-12-31T04:30:00+00:00",
          "2023-12-31T04:45:00+00:00",
          "2023-12-31T05:00:00+00:00",
          "2023-12-31T05:15:00+00:00",
          "2023-12-31T05:30:00+00:00",
          "2023-12-31T05:45:00+00:00",
          "2023-12-31T06:00:00+00:00",
          "2023-12-31T06:15:00+00:00",
          "2023-12-31T06:30:00+00:00",
          "2023-12-31T06:45:00+00:00",
          "2023-12-31T07:00:00+00:00",
          "2023-12-31T07:15:00+00:00",
          "2023-12-31T07:30:00+00:00",
          "2023-12-31T07:45:00+00:00",
          "2023-12-31T08:00:00+00:00",
          "2023-12-31T08:15:00+00:00",
          "2023-12-31T08:30:00+00:00",
          "2023-12-31T08:45:00+00:00",
          "2023-12-31T09:00:00+00:00",
          "2023-12-31T09:15:00+00:00",
          "2023-12-31T09:30:00+00:00",
          "2023-12-31T09:45:00+00:00",
          "2023-12-31T10:00:00+00:00",
          "2023-12-31T10:15:00+00:00",
          "2023-12-31T10:30:00+00:00",
          "2023-12-31T10:45:00+00:00",
          "2023-12-31T11:00:00+00:00",
          "2023-12-31T11:15:00+00:00",
          "2023-12-31T11:30:00+00:00",
          "2023-12-31T11:45:00+00:00",
          "2023-12-31T12:00:00+00:00",
          "2023-12-31T12:15:00+00:00",
          "2023-12-31T12:30:00+00:00",
          "2023-12-31T12:45:00+00:00",
          "2023-12-31T13:00:00+00:00",
          "2023-12-31T13:15:00+00:00",
          "2023-12-31T13:30:00+00:00",
          "2023-12-31T13:45:00+00:00",
          "2023-12-31T14:00:00+00:00",
          "2023-12-31T14:15:00+00:00",
          "2023-12-31T14:30:00+00:00",
          "2023-12-31T14:45:00+00:00",
          "2023-12-31T15:00:00+00:00",
          "2023-12-31T15:15:00+00:00",
          "2023-12-31T15:30:00+00:00",
          "2023-12-31T15:45:00+00:00",
          "2023-12-31T16:00:00+00:00",
          "2023-12-31T16:15:00+00:00",
          "2023-12-31T16:30:00+00:00",
          "2023-12-31T16:45:00+00:00",
          "2023-12-31T17:00:00+00:00",
          "2023-12-31T17:15:00+00:00",
          "2023-12-31T17:30:00+00:00",
          "2023-12-31T17:45:00+00:00",
          "2023-12-31T18:00:00+00:00",
          "2023-12-31T18:15:00+00:00",
          "2023-12-31T18:30:00+00:00",
          "2023-12-31T18:45:00+00:00",
          "2023-12-31T19:00:00+00:00",
          "2023-12-31T19:15:00+00:00",
          "2023-12-31T19:30:00+00:00",
          "2023-12-31T19:45:00+00:00",
          "2023-12-31T20:00:00+00:00",
          "2023-12-31T20:15:00+00:00",
          "2023-12-31T20:30:00+00:00",
          "2023-12-31T20:45:00+00:00",
          "2023-12-31T21:00:00+00:00",
          "2023-12-31T21:15:00+00:00",
          "2023-12-31T21:30:00+00:00",
          "2023-12-31T21:45:00+00:00",
          "2023-12-31T22:00:00+00:00",
          "2023-12-31T22:15:00+00:00",
          "2023-12-31T22:30:00+00:00",
          "2023-12-31T22:45:00+00:00",
          "2023-12-31T23:00:00+00:00",
          "2023-12-31T23:15:00+00:00",
          "2023-12-31T23:30:00+00:00",
          "2023-12-31T23:45:00+00:00",
          "2024-01-01T00:00:00+00:00"
         ],
         "xaxis": "x",
         "y": [
          2.4891653060913086,
          2.122452974319458,
          2.126129627227783,
          2.03752064704895,
          2.03752064704895,
          2.03752064704895,
          2.03752064704895,
          2.03752064704895,
          2.033843755722046,
          2.122452974319458,
          2.122452974319458,
          2.138950824737549,
          2.033843755722046,
          2.033843755722046,
          2.033843755722046,
          2.122452974319458,
          2.142899751663208,
          2.054290533065796,
          2.142899751663208,
          2.1746702194213867,
          2.1746702194213867,
          2.1746702194213867,
          2.350026845932007,
          2.3806824684143066,
          2.9054372310638428,
          2.9054372310638428,
          2.875196933746338,
          3.294522523880005,
          3.419809341430664,
          3.419809341430664,
          3.5739054679870605,
          3.666937828063965,
          3.801600933074951,
          3.891132354736328,
          3.891132354736328,
          3.6193771362304688,
          3.4116220474243164,
          3.3684732913970947,
          3.2920758724212646,
          2.5422487258911133,
          2.4396326541900635,
          2.3980321884155273,
          2.4184789657592773,
          2.4703073501586914,
          2.3628182411193848,
          2.3628182411193848,
          2.3628182411193848,
          3.3525657653808594,
          2.500122547149658,
          2.500122547149658,
          2.141312599182129,
          2.0505807399749756,
          2.5583336353302,
          2.9547126293182373,
          3.39408540725708,
          3.8720879554748535,
          3.8287060260772705,
          3.8287060260772705,
          4.100461483001709,
          4.348827362060547,
          4.320765018463135,
          4.320765018463135,
          4.691524505615234,
          4.691524505615234,
          4.852909088134766,
          4.9554266929626465,
          4.9554266929626465,
          4.9554266929626465,
          4.9554266929626465,
          4.9554266929626465,
          4.9554266929626465,
          4.9554266929626465,
          4.840672016143799,
          4.840672016143799,
          4.809765815734863,
          4.752460479736328,
          4.4740424156188965,
          4.4740424156188965,
          4.300780773162842,
          4.282827377319336,
          4.173873424530029,
          3.8757200241088867,
          3.8757200241088867,
          3.7767648696899414,
          3.7199368476867676,
          3.6994900703430176,
          3.389360189437866,
          3.2576963901519775,
          2.984191656112671,
          2.906644344329834,
          2.825859308242798,
          2.6570935249328613,
          2.5153443813323975,
          2.5153443813323975,
          2.5153443813323975,
          2.3849151134490967,
          2.2295663356781006,
          2.1961731910705566,
          2.1961731910705566,
          2.1961731910705566,
          2.1961731910705566,
          2.1961731910705566,
          2.1961731910705566,
          2.1961731910705566,
          2.1961731910705566,
          2.1961731910705566,
          2.1961731910705566,
          2.1075639724731445,
          2.1961731910705566,
          2.1777164936065674,
          2.1777164936065674,
          2.2410573959350586,
          2.2410573959350586,
          2.1961731910705566,
          2.1894710063934326,
          2.3774189949035645,
          2.3774189949035645,
          2.3974266052246094,
          2.3974266052246094,
          2.5937931537628174,
          2.5937931537628174,
          2.736818313598633,
          3.0393927097320557,
          3.348416566848755,
          3.348416566848755,
          3.5025131702423096,
          3.6543357372283936,
          3.6543357372283936,
          3.6312105655670166,
          3.761197805404663,
          3.761197805404663,
          3.839094877243042,
          3.8997883796691895,
          3.8390936851501465,
          3.9490718841552734,
          3.9596285820007324,
          3.5009918212890625,
          3.2863693237304688,
          3.2836501598358154,
          3.1822774410247803,
          3.2836501598358154,
          3.517407178878784,
          3.915065050125122,
          3.4787020683288574,
          3.5698840618133545,
          3.426225185394287,
          3.823883056640625,
          3.888505458831787,
          3.6807503700256348,
          3.6090307235717773,
          3.8613593578338623,
          3.8613593578338623,
          3.8845596313476562,
          3.7707269191741943,
          4.11409330368042,
          4.373983383178711,
          4.313289642333984,
          4.313289642333984,
          4.684049606323242,
          4.530069828033447,
          4.731668472290039,
          4.731668472290039,
          4.731668472290039,
          4.731668472290039,
          4.731668472290039,
          4.731668472290039,
          4.762574672698975,
          4.785699844360352,
          4.642579078674316,
          4.642579078674316,
          4.548709869384766,
          4.626417636871338,
          4.303959846496582,
          4.20852518081665,
          3.9960293769836426,
          3.8870749473571777,
          3.776590585708618,
          3.5884158611297607,
          3.5850963592529297,
          3.5850963592529297,
          3.5016708374023438,
          3.5016708374023438,
          3.3498482704162598,
          3.3498482704162598,
          3.155215263366699,
          3.0097970962524414,
          2.776294469833374,
          2.6357080936431885,
          2.647118091583252,
          2.647118091583252,
          2.604590892791748,
          1.4848111867904663
         ],
         "yaxis": "y"
        },
        {
         "hovertemplate": "variable=load<br>index=%{x}<br>value=%{y}<extra></extra>",
         "legendgroup": "load",
         "line": {
          "color": "#EF553B",
          "dash": "solid"
         },
         "marker": {
          "symbol": "circle"
         },
         "mode": "lines",
         "name": "load",
         "orientation": "v",
         "showlegend": true,
         "type": "scatter",
         "x": [
          "2023-12-30T00:15:00+00:00",
          "2023-12-30T00:30:00+00:00",
          "2023-12-30T00:45:00+00:00",
          "2023-12-30T01:00:00+00:00",
          "2023-12-30T01:15:00+00:00",
          "2023-12-30T01:30:00+00:00",
          "2023-12-30T01:45:00+00:00",
          "2023-12-30T02:00:00+00:00",
          "2023-12-30T02:15:00+00:00",
          "2023-12-30T02:30:00+00:00",
          "2023-12-30T02:45:00+00:00",
          "2023-12-30T03:00:00+00:00",
          "2023-12-30T03:15:00+00:00",
          "2023-12-30T03:30:00+00:00",
          "2023-12-30T03:45:00+00:00",
          "2023-12-30T04:00:00+00:00",
          "2023-12-30T04:15:00+00:00",
          "2023-12-30T04:30:00+00:00",
          "2023-12-30T04:45:00+00:00",
          "2023-12-30T05:00:00+00:00",
          "2023-12-30T05:15:00+00:00",
          "2023-12-30T05:30:00+00:00",
          "2023-12-30T05:45:00+00:00",
          "2023-12-30T06:00:00+00:00",
          "2023-12-30T06:15:00+00:00",
          "2023-12-30T06:30:00+00:00",
          "2023-12-30T06:45:00+00:00",
          "2023-12-30T07:00:00+00:00",
          "2023-12-30T07:15:00+00:00",
          "2023-12-30T07:30:00+00:00",
          "2023-12-30T07:45:00+00:00",
          "2023-12-30T08:00:00+00:00",
          "2023-12-30T08:15:00+00:00",
          "2023-12-30T08:30:00+00:00",
          "2023-12-30T08:45:00+00:00",
          "2023-12-30T09:00:00+00:00",
          "2023-12-30T09:15:00+00:00",
          "2023-12-30T09:30:00+00:00",
          "2023-12-30T09:45:00+00:00",
          "2023-12-30T10:00:00+00:00",
          "2023-12-30T10:15:00+00:00",
          "2023-12-30T10:30:00+00:00",
          "2023-12-30T10:45:00+00:00",
          "2023-12-30T11:00:00+00:00",
          "2023-12-30T11:15:00+00:00",
          "2023-12-30T11:30:00+00:00",
          "2023-12-30T11:45:00+00:00",
          "2023-12-30T12:00:00+00:00",
          "2023-12-30T12:15:00+00:00",
          "2023-12-30T12:30:00+00:00",
          "2023-12-30T12:45:00+00:00",
          "2023-12-30T13:00:00+00:00",
          "2023-12-30T13:15:00+00:00",
          "2023-12-30T13:30:00+00:00",
          "2023-12-30T13:45:00+00:00",
          "2023-12-30T14:00:00+00:00",
          "2023-12-30T14:15:00+00:00",
          "2023-12-30T14:30:00+00:00",
          "2023-12-30T14:45:00+00:00",
          "2023-12-30T15:00:00+00:00",
          "2023-12-30T15:15:00+00:00",
          "2023-12-30T15:30:00+00:00",
          "2023-12-30T15:45:00+00:00",
          "2023-12-30T16:00:00+00:00",
          "2023-12-30T16:15:00+00:00",
          "2023-12-30T16:30:00+00:00",
          "2023-12-30T16:45:00+00:00",
          "2023-12-30T17:00:00+00:00",
          "2023-12-30T17:15:00+00:00",
          "2023-12-30T17:30:00+00:00",
          "2023-12-30T17:45:00+00:00",
          "2023-12-30T18:00:00+00:00",
          "2023-12-30T18:15:00+00:00",
          "2023-12-30T18:30:00+00:00",
          "2023-12-30T18:45:00+00:00",
          "2023-12-30T19:00:00+00:00",
          "2023-12-30T19:15:00+00:00",
          "2023-12-30T19:30:00+00:00",
          "2023-12-30T19:45:00+00:00",
          "2023-12-30T20:00:00+00:00",
          "2023-12-30T20:15:00+00:00",
          "2023-12-30T20:30:00+00:00",
          "2023-12-30T20:45:00+00:00",
          "2023-12-30T21:00:00+00:00",
          "2023-12-30T21:15:00+00:00",
          "2023-12-30T21:30:00+00:00",
          "2023-12-30T21:45:00+00:00",
          "2023-12-30T22:00:00+00:00",
          "2023-12-30T22:15:00+00:00",
          "2023-12-30T22:30:00+00:00",
          "2023-12-30T22:45:00+00:00",
          "2023-12-30T23:00:00+00:00",
          "2023-12-30T23:15:00+00:00",
          "2023-12-30T23:30:00+00:00",
          "2023-12-30T23:45:00+00:00",
          "2023-12-31T00:00:00+00:00",
          "2023-12-31T00:15:00+00:00",
          "2023-12-31T00:30:00+00:00",
          "2023-12-31T00:45:00+00:00",
          "2023-12-31T01:00:00+00:00",
          "2023-12-31T01:15:00+00:00",
          "2023-12-31T01:30:00+00:00",
          "2023-12-31T01:45:00+00:00",
          "2023-12-31T02:00:00+00:00",
          "2023-12-31T02:15:00+00:00",
          "2023-12-31T02:30:00+00:00",
          "2023-12-31T02:45:00+00:00",
          "2023-12-31T03:00:00+00:00",
          "2023-12-31T03:15:00+00:00",
          "2023-12-31T03:30:00+00:00",
          "2023-12-31T03:45:00+00:00",
          "2023-12-31T04:00:00+00:00",
          "2023-12-31T04:15:00+00:00",
          "2023-12-31T04:30:00+00:00",
          "2023-12-31T04:45:00+00:00",
          "2023-12-31T05:00:00+00:00",
          "2023-12-31T05:15:00+00:00",
          "2023-12-31T05:30:00+00:00",
          "2023-12-31T05:45:00+00:00",
          "2023-12-31T06:00:00+00:00",
          "2023-12-31T06:15:00+00:00",
          "2023-12-31T06:30:00+00:00",
          "2023-12-31T06:45:00+00:00",
          "2023-12-31T07:00:00+00:00",
          "2023-12-31T07:15:00+00:00",
          "2023-12-31T07:30:00+00:00",
          "2023-12-31T07:45:00+00:00",
          "2023-12-31T08:00:00+00:00",
          "2023-12-31T08:15:00+00:00",
          "2023-12-31T08:30:00+00:00",
          "2023-12-31T08:45:00+00:00",
          "2023-12-31T09:00:00+00:00",
          "2023-12-31T09:15:00+00:00",
          "2023-12-31T09:30:00+00:00",
          "2023-12-31T09:45:00+00:00",
          "2023-12-31T10:00:00+00:00",
          "2023-12-31T10:15:00+00:00",
          "2023-12-31T10:30:00+00:00",
          "2023-12-31T10:45:00+00:00",
          "2023-12-31T11:00:00+00:00",
          "2023-12-31T11:15:00+00:00",
          "2023-12-31T11:30:00+00:00",
          "2023-12-31T11:45:00+00:00",
          "2023-12-31T12:00:00+00:00",
          "2023-12-31T12:15:00+00:00",
          "2023-12-31T12:30:00+00:00",
          "2023-12-31T12:45:00+00:00",
          "2023-12-31T13:00:00+00:00",
          "2023-12-31T13:15:00+00:00",
          "2023-12-31T13:30:00+00:00",
          "2023-12-31T13:45:00+00:00",
          "2023-12-31T14:00:00+00:00",
          "2023-12-31T14:15:00+00:00",
          "2023-12-31T14:30:00+00:00",
          "2023-12-31T14:45:00+00:00",
          "2023-12-31T15:00:00+00:00",
          "2023-12-31T15:15:00+00:00",
          "2023-12-31T15:30:00+00:00",
          "2023-12-31T15:45:00+00:00",
          "2023-12-31T16:00:00+00:00",
          "2023-12-31T16:15:00+00:00",
          "2023-12-31T16:30:00+00:00",
          "2023-12-31T16:45:00+00:00",
          "2023-12-31T17:00:00+00:00",
          "2023-12-31T17:15:00+00:00",
          "2023-12-31T17:30:00+00:00",
          "2023-12-31T17:45:00+00:00",
          "2023-12-31T18:00:00+00:00",
          "2023-12-31T18:15:00+00:00",
          "2023-12-31T18:30:00+00:00",
          "2023-12-31T18:45:00+00:00",
          "2023-12-31T19:00:00+00:00",
          "2023-12-31T19:15:00+00:00",
          "2023-12-31T19:30:00+00:00",
          "2023-12-31T19:45:00+00:00",
          "2023-12-31T20:00:00+00:00",
          "2023-12-31T20:15:00+00:00",
          "2023-12-31T20:30:00+00:00",
          "2023-12-31T20:45:00+00:00",
          "2023-12-31T21:00:00+00:00",
          "2023-12-31T21:15:00+00:00",
          "2023-12-31T21:30:00+00:00",
          "2023-12-31T21:45:00+00:00",
          "2023-12-31T22:00:00+00:00",
          "2023-12-31T22:15:00+00:00",
          "2023-12-31T22:30:00+00:00",
          "2023-12-31T22:45:00+00:00",
          "2023-12-31T23:00:00+00:00",
          "2023-12-31T23:15:00+00:00",
          "2023-12-31T23:30:00+00:00",
          "2023-12-31T23:45:00+00:00",
          "2024-01-01T00:00:00+00:00"
         ],
         "xaxis": "x",
         "y": [
          2.5399999618530273,
          2.509999990463257,
          2.4533333778381348,
          2.4133334159851074,
          2.393333352481325,
          2.3666667081415653,
          2.380000034968058,
          2.3966667652130127,
          2.390000104904175,
          2.3433332381149135,
          2.3499999747922025,
          2.396666685740153,
          2.37333337465922,
          2.37333337465922,
          2.37666662534078,
          2.43666672706604,
          2.4066667556762695,
          2.363333225250244,
          2.4033334255218506,
          2.5199999809265137,
          2.5366666316986084,
          2.5266666412353516,
          2.6299999554951987,
          2.893333355585734,
          3.0433332920074463,
          3.0399999618530273,
          3.2233332792917886,
          3.599999984105428,
          3.693333387374878,
          3.759999990463257,
          3.9066666762034097,
          4.100000063578288,
          4.416666666666667,
          4.566666603088379,
          4.336666584014893,
          4.130000114440918,
          3.986666679382324,
          3.7933332920074463,
          3.3533333937327066,
          3.486666679382324,
          4.066666682561238,
          3.5299999713897705,
          2.7666667302449546,
          2.6533332665761313,
          2.456666628519694,
          2.290000041325887,
          2.266666611035665,
          3.446666638056437,
          3.790000041325887,
          3.933333396911621,
          3.9666667779286704,
          3.943333387374878,
          4.013333320617676,
          4.096666653951009,
          4.076666673024495,
          4.566666762034099,
          4.543333212534587,
          4.53000005086263,
          4.690000057220459,
          4.893333435058594,
          5.120000044504802,
          5.236666679382324,
          5.1566667556762695,
          5.120000044504802,
          5.339999993642171,
          5.226666609446208,
          5.316666762034099,
          5.28000005086263,
          5.12666670481364,
          5.196666717529297,
          5.293333371480306,
          5.136666615804036,
          5.196666717529297,
          5.213333288828532,
          4.916666507720947,
          4.84333340326945,
          4.8066666920979815,
          4.666666666666667,
          4.580000082651774,
          4.439999898274739,
          4.349999904632568,
          4.2166666984558105,
          4.043333371480306,
          3.963333368301392,
          3.75,
          3.6633334097762904,
          3.560000022252401,
          3.3333333333333335,
          3.243333339691162,
          3.0899999936421714,
          2.990000009536743,
          2.8300000031789145,
          2.7733333110809326,
          2.690000057220459,
          2.609999895095825,
          2.509999990463257,
          2.4233334064483643,
          2.3533332347869873,
          2.3466665744781494,
          2.3366665840148926,
          2.306666612625122,
          2.2766666412353516,
          2.25,
          2.263333320617676,
          2.2233333587646484,
          2.196666717529297,
          2.1700000762939453,
          2.180000066757202,
          2.2233333587646484,
          2.236666679382324,
          2.196666717529297,
          2.2233333587646484,
          2.246666669845581,
          2.236666679382324,
          2.236666679382324,
          2.3566667238871255,
          2.3433332443237305,
          2.376666704813639,
          2.443333387374878,
          2.693333307902018,
          2.81333327293396,
          2.9066667556762695,
          3.0166666507720947,
          3.303333361943563,
          3.4033333460489907,
          3.4733333587646484,
          3.6533334255218506,
          3.9266666571299234,
          4.429999987284343,
          4.439999898274739,
          4.410000006357829,
          4.566666603088379,
          4.75,
          4.7366665204366045,
          4.776666800181071,
          4.87666670481364,
          4.789999961853027,
          4.933333237965901,
          5.070000012715657,
          5.119999885559082,
          5.243333339691162,
          5.049999872843425,
          4.736666679382324,
          2.310000022252401,
          3.9166666666666665,
          3.060000022252401,
          4.213333368301392,
          4.426666736602783,
          4.6533331871032715,
          3.0766666730244956,
          3.240000009536743,
          4.189999898274739,
          3.860000054041544,
          4.3433332443237305,
          4.753333409627278,
          4.776666641235352,
          4.716666539510091,
          4.820000012715657,
          4.986666679382324,
          5.28000005086263,
          5.243333180745442,
          5.189999898274739,
          5.286666711171468,
          5.313333352406819,
          5.333333333333333,
          5.546666622161865,
          5.53000005086263,
          5.363333384195964,
          5.390000025431315,
          5.25000015894572,
          4.976666450500488,
          4.836666584014893,
          4.760000069936116,
          4.679999987284343,
          4.4666666984558105,
          4.326666673024495,
          4.213333447774251,
          4.070000012715657,
          3.9666666984558105,
          3.8433332443237305,
          3.7033333778381343,
          3.630000034968058,
          3.566666603088379,
          3.509999990463257,
          3.4166667461395264,
          3.2899999618530273,
          3.259999990463257,
          3.1866667239616313,
          3.1200000351915755,
          3.146666685740153,
          3.0833332538604736,
          3.0799999237060547
         ],
         "yaxis": "y"
        }
       ],
       "layout": {
        "legend": {
         "title": {
          "text": "variable"
         },
         "tracegroupgap": 0
        },
        "margin": {
         "t": 60
        },
        "template": {
         "data": {
          "bar": [
           {
            "error_x": {
             "color": "#2a3f5f"
            },
            "error_y": {
             "color": "#2a3f5f"
            },
            "marker": {
             "line": {
              "color": "#E5ECF6",
              "width": 0.5
             },
             "pattern": {
              "fillmode": "overlay",
              "size": 10,
              "solidity": 0.2
             }
            },
            "type": "bar"
           }
          ],
          "barpolar": [
           {
            "marker": {
             "line": {
              "color": "#E5ECF6",
              "width": 0.5
             },
             "pattern": {
              "fillmode": "overlay",
              "size": 10,
              "solidity": 0.2
             }
            },
            "type": "barpolar"
           }
          ],
          "carpet": [
           {
            "aaxis": {
             "endlinecolor": "#2a3f5f",
             "gridcolor": "white",
             "linecolor": "white",
             "minorgridcolor": "white",
             "startlinecolor": "#2a3f5f"
            },
            "baxis": {
             "endlinecolor": "#2a3f5f",
             "gridcolor": "white",
             "linecolor": "white",
             "minorgridcolor": "white",
             "startlinecolor": "#2a3f5f"
            },
            "type": "carpet"
           }
          ],
          "choropleth": [
           {
            "colorbar": {
             "outlinewidth": 0,
             "ticks": ""
            },
            "type": "choropleth"
           }
          ],
          "contour": [
           {
            "colorbar": {
             "outlinewidth": 0,
             "ticks": ""
            },
            "colorscale": [
             [
              0,
              "#0d0887"
             ],
             [
              0.1111111111111111,
              "#46039f"
             ],
             [
              0.2222222222222222,
              "#7201a8"
             ],
             [
              0.3333333333333333,
              "#9c179e"
             ],
             [
              0.4444444444444444,
              "#bd3786"
             ],
             [
              0.5555555555555556,
              "#d8576b"
             ],
             [
              0.6666666666666666,
              "#ed7953"
             ],
             [
              0.7777777777777778,
              "#fb9f3a"
             ],
             [
              0.8888888888888888,
              "#fdca26"
             ],
             [
              1,
              "#f0f921"
             ]
            ],
            "type": "contour"
           }
          ],
          "contourcarpet": [
           {
            "colorbar": {
             "outlinewidth": 0,
             "ticks": ""
            },
            "type": "contourcarpet"
           }
          ],
          "heatmap": [
           {
            "colorbar": {
             "outlinewidth": 0,
             "ticks": ""
            },
            "colorscale": [
             [
              0,
              "#0d0887"
             ],
             [
              0.1111111111111111,
              "#46039f"
             ],
             [
              0.2222222222222222,
              "#7201a8"
             ],
             [
              0.3333333333333333,
              "#9c179e"
             ],
             [
              0.4444444444444444,
              "#bd3786"
             ],
             [
              0.5555555555555556,
              "#d8576b"
             ],
             [
              0.6666666666666666,
              "#ed7953"
             ],
             [
              0.7777777777777778,
              "#fb9f3a"
             ],
             [
              0.8888888888888888,
              "#fdca26"
             ],
             [
              1,
              "#f0f921"
             ]
            ],
            "type": "heatmap"
           }
          ],
          "heatmapgl": [
           {
            "colorbar": {
             "outlinewidth": 0,
             "ticks": ""
            },
            "colorscale": [
             [
              0,
              "#0d0887"
             ],
             [
              0.1111111111111111,
              "#46039f"
             ],
             [
              0.2222222222222222,
              "#7201a8"
             ],
             [
              0.3333333333333333,
              "#9c179e"
             ],
             [
              0.4444444444444444,
              "#bd3786"
             ],
             [
              0.5555555555555556,
              "#d8576b"
             ],
             [
              0.6666666666666666,
              "#ed7953"
             ],
             [
              0.7777777777777778,
              "#fb9f3a"
             ],
             [
              0.8888888888888888,
              "#fdca26"
             ],
             [
              1,
              "#f0f921"
             ]
            ],
            "type": "heatmapgl"
           }
          ],
          "histogram": [
           {
            "marker": {
             "pattern": {
              "fillmode": "overlay",
              "size": 10,
              "solidity": 0.2
             }
            },
            "type": "histogram"
           }
          ],
          "histogram2d": [
           {
            "colorbar": {
             "outlinewidth": 0,
             "ticks": ""
            },
            "colorscale": [
             [
              0,
              "#0d0887"
             ],
             [
              0.1111111111111111,
              "#46039f"
             ],
             [
              0.2222222222222222,
              "#7201a8"
             ],
             [
              0.3333333333333333,
              "#9c179e"
             ],
             [
              0.4444444444444444,
              "#bd3786"
             ],
             [
              0.5555555555555556,
              "#d8576b"
             ],
             [
              0.6666666666666666,
              "#ed7953"
             ],
             [
              0.7777777777777778,
              "#fb9f3a"
             ],
             [
              0.8888888888888888,
              "#fdca26"
             ],
             [
              1,
              "#f0f921"
             ]
            ],
            "type": "histogram2d"
           }
          ],
          "histogram2dcontour": [
           {
            "colorbar": {
             "outlinewidth": 0,
             "ticks": ""
            },
            "colorscale": [
             [
              0,
              "#0d0887"
             ],
             [
              0.1111111111111111,
              "#46039f"
             ],
             [
              0.2222222222222222,
              "#7201a8"
             ],
             [
              0.3333333333333333,
              "#9c179e"
             ],
             [
              0.4444444444444444,
              "#bd3786"
             ],
             [
              0.5555555555555556,
              "#d8576b"
             ],
             [
              0.6666666666666666,
              "#ed7953"
             ],
             [
              0.7777777777777778,
              "#fb9f3a"
             ],
             [
              0.8888888888888888,
              "#fdca26"
             ],
             [
              1,
              "#f0f921"
             ]
            ],
            "type": "histogram2dcontour"
           }
          ],
          "mesh3d": [
           {
            "colorbar": {
             "outlinewidth": 0,
             "ticks": ""
            },
            "type": "mesh3d"
           }
          ],
          "parcoords": [
           {
            "line": {
             "colorbar": {
              "outlinewidth": 0,
              "ticks": ""
             }
            },
            "type": "parcoords"
           }
          ],
          "pie": [
           {
            "automargin": true,
            "type": "pie"
           }
          ],
          "scatter": [
           {
            "fillpattern": {
             "fillmode": "overlay",
             "size": 10,
             "solidity": 0.2
            },
            "type": "scatter"
           }
          ],
          "scatter3d": [
           {
            "line": {
             "colorbar": {
              "outlinewidth": 0,
              "ticks": ""
             }
            },
            "marker": {
             "colorbar": {
              "outlinewidth": 0,
              "ticks": ""
             }
            },
            "type": "scatter3d"
           }
          ],
          "scattercarpet": [
           {
            "marker": {
             "colorbar": {
              "outlinewidth": 0,
              "ticks": ""
             }
            },
            "type": "scattercarpet"
           }
          ],
          "scattergeo": [
           {
            "marker": {
             "colorbar": {
              "outlinewidth": 0,
              "ticks": ""
             }
            },
            "type": "scattergeo"
           }
          ],
          "scattergl": [
           {
            "marker": {
             "colorbar": {
              "outlinewidth": 0,
              "ticks": ""
             }
            },
            "type": "scattergl"
           }
          ],
          "scattermapbox": [
           {
            "marker": {
             "colorbar": {
              "outlinewidth": 0,
              "ticks": ""
             }
            },
            "type": "scattermapbox"
           }
          ],
          "scatterpolar": [
           {
            "marker": {
             "colorbar": {
              "outlinewidth": 0,
              "ticks": ""
             }
            },
            "type": "scatterpolar"
           }
          ],
          "scatterpolargl": [
           {
            "marker": {
             "colorbar": {
              "outlinewidth": 0,
              "ticks": ""
             }
            },
            "type": "scatterpolargl"
           }
          ],
          "scatterternary": [
           {
            "marker": {
             "colorbar": {
              "outlinewidth": 0,
              "ticks": ""
             }
            },
            "type": "scatterternary"
           }
          ],
          "surface": [
           {
            "colorbar": {
             "outlinewidth": 0,
             "ticks": ""
            },
            "colorscale": [
             [
              0,
              "#0d0887"
             ],
             [
              0.1111111111111111,
              "#46039f"
             ],
             [
              0.2222222222222222,
              "#7201a8"
             ],
             [
              0.3333333333333333,
              "#9c179e"
             ],
             [
              0.4444444444444444,
              "#bd3786"
             ],
             [
              0.5555555555555556,
              "#d8576b"
             ],
             [
              0.6666666666666666,
              "#ed7953"
             ],
             [
              0.7777777777777778,
              "#fb9f3a"
             ],
             [
              0.8888888888888888,
              "#fdca26"
             ],
             [
              1,
              "#f0f921"
             ]
            ],
            "type": "surface"
           }
          ],
          "table": [
           {
            "cells": {
             "fill": {
              "color": "#EBF0F8"
             },
             "line": {
              "color": "white"
             }
            },
            "header": {
             "fill": {
              "color": "#C8D4E3"
             },
             "line": {
              "color": "white"
             }
            },
            "type": "table"
           }
          ]
         },
         "layout": {
          "annotationdefaults": {
           "arrowcolor": "#2a3f5f",
           "arrowhead": 0,
           "arrowwidth": 1
          },
          "autotypenumbers": "strict",
          "coloraxis": {
           "colorbar": {
            "outlinewidth": 0,
            "ticks": ""
           }
          },
          "colorscale": {
           "diverging": [
            [
             0,
             "#8e0152"
            ],
            [
             0.1,
             "#c51b7d"
            ],
            [
             0.2,
             "#de77ae"
            ],
            [
             0.3,
             "#f1b6da"
            ],
            [
             0.4,
             "#fde0ef"
            ],
            [
             0.5,
             "#f7f7f7"
            ],
            [
             0.6,
             "#e6f5d0"
            ],
            [
             0.7,
             "#b8e186"
            ],
            [
             0.8,
             "#7fbc41"
            ],
            [
             0.9,
             "#4d9221"
            ],
            [
             1,
             "#276419"
            ]
           ],
           "sequential": [
            [
             0,
             "#0d0887"
            ],
            [
             0.1111111111111111,
             "#46039f"
            ],
            [
             0.2222222222222222,
             "#7201a8"
            ],
            [
             0.3333333333333333,
             "#9c179e"
            ],
            [
             0.4444444444444444,
             "#bd3786"
            ],
            [
             0.5555555555555556,
             "#d8576b"
            ],
            [
             0.6666666666666666,
             "#ed7953"
            ],
            [
             0.7777777777777778,
             "#fb9f3a"
            ],
            [
             0.8888888888888888,
             "#fdca26"
            ],
            [
             1,
             "#f0f921"
            ]
           ],
           "sequentialminus": [
            [
             0,
             "#0d0887"
            ],
            [
             0.1111111111111111,
             "#46039f"
            ],
            [
             0.2222222222222222,
             "#7201a8"
            ],
            [
             0.3333333333333333,
             "#9c179e"
            ],
            [
             0.4444444444444444,
             "#bd3786"
            ],
            [
             0.5555555555555556,
             "#d8576b"
            ],
            [
             0.6666666666666666,
             "#ed7953"
            ],
            [
             0.7777777777777778,
             "#fb9f3a"
            ],
            [
             0.8888888888888888,
             "#fdca26"
            ],
            [
             1,
             "#f0f921"
            ]
           ]
          },
          "colorway": [
           "#636efa",
           "#EF553B",
           "#00cc96",
           "#ab63fa",
           "#FFA15A",
           "#19d3f3",
           "#FF6692",
           "#B6E880",
           "#FF97FF",
           "#FECB52"
          ],
          "font": {
           "color": "#2a3f5f"
          },
          "geo": {
           "bgcolor": "white",
           "lakecolor": "white",
           "landcolor": "#E5ECF6",
           "showlakes": true,
           "showland": true,
           "subunitcolor": "white"
          },
          "hoverlabel": {
           "align": "left"
          },
          "hovermode": "closest",
          "mapbox": {
           "style": "light"
          },
          "paper_bgcolor": "white",
          "plot_bgcolor": "#E5ECF6",
          "polar": {
           "angularaxis": {
            "gridcolor": "white",
            "linecolor": "white",
            "ticks": ""
           },
           "bgcolor": "#E5ECF6",
           "radialaxis": {
            "gridcolor": "white",
            "linecolor": "white",
            "ticks": ""
           }
          },
          "scene": {
           "xaxis": {
            "backgroundcolor": "#E5ECF6",
            "gridcolor": "white",
            "gridwidth": 2,
            "linecolor": "white",
            "showbackground": true,
            "ticks": "",
            "zerolinecolor": "white"
           },
           "yaxis": {
            "backgroundcolor": "#E5ECF6",
            "gridcolor": "white",
            "gridwidth": 2,
            "linecolor": "white",
            "showbackground": true,
            "ticks": "",
            "zerolinecolor": "white"
           },
           "zaxis": {
            "backgroundcolor": "#E5ECF6",
            "gridcolor": "white",
            "gridwidth": 2,
            "linecolor": "white",
            "showbackground": true,
            "ticks": "",
            "zerolinecolor": "white"
           }
          },
          "shapedefaults": {
           "line": {
            "color": "#2a3f5f"
           }
          },
          "ternary": {
           "aaxis": {
            "gridcolor": "white",
            "linecolor": "white",
            "ticks": ""
           },
           "baxis": {
            "gridcolor": "white",
            "linecolor": "white",
            "ticks": ""
           },
           "bgcolor": "#E5ECF6",
           "caxis": {
            "gridcolor": "white",
            "linecolor": "white",
            "ticks": ""
           }
          },
          "title": {
           "x": 0.05
          },
          "xaxis": {
           "automargin": true,
           "gridcolor": "white",
           "linecolor": "white",
           "ticks": "",
           "title": {
            "standoff": 15
           },
           "zerolinecolor": "white",
           "zerolinewidth": 2
          },
          "yaxis": {
           "automargin": true,
           "gridcolor": "white",
           "linecolor": "white",
           "ticks": "",
           "title": {
            "standoff": 15
           },
           "zerolinecolor": "white",
           "zerolinewidth": 2
          }
         }
        },
        "xaxis": {
         "anchor": "y",
         "domain": [
          0,
          1
         ],
         "title": {
          "text": "Timestamp"
         }
        },
        "yaxis": {
         "anchor": "x",
         "domain": [
          0,
          1
         ],
         "title": {
          "text": "Load [MW]"
         }
        }
       }
      }
     },
     "metadata": {},
     "output_type": "display_data"
    },
    {
     "data": {
      "text/plain": [
       "None"
      ]
     },
     "metadata": {},
     "output_type": "display_data"
    }
   ],
   "source": [
    "fig_forecast_realised=pd.concat([forecast[\"forecast\"], realised], axis=1).plot()\n",
    "fig_forecast_realised.update_layout(\n",
    "    xaxis_title='Timestamp',\n",
    "    yaxis_title=\"Load [MW]\"\n",
    ")\n",
    "display(fig_forecast_realised.show())"
   ]
  },
  {
   "cell_type": "code",
   "execution_count": 46,
   "id": "480ce716",
   "metadata": {},
   "outputs": [
    {
     "data": {
      "application/vnd.plotly.v1+json": {
       "config": {
        "plotlyServerURL": "https://plot.ly"
       },
       "data": [
        {
         "hovertemplate": "variable=radiation<br>index=%{x}<br>value=%{y}<extra></extra>",
         "legendgroup": "radiation",
         "line": {
          "color": "#636efa",
          "dash": "solid"
         },
         "marker": {
          "symbol": "circle"
         },
         "mode": "lines",
         "name": "radiation",
         "orientation": "v",
         "showlegend": true,
         "type": "scatter",
         "x": [
          "2023-12-30T00:15:00+00:00",
          "2023-12-30T00:30:00+00:00",
          "2023-12-30T00:45:00+00:00",
          "2023-12-30T01:00:00+00:00",
          "2023-12-30T01:15:00+00:00",
          "2023-12-30T01:30:00+00:00",
          "2023-12-30T01:45:00+00:00",
          "2023-12-30T02:00:00+00:00",
          "2023-12-30T02:15:00+00:00",
          "2023-12-30T02:30:00+00:00",
          "2023-12-30T02:45:00+00:00",
          "2023-12-30T03:00:00+00:00",
          "2023-12-30T03:15:00+00:00",
          "2023-12-30T03:30:00+00:00",
          "2023-12-30T03:45:00+00:00",
          "2023-12-30T04:00:00+00:00",
          "2023-12-30T04:15:00+00:00",
          "2023-12-30T04:30:00+00:00",
          "2023-12-30T04:45:00+00:00",
          "2023-12-30T05:00:00+00:00",
          "2023-12-30T05:15:00+00:00",
          "2023-12-30T05:30:00+00:00",
          "2023-12-30T05:45:00+00:00",
          "2023-12-30T06:00:00+00:00",
          "2023-12-30T06:15:00+00:00",
          "2023-12-30T06:30:00+00:00",
          "2023-12-30T06:45:00+00:00",
          "2023-12-30T07:00:00+00:00",
          "2023-12-30T07:15:00+00:00",
          "2023-12-30T07:30:00+00:00",
          "2023-12-30T07:45:00+00:00",
          "2023-12-30T08:00:00+00:00",
          "2023-12-30T08:15:00+00:00",
          "2023-12-30T08:30:00+00:00",
          "2023-12-30T08:45:00+00:00",
          "2023-12-30T09:00:00+00:00",
          "2023-12-30T09:15:00+00:00",
          "2023-12-30T09:30:00+00:00",
          "2023-12-30T09:45:00+00:00",
          "2023-12-30T10:00:00+00:00",
          "2023-12-30T10:15:00+00:00",
          "2023-12-30T10:30:00+00:00",
          "2023-12-30T10:45:00+00:00",
          "2023-12-30T11:00:00+00:00",
          "2023-12-30T11:15:00+00:00",
          "2023-12-30T11:30:00+00:00",
          "2023-12-30T11:45:00+00:00",
          "2023-12-30T12:00:00+00:00",
          "2023-12-30T12:15:00+00:00",
          "2023-12-30T12:30:00+00:00",
          "2023-12-30T12:45:00+00:00",
          "2023-12-30T13:00:00+00:00",
          "2023-12-30T13:15:00+00:00",
          "2023-12-30T13:30:00+00:00",
          "2023-12-30T13:45:00+00:00",
          "2023-12-30T14:00:00+00:00",
          "2023-12-30T14:15:00+00:00",
          "2023-12-30T14:30:00+00:00",
          "2023-12-30T14:45:00+00:00",
          "2023-12-30T15:00:00+00:00",
          "2023-12-30T15:15:00+00:00",
          "2023-12-30T15:30:00+00:00",
          "2023-12-30T15:45:00+00:00",
          "2023-12-30T16:00:00+00:00",
          "2023-12-30T16:15:00+00:00",
          "2023-12-30T16:30:00+00:00",
          "2023-12-30T16:45:00+00:00",
          "2023-12-30T17:00:00+00:00",
          "2023-12-30T17:15:00+00:00",
          "2023-12-30T17:30:00+00:00",
          "2023-12-30T17:45:00+00:00",
          "2023-12-30T18:00:00+00:00",
          "2023-12-30T18:15:00+00:00",
          "2023-12-30T18:30:00+00:00",
          "2023-12-30T18:45:00+00:00",
          "2023-12-30T19:00:00+00:00",
          "2023-12-30T19:15:00+00:00",
          "2023-12-30T19:30:00+00:00",
          "2023-12-30T19:45:00+00:00",
          "2023-12-30T20:00:00+00:00",
          "2023-12-30T20:15:00+00:00",
          "2023-12-30T20:30:00+00:00",
          "2023-12-30T20:45:00+00:00",
          "2023-12-30T21:00:00+00:00",
          "2023-12-30T21:15:00+00:00",
          "2023-12-30T21:30:00+00:00",
          "2023-12-30T21:45:00+00:00",
          "2023-12-30T22:00:00+00:00",
          "2023-12-30T22:15:00+00:00",
          "2023-12-30T22:30:00+00:00",
          "2023-12-30T22:45:00+00:00",
          "2023-12-30T23:00:00+00:00",
          "2023-12-30T23:15:00+00:00",
          "2023-12-30T23:30:00+00:00",
          "2023-12-30T23:45:00+00:00",
          "2023-12-31T00:00:00+00:00",
          "2023-12-31T00:15:00+00:00",
          "2023-12-31T00:30:00+00:00",
          "2023-12-31T00:45:00+00:00",
          "2023-12-31T01:00:00+00:00",
          "2023-12-31T01:15:00+00:00",
          "2023-12-31T01:30:00+00:00",
          "2023-12-31T01:45:00+00:00",
          "2023-12-31T02:00:00+00:00",
          "2023-12-31T02:15:00+00:00",
          "2023-12-31T02:30:00+00:00",
          "2023-12-31T02:45:00+00:00",
          "2023-12-31T03:00:00+00:00",
          "2023-12-31T03:15:00+00:00",
          "2023-12-31T03:30:00+00:00",
          "2023-12-31T03:45:00+00:00",
          "2023-12-31T04:00:00+00:00",
          "2023-12-31T04:15:00+00:00",
          "2023-12-31T04:30:00+00:00",
          "2023-12-31T04:45:00+00:00",
          "2023-12-31T05:00:00+00:00",
          "2023-12-31T05:15:00+00:00",
          "2023-12-31T05:30:00+00:00",
          "2023-12-31T05:45:00+00:00",
          "2023-12-31T06:00:00+00:00",
          "2023-12-31T06:15:00+00:00",
          "2023-12-31T06:30:00+00:00",
          "2023-12-31T06:45:00+00:00",
          "2023-12-31T07:00:00+00:00",
          "2023-12-31T07:15:00+00:00",
          "2023-12-31T07:30:00+00:00",
          "2023-12-31T07:45:00+00:00",
          "2023-12-31T08:00:00+00:00",
          "2023-12-31T08:15:00+00:00",
          "2023-12-31T08:30:00+00:00",
          "2023-12-31T08:45:00+00:00",
          "2023-12-31T09:00:00+00:00",
          "2023-12-31T09:15:00+00:00",
          "2023-12-31T09:30:00+00:00",
          "2023-12-31T09:45:00+00:00",
          "2023-12-31T10:00:00+00:00",
          "2023-12-31T10:15:00+00:00",
          "2023-12-31T10:30:00+00:00",
          "2023-12-31T10:45:00+00:00",
          "2023-12-31T11:00:00+00:00",
          "2023-12-31T11:15:00+00:00",
          "2023-12-31T11:30:00+00:00",
          "2023-12-31T11:45:00+00:00",
          "2023-12-31T12:00:00+00:00",
          "2023-12-31T12:15:00+00:00",
          "2023-12-31T12:30:00+00:00",
          "2023-12-31T12:45:00+00:00",
          "2023-12-31T13:00:00+00:00",
          "2023-12-31T13:15:00+00:00",
          "2023-12-31T13:30:00+00:00",
          "2023-12-31T13:45:00+00:00",
          "2023-12-31T14:00:00+00:00",
          "2023-12-31T14:15:00+00:00",
          "2023-12-31T14:30:00+00:00",
          "2023-12-31T14:45:00+00:00",
          "2023-12-31T15:00:00+00:00",
          "2023-12-31T15:15:00+00:00",
          "2023-12-31T15:30:00+00:00",
          "2023-12-31T15:45:00+00:00",
          "2023-12-31T16:00:00+00:00",
          "2023-12-31T16:15:00+00:00",
          "2023-12-31T16:30:00+00:00",
          "2023-12-31T16:45:00+00:00",
          "2023-12-31T17:00:00+00:00",
          "2023-12-31T17:15:00+00:00",
          "2023-12-31T17:30:00+00:00",
          "2023-12-31T17:45:00+00:00",
          "2023-12-31T18:00:00+00:00",
          "2023-12-31T18:15:00+00:00",
          "2023-12-31T18:30:00+00:00",
          "2023-12-31T18:45:00+00:00",
          "2023-12-31T19:00:00+00:00",
          "2023-12-31T19:15:00+00:00",
          "2023-12-31T19:30:00+00:00",
          "2023-12-31T19:45:00+00:00",
          "2023-12-31T20:00:00+00:00",
          "2023-12-31T20:15:00+00:00",
          "2023-12-31T20:30:00+00:00",
          "2023-12-31T20:45:00+00:00",
          "2023-12-31T21:00:00+00:00",
          "2023-12-31T21:15:00+00:00",
          "2023-12-31T21:30:00+00:00",
          "2023-12-31T21:45:00+00:00",
          "2023-12-31T22:00:00+00:00",
          "2023-12-31T22:15:00+00:00",
          "2023-12-31T22:30:00+00:00",
          "2023-12-31T22:45:00+00:00",
          "2023-12-31T23:00:00+00:00",
          "2023-12-31T23:15:00+00:00",
          "2023-12-31T23:30:00+00:00",
          "2023-12-31T23:45:00+00:00",
          "2024-01-01T00:00:00+00:00"
         ],
         "xaxis": "x",
         "y": [
          0,
          0,
          1.8230884555342422e-17,
          3.6461769110684845e-17,
          5.469265366602727e-17,
          7.292353822136969e-17,
          7.292397556491973e-17,
          7.292441290846978e-17,
          7.292485025201983e-17,
          7.292528759556988e-17,
          7.292441290846978e-17,
          7.292353822136969e-17,
          7.292266353426961e-17,
          7.292178884716953e-17,
          7.292230363697322e-17,
          7.292281842677692e-17,
          7.292333321658061e-17,
          7.292384800638432e-17,
          7.292449946604739e-17,
          7.292515092571048e-17,
          7.292580238537357e-17,
          7.292645384503666e-17,
          -5.469126874478546e-17,
          -1.8230899133460758e-16,
          -3.099267139244297e-16,
          -4.375444365142518e-16,
          0.0012467696176225206,
          0.002493539235245479,
          0.0037403088528684372,
          0.004987078470491396,
          0.06646928233603527,
          0.12795148620157915,
          0.18943369006712302,
          0.2509158939326669,
          0.34718092459719213,
          0.4434459552617174,
          0.5397109859262427,
          0.6359760165907679,
          0.7041455377022247,
          0.7723150588136813,
          0.840484579925138,
          0.9086541010365947,
          0.9314905757774461,
          0.9543270505182974,
          0.9771635252591487,
          1,
          0.9757966088063362,
          0.9515932176126726,
          0.9273898264190088,
          0.903186435225345,
          0.8299145718250748,
          0.7566427084248044,
          0.683370845024534,
          0.6100989816242638,
          0.5509658320127303,
          0.4918326824011969,
          0.43269953278966344,
          0.37356638317813,
          0.28988665656142054,
          0.20620692994471113,
          0.12252720332800168,
          0.038847476711292246,
          0.029124569453323694,
          0.019401662195355142,
          0.009678754937386593,
          -0.00004415232058195713,
          -0.00003311424043646785,
          -0.000022076160290978566,
          -0.000011038080145489283,
          0,
          0,
          0,
          0,
          0,
          0,
          0,
          0,
          0,
          0,
          0,
          0,
          0,
          0,
          0,
          0,
          0,
          0,
          0,
          0,
          0,
          0,
          0,
          0,
          0,
          0,
          0,
          0,
          0,
          1.8230884555342422e-17,
          3.6461769110684845e-17,
          5.469265366602727e-17,
          7.292353822136969e-17,
          7.292397556491973e-17,
          7.292441290846978e-17,
          7.292485025201983e-17,
          7.292528759556988e-17,
          7.292441290846978e-17,
          7.292353822136969e-17,
          7.292266353426961e-17,
          7.292178884716953e-17,
          7.292230363697322e-17,
          7.292281842677692e-17,
          7.292333321658061e-17,
          7.292384800638432e-17,
          7.292449946604739e-17,
          7.292515092571048e-17,
          7.292580238537357e-17,
          7.292645384503666e-17,
          -5.469126874478546e-17,
          -1.8230899133460758e-16,
          -3.099267139244297e-16,
          -4.375444365142518e-16,
          0.00016085232033542644,
          0.0003217046406712904,
          0.00048255696100715437,
          0.0006434092813430184,
          0.003534713389991375,
          0.006426017498639731,
          0.009317321607288088,
          0.012208625715936443,
          0.041726268730370476,
          0.07124391174480452,
          0.10076155475923855,
          0.13027919777367258,
          0.1587255767089123,
          0.18717195564415198,
          0.2156183345793917,
          0.2440647135146314,
          0.2804614902310939,
          0.3168582669475564,
          0.3532550436640189,
          0.3896518203804814,
          0.35080037365337474,
          0.3119489269262681,
          0.2730974801991614,
          0.23424603347205478,
          0.35335122678617886,
          0.4724564201003029,
          0.5915616134144269,
          0.7106668067285511,
          0.6015209161360319,
          0.4923750255435126,
          0.38322913495099337,
          0.27408324435847414,
          0.2108873426458073,
          0.14769144093314043,
          0.08449553922047355,
          0.02129963750780667,
          0.015953657297566124,
          0.010607677087325575,
          0.005261696877085028,
          -0.00008428333315552039,
          -0.0000632124998666403,
          -0.000042141666577760195,
          -0.000021070833288880097,
          0,
          0,
          0,
          0,
          0,
          0,
          0,
          0,
          0,
          0,
          0,
          0,
          0,
          0,
          0,
          0,
          0,
          0,
          0,
          0,
          0,
          0,
          0,
          null,
          null,
          null,
          null
         ],
         "yaxis": "y"
        },
        {
         "hovertemplate": "variable=forecast<br>index=%{x}<br>value=%{y}<extra></extra>",
         "legendgroup": "forecast",
         "line": {
          "color": "#EF553B",
          "dash": "solid"
         },
         "marker": {
          "symbol": "circle"
         },
         "mode": "lines",
         "name": "forecast",
         "orientation": "v",
         "showlegend": true,
         "type": "scatter",
         "x": [
          "2023-12-30T00:15:00+00:00",
          "2023-12-30T00:30:00+00:00",
          "2023-12-30T00:45:00+00:00",
          "2023-12-30T01:00:00+00:00",
          "2023-12-30T01:15:00+00:00",
          "2023-12-30T01:30:00+00:00",
          "2023-12-30T01:45:00+00:00",
          "2023-12-30T02:00:00+00:00",
          "2023-12-30T02:15:00+00:00",
          "2023-12-30T02:30:00+00:00",
          "2023-12-30T02:45:00+00:00",
          "2023-12-30T03:00:00+00:00",
          "2023-12-30T03:15:00+00:00",
          "2023-12-30T03:30:00+00:00",
          "2023-12-30T03:45:00+00:00",
          "2023-12-30T04:00:00+00:00",
          "2023-12-30T04:15:00+00:00",
          "2023-12-30T04:30:00+00:00",
          "2023-12-30T04:45:00+00:00",
          "2023-12-30T05:00:00+00:00",
          "2023-12-30T05:15:00+00:00",
          "2023-12-30T05:30:00+00:00",
          "2023-12-30T05:45:00+00:00",
          "2023-12-30T06:00:00+00:00",
          "2023-12-30T06:15:00+00:00",
          "2023-12-30T06:30:00+00:00",
          "2023-12-30T06:45:00+00:00",
          "2023-12-30T07:00:00+00:00",
          "2023-12-30T07:15:00+00:00",
          "2023-12-30T07:30:00+00:00",
          "2023-12-30T07:45:00+00:00",
          "2023-12-30T08:00:00+00:00",
          "2023-12-30T08:15:00+00:00",
          "2023-12-30T08:30:00+00:00",
          "2023-12-30T08:45:00+00:00",
          "2023-12-30T09:00:00+00:00",
          "2023-12-30T09:15:00+00:00",
          "2023-12-30T09:30:00+00:00",
          "2023-12-30T09:45:00+00:00",
          "2023-12-30T10:00:00+00:00",
          "2023-12-30T10:15:00+00:00",
          "2023-12-30T10:30:00+00:00",
          "2023-12-30T10:45:00+00:00",
          "2023-12-30T11:00:00+00:00",
          "2023-12-30T11:15:00+00:00",
          "2023-12-30T11:30:00+00:00",
          "2023-12-30T11:45:00+00:00",
          "2023-12-30T12:00:00+00:00",
          "2023-12-30T12:15:00+00:00",
          "2023-12-30T12:30:00+00:00",
          "2023-12-30T12:45:00+00:00",
          "2023-12-30T13:00:00+00:00",
          "2023-12-30T13:15:00+00:00",
          "2023-12-30T13:30:00+00:00",
          "2023-12-30T13:45:00+00:00",
          "2023-12-30T14:00:00+00:00",
          "2023-12-30T14:15:00+00:00",
          "2023-12-30T14:30:00+00:00",
          "2023-12-30T14:45:00+00:00",
          "2023-12-30T15:00:00+00:00",
          "2023-12-30T15:15:00+00:00",
          "2023-12-30T15:30:00+00:00",
          "2023-12-30T15:45:00+00:00",
          "2023-12-30T16:00:00+00:00",
          "2023-12-30T16:15:00+00:00",
          "2023-12-30T16:30:00+00:00",
          "2023-12-30T16:45:00+00:00",
          "2023-12-30T17:00:00+00:00",
          "2023-12-30T17:15:00+00:00",
          "2023-12-30T17:30:00+00:00",
          "2023-12-30T17:45:00+00:00",
          "2023-12-30T18:00:00+00:00",
          "2023-12-30T18:15:00+00:00",
          "2023-12-30T18:30:00+00:00",
          "2023-12-30T18:45:00+00:00",
          "2023-12-30T19:00:00+00:00",
          "2023-12-30T19:15:00+00:00",
          "2023-12-30T19:30:00+00:00",
          "2023-12-30T19:45:00+00:00",
          "2023-12-30T20:00:00+00:00",
          "2023-12-30T20:15:00+00:00",
          "2023-12-30T20:30:00+00:00",
          "2023-12-30T20:45:00+00:00",
          "2023-12-30T21:00:00+00:00",
          "2023-12-30T21:15:00+00:00",
          "2023-12-30T21:30:00+00:00",
          "2023-12-30T21:45:00+00:00",
          "2023-12-30T22:00:00+00:00",
          "2023-12-30T22:15:00+00:00",
          "2023-12-30T22:30:00+00:00",
          "2023-12-30T22:45:00+00:00",
          "2023-12-30T23:00:00+00:00",
          "2023-12-30T23:15:00+00:00",
          "2023-12-30T23:30:00+00:00",
          "2023-12-30T23:45:00+00:00",
          "2023-12-31T00:00:00+00:00",
          "2023-12-31T00:15:00+00:00",
          "2023-12-31T00:30:00+00:00",
          "2023-12-31T00:45:00+00:00",
          "2023-12-31T01:00:00+00:00",
          "2023-12-31T01:15:00+00:00",
          "2023-12-31T01:30:00+00:00",
          "2023-12-31T01:45:00+00:00",
          "2023-12-31T02:00:00+00:00",
          "2023-12-31T02:15:00+00:00",
          "2023-12-31T02:30:00+00:00",
          "2023-12-31T02:45:00+00:00",
          "2023-12-31T03:00:00+00:00",
          "2023-12-31T03:15:00+00:00",
          "2023-12-31T03:30:00+00:00",
          "2023-12-31T03:45:00+00:00",
          "2023-12-31T04:00:00+00:00",
          "2023-12-31T04:15:00+00:00",
          "2023-12-31T04:30:00+00:00",
          "2023-12-31T04:45:00+00:00",
          "2023-12-31T05:00:00+00:00",
          "2023-12-31T05:15:00+00:00",
          "2023-12-31T05:30:00+00:00",
          "2023-12-31T05:45:00+00:00",
          "2023-12-31T06:00:00+00:00",
          "2023-12-31T06:15:00+00:00",
          "2023-12-31T06:30:00+00:00",
          "2023-12-31T06:45:00+00:00",
          "2023-12-31T07:00:00+00:00",
          "2023-12-31T07:15:00+00:00",
          "2023-12-31T07:30:00+00:00",
          "2023-12-31T07:45:00+00:00",
          "2023-12-31T08:00:00+00:00",
          "2023-12-31T08:15:00+00:00",
          "2023-12-31T08:30:00+00:00",
          "2023-12-31T08:45:00+00:00",
          "2023-12-31T09:00:00+00:00",
          "2023-12-31T09:15:00+00:00",
          "2023-12-31T09:30:00+00:00",
          "2023-12-31T09:45:00+00:00",
          "2023-12-31T10:00:00+00:00",
          "2023-12-31T10:15:00+00:00",
          "2023-12-31T10:30:00+00:00",
          "2023-12-31T10:45:00+00:00",
          "2023-12-31T11:00:00+00:00",
          "2023-12-31T11:15:00+00:00",
          "2023-12-31T11:30:00+00:00",
          "2023-12-31T11:45:00+00:00",
          "2023-12-31T12:00:00+00:00",
          "2023-12-31T12:15:00+00:00",
          "2023-12-31T12:30:00+00:00",
          "2023-12-31T12:45:00+00:00",
          "2023-12-31T13:00:00+00:00",
          "2023-12-31T13:15:00+00:00",
          "2023-12-31T13:30:00+00:00",
          "2023-12-31T13:45:00+00:00",
          "2023-12-31T14:00:00+00:00",
          "2023-12-31T14:15:00+00:00",
          "2023-12-31T14:30:00+00:00",
          "2023-12-31T14:45:00+00:00",
          "2023-12-31T15:00:00+00:00",
          "2023-12-31T15:15:00+00:00",
          "2023-12-31T15:30:00+00:00",
          "2023-12-31T15:45:00+00:00",
          "2023-12-31T16:00:00+00:00",
          "2023-12-31T16:15:00+00:00",
          "2023-12-31T16:30:00+00:00",
          "2023-12-31T16:45:00+00:00",
          "2023-12-31T17:00:00+00:00",
          "2023-12-31T17:15:00+00:00",
          "2023-12-31T17:30:00+00:00",
          "2023-12-31T17:45:00+00:00",
          "2023-12-31T18:00:00+00:00",
          "2023-12-31T18:15:00+00:00",
          "2023-12-31T18:30:00+00:00",
          "2023-12-31T18:45:00+00:00",
          "2023-12-31T19:00:00+00:00",
          "2023-12-31T19:15:00+00:00",
          "2023-12-31T19:30:00+00:00",
          "2023-12-31T19:45:00+00:00",
          "2023-12-31T20:00:00+00:00",
          "2023-12-31T20:15:00+00:00",
          "2023-12-31T20:30:00+00:00",
          "2023-12-31T20:45:00+00:00",
          "2023-12-31T21:00:00+00:00",
          "2023-12-31T21:15:00+00:00",
          "2023-12-31T21:30:00+00:00",
          "2023-12-31T21:45:00+00:00",
          "2023-12-31T22:00:00+00:00",
          "2023-12-31T22:15:00+00:00",
          "2023-12-31T22:30:00+00:00",
          "2023-12-31T22:45:00+00:00",
          "2023-12-31T23:00:00+00:00",
          "2023-12-31T23:15:00+00:00",
          "2023-12-31T23:30:00+00:00",
          "2023-12-31T23:45:00+00:00",
          "2024-01-01T00:00:00+00:00"
         ],
         "xaxis": "x",
         "y": [
          0.5023109912872314,
          0.4283088147640228,
          0.4290507733821869,
          0.41116955876350403,
          0.41116955876350403,
          0.41116955876350403,
          0.41116955876350403,
          0.41116955876350403,
          0.4104275703430176,
          0.4283088147640228,
          0.4283088147640228,
          0.43163806200027466,
          0.4104275703430176,
          0.4104275703430176,
          0.4104275703430176,
          0.4283088147640228,
          0.43243497610092163,
          0.414553701877594,
          0.43243497610092163,
          0.4388462007045746,
          0.4388462007045746,
          0.4388462007045746,
          0.4742330014705658,
          0.4804192781448364,
          0.5863142609596252,
          0.5863142609596252,
          0.5802117586135864,
          0.6648312211036682,
          0.6901140213012695,
          0.6901140213012695,
          0.7212104201316833,
          0.7399842739105225,
          0.7671591639518738,
          0.7852265238761902,
          0.7852265238761902,
          0.7303865551948547,
          0.6884618401527405,
          0.6797544360160828,
          0.6643375158309937,
          0.5130231976509094,
          0.4923153519630432,
          0.4839204251766205,
          0.4880465567111969,
          0.49850547313690186,
          0.47681429982185364,
          0.47681429982185364,
          0.47681429982185364,
          0.6765443086624146,
          0.5045221447944641,
          0.5045221447944641,
          0.43211469054222107,
          0.4138050675392151,
          0.5162690877914429,
          0.5962579846382141,
          0.6849229335784912,
          0.7813833355903625,
          0.772628903388977,
          0.772628903388977,
          0.8274688720703125,
          0.8775888681411743,
          0.871925950050354,
          0.871925950050354,
          0.9467447996139526,
          0.9467447996139526,
          0.9793120622634888,
          1,
          1,
          1,
          1,
          1,
          1,
          1,
          0.9768426418304443,
          0.9768426418304443,
          0.9706057906150818,
          0.9590416550636292,
          0.9028571248054504,
          0.9028571248054504,
          0.8678930997848511,
          0.8642701506614685,
          0.8422833681106567,
          0.7821162939071655,
          0.7821162939071655,
          0.7621472477912903,
          0.7506794333457947,
          0.7465533018112183,
          0.6839693784713745,
          0.6573997735977173,
          0.602206826210022,
          0.5865578055381775,
          0.5702555179595947,
          0.5361987352371216,
          0.5075939297676086,
          0.5075939297676086,
          0.5075939297676086,
          0.4812734127044678,
          0.44992420077323914,
          0.4431854784488678,
          0.4431854784488678,
          0.4431854784488678,
          0.4431854784488678,
          0.4431854784488678,
          0.4431854784488678,
          0.4431854784488678,
          0.4431854784488678,
          0.4431854784488678,
          0.4431854784488678,
          0.42530423402786255,
          0.4431854784488678,
          0.4394609332084656,
          0.4394609332084656,
          0.45224305987358093,
          0.45224305987358093,
          0.4431854784488678,
          0.4418329894542694,
          0.47976070642471313,
          0.47976070642471313,
          0.48379820585250854,
          0.48379820585250854,
          0.5234248042106628,
          0.5234248042106628,
          0.5522871017456055,
          0.6133463382720947,
          0.6757070422172546,
          0.6757070422172546,
          0.706803560256958,
          0.7374411821365356,
          0.7374411821365356,
          0.732774555683136,
          0.7590058445930481,
          0.7590058445930481,
          0.7747253775596619,
          0.7869732975959778,
          0.7747251391410828,
          0.7969186305999756,
          0.7990489602088928,
          0.70649653673172,
          0.6631859540939331,
          0.6626372337341309,
          0.642180323600769,
          0.6626372337341309,
          0.7098091244697571,
          0.7900561094284058,
          0.7019984722137451,
          0.7203989028930664,
          0.6914086937904358,
          0.7716556787490845,
          0.7846964001655579,
          0.7427716255187988,
          0.7282986640930176,
          0.779218316078186,
          0.779218316078186,
          0.7839001417160034,
          0.7609288096427917,
          0.8302198052406311,
          0.8826653361320496,
          0.8704174160957336,
          0.8704174160957336,
          0.9452363848686218,
          0.9141634106636047,
          0.9548458456993103,
          0.9548458456993103,
          0.9548458456993103,
          0.9548458456993103,
          0.9548458456993103,
          0.9548458456993103,
          0.9610826373100281,
          0.9657493233680725,
          0.9368676543235779,
          0.9368676543235779,
          0.9179249405860901,
          0.9336063265800476,
          0.8685346841812134,
          0.849276065826416,
          0.806394636631012,
          0.7844077348709106,
          0.7621120810508728,
          0.724138617515564,
          0.7234687805175781,
          0.7234687805175781,
          0.7066335678100586,
          0.7066335678100586,
          0.675995945930481,
          0.675995945930481,
          0.6367191672325134,
          0.6073739528656006,
          0.560253381729126,
          0.531883180141449,
          0.5341857075691223,
          0.5341857075691223,
          0.5256037712097168,
          0.29963335394859314
         ],
         "yaxis": "y"
        }
       ],
       "layout": {
        "legend": {
         "title": {
          "text": "variable"
         },
         "tracegroupgap": 0
        },
        "margin": {
         "t": 60
        },
        "template": {
         "data": {
          "bar": [
           {
            "error_x": {
             "color": "#2a3f5f"
            },
            "error_y": {
             "color": "#2a3f5f"
            },
            "marker": {
             "line": {
              "color": "#E5ECF6",
              "width": 0.5
             },
             "pattern": {
              "fillmode": "overlay",
              "size": 10,
              "solidity": 0.2
             }
            },
            "type": "bar"
           }
          ],
          "barpolar": [
           {
            "marker": {
             "line": {
              "color": "#E5ECF6",
              "width": 0.5
             },
             "pattern": {
              "fillmode": "overlay",
              "size": 10,
              "solidity": 0.2
             }
            },
            "type": "barpolar"
           }
          ],
          "carpet": [
           {
            "aaxis": {
             "endlinecolor": "#2a3f5f",
             "gridcolor": "white",
             "linecolor": "white",
             "minorgridcolor": "white",
             "startlinecolor": "#2a3f5f"
            },
            "baxis": {
             "endlinecolor": "#2a3f5f",
             "gridcolor": "white",
             "linecolor": "white",
             "minorgridcolor": "white",
             "startlinecolor": "#2a3f5f"
            },
            "type": "carpet"
           }
          ],
          "choropleth": [
           {
            "colorbar": {
             "outlinewidth": 0,
             "ticks": ""
            },
            "type": "choropleth"
           }
          ],
          "contour": [
           {
            "colorbar": {
             "outlinewidth": 0,
             "ticks": ""
            },
            "colorscale": [
             [
              0,
              "#0d0887"
             ],
             [
              0.1111111111111111,
              "#46039f"
             ],
             [
              0.2222222222222222,
              "#7201a8"
             ],
             [
              0.3333333333333333,
              "#9c179e"
             ],
             [
              0.4444444444444444,
              "#bd3786"
             ],
             [
              0.5555555555555556,
              "#d8576b"
             ],
             [
              0.6666666666666666,
              "#ed7953"
             ],
             [
              0.7777777777777778,
              "#fb9f3a"
             ],
             [
              0.8888888888888888,
              "#fdca26"
             ],
             [
              1,
              "#f0f921"
             ]
            ],
            "type": "contour"
           }
          ],
          "contourcarpet": [
           {
            "colorbar": {
             "outlinewidth": 0,
             "ticks": ""
            },
            "type": "contourcarpet"
           }
          ],
          "heatmap": [
           {
            "colorbar": {
             "outlinewidth": 0,
             "ticks": ""
            },
            "colorscale": [
             [
              0,
              "#0d0887"
             ],
             [
              0.1111111111111111,
              "#46039f"
             ],
             [
              0.2222222222222222,
              "#7201a8"
             ],
             [
              0.3333333333333333,
              "#9c179e"
             ],
             [
              0.4444444444444444,
              "#bd3786"
             ],
             [
              0.5555555555555556,
              "#d8576b"
             ],
             [
              0.6666666666666666,
              "#ed7953"
             ],
             [
              0.7777777777777778,
              "#fb9f3a"
             ],
             [
              0.8888888888888888,
              "#fdca26"
             ],
             [
              1,
              "#f0f921"
             ]
            ],
            "type": "heatmap"
           }
          ],
          "heatmapgl": [
           {
            "colorbar": {
             "outlinewidth": 0,
             "ticks": ""
            },
            "colorscale": [
             [
              0,
              "#0d0887"
             ],
             [
              0.1111111111111111,
              "#46039f"
             ],
             [
              0.2222222222222222,
              "#7201a8"
             ],
             [
              0.3333333333333333,
              "#9c179e"
             ],
             [
              0.4444444444444444,
              "#bd3786"
             ],
             [
              0.5555555555555556,
              "#d8576b"
             ],
             [
              0.6666666666666666,
              "#ed7953"
             ],
             [
              0.7777777777777778,
              "#fb9f3a"
             ],
             [
              0.8888888888888888,
              "#fdca26"
             ],
             [
              1,
              "#f0f921"
             ]
            ],
            "type": "heatmapgl"
           }
          ],
          "histogram": [
           {
            "marker": {
             "pattern": {
              "fillmode": "overlay",
              "size": 10,
              "solidity": 0.2
             }
            },
            "type": "histogram"
           }
          ],
          "histogram2d": [
           {
            "colorbar": {
             "outlinewidth": 0,
             "ticks": ""
            },
            "colorscale": [
             [
              0,
              "#0d0887"
             ],
             [
              0.1111111111111111,
              "#46039f"
             ],
             [
              0.2222222222222222,
              "#7201a8"
             ],
             [
              0.3333333333333333,
              "#9c179e"
             ],
             [
              0.4444444444444444,
              "#bd3786"
             ],
             [
              0.5555555555555556,
              "#d8576b"
             ],
             [
              0.6666666666666666,
              "#ed7953"
             ],
             [
              0.7777777777777778,
              "#fb9f3a"
             ],
             [
              0.8888888888888888,
              "#fdca26"
             ],
             [
              1,
              "#f0f921"
             ]
            ],
            "type": "histogram2d"
           }
          ],
          "histogram2dcontour": [
           {
            "colorbar": {
             "outlinewidth": 0,
             "ticks": ""
            },
            "colorscale": [
             [
              0,
              "#0d0887"
             ],
             [
              0.1111111111111111,
              "#46039f"
             ],
             [
              0.2222222222222222,
              "#7201a8"
             ],
             [
              0.3333333333333333,
              "#9c179e"
             ],
             [
              0.4444444444444444,
              "#bd3786"
             ],
             [
              0.5555555555555556,
              "#d8576b"
             ],
             [
              0.6666666666666666,
              "#ed7953"
             ],
             [
              0.7777777777777778,
              "#fb9f3a"
             ],
             [
              0.8888888888888888,
              "#fdca26"
             ],
             [
              1,
              "#f0f921"
             ]
            ],
            "type": "histogram2dcontour"
           }
          ],
          "mesh3d": [
           {
            "colorbar": {
             "outlinewidth": 0,
             "ticks": ""
            },
            "type": "mesh3d"
           }
          ],
          "parcoords": [
           {
            "line": {
             "colorbar": {
              "outlinewidth": 0,
              "ticks": ""
             }
            },
            "type": "parcoords"
           }
          ],
          "pie": [
           {
            "automargin": true,
            "type": "pie"
           }
          ],
          "scatter": [
           {
            "fillpattern": {
             "fillmode": "overlay",
             "size": 10,
             "solidity": 0.2
            },
            "type": "scatter"
           }
          ],
          "scatter3d": [
           {
            "line": {
             "colorbar": {
              "outlinewidth": 0,
              "ticks": ""
             }
            },
            "marker": {
             "colorbar": {
              "outlinewidth": 0,
              "ticks": ""
             }
            },
            "type": "scatter3d"
           }
          ],
          "scattercarpet": [
           {
            "marker": {
             "colorbar": {
              "outlinewidth": 0,
              "ticks": ""
             }
            },
            "type": "scattercarpet"
           }
          ],
          "scattergeo": [
           {
            "marker": {
             "colorbar": {
              "outlinewidth": 0,
              "ticks": ""
             }
            },
            "type": "scattergeo"
           }
          ],
          "scattergl": [
           {
            "marker": {
             "colorbar": {
              "outlinewidth": 0,
              "ticks": ""
             }
            },
            "type": "scattergl"
           }
          ],
          "scattermapbox": [
           {
            "marker": {
             "colorbar": {
              "outlinewidth": 0,
              "ticks": ""
             }
            },
            "type": "scattermapbox"
           }
          ],
          "scatterpolar": [
           {
            "marker": {
             "colorbar": {
              "outlinewidth": 0,
              "ticks": ""
             }
            },
            "type": "scatterpolar"
           }
          ],
          "scatterpolargl": [
           {
            "marker": {
             "colorbar": {
              "outlinewidth": 0,
              "ticks": ""
             }
            },
            "type": "scatterpolargl"
           }
          ],
          "scatterternary": [
           {
            "marker": {
             "colorbar": {
              "outlinewidth": 0,
              "ticks": ""
             }
            },
            "type": "scatterternary"
           }
          ],
          "surface": [
           {
            "colorbar": {
             "outlinewidth": 0,
             "ticks": ""
            },
            "colorscale": [
             [
              0,
              "#0d0887"
             ],
             [
              0.1111111111111111,
              "#46039f"
             ],
             [
              0.2222222222222222,
              "#7201a8"
             ],
             [
              0.3333333333333333,
              "#9c179e"
             ],
             [
              0.4444444444444444,
              "#bd3786"
             ],
             [
              0.5555555555555556,
              "#d8576b"
             ],
             [
              0.6666666666666666,
              "#ed7953"
             ],
             [
              0.7777777777777778,
              "#fb9f3a"
             ],
             [
              0.8888888888888888,
              "#fdca26"
             ],
             [
              1,
              "#f0f921"
             ]
            ],
            "type": "surface"
           }
          ],
          "table": [
           {
            "cells": {
             "fill": {
              "color": "#EBF0F8"
             },
             "line": {
              "color": "white"
             }
            },
            "header": {
             "fill": {
              "color": "#C8D4E3"
             },
             "line": {
              "color": "white"
             }
            },
            "type": "table"
           }
          ]
         },
         "layout": {
          "annotationdefaults": {
           "arrowcolor": "#2a3f5f",
           "arrowhead": 0,
           "arrowwidth": 1
          },
          "autotypenumbers": "strict",
          "coloraxis": {
           "colorbar": {
            "outlinewidth": 0,
            "ticks": ""
           }
          },
          "colorscale": {
           "diverging": [
            [
             0,
             "#8e0152"
            ],
            [
             0.1,
             "#c51b7d"
            ],
            [
             0.2,
             "#de77ae"
            ],
            [
             0.3,
             "#f1b6da"
            ],
            [
             0.4,
             "#fde0ef"
            ],
            [
             0.5,
             "#f7f7f7"
            ],
            [
             0.6,
             "#e6f5d0"
            ],
            [
             0.7,
             "#b8e186"
            ],
            [
             0.8,
             "#7fbc41"
            ],
            [
             0.9,
             "#4d9221"
            ],
            [
             1,
             "#276419"
            ]
           ],
           "sequential": [
            [
             0,
             "#0d0887"
            ],
            [
             0.1111111111111111,
             "#46039f"
            ],
            [
             0.2222222222222222,
             "#7201a8"
            ],
            [
             0.3333333333333333,
             "#9c179e"
            ],
            [
             0.4444444444444444,
             "#bd3786"
            ],
            [
             0.5555555555555556,
             "#d8576b"
            ],
            [
             0.6666666666666666,
             "#ed7953"
            ],
            [
             0.7777777777777778,
             "#fb9f3a"
            ],
            [
             0.8888888888888888,
             "#fdca26"
            ],
            [
             1,
             "#f0f921"
            ]
           ],
           "sequentialminus": [
            [
             0,
             "#0d0887"
            ],
            [
             0.1111111111111111,
             "#46039f"
            ],
            [
             0.2222222222222222,
             "#7201a8"
            ],
            [
             0.3333333333333333,
             "#9c179e"
            ],
            [
             0.4444444444444444,
             "#bd3786"
            ],
            [
             0.5555555555555556,
             "#d8576b"
            ],
            [
             0.6666666666666666,
             "#ed7953"
            ],
            [
             0.7777777777777778,
             "#fb9f3a"
            ],
            [
             0.8888888888888888,
             "#fdca26"
            ],
            [
             1,
             "#f0f921"
            ]
           ]
          },
          "colorway": [
           "#636efa",
           "#EF553B",
           "#00cc96",
           "#ab63fa",
           "#FFA15A",
           "#19d3f3",
           "#FF6692",
           "#B6E880",
           "#FF97FF",
           "#FECB52"
          ],
          "font": {
           "color": "#2a3f5f"
          },
          "geo": {
           "bgcolor": "white",
           "lakecolor": "white",
           "landcolor": "#E5ECF6",
           "showlakes": true,
           "showland": true,
           "subunitcolor": "white"
          },
          "hoverlabel": {
           "align": "left"
          },
          "hovermode": "closest",
          "mapbox": {
           "style": "light"
          },
          "paper_bgcolor": "white",
          "plot_bgcolor": "#E5ECF6",
          "polar": {
           "angularaxis": {
            "gridcolor": "white",
            "linecolor": "white",
            "ticks": ""
           },
           "bgcolor": "#E5ECF6",
           "radialaxis": {
            "gridcolor": "white",
            "linecolor": "white",
            "ticks": ""
           }
          },
          "scene": {
           "xaxis": {
            "backgroundcolor": "#E5ECF6",
            "gridcolor": "white",
            "gridwidth": 2,
            "linecolor": "white",
            "showbackground": true,
            "ticks": "",
            "zerolinecolor": "white"
           },
           "yaxis": {
            "backgroundcolor": "#E5ECF6",
            "gridcolor": "white",
            "gridwidth": 2,
            "linecolor": "white",
            "showbackground": true,
            "ticks": "",
            "zerolinecolor": "white"
           },
           "zaxis": {
            "backgroundcolor": "#E5ECF6",
            "gridcolor": "white",
            "gridwidth": 2,
            "linecolor": "white",
            "showbackground": true,
            "ticks": "",
            "zerolinecolor": "white"
           }
          },
          "shapedefaults": {
           "line": {
            "color": "#2a3f5f"
           }
          },
          "ternary": {
           "aaxis": {
            "gridcolor": "white",
            "linecolor": "white",
            "ticks": ""
           },
           "baxis": {
            "gridcolor": "white",
            "linecolor": "white",
            "ticks": ""
           },
           "bgcolor": "#E5ECF6",
           "caxis": {
            "gridcolor": "white",
            "linecolor": "white",
            "ticks": ""
           }
          },
          "title": {
           "x": 0.05
          },
          "xaxis": {
           "automargin": true,
           "gridcolor": "white",
           "linecolor": "white",
           "ticks": "",
           "title": {
            "standoff": 15
           },
           "zerolinecolor": "white",
           "zerolinewidth": 2
          },
          "yaxis": {
           "automargin": true,
           "gridcolor": "white",
           "linecolor": "white",
           "ticks": "",
           "title": {
            "standoff": 15
           },
           "zerolinecolor": "white",
           "zerolinewidth": 2
          }
         }
        },
        "xaxis": {
         "anchor": "y",
         "domain": [
          0,
          1
         ],
         "title": {
          "text": "Timestamp"
         }
        },
        "yaxis": {
         "anchor": "x",
         "domain": [
          0,
          1
         ],
         "title": {
          "text": "Normalized values"
         }
        }
       }
      }
     },
     "metadata": {},
     "output_type": "display_data"
    },
    {
     "data": {
      "text/plain": [
       "None"
      ]
     },
     "metadata": {},
     "output_type": "display_data"
    }
   ],
   "source": [
    "# Look at the normalized plots of both the radiation and forecast, do you recognize any paterns?\n",
    "\n",
    "fig_forecast_radiation=pd.concat(\n",
    "    [\n",
    "        test_data[\"radiation\"]/max(test_data[\"radiation\"]),\n",
    "        forecast[\"forecast\"]/max(forecast[\"forecast\"])\n",
    "    ], axis=1).plot()\n",
    "fig_forecast_radiation.update_layout(\n",
    "    xaxis_title='Timestamp',\n",
    "    yaxis_title=\"Normalized values\"\n",
    ")\n",
    "display(fig_forecast_radiation.show())"
   ]
  },
  {
   "cell_type": "code",
   "execution_count": 47,
   "id": "d59f2717",
   "metadata": {},
   "outputs": [
    {
     "data": {
      "application/vnd.plotly.v1+json": {
       "config": {
        "plotlyServerURL": "https://plot.ly"
       },
       "data": [
        {
         "hovertemplate": "variable=windspeed<br>index=%{x}<br>value=%{y}<extra></extra>",
         "legendgroup": "windspeed",
         "line": {
          "color": "#636efa",
          "dash": "solid"
         },
         "marker": {
          "symbol": "circle"
         },
         "mode": "lines",
         "name": "windspeed",
         "orientation": "v",
         "showlegend": true,
         "type": "scatter",
         "x": [
          "2023-12-30T00:15:00+00:00",
          "2023-12-30T00:30:00+00:00",
          "2023-12-30T00:45:00+00:00",
          "2023-12-30T01:00:00+00:00",
          "2023-12-30T01:15:00+00:00",
          "2023-12-30T01:30:00+00:00",
          "2023-12-30T01:45:00+00:00",
          "2023-12-30T02:00:00+00:00",
          "2023-12-30T02:15:00+00:00",
          "2023-12-30T02:30:00+00:00",
          "2023-12-30T02:45:00+00:00",
          "2023-12-30T03:00:00+00:00",
          "2023-12-30T03:15:00+00:00",
          "2023-12-30T03:30:00+00:00",
          "2023-12-30T03:45:00+00:00",
          "2023-12-30T04:00:00+00:00",
          "2023-12-30T04:15:00+00:00",
          "2023-12-30T04:30:00+00:00",
          "2023-12-30T04:45:00+00:00",
          "2023-12-30T05:00:00+00:00",
          "2023-12-30T05:15:00+00:00",
          "2023-12-30T05:30:00+00:00",
          "2023-12-30T05:45:00+00:00",
          "2023-12-30T06:00:00+00:00",
          "2023-12-30T06:15:00+00:00",
          "2023-12-30T06:30:00+00:00",
          "2023-12-30T06:45:00+00:00",
          "2023-12-30T07:00:00+00:00",
          "2023-12-30T07:15:00+00:00",
          "2023-12-30T07:30:00+00:00",
          "2023-12-30T07:45:00+00:00",
          "2023-12-30T08:00:00+00:00",
          "2023-12-30T08:15:00+00:00",
          "2023-12-30T08:30:00+00:00",
          "2023-12-30T08:45:00+00:00",
          "2023-12-30T09:00:00+00:00",
          "2023-12-30T09:15:00+00:00",
          "2023-12-30T09:30:00+00:00",
          "2023-12-30T09:45:00+00:00",
          "2023-12-30T10:00:00+00:00",
          "2023-12-30T10:15:00+00:00",
          "2023-12-30T10:30:00+00:00",
          "2023-12-30T10:45:00+00:00",
          "2023-12-30T11:00:00+00:00",
          "2023-12-30T11:15:00+00:00",
          "2023-12-30T11:30:00+00:00",
          "2023-12-30T11:45:00+00:00",
          "2023-12-30T12:00:00+00:00",
          "2023-12-30T12:15:00+00:00",
          "2023-12-30T12:30:00+00:00",
          "2023-12-30T12:45:00+00:00",
          "2023-12-30T13:00:00+00:00",
          "2023-12-30T13:15:00+00:00",
          "2023-12-30T13:30:00+00:00",
          "2023-12-30T13:45:00+00:00",
          "2023-12-30T14:00:00+00:00",
          "2023-12-30T14:15:00+00:00",
          "2023-12-30T14:30:00+00:00",
          "2023-12-30T14:45:00+00:00",
          "2023-12-30T15:00:00+00:00",
          "2023-12-30T15:15:00+00:00",
          "2023-12-30T15:30:00+00:00",
          "2023-12-30T15:45:00+00:00",
          "2023-12-30T16:00:00+00:00",
          "2023-12-30T16:15:00+00:00",
          "2023-12-30T16:30:00+00:00",
          "2023-12-30T16:45:00+00:00",
          "2023-12-30T17:00:00+00:00",
          "2023-12-30T17:15:00+00:00",
          "2023-12-30T17:30:00+00:00",
          "2023-12-30T17:45:00+00:00",
          "2023-12-30T18:00:00+00:00",
          "2023-12-30T18:15:00+00:00",
          "2023-12-30T18:30:00+00:00",
          "2023-12-30T18:45:00+00:00",
          "2023-12-30T19:00:00+00:00",
          "2023-12-30T19:15:00+00:00",
          "2023-12-30T19:30:00+00:00",
          "2023-12-30T19:45:00+00:00",
          "2023-12-30T20:00:00+00:00",
          "2023-12-30T20:15:00+00:00",
          "2023-12-30T20:30:00+00:00",
          "2023-12-30T20:45:00+00:00",
          "2023-12-30T21:00:00+00:00",
          "2023-12-30T21:15:00+00:00",
          "2023-12-30T21:30:00+00:00",
          "2023-12-30T21:45:00+00:00",
          "2023-12-30T22:00:00+00:00",
          "2023-12-30T22:15:00+00:00",
          "2023-12-30T22:30:00+00:00",
          "2023-12-30T22:45:00+00:00",
          "2023-12-30T23:00:00+00:00",
          "2023-12-30T23:15:00+00:00",
          "2023-12-30T23:30:00+00:00",
          "2023-12-30T23:45:00+00:00",
          "2023-12-31T00:00:00+00:00",
          "2023-12-31T00:15:00+00:00",
          "2023-12-31T00:30:00+00:00",
          "2023-12-31T00:45:00+00:00",
          "2023-12-31T01:00:00+00:00",
          "2023-12-31T01:15:00+00:00",
          "2023-12-31T01:30:00+00:00",
          "2023-12-31T01:45:00+00:00",
          "2023-12-31T02:00:00+00:00",
          "2023-12-31T02:15:00+00:00",
          "2023-12-31T02:30:00+00:00",
          "2023-12-31T02:45:00+00:00",
          "2023-12-31T03:00:00+00:00",
          "2023-12-31T03:15:00+00:00",
          "2023-12-31T03:30:00+00:00",
          "2023-12-31T03:45:00+00:00",
          "2023-12-31T04:00:00+00:00",
          "2023-12-31T04:15:00+00:00",
          "2023-12-31T04:30:00+00:00",
          "2023-12-31T04:45:00+00:00",
          "2023-12-31T05:00:00+00:00",
          "2023-12-31T05:15:00+00:00",
          "2023-12-31T05:30:00+00:00",
          "2023-12-31T05:45:00+00:00",
          "2023-12-31T06:00:00+00:00",
          "2023-12-31T06:15:00+00:00",
          "2023-12-31T06:30:00+00:00",
          "2023-12-31T06:45:00+00:00",
          "2023-12-31T07:00:00+00:00",
          "2023-12-31T07:15:00+00:00",
          "2023-12-31T07:30:00+00:00",
          "2023-12-31T07:45:00+00:00",
          "2023-12-31T08:00:00+00:00",
          "2023-12-31T08:15:00+00:00",
          "2023-12-31T08:30:00+00:00",
          "2023-12-31T08:45:00+00:00",
          "2023-12-31T09:00:00+00:00",
          "2023-12-31T09:15:00+00:00",
          "2023-12-31T09:30:00+00:00",
          "2023-12-31T09:45:00+00:00",
          "2023-12-31T10:00:00+00:00",
          "2023-12-31T10:15:00+00:00",
          "2023-12-31T10:30:00+00:00",
          "2023-12-31T10:45:00+00:00",
          "2023-12-31T11:00:00+00:00",
          "2023-12-31T11:15:00+00:00",
          "2023-12-31T11:30:00+00:00",
          "2023-12-31T11:45:00+00:00",
          "2023-12-31T12:00:00+00:00",
          "2023-12-31T12:15:00+00:00",
          "2023-12-31T12:30:00+00:00",
          "2023-12-31T12:45:00+00:00",
          "2023-12-31T13:00:00+00:00",
          "2023-12-31T13:15:00+00:00",
          "2023-12-31T13:30:00+00:00",
          "2023-12-31T13:45:00+00:00",
          "2023-12-31T14:00:00+00:00",
          "2023-12-31T14:15:00+00:00",
          "2023-12-31T14:30:00+00:00",
          "2023-12-31T14:45:00+00:00",
          "2023-12-31T15:00:00+00:00",
          "2023-12-31T15:15:00+00:00",
          "2023-12-31T15:30:00+00:00",
          "2023-12-31T15:45:00+00:00",
          "2023-12-31T16:00:00+00:00",
          "2023-12-31T16:15:00+00:00",
          "2023-12-31T16:30:00+00:00",
          "2023-12-31T16:45:00+00:00",
          "2023-12-31T17:00:00+00:00",
          "2023-12-31T17:15:00+00:00",
          "2023-12-31T17:30:00+00:00",
          "2023-12-31T17:45:00+00:00",
          "2023-12-31T18:00:00+00:00",
          "2023-12-31T18:15:00+00:00",
          "2023-12-31T18:30:00+00:00",
          "2023-12-31T18:45:00+00:00",
          "2023-12-31T19:00:00+00:00",
          "2023-12-31T19:15:00+00:00",
          "2023-12-31T19:30:00+00:00",
          "2023-12-31T19:45:00+00:00",
          "2023-12-31T20:00:00+00:00",
          "2023-12-31T20:15:00+00:00",
          "2023-12-31T20:30:00+00:00",
          "2023-12-31T20:45:00+00:00",
          "2023-12-31T21:00:00+00:00",
          "2023-12-31T21:15:00+00:00",
          "2023-12-31T21:30:00+00:00",
          "2023-12-31T21:45:00+00:00",
          "2023-12-31T22:00:00+00:00",
          "2023-12-31T22:15:00+00:00",
          "2023-12-31T22:30:00+00:00",
          "2023-12-31T22:45:00+00:00",
          "2023-12-31T23:00:00+00:00",
          "2023-12-31T23:15:00+00:00",
          "2023-12-31T23:30:00+00:00",
          "2023-12-31T23:45:00+00:00",
          "2024-01-01T00:00:00+00:00"
         ],
         "xaxis": "x",
         "y": [
          1,
          0.9940581389495395,
          0.988116277899079,
          0.9821744168486185,
          0.9770443689507202,
          0.9719143210528223,
          0.9667842731549241,
          0.961654225257026,
          0.9583028684635553,
          0.9549515116700844,
          0.9516001548766139,
          0.9482487980831431,
          0.9444880438735526,
          0.940727289663962,
          0.9369665354543715,
          0.9332057812447807,
          0.9249166644319645,
          0.9166275476191483,
          0.9083384308063323,
          0.9000493139935161,
          0.8968565598855456,
          0.8936638057775752,
          0.8904710516696047,
          0.8872782975616341,
          0.8815526239401043,
          0.8758269503185744,
          0.8701012766970444,
          0.8643756030755144,
          0.8420612327181081,
          0.8197468623607016,
          0.7974324920032951,
          0.7751181216458887,
          0.7632903470751043,
          0.75146257250432,
          0.7396347979335357,
          0.7278070233627514,
          0.7183812665162126,
          0.7089555096696734,
          0.6995297528231343,
          0.6901039959765953,
          0.6774343738576556,
          0.6647647517387159,
          0.652095129619776,
          0.6394255075008363,
          0.660162996815432,
          0.6809004861300276,
          0.7016379754446234,
          0.7223754647592192,
          0.7051588120417979,
          0.6879421593243766,
          0.6707255066069554,
          0.6535088538895342,
          0.6137529304000869,
          0.5739970069106397,
          0.5342410834211924,
          0.49448515993174513,
          0.47886804578363473,
          0.46325093163552433,
          0.44763381748741393,
          0.43201670333930353,
          0.4650797553401146,
          0.4981428073409257,
          0.5312058593417368,
          0.5642689113425479,
          0.5945105931934269,
          0.6247522750443059,
          0.6549939568951849,
          0.685235638746064,
          0.6976398253074597,
          0.7100440118688555,
          0.7224481984302513,
          0.734852384991647,
          0.7406987795704009,
          0.7465451741491549,
          0.7523915687279088,
          0.7582379633066629,
          0.7600230903530028,
          0.7618082173993431,
          0.7635933444456832,
          0.7653784714920235,
          0.7639790493154051,
          0.7625796271387862,
          0.7611802049621677,
          0.759780782785549,
          0.7543017826335893,
          0.7488227824816296,
          0.74334378232967,
          0.7378647821777101,
          0.7460330086664098,
          0.7542012351551095,
          0.7623694616438091,
          0.7705376881325089,
          0.7852281395564376,
          0.7999185909803661,
          0.8146090424042949,
          0.8292994938282234,
          0.828149078620582,
          0.8269986634129405,
          0.825848248205299,
          0.8246978329976575,
          0.8286202008597252,
          0.8325425687217928,
          0.8364649365838603,
          0.840387304445928,
          0.8409577133211293,
          0.841528122196331,
          0.8420985310715325,
          0.8426689399467341,
          0.8443755372106121,
          0.8460821344744898,
          0.8477887317383677,
          0.8494953290022453,
          0.8476854932081523,
          0.8458756574140592,
          0.8440658216199659,
          0.8422559858258731,
          0.844458790447519,
          0.8466615950691652,
          0.8488643996908115,
          0.8510672043124574,
          0.8597445853169254,
          0.8684219663213936,
          0.8770993473258615,
          0.8857767283303293,
          0.8951033114520718,
          0.9044298945738141,
          0.9137564776955565,
          0.9230830608172986,
          0.9260697706913416,
          0.9290564805653844,
          0.9320431904394271,
          0.9350299003134699,
          0.9315219732372082,
          0.9280140461609465,
          0.9245061190846848,
          0.9209981920084231,
          0.931041140629565,
          0.9410840892507067,
          0.9511270378718485,
          0.9611699864929903,
          0.9569369997501839,
          0.9527040130073774,
          0.9484710262645708,
          0.9442380395217643,
          0.9381091597849605,
          0.9319802800481567,
          0.9258514003113529,
          0.919722520574549,
          0.8902424628204386,
          0.8607624050663284,
          0.831282347312218,
          0.8018022895581076,
          0.8161432806272974,
          0.830484271696487,
          0.8448252627656767,
          0.8591662538348663,
          0.8712085598027439,
          0.8832508657706217,
          0.8952931717384994,
          0.9073354777063771,
          0.8977236619192185,
          0.8881118461320601,
          0.8785000303449015,
          0.868888214557743,
          0.8849496721574474,
          0.9010111297571516,
          0.9170725873568556,
          0.9331340449565597,
          0.9391167987022733,
          0.9450995524479868,
          0.9510823061937002,
          0.9570650599394137,
          0.949593797031657,
          0.9421225341239003,
          0.9346512712161437,
          0.927180008308387,
          0.912086181402292,
          0.896992354496197,
          0.8818985275901021,
          0.8668047006840071,
          0.8788883509921842,
          0.8909720013003614,
          0.9030556516085385,
          0.9151393019167156,
          0.8871380429561484,
          0.8591367839955812,
          0.8311355250350141,
          0.8031342660744469,
          null,
          null,
          null,
          null
         ],
         "yaxis": "y"
        },
        {
         "hovertemplate": "variable=forecast<br>index=%{x}<br>value=%{y}<extra></extra>",
         "legendgroup": "forecast",
         "line": {
          "color": "#EF553B",
          "dash": "solid"
         },
         "marker": {
          "symbol": "circle"
         },
         "mode": "lines",
         "name": "forecast",
         "orientation": "v",
         "showlegend": true,
         "type": "scatter",
         "x": [
          "2023-12-30T00:15:00+00:00",
          "2023-12-30T00:30:00+00:00",
          "2023-12-30T00:45:00+00:00",
          "2023-12-30T01:00:00+00:00",
          "2023-12-30T01:15:00+00:00",
          "2023-12-30T01:30:00+00:00",
          "2023-12-30T01:45:00+00:00",
          "2023-12-30T02:00:00+00:00",
          "2023-12-30T02:15:00+00:00",
          "2023-12-30T02:30:00+00:00",
          "2023-12-30T02:45:00+00:00",
          "2023-12-30T03:00:00+00:00",
          "2023-12-30T03:15:00+00:00",
          "2023-12-30T03:30:00+00:00",
          "2023-12-30T03:45:00+00:00",
          "2023-12-30T04:00:00+00:00",
          "2023-12-30T04:15:00+00:00",
          "2023-12-30T04:30:00+00:00",
          "2023-12-30T04:45:00+00:00",
          "2023-12-30T05:00:00+00:00",
          "2023-12-30T05:15:00+00:00",
          "2023-12-30T05:30:00+00:00",
          "2023-12-30T05:45:00+00:00",
          "2023-12-30T06:00:00+00:00",
          "2023-12-30T06:15:00+00:00",
          "2023-12-30T06:30:00+00:00",
          "2023-12-30T06:45:00+00:00",
          "2023-12-30T07:00:00+00:00",
          "2023-12-30T07:15:00+00:00",
          "2023-12-30T07:30:00+00:00",
          "2023-12-30T07:45:00+00:00",
          "2023-12-30T08:00:00+00:00",
          "2023-12-30T08:15:00+00:00",
          "2023-12-30T08:30:00+00:00",
          "2023-12-30T08:45:00+00:00",
          "2023-12-30T09:00:00+00:00",
          "2023-12-30T09:15:00+00:00",
          "2023-12-30T09:30:00+00:00",
          "2023-12-30T09:45:00+00:00",
          "2023-12-30T10:00:00+00:00",
          "2023-12-30T10:15:00+00:00",
          "2023-12-30T10:30:00+00:00",
          "2023-12-30T10:45:00+00:00",
          "2023-12-30T11:00:00+00:00",
          "2023-12-30T11:15:00+00:00",
          "2023-12-30T11:30:00+00:00",
          "2023-12-30T11:45:00+00:00",
          "2023-12-30T12:00:00+00:00",
          "2023-12-30T12:15:00+00:00",
          "2023-12-30T12:30:00+00:00",
          "2023-12-30T12:45:00+00:00",
          "2023-12-30T13:00:00+00:00",
          "2023-12-30T13:15:00+00:00",
          "2023-12-30T13:30:00+00:00",
          "2023-12-30T13:45:00+00:00",
          "2023-12-30T14:00:00+00:00",
          "2023-12-30T14:15:00+00:00",
          "2023-12-30T14:30:00+00:00",
          "2023-12-30T14:45:00+00:00",
          "2023-12-30T15:00:00+00:00",
          "2023-12-30T15:15:00+00:00",
          "2023-12-30T15:30:00+00:00",
          "2023-12-30T15:45:00+00:00",
          "2023-12-30T16:00:00+00:00",
          "2023-12-30T16:15:00+00:00",
          "2023-12-30T16:30:00+00:00",
          "2023-12-30T16:45:00+00:00",
          "2023-12-30T17:00:00+00:00",
          "2023-12-30T17:15:00+00:00",
          "2023-12-30T17:30:00+00:00",
          "2023-12-30T17:45:00+00:00",
          "2023-12-30T18:00:00+00:00",
          "2023-12-30T18:15:00+00:00",
          "2023-12-30T18:30:00+00:00",
          "2023-12-30T18:45:00+00:00",
          "2023-12-30T19:00:00+00:00",
          "2023-12-30T19:15:00+00:00",
          "2023-12-30T19:30:00+00:00",
          "2023-12-30T19:45:00+00:00",
          "2023-12-30T20:00:00+00:00",
          "2023-12-30T20:15:00+00:00",
          "2023-12-30T20:30:00+00:00",
          "2023-12-30T20:45:00+00:00",
          "2023-12-30T21:00:00+00:00",
          "2023-12-30T21:15:00+00:00",
          "2023-12-30T21:30:00+00:00",
          "2023-12-30T21:45:00+00:00",
          "2023-12-30T22:00:00+00:00",
          "2023-12-30T22:15:00+00:00",
          "2023-12-30T22:30:00+00:00",
          "2023-12-30T22:45:00+00:00",
          "2023-12-30T23:00:00+00:00",
          "2023-12-30T23:15:00+00:00",
          "2023-12-30T23:30:00+00:00",
          "2023-12-30T23:45:00+00:00",
          "2023-12-31T00:00:00+00:00",
          "2023-12-31T00:15:00+00:00",
          "2023-12-31T00:30:00+00:00",
          "2023-12-31T00:45:00+00:00",
          "2023-12-31T01:00:00+00:00",
          "2023-12-31T01:15:00+00:00",
          "2023-12-31T01:30:00+00:00",
          "2023-12-31T01:45:00+00:00",
          "2023-12-31T02:00:00+00:00",
          "2023-12-31T02:15:00+00:00",
          "2023-12-31T02:30:00+00:00",
          "2023-12-31T02:45:00+00:00",
          "2023-12-31T03:00:00+00:00",
          "2023-12-31T03:15:00+00:00",
          "2023-12-31T03:30:00+00:00",
          "2023-12-31T03:45:00+00:00",
          "2023-12-31T04:00:00+00:00",
          "2023-12-31T04:15:00+00:00",
          "2023-12-31T04:30:00+00:00",
          "2023-12-31T04:45:00+00:00",
          "2023-12-31T05:00:00+00:00",
          "2023-12-31T05:15:00+00:00",
          "2023-12-31T05:30:00+00:00",
          "2023-12-31T05:45:00+00:00",
          "2023-12-31T06:00:00+00:00",
          "2023-12-31T06:15:00+00:00",
          "2023-12-31T06:30:00+00:00",
          "2023-12-31T06:45:00+00:00",
          "2023-12-31T07:00:00+00:00",
          "2023-12-31T07:15:00+00:00",
          "2023-12-31T07:30:00+00:00",
          "2023-12-31T07:45:00+00:00",
          "2023-12-31T08:00:00+00:00",
          "2023-12-31T08:15:00+00:00",
          "2023-12-31T08:30:00+00:00",
          "2023-12-31T08:45:00+00:00",
          "2023-12-31T09:00:00+00:00",
          "2023-12-31T09:15:00+00:00",
          "2023-12-31T09:30:00+00:00",
          "2023-12-31T09:45:00+00:00",
          "2023-12-31T10:00:00+00:00",
          "2023-12-31T10:15:00+00:00",
          "2023-12-31T10:30:00+00:00",
          "2023-12-31T10:45:00+00:00",
          "2023-12-31T11:00:00+00:00",
          "2023-12-31T11:15:00+00:00",
          "2023-12-31T11:30:00+00:00",
          "2023-12-31T11:45:00+00:00",
          "2023-12-31T12:00:00+00:00",
          "2023-12-31T12:15:00+00:00",
          "2023-12-31T12:30:00+00:00",
          "2023-12-31T12:45:00+00:00",
          "2023-12-31T13:00:00+00:00",
          "2023-12-31T13:15:00+00:00",
          "2023-12-31T13:30:00+00:00",
          "2023-12-31T13:45:00+00:00",
          "2023-12-31T14:00:00+00:00",
          "2023-12-31T14:15:00+00:00",
          "2023-12-31T14:30:00+00:00",
          "2023-12-31T14:45:00+00:00",
          "2023-12-31T15:00:00+00:00",
          "2023-12-31T15:15:00+00:00",
          "2023-12-31T15:30:00+00:00",
          "2023-12-31T15:45:00+00:00",
          "2023-12-31T16:00:00+00:00",
          "2023-12-31T16:15:00+00:00",
          "2023-12-31T16:30:00+00:00",
          "2023-12-31T16:45:00+00:00",
          "2023-12-31T17:00:00+00:00",
          "2023-12-31T17:15:00+00:00",
          "2023-12-31T17:30:00+00:00",
          "2023-12-31T17:45:00+00:00",
          "2023-12-31T18:00:00+00:00",
          "2023-12-31T18:15:00+00:00",
          "2023-12-31T18:30:00+00:00",
          "2023-12-31T18:45:00+00:00",
          "2023-12-31T19:00:00+00:00",
          "2023-12-31T19:15:00+00:00",
          "2023-12-31T19:30:00+00:00",
          "2023-12-31T19:45:00+00:00",
          "2023-12-31T20:00:00+00:00",
          "2023-12-31T20:15:00+00:00",
          "2023-12-31T20:30:00+00:00",
          "2023-12-31T20:45:00+00:00",
          "2023-12-31T21:00:00+00:00",
          "2023-12-31T21:15:00+00:00",
          "2023-12-31T21:30:00+00:00",
          "2023-12-31T21:45:00+00:00",
          "2023-12-31T22:00:00+00:00",
          "2023-12-31T22:15:00+00:00",
          "2023-12-31T22:30:00+00:00",
          "2023-12-31T22:45:00+00:00",
          "2023-12-31T23:00:00+00:00",
          "2023-12-31T23:15:00+00:00",
          "2023-12-31T23:30:00+00:00",
          "2023-12-31T23:45:00+00:00",
          "2024-01-01T00:00:00+00:00"
         ],
         "xaxis": "x",
         "y": [
          0.5023109912872314,
          0.4283088147640228,
          0.4290507733821869,
          0.41116955876350403,
          0.41116955876350403,
          0.41116955876350403,
          0.41116955876350403,
          0.41116955876350403,
          0.4104275703430176,
          0.4283088147640228,
          0.4283088147640228,
          0.43163806200027466,
          0.4104275703430176,
          0.4104275703430176,
          0.4104275703430176,
          0.4283088147640228,
          0.43243497610092163,
          0.414553701877594,
          0.43243497610092163,
          0.4388462007045746,
          0.4388462007045746,
          0.4388462007045746,
          0.4742330014705658,
          0.4804192781448364,
          0.5863142609596252,
          0.5863142609596252,
          0.5802117586135864,
          0.6648312211036682,
          0.6901140213012695,
          0.6901140213012695,
          0.7212104201316833,
          0.7399842739105225,
          0.7671591639518738,
          0.7852265238761902,
          0.7852265238761902,
          0.7303865551948547,
          0.6884618401527405,
          0.6797544360160828,
          0.6643375158309937,
          0.5130231976509094,
          0.4923153519630432,
          0.4839204251766205,
          0.4880465567111969,
          0.49850547313690186,
          0.47681429982185364,
          0.47681429982185364,
          0.47681429982185364,
          0.6765443086624146,
          0.5045221447944641,
          0.5045221447944641,
          0.43211469054222107,
          0.4138050675392151,
          0.5162690877914429,
          0.5962579846382141,
          0.6849229335784912,
          0.7813833355903625,
          0.772628903388977,
          0.772628903388977,
          0.8274688720703125,
          0.8775888681411743,
          0.871925950050354,
          0.871925950050354,
          0.9467447996139526,
          0.9467447996139526,
          0.9793120622634888,
          1,
          1,
          1,
          1,
          1,
          1,
          1,
          0.9768426418304443,
          0.9768426418304443,
          0.9706057906150818,
          0.9590416550636292,
          0.9028571248054504,
          0.9028571248054504,
          0.8678930997848511,
          0.8642701506614685,
          0.8422833681106567,
          0.7821162939071655,
          0.7821162939071655,
          0.7621472477912903,
          0.7506794333457947,
          0.7465533018112183,
          0.6839693784713745,
          0.6573997735977173,
          0.602206826210022,
          0.5865578055381775,
          0.5702555179595947,
          0.5361987352371216,
          0.5075939297676086,
          0.5075939297676086,
          0.5075939297676086,
          0.4812734127044678,
          0.44992420077323914,
          0.4431854784488678,
          0.4431854784488678,
          0.4431854784488678,
          0.4431854784488678,
          0.4431854784488678,
          0.4431854784488678,
          0.4431854784488678,
          0.4431854784488678,
          0.4431854784488678,
          0.4431854784488678,
          0.42530423402786255,
          0.4431854784488678,
          0.4394609332084656,
          0.4394609332084656,
          0.45224305987358093,
          0.45224305987358093,
          0.4431854784488678,
          0.4418329894542694,
          0.47976070642471313,
          0.47976070642471313,
          0.48379820585250854,
          0.48379820585250854,
          0.5234248042106628,
          0.5234248042106628,
          0.5522871017456055,
          0.6133463382720947,
          0.6757070422172546,
          0.6757070422172546,
          0.706803560256958,
          0.7374411821365356,
          0.7374411821365356,
          0.732774555683136,
          0.7590058445930481,
          0.7590058445930481,
          0.7747253775596619,
          0.7869732975959778,
          0.7747251391410828,
          0.7969186305999756,
          0.7990489602088928,
          0.70649653673172,
          0.6631859540939331,
          0.6626372337341309,
          0.642180323600769,
          0.6626372337341309,
          0.7098091244697571,
          0.7900561094284058,
          0.7019984722137451,
          0.7203989028930664,
          0.6914086937904358,
          0.7716556787490845,
          0.7846964001655579,
          0.7427716255187988,
          0.7282986640930176,
          0.779218316078186,
          0.779218316078186,
          0.7839001417160034,
          0.7609288096427917,
          0.8302198052406311,
          0.8826653361320496,
          0.8704174160957336,
          0.8704174160957336,
          0.9452363848686218,
          0.9141634106636047,
          0.9548458456993103,
          0.9548458456993103,
          0.9548458456993103,
          0.9548458456993103,
          0.9548458456993103,
          0.9548458456993103,
          0.9610826373100281,
          0.9657493233680725,
          0.9368676543235779,
          0.9368676543235779,
          0.9179249405860901,
          0.9336063265800476,
          0.8685346841812134,
          0.849276065826416,
          0.806394636631012,
          0.7844077348709106,
          0.7621120810508728,
          0.724138617515564,
          0.7234687805175781,
          0.7234687805175781,
          0.7066335678100586,
          0.7066335678100586,
          0.675995945930481,
          0.675995945930481,
          0.6367191672325134,
          0.6073739528656006,
          0.560253381729126,
          0.531883180141449,
          0.5341857075691223,
          0.5341857075691223,
          0.5256037712097168,
          0.29963335394859314
         ],
         "yaxis": "y"
        }
       ],
       "layout": {
        "legend": {
         "title": {
          "text": "variable"
         },
         "tracegroupgap": 0
        },
        "margin": {
         "t": 60
        },
        "template": {
         "data": {
          "bar": [
           {
            "error_x": {
             "color": "#2a3f5f"
            },
            "error_y": {
             "color": "#2a3f5f"
            },
            "marker": {
             "line": {
              "color": "#E5ECF6",
              "width": 0.5
             },
             "pattern": {
              "fillmode": "overlay",
              "size": 10,
              "solidity": 0.2
             }
            },
            "type": "bar"
           }
          ],
          "barpolar": [
           {
            "marker": {
             "line": {
              "color": "#E5ECF6",
              "width": 0.5
             },
             "pattern": {
              "fillmode": "overlay",
              "size": 10,
              "solidity": 0.2
             }
            },
            "type": "barpolar"
           }
          ],
          "carpet": [
           {
            "aaxis": {
             "endlinecolor": "#2a3f5f",
             "gridcolor": "white",
             "linecolor": "white",
             "minorgridcolor": "white",
             "startlinecolor": "#2a3f5f"
            },
            "baxis": {
             "endlinecolor": "#2a3f5f",
             "gridcolor": "white",
             "linecolor": "white",
             "minorgridcolor": "white",
             "startlinecolor": "#2a3f5f"
            },
            "type": "carpet"
           }
          ],
          "choropleth": [
           {
            "colorbar": {
             "outlinewidth": 0,
             "ticks": ""
            },
            "type": "choropleth"
           }
          ],
          "contour": [
           {
            "colorbar": {
             "outlinewidth": 0,
             "ticks": ""
            },
            "colorscale": [
             [
              0,
              "#0d0887"
             ],
             [
              0.1111111111111111,
              "#46039f"
             ],
             [
              0.2222222222222222,
              "#7201a8"
             ],
             [
              0.3333333333333333,
              "#9c179e"
             ],
             [
              0.4444444444444444,
              "#bd3786"
             ],
             [
              0.5555555555555556,
              "#d8576b"
             ],
             [
              0.6666666666666666,
              "#ed7953"
             ],
             [
              0.7777777777777778,
              "#fb9f3a"
             ],
             [
              0.8888888888888888,
              "#fdca26"
             ],
             [
              1,
              "#f0f921"
             ]
            ],
            "type": "contour"
           }
          ],
          "contourcarpet": [
           {
            "colorbar": {
             "outlinewidth": 0,
             "ticks": ""
            },
            "type": "contourcarpet"
           }
          ],
          "heatmap": [
           {
            "colorbar": {
             "outlinewidth": 0,
             "ticks": ""
            },
            "colorscale": [
             [
              0,
              "#0d0887"
             ],
             [
              0.1111111111111111,
              "#46039f"
             ],
             [
              0.2222222222222222,
              "#7201a8"
             ],
             [
              0.3333333333333333,
              "#9c179e"
             ],
             [
              0.4444444444444444,
              "#bd3786"
             ],
             [
              0.5555555555555556,
              "#d8576b"
             ],
             [
              0.6666666666666666,
              "#ed7953"
             ],
             [
              0.7777777777777778,
              "#fb9f3a"
             ],
             [
              0.8888888888888888,
              "#fdca26"
             ],
             [
              1,
              "#f0f921"
             ]
            ],
            "type": "heatmap"
           }
          ],
          "heatmapgl": [
           {
            "colorbar": {
             "outlinewidth": 0,
             "ticks": ""
            },
            "colorscale": [
             [
              0,
              "#0d0887"
             ],
             [
              0.1111111111111111,
              "#46039f"
             ],
             [
              0.2222222222222222,
              "#7201a8"
             ],
             [
              0.3333333333333333,
              "#9c179e"
             ],
             [
              0.4444444444444444,
              "#bd3786"
             ],
             [
              0.5555555555555556,
              "#d8576b"
             ],
             [
              0.6666666666666666,
              "#ed7953"
             ],
             [
              0.7777777777777778,
              "#fb9f3a"
             ],
             [
              0.8888888888888888,
              "#fdca26"
             ],
             [
              1,
              "#f0f921"
             ]
            ],
            "type": "heatmapgl"
           }
          ],
          "histogram": [
           {
            "marker": {
             "pattern": {
              "fillmode": "overlay",
              "size": 10,
              "solidity": 0.2
             }
            },
            "type": "histogram"
           }
          ],
          "histogram2d": [
           {
            "colorbar": {
             "outlinewidth": 0,
             "ticks": ""
            },
            "colorscale": [
             [
              0,
              "#0d0887"
             ],
             [
              0.1111111111111111,
              "#46039f"
             ],
             [
              0.2222222222222222,
              "#7201a8"
             ],
             [
              0.3333333333333333,
              "#9c179e"
             ],
             [
              0.4444444444444444,
              "#bd3786"
             ],
             [
              0.5555555555555556,
              "#d8576b"
             ],
             [
              0.6666666666666666,
              "#ed7953"
             ],
             [
              0.7777777777777778,
              "#fb9f3a"
             ],
             [
              0.8888888888888888,
              "#fdca26"
             ],
             [
              1,
              "#f0f921"
             ]
            ],
            "type": "histogram2d"
           }
          ],
          "histogram2dcontour": [
           {
            "colorbar": {
             "outlinewidth": 0,
             "ticks": ""
            },
            "colorscale": [
             [
              0,
              "#0d0887"
             ],
             [
              0.1111111111111111,
              "#46039f"
             ],
             [
              0.2222222222222222,
              "#7201a8"
             ],
             [
              0.3333333333333333,
              "#9c179e"
             ],
             [
              0.4444444444444444,
              "#bd3786"
             ],
             [
              0.5555555555555556,
              "#d8576b"
             ],
             [
              0.6666666666666666,
              "#ed7953"
             ],
             [
              0.7777777777777778,
              "#fb9f3a"
             ],
             [
              0.8888888888888888,
              "#fdca26"
             ],
             [
              1,
              "#f0f921"
             ]
            ],
            "type": "histogram2dcontour"
           }
          ],
          "mesh3d": [
           {
            "colorbar": {
             "outlinewidth": 0,
             "ticks": ""
            },
            "type": "mesh3d"
           }
          ],
          "parcoords": [
           {
            "line": {
             "colorbar": {
              "outlinewidth": 0,
              "ticks": ""
             }
            },
            "type": "parcoords"
           }
          ],
          "pie": [
           {
            "automargin": true,
            "type": "pie"
           }
          ],
          "scatter": [
           {
            "fillpattern": {
             "fillmode": "overlay",
             "size": 10,
             "solidity": 0.2
            },
            "type": "scatter"
           }
          ],
          "scatter3d": [
           {
            "line": {
             "colorbar": {
              "outlinewidth": 0,
              "ticks": ""
             }
            },
            "marker": {
             "colorbar": {
              "outlinewidth": 0,
              "ticks": ""
             }
            },
            "type": "scatter3d"
           }
          ],
          "scattercarpet": [
           {
            "marker": {
             "colorbar": {
              "outlinewidth": 0,
              "ticks": ""
             }
            },
            "type": "scattercarpet"
           }
          ],
          "scattergeo": [
           {
            "marker": {
             "colorbar": {
              "outlinewidth": 0,
              "ticks": ""
             }
            },
            "type": "scattergeo"
           }
          ],
          "scattergl": [
           {
            "marker": {
             "colorbar": {
              "outlinewidth": 0,
              "ticks": ""
             }
            },
            "type": "scattergl"
           }
          ],
          "scattermapbox": [
           {
            "marker": {
             "colorbar": {
              "outlinewidth": 0,
              "ticks": ""
             }
            },
            "type": "scattermapbox"
           }
          ],
          "scatterpolar": [
           {
            "marker": {
             "colorbar": {
              "outlinewidth": 0,
              "ticks": ""
             }
            },
            "type": "scatterpolar"
           }
          ],
          "scatterpolargl": [
           {
            "marker": {
             "colorbar": {
              "outlinewidth": 0,
              "ticks": ""
             }
            },
            "type": "scatterpolargl"
           }
          ],
          "scatterternary": [
           {
            "marker": {
             "colorbar": {
              "outlinewidth": 0,
              "ticks": ""
             }
            },
            "type": "scatterternary"
           }
          ],
          "surface": [
           {
            "colorbar": {
             "outlinewidth": 0,
             "ticks": ""
            },
            "colorscale": [
             [
              0,
              "#0d0887"
             ],
             [
              0.1111111111111111,
              "#46039f"
             ],
             [
              0.2222222222222222,
              "#7201a8"
             ],
             [
              0.3333333333333333,
              "#9c179e"
             ],
             [
              0.4444444444444444,
              "#bd3786"
             ],
             [
              0.5555555555555556,
              "#d8576b"
             ],
             [
              0.6666666666666666,
              "#ed7953"
             ],
             [
              0.7777777777777778,
              "#fb9f3a"
             ],
             [
              0.8888888888888888,
              "#fdca26"
             ],
             [
              1,
              "#f0f921"
             ]
            ],
            "type": "surface"
           }
          ],
          "table": [
           {
            "cells": {
             "fill": {
              "color": "#EBF0F8"
             },
             "line": {
              "color": "white"
             }
            },
            "header": {
             "fill": {
              "color": "#C8D4E3"
             },
             "line": {
              "color": "white"
             }
            },
            "type": "table"
           }
          ]
         },
         "layout": {
          "annotationdefaults": {
           "arrowcolor": "#2a3f5f",
           "arrowhead": 0,
           "arrowwidth": 1
          },
          "autotypenumbers": "strict",
          "coloraxis": {
           "colorbar": {
            "outlinewidth": 0,
            "ticks": ""
           }
          },
          "colorscale": {
           "diverging": [
            [
             0,
             "#8e0152"
            ],
            [
             0.1,
             "#c51b7d"
            ],
            [
             0.2,
             "#de77ae"
            ],
            [
             0.3,
             "#f1b6da"
            ],
            [
             0.4,
             "#fde0ef"
            ],
            [
             0.5,
             "#f7f7f7"
            ],
            [
             0.6,
             "#e6f5d0"
            ],
            [
             0.7,
             "#b8e186"
            ],
            [
             0.8,
             "#7fbc41"
            ],
            [
             0.9,
             "#4d9221"
            ],
            [
             1,
             "#276419"
            ]
           ],
           "sequential": [
            [
             0,
             "#0d0887"
            ],
            [
             0.1111111111111111,
             "#46039f"
            ],
            [
             0.2222222222222222,
             "#7201a8"
            ],
            [
             0.3333333333333333,
             "#9c179e"
            ],
            [
             0.4444444444444444,
             "#bd3786"
            ],
            [
             0.5555555555555556,
             "#d8576b"
            ],
            [
             0.6666666666666666,
             "#ed7953"
            ],
            [
             0.7777777777777778,
             "#fb9f3a"
            ],
            [
             0.8888888888888888,
             "#fdca26"
            ],
            [
             1,
             "#f0f921"
            ]
           ],
           "sequentialminus": [
            [
             0,
             "#0d0887"
            ],
            [
             0.1111111111111111,
             "#46039f"
            ],
            [
             0.2222222222222222,
             "#7201a8"
            ],
            [
             0.3333333333333333,
             "#9c179e"
            ],
            [
             0.4444444444444444,
             "#bd3786"
            ],
            [
             0.5555555555555556,
             "#d8576b"
            ],
            [
             0.6666666666666666,
             "#ed7953"
            ],
            [
             0.7777777777777778,
             "#fb9f3a"
            ],
            [
             0.8888888888888888,
             "#fdca26"
            ],
            [
             1,
             "#f0f921"
            ]
           ]
          },
          "colorway": [
           "#636efa",
           "#EF553B",
           "#00cc96",
           "#ab63fa",
           "#FFA15A",
           "#19d3f3",
           "#FF6692",
           "#B6E880",
           "#FF97FF",
           "#FECB52"
          ],
          "font": {
           "color": "#2a3f5f"
          },
          "geo": {
           "bgcolor": "white",
           "lakecolor": "white",
           "landcolor": "#E5ECF6",
           "showlakes": true,
           "showland": true,
           "subunitcolor": "white"
          },
          "hoverlabel": {
           "align": "left"
          },
          "hovermode": "closest",
          "mapbox": {
           "style": "light"
          },
          "paper_bgcolor": "white",
          "plot_bgcolor": "#E5ECF6",
          "polar": {
           "angularaxis": {
            "gridcolor": "white",
            "linecolor": "white",
            "ticks": ""
           },
           "bgcolor": "#E5ECF6",
           "radialaxis": {
            "gridcolor": "white",
            "linecolor": "white",
            "ticks": ""
           }
          },
          "scene": {
           "xaxis": {
            "backgroundcolor": "#E5ECF6",
            "gridcolor": "white",
            "gridwidth": 2,
            "linecolor": "white",
            "showbackground": true,
            "ticks": "",
            "zerolinecolor": "white"
           },
           "yaxis": {
            "backgroundcolor": "#E5ECF6",
            "gridcolor": "white",
            "gridwidth": 2,
            "linecolor": "white",
            "showbackground": true,
            "ticks": "",
            "zerolinecolor": "white"
           },
           "zaxis": {
            "backgroundcolor": "#E5ECF6",
            "gridcolor": "white",
            "gridwidth": 2,
            "linecolor": "white",
            "showbackground": true,
            "ticks": "",
            "zerolinecolor": "white"
           }
          },
          "shapedefaults": {
           "line": {
            "color": "#2a3f5f"
           }
          },
          "ternary": {
           "aaxis": {
            "gridcolor": "white",
            "linecolor": "white",
            "ticks": ""
           },
           "baxis": {
            "gridcolor": "white",
            "linecolor": "white",
            "ticks": ""
           },
           "bgcolor": "#E5ECF6",
           "caxis": {
            "gridcolor": "white",
            "linecolor": "white",
            "ticks": ""
           }
          },
          "title": {
           "x": 0.05
          },
          "xaxis": {
           "automargin": true,
           "gridcolor": "white",
           "linecolor": "white",
           "ticks": "",
           "title": {
            "standoff": 15
           },
           "zerolinecolor": "white",
           "zerolinewidth": 2
          },
          "yaxis": {
           "automargin": true,
           "gridcolor": "white",
           "linecolor": "white",
           "ticks": "",
           "title": {
            "standoff": 15
           },
           "zerolinecolor": "white",
           "zerolinewidth": 2
          }
         }
        },
        "xaxis": {
         "anchor": "y",
         "domain": [
          0,
          1
         ],
         "title": {
          "text": "Timestamp"
         }
        },
        "yaxis": {
         "anchor": "x",
         "domain": [
          0,
          1
         ],
         "title": {
          "text": "Normalized values"
         }
        }
       }
      }
     },
     "metadata": {},
     "output_type": "display_data"
    }
   ],
   "source": [
    "fig_forecast_windspeed=pd.concat(\n",
    "    [\n",
    "        test_data[\"windspeed\"]/max(test_data[\"windspeed\"]),\n",
    "        forecast[\"forecast\"]/max(forecast[\"forecast\"])\n",
    "    ], axis=1).plot()\n",
    "fig_forecast_windspeed.update_layout(\n",
    "    xaxis_title='Timestamp',\n",
    "    yaxis_title=\"Normalized values\"\n",
    ")\n",
    "fig_forecast_windspeed.show()"
   ]
  },
  {
   "cell_type": "markdown",
   "id": "725334f1",
   "metadata": {},
   "source": [
    "## Alter the input data \n",
    "In the code below, the radiation input data is divided by ten and thereafter a forecast is made with this new input data. The prediction job and trained model stay the same. Thus, the same model is used with half the sunshine as input.\n",
    "\n",
    "Exercise: answer the following question: \n",
    "- What happens to the forecast when the radiation is divided by ten? Why? \n"
   ]
  },
  {
   "cell_type": "code",
   "execution_count": 48,
   "id": "3ee359bb",
   "metadata": {},
   "outputs": [
    {
     "name": "stdout",
     "output_type": "stream",
     "text": [
      "\u001b[2m2025-04-16 15:17:23\u001b[0m [\u001b[33m\u001b[1mwarning  \u001b[0m] \u001b[1mfeature_modules not an attribute of the old model, using None \u001b[0m \u001b[36mexperiment_name\u001b[0m=\u001b[35m288\u001b[0m\n",
      "\u001b[2m2025-04-16 15:17:23\u001b[0m [\u001b[32m\u001b[1minfo     \u001b[0m] \u001b[1mModel successfully loaded with MLflow\u001b[0m\n",
      "\u001b[2m2025-04-16 15:17:23\u001b[0m [\u001b[32m\u001b[1minfo     \u001b[0m] \u001b[1mFound 214 values of constant load (repeated values), converted to NaN value.\u001b[0m \u001b[36mcleansing_step\u001b[0m=\u001b[35mrepeated_values\u001b[0m \u001b[36mfrac_values\u001b[0m=\u001b[35m0.0061071316457863645\u001b[0m \u001b[36mnum_values\u001b[0m=\u001b[35m214\u001b[0m \u001b[36mpj_id\u001b[0m=\u001b[35m288\u001b[0m\n",
      "\u001b[2m2025-04-16 15:17:24\u001b[0m [\u001b[33m\u001b[1mwarning  \u001b[0m] \u001b[1mAdding NaN column for missing feature: day_ahead_electricity_price\u001b[0m \u001b[36mmissing_feature\u001b[0m=\u001b[35mday_ahead_electricity_price\u001b[0m\n",
      "\u001b[2m2025-04-16 15:17:25\u001b[0m [\u001b[32m\u001b[1minfo     \u001b[0m] \u001b[1mPostproces in preparation of storing\u001b[0m\n"
     ]
    },
    {
     "name": "stderr",
     "output_type": "stream",
     "text": [
      "/Users/marnix.van.lieshout/Code/STEF/OpenSTEF/openstef-workshop/.venv/lib/python3.11/site-packages/openstef/model/confidence_interval_applicator.py:160: RuntimeWarning:\n",
      "\n",
      "overflow encountered in exp\n",
      "\n"
     ]
    }
   ],
   "source": [
    "# Divide the radiation data by two.\n",
    "to_forecast_data_rad=to_forecast_data.copy()\n",
    "to_forecast_data_rad['radiation']=0.1*(to_forecast_data['radiation'])\n",
    "\n",
    "# Make a forecast with this new input data.\n",
    "mlflow_tracking_uri=r\"./mlflow_trained_models\" \n",
    "\n",
    "forecast_rad=create_forecast_pipeline(\n",
    "    pj,\n",
    "    to_forecast_data_rad, \n",
    "    mlflow_tracking_uri,\n",
    ")"
   ]
  },
  {
   "cell_type": "code",
   "execution_count": 49,
   "id": "0dd14545",
   "metadata": {},
   "outputs": [
    {
     "data": {
      "application/vnd.plotly.v1+json": {
       "config": {
        "plotlyServerURL": "https://plot.ly"
       },
       "data": [
        {
         "hovertemplate": "variable=radiation<br>index=%{x}<br>value=%{y}<extra></extra>",
         "legendgroup": "radiation",
         "line": {
          "color": "#636efa",
          "dash": "solid"
         },
         "marker": {
          "symbol": "circle"
         },
         "mode": "lines",
         "name": "radiation",
         "orientation": "v",
         "showlegend": true,
         "type": "scatter",
         "x": [
          "2023-12-30T00:15:00+00:00",
          "2023-12-30T00:30:00+00:00",
          "2023-12-30T00:45:00+00:00",
          "2023-12-30T01:00:00+00:00",
          "2023-12-30T01:15:00+00:00",
          "2023-12-30T01:30:00+00:00",
          "2023-12-30T01:45:00+00:00",
          "2023-12-30T02:00:00+00:00",
          "2023-12-30T02:15:00+00:00",
          "2023-12-30T02:30:00+00:00",
          "2023-12-30T02:45:00+00:00",
          "2023-12-30T03:00:00+00:00",
          "2023-12-30T03:15:00+00:00",
          "2023-12-30T03:30:00+00:00",
          "2023-12-30T03:45:00+00:00",
          "2023-12-30T04:00:00+00:00",
          "2023-12-30T04:15:00+00:00",
          "2023-12-30T04:30:00+00:00",
          "2023-12-30T04:45:00+00:00",
          "2023-12-30T05:00:00+00:00",
          "2023-12-30T05:15:00+00:00",
          "2023-12-30T05:30:00+00:00",
          "2023-12-30T05:45:00+00:00",
          "2023-12-30T06:00:00+00:00",
          "2023-12-30T06:15:00+00:00",
          "2023-12-30T06:30:00+00:00",
          "2023-12-30T06:45:00+00:00",
          "2023-12-30T07:00:00+00:00",
          "2023-12-30T07:15:00+00:00",
          "2023-12-30T07:30:00+00:00",
          "2023-12-30T07:45:00+00:00",
          "2023-12-30T08:00:00+00:00",
          "2023-12-30T08:15:00+00:00",
          "2023-12-30T08:30:00+00:00",
          "2023-12-30T08:45:00+00:00",
          "2023-12-30T09:00:00+00:00",
          "2023-12-30T09:15:00+00:00",
          "2023-12-30T09:30:00+00:00",
          "2023-12-30T09:45:00+00:00",
          "2023-12-30T10:00:00+00:00",
          "2023-12-30T10:15:00+00:00",
          "2023-12-30T10:30:00+00:00",
          "2023-12-30T10:45:00+00:00",
          "2023-12-30T11:00:00+00:00",
          "2023-12-30T11:15:00+00:00",
          "2023-12-30T11:30:00+00:00",
          "2023-12-30T11:45:00+00:00",
          "2023-12-30T12:00:00+00:00",
          "2023-12-30T12:15:00+00:00",
          "2023-12-30T12:30:00+00:00",
          "2023-12-30T12:45:00+00:00",
          "2023-12-30T13:00:00+00:00",
          "2023-12-30T13:15:00+00:00",
          "2023-12-30T13:30:00+00:00",
          "2023-12-30T13:45:00+00:00",
          "2023-12-30T14:00:00+00:00",
          "2023-12-30T14:15:00+00:00",
          "2023-12-30T14:30:00+00:00",
          "2023-12-30T14:45:00+00:00",
          "2023-12-30T15:00:00+00:00",
          "2023-12-30T15:15:00+00:00",
          "2023-12-30T15:30:00+00:00",
          "2023-12-30T15:45:00+00:00",
          "2023-12-30T16:00:00+00:00",
          "2023-12-30T16:15:00+00:00",
          "2023-12-30T16:30:00+00:00",
          "2023-12-30T16:45:00+00:00",
          "2023-12-30T17:00:00+00:00",
          "2023-12-30T17:15:00+00:00",
          "2023-12-30T17:30:00+00:00",
          "2023-12-30T17:45:00+00:00",
          "2023-12-30T18:00:00+00:00",
          "2023-12-30T18:15:00+00:00",
          "2023-12-30T18:30:00+00:00",
          "2023-12-30T18:45:00+00:00",
          "2023-12-30T19:00:00+00:00",
          "2023-12-30T19:15:00+00:00",
          "2023-12-30T19:30:00+00:00",
          "2023-12-30T19:45:00+00:00",
          "2023-12-30T20:00:00+00:00",
          "2023-12-30T20:15:00+00:00",
          "2023-12-30T20:30:00+00:00",
          "2023-12-30T20:45:00+00:00",
          "2023-12-30T21:00:00+00:00",
          "2023-12-30T21:15:00+00:00",
          "2023-12-30T21:30:00+00:00",
          "2023-12-30T21:45:00+00:00",
          "2023-12-30T22:00:00+00:00",
          "2023-12-30T22:15:00+00:00",
          "2023-12-30T22:30:00+00:00",
          "2023-12-30T22:45:00+00:00",
          "2023-12-30T23:00:00+00:00",
          "2023-12-30T23:15:00+00:00",
          "2023-12-30T23:30:00+00:00",
          "2023-12-30T23:45:00+00:00",
          "2023-12-31T00:00:00+00:00",
          "2023-12-31T00:15:00+00:00",
          "2023-12-31T00:30:00+00:00",
          "2023-12-31T00:45:00+00:00",
          "2023-12-31T01:00:00+00:00",
          "2023-12-31T01:15:00+00:00",
          "2023-12-31T01:30:00+00:00",
          "2023-12-31T01:45:00+00:00",
          "2023-12-31T02:00:00+00:00",
          "2023-12-31T02:15:00+00:00",
          "2023-12-31T02:30:00+00:00",
          "2023-12-31T02:45:00+00:00",
          "2023-12-31T03:00:00+00:00",
          "2023-12-31T03:15:00+00:00",
          "2023-12-31T03:30:00+00:00",
          "2023-12-31T03:45:00+00:00",
          "2023-12-31T04:00:00+00:00",
          "2023-12-31T04:15:00+00:00",
          "2023-12-31T04:30:00+00:00",
          "2023-12-31T04:45:00+00:00",
          "2023-12-31T05:00:00+00:00",
          "2023-12-31T05:15:00+00:00",
          "2023-12-31T05:30:00+00:00",
          "2023-12-31T05:45:00+00:00",
          "2023-12-31T06:00:00+00:00",
          "2023-12-31T06:15:00+00:00",
          "2023-12-31T06:30:00+00:00",
          "2023-12-31T06:45:00+00:00",
          "2023-12-31T07:00:00+00:00",
          "2023-12-31T07:15:00+00:00",
          "2023-12-31T07:30:00+00:00",
          "2023-12-31T07:45:00+00:00",
          "2023-12-31T08:00:00+00:00",
          "2023-12-31T08:15:00+00:00",
          "2023-12-31T08:30:00+00:00",
          "2023-12-31T08:45:00+00:00",
          "2023-12-31T09:00:00+00:00",
          "2023-12-31T09:15:00+00:00",
          "2023-12-31T09:30:00+00:00",
          "2023-12-31T09:45:00+00:00",
          "2023-12-31T10:00:00+00:00",
          "2023-12-31T10:15:00+00:00",
          "2023-12-31T10:30:00+00:00",
          "2023-12-31T10:45:00+00:00",
          "2023-12-31T11:00:00+00:00",
          "2023-12-31T11:15:00+00:00",
          "2023-12-31T11:30:00+00:00",
          "2023-12-31T11:45:00+00:00",
          "2023-12-31T12:00:00+00:00",
          "2023-12-31T12:15:00+00:00",
          "2023-12-31T12:30:00+00:00",
          "2023-12-31T12:45:00+00:00",
          "2023-12-31T13:00:00+00:00",
          "2023-12-31T13:15:00+00:00",
          "2023-12-31T13:30:00+00:00",
          "2023-12-31T13:45:00+00:00",
          "2023-12-31T14:00:00+00:00",
          "2023-12-31T14:15:00+00:00",
          "2023-12-31T14:30:00+00:00",
          "2023-12-31T14:45:00+00:00",
          "2023-12-31T15:00:00+00:00",
          "2023-12-31T15:15:00+00:00",
          "2023-12-31T15:30:00+00:00",
          "2023-12-31T15:45:00+00:00",
          "2023-12-31T16:00:00+00:00",
          "2023-12-31T16:15:00+00:00",
          "2023-12-31T16:30:00+00:00",
          "2023-12-31T16:45:00+00:00",
          "2023-12-31T17:00:00+00:00",
          "2023-12-31T17:15:00+00:00",
          "2023-12-31T17:30:00+00:00",
          "2023-12-31T17:45:00+00:00",
          "2023-12-31T18:00:00+00:00",
          "2023-12-31T18:15:00+00:00",
          "2023-12-31T18:30:00+00:00",
          "2023-12-31T18:45:00+00:00",
          "2023-12-31T19:00:00+00:00",
          "2023-12-31T19:15:00+00:00",
          "2023-12-31T19:30:00+00:00",
          "2023-12-31T19:45:00+00:00",
          "2023-12-31T20:00:00+00:00",
          "2023-12-31T20:15:00+00:00",
          "2023-12-31T20:30:00+00:00",
          "2023-12-31T20:45:00+00:00",
          "2023-12-31T21:00:00+00:00",
          "2023-12-31T21:15:00+00:00",
          "2023-12-31T21:30:00+00:00",
          "2023-12-31T21:45:00+00:00",
          "2023-12-31T22:00:00+00:00",
          "2023-12-31T22:15:00+00:00",
          "2023-12-31T22:30:00+00:00",
          "2023-12-31T22:45:00+00:00",
          "2023-12-31T23:00:00+00:00",
          "2023-12-31T23:15:00+00:00",
          "2023-12-31T23:30:00+00:00",
          "2023-12-31T23:45:00+00:00",
          "2024-01-01T00:00:00+00:00"
         ],
         "xaxis": "x",
         "y": [
          0,
          0,
          1.8230884555342422e-17,
          3.6461769110684845e-17,
          5.469265366602727e-17,
          7.292353822136969e-17,
          7.292397556491973e-17,
          7.292441290846978e-17,
          7.292485025201983e-17,
          7.292528759556988e-17,
          7.292441290846978e-17,
          7.292353822136969e-17,
          7.292266353426961e-17,
          7.292178884716953e-17,
          7.292230363697322e-17,
          7.292281842677692e-17,
          7.292333321658061e-17,
          7.292384800638432e-17,
          7.292449946604739e-17,
          7.292515092571048e-17,
          7.292580238537357e-17,
          7.292645384503666e-17,
          -5.469126874478546e-17,
          -1.8230899133460758e-16,
          -3.099267139244297e-16,
          -4.375444365142518e-16,
          0.0012467696176225206,
          0.002493539235245479,
          0.0037403088528684372,
          0.004987078470491396,
          0.06646928233603527,
          0.12795148620157915,
          0.18943369006712302,
          0.2509158939326669,
          0.34718092459719213,
          0.4434459552617174,
          0.5397109859262427,
          0.6359760165907679,
          0.7041455377022247,
          0.7723150588136813,
          0.840484579925138,
          0.9086541010365947,
          0.9314905757774461,
          0.9543270505182974,
          0.9771635252591487,
          1,
          0.9757966088063362,
          0.9515932176126726,
          0.9273898264190088,
          0.903186435225345,
          0.8299145718250748,
          0.7566427084248044,
          0.683370845024534,
          0.6100989816242638,
          0.5509658320127303,
          0.4918326824011969,
          0.43269953278966344,
          0.37356638317813,
          0.28988665656142054,
          0.20620692994471113,
          0.12252720332800168,
          0.038847476711292246,
          0.029124569453323694,
          0.019401662195355142,
          0.009678754937386593,
          -0.00004415232058195713,
          -0.00003311424043646785,
          -0.000022076160290978566,
          -0.000011038080145489283,
          0,
          0,
          0,
          0,
          0,
          0,
          0,
          0,
          0,
          0,
          0,
          0,
          0,
          0,
          0,
          0,
          0,
          0,
          0,
          0,
          0,
          0,
          0,
          0,
          0,
          0,
          0,
          0,
          0,
          1.8230884555342422e-17,
          3.6461769110684845e-17,
          5.469265366602727e-17,
          7.292353822136969e-17,
          7.292397556491973e-17,
          7.292441290846978e-17,
          7.292485025201983e-17,
          7.292528759556988e-17,
          7.292441290846978e-17,
          7.292353822136969e-17,
          7.292266353426961e-17,
          7.292178884716953e-17,
          7.292230363697322e-17,
          7.292281842677692e-17,
          7.292333321658061e-17,
          7.292384800638432e-17,
          7.292449946604739e-17,
          7.292515092571048e-17,
          7.292580238537357e-17,
          7.292645384503666e-17,
          -5.469126874478546e-17,
          -1.8230899133460758e-16,
          -3.099267139244297e-16,
          -4.375444365142518e-16,
          0.00016085232033542644,
          0.0003217046406712904,
          0.00048255696100715437,
          0.0006434092813430184,
          0.003534713389991375,
          0.006426017498639731,
          0.009317321607288088,
          0.012208625715936443,
          0.041726268730370476,
          0.07124391174480452,
          0.10076155475923855,
          0.13027919777367258,
          0.1587255767089123,
          0.18717195564415198,
          0.2156183345793917,
          0.2440647135146314,
          0.2804614902310939,
          0.3168582669475564,
          0.3532550436640189,
          0.3896518203804814,
          0.35080037365337474,
          0.3119489269262681,
          0.2730974801991614,
          0.23424603347205478,
          0.35335122678617886,
          0.4724564201003029,
          0.5915616134144269,
          0.7106668067285511,
          0.6015209161360319,
          0.4923750255435126,
          0.38322913495099337,
          0.27408324435847414,
          0.2108873426458073,
          0.14769144093314043,
          0.08449553922047355,
          0.02129963750780667,
          0.015953657297566124,
          0.010607677087325575,
          0.005261696877085028,
          -0.00008428333315552039,
          -0.0000632124998666403,
          -0.000042141666577760195,
          -0.000021070833288880097,
          0,
          0,
          0,
          0,
          0,
          0,
          0,
          0,
          0,
          0,
          0,
          0,
          0,
          0,
          0,
          0,
          0,
          0,
          0,
          0,
          0,
          0,
          0,
          null,
          null,
          null,
          null
         ],
         "yaxis": "y"
        },
        {
         "hovertemplate": "variable=forecast_with_full_radiation<br>index=%{x}<br>value=%{y}<extra></extra>",
         "legendgroup": "forecast_with_full_radiation",
         "line": {
          "color": "#EF553B",
          "dash": "solid"
         },
         "marker": {
          "symbol": "circle"
         },
         "mode": "lines",
         "name": "forecast_with_full_radiation",
         "orientation": "v",
         "showlegend": true,
         "type": "scatter",
         "x": [
          "2023-12-30T00:15:00+00:00",
          "2023-12-30T00:30:00+00:00",
          "2023-12-30T00:45:00+00:00",
          "2023-12-30T01:00:00+00:00",
          "2023-12-30T01:15:00+00:00",
          "2023-12-30T01:30:00+00:00",
          "2023-12-30T01:45:00+00:00",
          "2023-12-30T02:00:00+00:00",
          "2023-12-30T02:15:00+00:00",
          "2023-12-30T02:30:00+00:00",
          "2023-12-30T02:45:00+00:00",
          "2023-12-30T03:00:00+00:00",
          "2023-12-30T03:15:00+00:00",
          "2023-12-30T03:30:00+00:00",
          "2023-12-30T03:45:00+00:00",
          "2023-12-30T04:00:00+00:00",
          "2023-12-30T04:15:00+00:00",
          "2023-12-30T04:30:00+00:00",
          "2023-12-30T04:45:00+00:00",
          "2023-12-30T05:00:00+00:00",
          "2023-12-30T05:15:00+00:00",
          "2023-12-30T05:30:00+00:00",
          "2023-12-30T05:45:00+00:00",
          "2023-12-30T06:00:00+00:00",
          "2023-12-30T06:15:00+00:00",
          "2023-12-30T06:30:00+00:00",
          "2023-12-30T06:45:00+00:00",
          "2023-12-30T07:00:00+00:00",
          "2023-12-30T07:15:00+00:00",
          "2023-12-30T07:30:00+00:00",
          "2023-12-30T07:45:00+00:00",
          "2023-12-30T08:00:00+00:00",
          "2023-12-30T08:15:00+00:00",
          "2023-12-30T08:30:00+00:00",
          "2023-12-30T08:45:00+00:00",
          "2023-12-30T09:00:00+00:00",
          "2023-12-30T09:15:00+00:00",
          "2023-12-30T09:30:00+00:00",
          "2023-12-30T09:45:00+00:00",
          "2023-12-30T10:00:00+00:00",
          "2023-12-30T10:15:00+00:00",
          "2023-12-30T10:30:00+00:00",
          "2023-12-30T10:45:00+00:00",
          "2023-12-30T11:00:00+00:00",
          "2023-12-30T11:15:00+00:00",
          "2023-12-30T11:30:00+00:00",
          "2023-12-30T11:45:00+00:00",
          "2023-12-30T12:00:00+00:00",
          "2023-12-30T12:15:00+00:00",
          "2023-12-30T12:30:00+00:00",
          "2023-12-30T12:45:00+00:00",
          "2023-12-30T13:00:00+00:00",
          "2023-12-30T13:15:00+00:00",
          "2023-12-30T13:30:00+00:00",
          "2023-12-30T13:45:00+00:00",
          "2023-12-30T14:00:00+00:00",
          "2023-12-30T14:15:00+00:00",
          "2023-12-30T14:30:00+00:00",
          "2023-12-30T14:45:00+00:00",
          "2023-12-30T15:00:00+00:00",
          "2023-12-30T15:15:00+00:00",
          "2023-12-30T15:30:00+00:00",
          "2023-12-30T15:45:00+00:00",
          "2023-12-30T16:00:00+00:00",
          "2023-12-30T16:15:00+00:00",
          "2023-12-30T16:30:00+00:00",
          "2023-12-30T16:45:00+00:00",
          "2023-12-30T17:00:00+00:00",
          "2023-12-30T17:15:00+00:00",
          "2023-12-30T17:30:00+00:00",
          "2023-12-30T17:45:00+00:00",
          "2023-12-30T18:00:00+00:00",
          "2023-12-30T18:15:00+00:00",
          "2023-12-30T18:30:00+00:00",
          "2023-12-30T18:45:00+00:00",
          "2023-12-30T19:00:00+00:00",
          "2023-12-30T19:15:00+00:00",
          "2023-12-30T19:30:00+00:00",
          "2023-12-30T19:45:00+00:00",
          "2023-12-30T20:00:00+00:00",
          "2023-12-30T20:15:00+00:00",
          "2023-12-30T20:30:00+00:00",
          "2023-12-30T20:45:00+00:00",
          "2023-12-30T21:00:00+00:00",
          "2023-12-30T21:15:00+00:00",
          "2023-12-30T21:30:00+00:00",
          "2023-12-30T21:45:00+00:00",
          "2023-12-30T22:00:00+00:00",
          "2023-12-30T22:15:00+00:00",
          "2023-12-30T22:30:00+00:00",
          "2023-12-30T22:45:00+00:00",
          "2023-12-30T23:00:00+00:00",
          "2023-12-30T23:15:00+00:00",
          "2023-12-30T23:30:00+00:00",
          "2023-12-30T23:45:00+00:00",
          "2023-12-31T00:00:00+00:00",
          "2023-12-31T00:15:00+00:00",
          "2023-12-31T00:30:00+00:00",
          "2023-12-31T00:45:00+00:00",
          "2023-12-31T01:00:00+00:00",
          "2023-12-31T01:15:00+00:00",
          "2023-12-31T01:30:00+00:00",
          "2023-12-31T01:45:00+00:00",
          "2023-12-31T02:00:00+00:00",
          "2023-12-31T02:15:00+00:00",
          "2023-12-31T02:30:00+00:00",
          "2023-12-31T02:45:00+00:00",
          "2023-12-31T03:00:00+00:00",
          "2023-12-31T03:15:00+00:00",
          "2023-12-31T03:30:00+00:00",
          "2023-12-31T03:45:00+00:00",
          "2023-12-31T04:00:00+00:00",
          "2023-12-31T04:15:00+00:00",
          "2023-12-31T04:30:00+00:00",
          "2023-12-31T04:45:00+00:00",
          "2023-12-31T05:00:00+00:00",
          "2023-12-31T05:15:00+00:00",
          "2023-12-31T05:30:00+00:00",
          "2023-12-31T05:45:00+00:00",
          "2023-12-31T06:00:00+00:00",
          "2023-12-31T06:15:00+00:00",
          "2023-12-31T06:30:00+00:00",
          "2023-12-31T06:45:00+00:00",
          "2023-12-31T07:00:00+00:00",
          "2023-12-31T07:15:00+00:00",
          "2023-12-31T07:30:00+00:00",
          "2023-12-31T07:45:00+00:00",
          "2023-12-31T08:00:00+00:00",
          "2023-12-31T08:15:00+00:00",
          "2023-12-31T08:30:00+00:00",
          "2023-12-31T08:45:00+00:00",
          "2023-12-31T09:00:00+00:00",
          "2023-12-31T09:15:00+00:00",
          "2023-12-31T09:30:00+00:00",
          "2023-12-31T09:45:00+00:00",
          "2023-12-31T10:00:00+00:00",
          "2023-12-31T10:15:00+00:00",
          "2023-12-31T10:30:00+00:00",
          "2023-12-31T10:45:00+00:00",
          "2023-12-31T11:00:00+00:00",
          "2023-12-31T11:15:00+00:00",
          "2023-12-31T11:30:00+00:00",
          "2023-12-31T11:45:00+00:00",
          "2023-12-31T12:00:00+00:00",
          "2023-12-31T12:15:00+00:00",
          "2023-12-31T12:30:00+00:00",
          "2023-12-31T12:45:00+00:00",
          "2023-12-31T13:00:00+00:00",
          "2023-12-31T13:15:00+00:00",
          "2023-12-31T13:30:00+00:00",
          "2023-12-31T13:45:00+00:00",
          "2023-12-31T14:00:00+00:00",
          "2023-12-31T14:15:00+00:00",
          "2023-12-31T14:30:00+00:00",
          "2023-12-31T14:45:00+00:00",
          "2023-12-31T15:00:00+00:00",
          "2023-12-31T15:15:00+00:00",
          "2023-12-31T15:30:00+00:00",
          "2023-12-31T15:45:00+00:00",
          "2023-12-31T16:00:00+00:00",
          "2023-12-31T16:15:00+00:00",
          "2023-12-31T16:30:00+00:00",
          "2023-12-31T16:45:00+00:00",
          "2023-12-31T17:00:00+00:00",
          "2023-12-31T17:15:00+00:00",
          "2023-12-31T17:30:00+00:00",
          "2023-12-31T17:45:00+00:00",
          "2023-12-31T18:00:00+00:00",
          "2023-12-31T18:15:00+00:00",
          "2023-12-31T18:30:00+00:00",
          "2023-12-31T18:45:00+00:00",
          "2023-12-31T19:00:00+00:00",
          "2023-12-31T19:15:00+00:00",
          "2023-12-31T19:30:00+00:00",
          "2023-12-31T19:45:00+00:00",
          "2023-12-31T20:00:00+00:00",
          "2023-12-31T20:15:00+00:00",
          "2023-12-31T20:30:00+00:00",
          "2023-12-31T20:45:00+00:00",
          "2023-12-31T21:00:00+00:00",
          "2023-12-31T21:15:00+00:00",
          "2023-12-31T21:30:00+00:00",
          "2023-12-31T21:45:00+00:00",
          "2023-12-31T22:00:00+00:00",
          "2023-12-31T22:15:00+00:00",
          "2023-12-31T22:30:00+00:00",
          "2023-12-31T22:45:00+00:00",
          "2023-12-31T23:00:00+00:00",
          "2023-12-31T23:15:00+00:00",
          "2023-12-31T23:30:00+00:00",
          "2023-12-31T23:45:00+00:00",
          "2024-01-01T00:00:00+00:00"
         ],
         "xaxis": "x",
         "y": [
          0.5023109912872314,
          0.4283088147640228,
          0.4290507733821869,
          0.41116955876350403,
          0.41116955876350403,
          0.41116955876350403,
          0.41116955876350403,
          0.41116955876350403,
          0.4104275703430176,
          0.4283088147640228,
          0.4283088147640228,
          0.43163806200027466,
          0.4104275703430176,
          0.4104275703430176,
          0.4104275703430176,
          0.4283088147640228,
          0.43243497610092163,
          0.414553701877594,
          0.43243497610092163,
          0.4388462007045746,
          0.4388462007045746,
          0.4388462007045746,
          0.4742330014705658,
          0.4804192781448364,
          0.5863142609596252,
          0.5863142609596252,
          0.5802117586135864,
          0.6648312211036682,
          0.6901140213012695,
          0.6901140213012695,
          0.7212104201316833,
          0.7399842739105225,
          0.7671591639518738,
          0.7852265238761902,
          0.7852265238761902,
          0.7303865551948547,
          0.6884618401527405,
          0.6797544360160828,
          0.6643375158309937,
          0.5130231976509094,
          0.4923153519630432,
          0.4839204251766205,
          0.4880465567111969,
          0.49850547313690186,
          0.47681429982185364,
          0.47681429982185364,
          0.47681429982185364,
          0.6765443086624146,
          0.5045221447944641,
          0.5045221447944641,
          0.43211469054222107,
          0.4138050675392151,
          0.5162690877914429,
          0.5962579846382141,
          0.6849229335784912,
          0.7813833355903625,
          0.772628903388977,
          0.772628903388977,
          0.8274688720703125,
          0.8775888681411743,
          0.871925950050354,
          0.871925950050354,
          0.9467447996139526,
          0.9467447996139526,
          0.9793120622634888,
          1,
          1,
          1,
          1,
          1,
          1,
          1,
          0.9768426418304443,
          0.9768426418304443,
          0.9706057906150818,
          0.9590416550636292,
          0.9028571248054504,
          0.9028571248054504,
          0.8678930997848511,
          0.8642701506614685,
          0.8422833681106567,
          0.7821162939071655,
          0.7821162939071655,
          0.7621472477912903,
          0.7506794333457947,
          0.7465533018112183,
          0.6839693784713745,
          0.6573997735977173,
          0.602206826210022,
          0.5865578055381775,
          0.5702555179595947,
          0.5361987352371216,
          0.5075939297676086,
          0.5075939297676086,
          0.5075939297676086,
          0.4812734127044678,
          0.44992420077323914,
          0.4431854784488678,
          0.4431854784488678,
          0.4431854784488678,
          0.4431854784488678,
          0.4431854784488678,
          0.4431854784488678,
          0.4431854784488678,
          0.4431854784488678,
          0.4431854784488678,
          0.4431854784488678,
          0.42530423402786255,
          0.4431854784488678,
          0.4394609332084656,
          0.4394609332084656,
          0.45224305987358093,
          0.45224305987358093,
          0.4431854784488678,
          0.4418329894542694,
          0.47976070642471313,
          0.47976070642471313,
          0.48379820585250854,
          0.48379820585250854,
          0.5234248042106628,
          0.5234248042106628,
          0.5522871017456055,
          0.6133463382720947,
          0.6757070422172546,
          0.6757070422172546,
          0.706803560256958,
          0.7374411821365356,
          0.7374411821365356,
          0.732774555683136,
          0.7590058445930481,
          0.7590058445930481,
          0.7747253775596619,
          0.7869732975959778,
          0.7747251391410828,
          0.7969186305999756,
          0.7990489602088928,
          0.70649653673172,
          0.6631859540939331,
          0.6626372337341309,
          0.642180323600769,
          0.6626372337341309,
          0.7098091244697571,
          0.7900561094284058,
          0.7019984722137451,
          0.7203989028930664,
          0.6914086937904358,
          0.7716556787490845,
          0.7846964001655579,
          0.7427716255187988,
          0.7282986640930176,
          0.779218316078186,
          0.779218316078186,
          0.7839001417160034,
          0.7609288096427917,
          0.8302198052406311,
          0.8826653361320496,
          0.8704174160957336,
          0.8704174160957336,
          0.9452363848686218,
          0.9141634106636047,
          0.9548458456993103,
          0.9548458456993103,
          0.9548458456993103,
          0.9548458456993103,
          0.9548458456993103,
          0.9548458456993103,
          0.9610826373100281,
          0.9657493233680725,
          0.9368676543235779,
          0.9368676543235779,
          0.9179249405860901,
          0.9336063265800476,
          0.8685346841812134,
          0.849276065826416,
          0.806394636631012,
          0.7844077348709106,
          0.7621120810508728,
          0.724138617515564,
          0.7234687805175781,
          0.7234687805175781,
          0.7066335678100586,
          0.7066335678100586,
          0.675995945930481,
          0.675995945930481,
          0.6367191672325134,
          0.6073739528656006,
          0.560253381729126,
          0.531883180141449,
          0.5341857075691223,
          0.5341857075691223,
          0.5256037712097168,
          0.29963335394859314
         ],
         "yaxis": "y"
        },
        {
         "hovertemplate": "variable=forecast_with_half_radiation<br>index=%{x}<br>value=%{y}<extra></extra>",
         "legendgroup": "forecast_with_half_radiation",
         "line": {
          "color": "#00cc96",
          "dash": "solid"
         },
         "marker": {
          "symbol": "circle"
         },
         "mode": "lines",
         "name": "forecast_with_half_radiation",
         "orientation": "v",
         "showlegend": true,
         "type": "scatter",
         "x": [
          "2023-12-30T00:15:00+00:00",
          "2023-12-30T00:30:00+00:00",
          "2023-12-30T00:45:00+00:00",
          "2023-12-30T01:00:00+00:00",
          "2023-12-30T01:15:00+00:00",
          "2023-12-30T01:30:00+00:00",
          "2023-12-30T01:45:00+00:00",
          "2023-12-30T02:00:00+00:00",
          "2023-12-30T02:15:00+00:00",
          "2023-12-30T02:30:00+00:00",
          "2023-12-30T02:45:00+00:00",
          "2023-12-30T03:00:00+00:00",
          "2023-12-30T03:15:00+00:00",
          "2023-12-30T03:30:00+00:00",
          "2023-12-30T03:45:00+00:00",
          "2023-12-30T04:00:00+00:00",
          "2023-12-30T04:15:00+00:00",
          "2023-12-30T04:30:00+00:00",
          "2023-12-30T04:45:00+00:00",
          "2023-12-30T05:00:00+00:00",
          "2023-12-30T05:15:00+00:00",
          "2023-12-30T05:30:00+00:00",
          "2023-12-30T05:45:00+00:00",
          "2023-12-30T06:00:00+00:00",
          "2023-12-30T06:15:00+00:00",
          "2023-12-30T06:30:00+00:00",
          "2023-12-30T06:45:00+00:00",
          "2023-12-30T07:00:00+00:00",
          "2023-12-30T07:15:00+00:00",
          "2023-12-30T07:30:00+00:00",
          "2023-12-30T07:45:00+00:00",
          "2023-12-30T08:00:00+00:00",
          "2023-12-30T08:15:00+00:00",
          "2023-12-30T08:30:00+00:00",
          "2023-12-30T08:45:00+00:00",
          "2023-12-30T09:00:00+00:00",
          "2023-12-30T09:15:00+00:00",
          "2023-12-30T09:30:00+00:00",
          "2023-12-30T09:45:00+00:00",
          "2023-12-30T10:00:00+00:00",
          "2023-12-30T10:15:00+00:00",
          "2023-12-30T10:30:00+00:00",
          "2023-12-30T10:45:00+00:00",
          "2023-12-30T11:00:00+00:00",
          "2023-12-30T11:15:00+00:00",
          "2023-12-30T11:30:00+00:00",
          "2023-12-30T11:45:00+00:00",
          "2023-12-30T12:00:00+00:00",
          "2023-12-30T12:15:00+00:00",
          "2023-12-30T12:30:00+00:00",
          "2023-12-30T12:45:00+00:00",
          "2023-12-30T13:00:00+00:00",
          "2023-12-30T13:15:00+00:00",
          "2023-12-30T13:30:00+00:00",
          "2023-12-30T13:45:00+00:00",
          "2023-12-30T14:00:00+00:00",
          "2023-12-30T14:15:00+00:00",
          "2023-12-30T14:30:00+00:00",
          "2023-12-30T14:45:00+00:00",
          "2023-12-30T15:00:00+00:00",
          "2023-12-30T15:15:00+00:00",
          "2023-12-30T15:30:00+00:00",
          "2023-12-30T15:45:00+00:00",
          "2023-12-30T16:00:00+00:00",
          "2023-12-30T16:15:00+00:00",
          "2023-12-30T16:30:00+00:00",
          "2023-12-30T16:45:00+00:00",
          "2023-12-30T17:00:00+00:00",
          "2023-12-30T17:15:00+00:00",
          "2023-12-30T17:30:00+00:00",
          "2023-12-30T17:45:00+00:00",
          "2023-12-30T18:00:00+00:00",
          "2023-12-30T18:15:00+00:00",
          "2023-12-30T18:30:00+00:00",
          "2023-12-30T18:45:00+00:00",
          "2023-12-30T19:00:00+00:00",
          "2023-12-30T19:15:00+00:00",
          "2023-12-30T19:30:00+00:00",
          "2023-12-30T19:45:00+00:00",
          "2023-12-30T20:00:00+00:00",
          "2023-12-30T20:15:00+00:00",
          "2023-12-30T20:30:00+00:00",
          "2023-12-30T20:45:00+00:00",
          "2023-12-30T21:00:00+00:00",
          "2023-12-30T21:15:00+00:00",
          "2023-12-30T21:30:00+00:00",
          "2023-12-30T21:45:00+00:00",
          "2023-12-30T22:00:00+00:00",
          "2023-12-30T22:15:00+00:00",
          "2023-12-30T22:30:00+00:00",
          "2023-12-30T22:45:00+00:00",
          "2023-12-30T23:00:00+00:00",
          "2023-12-30T23:15:00+00:00",
          "2023-12-30T23:30:00+00:00",
          "2023-12-30T23:45:00+00:00",
          "2023-12-31T00:00:00+00:00",
          "2023-12-31T00:15:00+00:00",
          "2023-12-31T00:30:00+00:00",
          "2023-12-31T00:45:00+00:00",
          "2023-12-31T01:00:00+00:00",
          "2023-12-31T01:15:00+00:00",
          "2023-12-31T01:30:00+00:00",
          "2023-12-31T01:45:00+00:00",
          "2023-12-31T02:00:00+00:00",
          "2023-12-31T02:15:00+00:00",
          "2023-12-31T02:30:00+00:00",
          "2023-12-31T02:45:00+00:00",
          "2023-12-31T03:00:00+00:00",
          "2023-12-31T03:15:00+00:00",
          "2023-12-31T03:30:00+00:00",
          "2023-12-31T03:45:00+00:00",
          "2023-12-31T04:00:00+00:00",
          "2023-12-31T04:15:00+00:00",
          "2023-12-31T04:30:00+00:00",
          "2023-12-31T04:45:00+00:00",
          "2023-12-31T05:00:00+00:00",
          "2023-12-31T05:15:00+00:00",
          "2023-12-31T05:30:00+00:00",
          "2023-12-31T05:45:00+00:00",
          "2023-12-31T06:00:00+00:00",
          "2023-12-31T06:15:00+00:00",
          "2023-12-31T06:30:00+00:00",
          "2023-12-31T06:45:00+00:00",
          "2023-12-31T07:00:00+00:00",
          "2023-12-31T07:15:00+00:00",
          "2023-12-31T07:30:00+00:00",
          "2023-12-31T07:45:00+00:00",
          "2023-12-31T08:00:00+00:00",
          "2023-12-31T08:15:00+00:00",
          "2023-12-31T08:30:00+00:00",
          "2023-12-31T08:45:00+00:00",
          "2023-12-31T09:00:00+00:00",
          "2023-12-31T09:15:00+00:00",
          "2023-12-31T09:30:00+00:00",
          "2023-12-31T09:45:00+00:00",
          "2023-12-31T10:00:00+00:00",
          "2023-12-31T10:15:00+00:00",
          "2023-12-31T10:30:00+00:00",
          "2023-12-31T10:45:00+00:00",
          "2023-12-31T11:00:00+00:00",
          "2023-12-31T11:15:00+00:00",
          "2023-12-31T11:30:00+00:00",
          "2023-12-31T11:45:00+00:00",
          "2023-12-31T12:00:00+00:00",
          "2023-12-31T12:15:00+00:00",
          "2023-12-31T12:30:00+00:00",
          "2023-12-31T12:45:00+00:00",
          "2023-12-31T13:00:00+00:00",
          "2023-12-31T13:15:00+00:00",
          "2023-12-31T13:30:00+00:00",
          "2023-12-31T13:45:00+00:00",
          "2023-12-31T14:00:00+00:00",
          "2023-12-31T14:15:00+00:00",
          "2023-12-31T14:30:00+00:00",
          "2023-12-31T14:45:00+00:00",
          "2023-12-31T15:00:00+00:00",
          "2023-12-31T15:15:00+00:00",
          "2023-12-31T15:30:00+00:00",
          "2023-12-31T15:45:00+00:00",
          "2023-12-31T16:00:00+00:00",
          "2023-12-31T16:15:00+00:00",
          "2023-12-31T16:30:00+00:00",
          "2023-12-31T16:45:00+00:00",
          "2023-12-31T17:00:00+00:00",
          "2023-12-31T17:15:00+00:00",
          "2023-12-31T17:30:00+00:00",
          "2023-12-31T17:45:00+00:00",
          "2023-12-31T18:00:00+00:00",
          "2023-12-31T18:15:00+00:00",
          "2023-12-31T18:30:00+00:00",
          "2023-12-31T18:45:00+00:00",
          "2023-12-31T19:00:00+00:00",
          "2023-12-31T19:15:00+00:00",
          "2023-12-31T19:30:00+00:00",
          "2023-12-31T19:45:00+00:00",
          "2023-12-31T20:00:00+00:00",
          "2023-12-31T20:15:00+00:00",
          "2023-12-31T20:30:00+00:00",
          "2023-12-31T20:45:00+00:00",
          "2023-12-31T21:00:00+00:00",
          "2023-12-31T21:15:00+00:00",
          "2023-12-31T21:30:00+00:00",
          "2023-12-31T21:45:00+00:00",
          "2023-12-31T22:00:00+00:00",
          "2023-12-31T22:15:00+00:00",
          "2023-12-31T22:30:00+00:00",
          "2023-12-31T22:45:00+00:00",
          "2023-12-31T23:00:00+00:00",
          "2023-12-31T23:15:00+00:00",
          "2023-12-31T23:30:00+00:00",
          "2023-12-31T23:45:00+00:00",
          "2024-01-01T00:00:00+00:00"
         ],
         "xaxis": "x",
         "y": [
          0.5023109912872314,
          0.4283088147640228,
          0.4290507733821869,
          0.41116955876350403,
          0.41116955876350403,
          0.41116955876350403,
          0.41116955876350403,
          0.41116955876350403,
          0.4104275703430176,
          0.4283088147640228,
          0.4283088147640228,
          0.43163806200027466,
          0.4104275703430176,
          0.4104275703430176,
          0.4104275703430176,
          0.4283088147640228,
          0.43243497610092163,
          0.414553701877594,
          0.43243497610092163,
          0.4388462007045746,
          0.4388462007045746,
          0.4388462007045746,
          0.4742330014705658,
          0.4804192781448364,
          0.5863142609596252,
          0.5863142609596252,
          0.5802117586135864,
          0.6648312211036682,
          0.6901140213012695,
          0.6901140213012695,
          0.7212104201316833,
          0.7411794662475586,
          0.7683543562889099,
          0.7864217162132263,
          0.7974746227264404,
          0.7974746227264404,
          0.7974746227264404,
          0.7887672781944275,
          0.8058695793151855,
          0.6545551419258118,
          0.6338473558425903,
          0.6254523992538452,
          0.6295785307884216,
          0.640037477016449,
          0.6294450163841248,
          0.6294450163841248,
          0.6294450163841248,
          0.80146723985672,
          0.6294450163841248,
          0.6294450163841248,
          0.5538328886032104,
          0.5213063359260559,
          0.5538328886032104,
          0.6104748845100403,
          0.7539797425270081,
          0.8449056148529053,
          0.8219342231750488,
          0.8219342231750488,
          0.8219342231750488,
          0.8775888681411743,
          0.871925950050354,
          0.871925950050354,
          0.9467447996139526,
          0.9467447996139526,
          0.9793120622634888,
          1,
          1,
          1,
          1,
          1,
          1,
          1,
          0.9768426418304443,
          0.9768426418304443,
          0.9706057906150818,
          0.9590416550636292,
          0.9028571248054504,
          0.9028571248054504,
          0.8678930997848511,
          0.8642701506614685,
          0.8422833681106567,
          0.7821162939071655,
          0.7821162939071655,
          0.7621472477912903,
          0.7506794333457947,
          0.7465533018112183,
          0.6839693784713745,
          0.6573997735977173,
          0.602206826210022,
          0.5865578055381775,
          0.5702555179595947,
          0.5361987352371216,
          0.5075939297676086,
          0.5075939297676086,
          0.5075939297676086,
          0.4812734127044678,
          0.44992420077323914,
          0.4431854784488678,
          0.4431854784488678,
          0.4431854784488678,
          0.4431854784488678,
          0.4431854784488678,
          0.4431854784488678,
          0.4431854784488678,
          0.4431854784488678,
          0.4431854784488678,
          0.4431854784488678,
          0.42530423402786255,
          0.4431854784488678,
          0.4394609332084656,
          0.4394609332084656,
          0.45224305987358093,
          0.45224305987358093,
          0.4431854784488678,
          0.4418329894542694,
          0.47976070642471313,
          0.47976070642471313,
          0.48379820585250854,
          0.48379820585250854,
          0.5234248042106628,
          0.5234248042106628,
          0.5522871017456055,
          0.6133463382720947,
          0.6757070422172546,
          0.6757070422172546,
          0.706803560256958,
          0.7374411821365356,
          0.7374411821365356,
          0.732774555683136,
          0.7590058445930481,
          0.7590058445930481,
          0.7747253775596619,
          0.7869732975959778,
          0.7869732975959778,
          0.8091667890548706,
          0.8112971186637878,
          0.718744695186615,
          0.6754340529441833,
          0.6748853325843811,
          0.7135394215583801,
          0.6748853325843811,
          0.7220572829246521,
          0.802304208278656,
          0.7142466306686401,
          0.7326470613479614,
          0.7036568522453308,
          0.7839037775993347,
          0.8145413994789124,
          0.8145413994789124,
          0.820339560508728,
          0.8387400507926941,
          0.8387400507926941,
          0.8387400507926941,
          0.8157686591148376,
          0.8302198052406311,
          0.8826653361320496,
          0.8704174160957336,
          0.8704174160957336,
          0.9452363848686218,
          0.9141634106636047,
          0.9548458456993103,
          0.9548458456993103,
          0.9548458456993103,
          0.9548458456993103,
          0.9548458456993103,
          0.9548458456993103,
          0.9610826373100281,
          0.9657493233680725,
          0.9368676543235779,
          0.9368676543235779,
          0.9179249405860901,
          0.9336063265800476,
          0.8685346841812134,
          0.849276065826416,
          0.806394636631012,
          0.7844077348709106,
          0.7621120810508728,
          0.724138617515564,
          0.7234687805175781,
          0.7234687805175781,
          0.7066335678100586,
          0.7066335678100586,
          0.675995945930481,
          0.675995945930481,
          0.6367191672325134,
          0.6073739528656006,
          0.560253381729126,
          0.531883180141449,
          0.5341857075691223,
          0.5341857075691223,
          0.5256037712097168,
          0.29963335394859314
         ],
         "yaxis": "y"
        }
       ],
       "layout": {
        "legend": {
         "title": {
          "text": "variable"
         },
         "tracegroupgap": 0
        },
        "margin": {
         "t": 60
        },
        "template": {
         "data": {
          "bar": [
           {
            "error_x": {
             "color": "#2a3f5f"
            },
            "error_y": {
             "color": "#2a3f5f"
            },
            "marker": {
             "line": {
              "color": "#E5ECF6",
              "width": 0.5
             },
             "pattern": {
              "fillmode": "overlay",
              "size": 10,
              "solidity": 0.2
             }
            },
            "type": "bar"
           }
          ],
          "barpolar": [
           {
            "marker": {
             "line": {
              "color": "#E5ECF6",
              "width": 0.5
             },
             "pattern": {
              "fillmode": "overlay",
              "size": 10,
              "solidity": 0.2
             }
            },
            "type": "barpolar"
           }
          ],
          "carpet": [
           {
            "aaxis": {
             "endlinecolor": "#2a3f5f",
             "gridcolor": "white",
             "linecolor": "white",
             "minorgridcolor": "white",
             "startlinecolor": "#2a3f5f"
            },
            "baxis": {
             "endlinecolor": "#2a3f5f",
             "gridcolor": "white",
             "linecolor": "white",
             "minorgridcolor": "white",
             "startlinecolor": "#2a3f5f"
            },
            "type": "carpet"
           }
          ],
          "choropleth": [
           {
            "colorbar": {
             "outlinewidth": 0,
             "ticks": ""
            },
            "type": "choropleth"
           }
          ],
          "contour": [
           {
            "colorbar": {
             "outlinewidth": 0,
             "ticks": ""
            },
            "colorscale": [
             [
              0,
              "#0d0887"
             ],
             [
              0.1111111111111111,
              "#46039f"
             ],
             [
              0.2222222222222222,
              "#7201a8"
             ],
             [
              0.3333333333333333,
              "#9c179e"
             ],
             [
              0.4444444444444444,
              "#bd3786"
             ],
             [
              0.5555555555555556,
              "#d8576b"
             ],
             [
              0.6666666666666666,
              "#ed7953"
             ],
             [
              0.7777777777777778,
              "#fb9f3a"
             ],
             [
              0.8888888888888888,
              "#fdca26"
             ],
             [
              1,
              "#f0f921"
             ]
            ],
            "type": "contour"
           }
          ],
          "contourcarpet": [
           {
            "colorbar": {
             "outlinewidth": 0,
             "ticks": ""
            },
            "type": "contourcarpet"
           }
          ],
          "heatmap": [
           {
            "colorbar": {
             "outlinewidth": 0,
             "ticks": ""
            },
            "colorscale": [
             [
              0,
              "#0d0887"
             ],
             [
              0.1111111111111111,
              "#46039f"
             ],
             [
              0.2222222222222222,
              "#7201a8"
             ],
             [
              0.3333333333333333,
              "#9c179e"
             ],
             [
              0.4444444444444444,
              "#bd3786"
             ],
             [
              0.5555555555555556,
              "#d8576b"
             ],
             [
              0.6666666666666666,
              "#ed7953"
             ],
             [
              0.7777777777777778,
              "#fb9f3a"
             ],
             [
              0.8888888888888888,
              "#fdca26"
             ],
             [
              1,
              "#f0f921"
             ]
            ],
            "type": "heatmap"
           }
          ],
          "heatmapgl": [
           {
            "colorbar": {
             "outlinewidth": 0,
             "ticks": ""
            },
            "colorscale": [
             [
              0,
              "#0d0887"
             ],
             [
              0.1111111111111111,
              "#46039f"
             ],
             [
              0.2222222222222222,
              "#7201a8"
             ],
             [
              0.3333333333333333,
              "#9c179e"
             ],
             [
              0.4444444444444444,
              "#bd3786"
             ],
             [
              0.5555555555555556,
              "#d8576b"
             ],
             [
              0.6666666666666666,
              "#ed7953"
             ],
             [
              0.7777777777777778,
              "#fb9f3a"
             ],
             [
              0.8888888888888888,
              "#fdca26"
             ],
             [
              1,
              "#f0f921"
             ]
            ],
            "type": "heatmapgl"
           }
          ],
          "histogram": [
           {
            "marker": {
             "pattern": {
              "fillmode": "overlay",
              "size": 10,
              "solidity": 0.2
             }
            },
            "type": "histogram"
           }
          ],
          "histogram2d": [
           {
            "colorbar": {
             "outlinewidth": 0,
             "ticks": ""
            },
            "colorscale": [
             [
              0,
              "#0d0887"
             ],
             [
              0.1111111111111111,
              "#46039f"
             ],
             [
              0.2222222222222222,
              "#7201a8"
             ],
             [
              0.3333333333333333,
              "#9c179e"
             ],
             [
              0.4444444444444444,
              "#bd3786"
             ],
             [
              0.5555555555555556,
              "#d8576b"
             ],
             [
              0.6666666666666666,
              "#ed7953"
             ],
             [
              0.7777777777777778,
              "#fb9f3a"
             ],
             [
              0.8888888888888888,
              "#fdca26"
             ],
             [
              1,
              "#f0f921"
             ]
            ],
            "type": "histogram2d"
           }
          ],
          "histogram2dcontour": [
           {
            "colorbar": {
             "outlinewidth": 0,
             "ticks": ""
            },
            "colorscale": [
             [
              0,
              "#0d0887"
             ],
             [
              0.1111111111111111,
              "#46039f"
             ],
             [
              0.2222222222222222,
              "#7201a8"
             ],
             [
              0.3333333333333333,
              "#9c179e"
             ],
             [
              0.4444444444444444,
              "#bd3786"
             ],
             [
              0.5555555555555556,
              "#d8576b"
             ],
             [
              0.6666666666666666,
              "#ed7953"
             ],
             [
              0.7777777777777778,
              "#fb9f3a"
             ],
             [
              0.8888888888888888,
              "#fdca26"
             ],
             [
              1,
              "#f0f921"
             ]
            ],
            "type": "histogram2dcontour"
           }
          ],
          "mesh3d": [
           {
            "colorbar": {
             "outlinewidth": 0,
             "ticks": ""
            },
            "type": "mesh3d"
           }
          ],
          "parcoords": [
           {
            "line": {
             "colorbar": {
              "outlinewidth": 0,
              "ticks": ""
             }
            },
            "type": "parcoords"
           }
          ],
          "pie": [
           {
            "automargin": true,
            "type": "pie"
           }
          ],
          "scatter": [
           {
            "fillpattern": {
             "fillmode": "overlay",
             "size": 10,
             "solidity": 0.2
            },
            "type": "scatter"
           }
          ],
          "scatter3d": [
           {
            "line": {
             "colorbar": {
              "outlinewidth": 0,
              "ticks": ""
             }
            },
            "marker": {
             "colorbar": {
              "outlinewidth": 0,
              "ticks": ""
             }
            },
            "type": "scatter3d"
           }
          ],
          "scattercarpet": [
           {
            "marker": {
             "colorbar": {
              "outlinewidth": 0,
              "ticks": ""
             }
            },
            "type": "scattercarpet"
           }
          ],
          "scattergeo": [
           {
            "marker": {
             "colorbar": {
              "outlinewidth": 0,
              "ticks": ""
             }
            },
            "type": "scattergeo"
           }
          ],
          "scattergl": [
           {
            "marker": {
             "colorbar": {
              "outlinewidth": 0,
              "ticks": ""
             }
            },
            "type": "scattergl"
           }
          ],
          "scattermapbox": [
           {
            "marker": {
             "colorbar": {
              "outlinewidth": 0,
              "ticks": ""
             }
            },
            "type": "scattermapbox"
           }
          ],
          "scatterpolar": [
           {
            "marker": {
             "colorbar": {
              "outlinewidth": 0,
              "ticks": ""
             }
            },
            "type": "scatterpolar"
           }
          ],
          "scatterpolargl": [
           {
            "marker": {
             "colorbar": {
              "outlinewidth": 0,
              "ticks": ""
             }
            },
            "type": "scatterpolargl"
           }
          ],
          "scatterternary": [
           {
            "marker": {
             "colorbar": {
              "outlinewidth": 0,
              "ticks": ""
             }
            },
            "type": "scatterternary"
           }
          ],
          "surface": [
           {
            "colorbar": {
             "outlinewidth": 0,
             "ticks": ""
            },
            "colorscale": [
             [
              0,
              "#0d0887"
             ],
             [
              0.1111111111111111,
              "#46039f"
             ],
             [
              0.2222222222222222,
              "#7201a8"
             ],
             [
              0.3333333333333333,
              "#9c179e"
             ],
             [
              0.4444444444444444,
              "#bd3786"
             ],
             [
              0.5555555555555556,
              "#d8576b"
             ],
             [
              0.6666666666666666,
              "#ed7953"
             ],
             [
              0.7777777777777778,
              "#fb9f3a"
             ],
             [
              0.8888888888888888,
              "#fdca26"
             ],
             [
              1,
              "#f0f921"
             ]
            ],
            "type": "surface"
           }
          ],
          "table": [
           {
            "cells": {
             "fill": {
              "color": "#EBF0F8"
             },
             "line": {
              "color": "white"
             }
            },
            "header": {
             "fill": {
              "color": "#C8D4E3"
             },
             "line": {
              "color": "white"
             }
            },
            "type": "table"
           }
          ]
         },
         "layout": {
          "annotationdefaults": {
           "arrowcolor": "#2a3f5f",
           "arrowhead": 0,
           "arrowwidth": 1
          },
          "autotypenumbers": "strict",
          "coloraxis": {
           "colorbar": {
            "outlinewidth": 0,
            "ticks": ""
           }
          },
          "colorscale": {
           "diverging": [
            [
             0,
             "#8e0152"
            ],
            [
             0.1,
             "#c51b7d"
            ],
            [
             0.2,
             "#de77ae"
            ],
            [
             0.3,
             "#f1b6da"
            ],
            [
             0.4,
             "#fde0ef"
            ],
            [
             0.5,
             "#f7f7f7"
            ],
            [
             0.6,
             "#e6f5d0"
            ],
            [
             0.7,
             "#b8e186"
            ],
            [
             0.8,
             "#7fbc41"
            ],
            [
             0.9,
             "#4d9221"
            ],
            [
             1,
             "#276419"
            ]
           ],
           "sequential": [
            [
             0,
             "#0d0887"
            ],
            [
             0.1111111111111111,
             "#46039f"
            ],
            [
             0.2222222222222222,
             "#7201a8"
            ],
            [
             0.3333333333333333,
             "#9c179e"
            ],
            [
             0.4444444444444444,
             "#bd3786"
            ],
            [
             0.5555555555555556,
             "#d8576b"
            ],
            [
             0.6666666666666666,
             "#ed7953"
            ],
            [
             0.7777777777777778,
             "#fb9f3a"
            ],
            [
             0.8888888888888888,
             "#fdca26"
            ],
            [
             1,
             "#f0f921"
            ]
           ],
           "sequentialminus": [
            [
             0,
             "#0d0887"
            ],
            [
             0.1111111111111111,
             "#46039f"
            ],
            [
             0.2222222222222222,
             "#7201a8"
            ],
            [
             0.3333333333333333,
             "#9c179e"
            ],
            [
             0.4444444444444444,
             "#bd3786"
            ],
            [
             0.5555555555555556,
             "#d8576b"
            ],
            [
             0.6666666666666666,
             "#ed7953"
            ],
            [
             0.7777777777777778,
             "#fb9f3a"
            ],
            [
             0.8888888888888888,
             "#fdca26"
            ],
            [
             1,
             "#f0f921"
            ]
           ]
          },
          "colorway": [
           "#636efa",
           "#EF553B",
           "#00cc96",
           "#ab63fa",
           "#FFA15A",
           "#19d3f3",
           "#FF6692",
           "#B6E880",
           "#FF97FF",
           "#FECB52"
          ],
          "font": {
           "color": "#2a3f5f"
          },
          "geo": {
           "bgcolor": "white",
           "lakecolor": "white",
           "landcolor": "#E5ECF6",
           "showlakes": true,
           "showland": true,
           "subunitcolor": "white"
          },
          "hoverlabel": {
           "align": "left"
          },
          "hovermode": "closest",
          "mapbox": {
           "style": "light"
          },
          "paper_bgcolor": "white",
          "plot_bgcolor": "#E5ECF6",
          "polar": {
           "angularaxis": {
            "gridcolor": "white",
            "linecolor": "white",
            "ticks": ""
           },
           "bgcolor": "#E5ECF6",
           "radialaxis": {
            "gridcolor": "white",
            "linecolor": "white",
            "ticks": ""
           }
          },
          "scene": {
           "xaxis": {
            "backgroundcolor": "#E5ECF6",
            "gridcolor": "white",
            "gridwidth": 2,
            "linecolor": "white",
            "showbackground": true,
            "ticks": "",
            "zerolinecolor": "white"
           },
           "yaxis": {
            "backgroundcolor": "#E5ECF6",
            "gridcolor": "white",
            "gridwidth": 2,
            "linecolor": "white",
            "showbackground": true,
            "ticks": "",
            "zerolinecolor": "white"
           },
           "zaxis": {
            "backgroundcolor": "#E5ECF6",
            "gridcolor": "white",
            "gridwidth": 2,
            "linecolor": "white",
            "showbackground": true,
            "ticks": "",
            "zerolinecolor": "white"
           }
          },
          "shapedefaults": {
           "line": {
            "color": "#2a3f5f"
           }
          },
          "ternary": {
           "aaxis": {
            "gridcolor": "white",
            "linecolor": "white",
            "ticks": ""
           },
           "baxis": {
            "gridcolor": "white",
            "linecolor": "white",
            "ticks": ""
           },
           "bgcolor": "#E5ECF6",
           "caxis": {
            "gridcolor": "white",
            "linecolor": "white",
            "ticks": ""
           }
          },
          "title": {
           "x": 0.05
          },
          "xaxis": {
           "automargin": true,
           "gridcolor": "white",
           "linecolor": "white",
           "ticks": "",
           "title": {
            "standoff": 15
           },
           "zerolinecolor": "white",
           "zerolinewidth": 2
          },
          "yaxis": {
           "automargin": true,
           "gridcolor": "white",
           "linecolor": "white",
           "ticks": "",
           "title": {
            "standoff": 15
           },
           "zerolinecolor": "white",
           "zerolinewidth": 2
          }
         }
        },
        "xaxis": {
         "anchor": "y",
         "domain": [
          0,
          1
         ],
         "title": {
          "text": "Timestamp"
         }
        },
        "yaxis": {
         "anchor": "x",
         "domain": [
          0,
          1
         ],
         "title": {
          "text": "Normalized values"
         }
        }
       }
      }
     },
     "metadata": {},
     "output_type": "display_data"
    },
    {
     "data": {
      "text/plain": [
       "None"
      ]
     },
     "metadata": {},
     "output_type": "display_data"
    }
   ],
   "source": [
    "# Inspect the results.\n",
    "radiation_forecast_comparison = pd.DataFrame(\n",
    "    test_data[\"radiation\"]/max(test_data[\"radiation\"])\n",
    ")\n",
    "\n",
    "radiation_forecast_comparison[\"forecast_with_full_radiation\"] = forecast[\"forecast\"]/max(forecast[\"forecast\"])\n",
    "radiation_forecast_comparison[\"forecast_with_half_radiation\"] = forecast_rad[\"forecast\"]/max(forecast_rad[\"forecast\"])\n",
    "\n",
    "fig_radiation_forecast_comparison=radiation_forecast_comparison.plot()\n",
    "\n",
    "fig_radiation_forecast_comparison.update_layout(\n",
    "    xaxis_title='Timestamp',\n",
    "    yaxis_title=\"Normalized values\"\n",
    ")\n",
    "display(fig_radiation_forecast_comparison.show())"
   ]
  },
  {
   "cell_type": "markdown",
   "id": "2fcab1fa",
   "metadata": {},
   "source": [
    "## Bonus: Dashboard\n",
    "Did you know that OpenSTEF has an eloborate dashboard which shows you everything you want to know about your forecast? Check it the dashboard documentation [here](https://raw.githack.com/OpenSTEF/.github/main/profile/html/openstef_dashboard_doc.html) . \n",
    "\n",
    "Which different in- and output components do you see in this dashboard? \n"
   ]
  }
 ],
 "metadata": {
  "kernelspec": {
   "display_name": ".venv",
   "language": "python",
   "name": "python3"
  },
  "language_info": {
   "codemirror_mode": {
    "name": "ipython",
    "version": 3
   },
   "file_extension": ".py",
   "mimetype": "text/x-python",
   "name": "python",
   "nbconvert_exporter": "python",
   "pygments_lexer": "ipython3",
   "version": "3.11.12"
  }
 },
 "nbformat": 4,
 "nbformat_minor": 5
}
